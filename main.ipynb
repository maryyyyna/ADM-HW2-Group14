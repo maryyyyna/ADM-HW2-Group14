{
 "cells": [
  {
   "cell_type": "markdown",
   "metadata": {},
   "source": [
    "# RQ1"
   ]
  },
  {
   "cell_type": "code",
   "execution_count": 2,
   "metadata": {},
   "outputs": [],
   "source": [
    "import  pandas as pd\n",
    "import matplotlib.pyplot as plt\n",
    "import numpy as np \n",
    "from datetime import datetime"
   ]
  },
  {
   "cell_type": "markdown",
   "metadata": {},
   "source": [
    "After collecting information, the Data Scientists have to know what dataset they are dealing with, so let's start with an **Exploratory Data Analysis (EDA)**. What can you say about our datasets? Please summarise its main characteristics with visual and tabular methods."
   ]
  },
  {
   "cell_type": "code",
   "execution_count": 4,
   "metadata": {},
   "outputs": [],
   "source": [
    "posts = pd.read_csv('~/instagram_posts.csv', sep='\\t', nrows = 10000)\n",
    "profiles = pd.read_csv('~/instagram_profiles.csv', sep='\\t')\n",
    "locations =  pd.read_csv('~/instagram_locations.csv', sep='\\t')"
   ]
  },
  {
   "cell_type": "code",
   "execution_count": 4,
   "metadata": {},
   "outputs": [
    {
     "name": "stdout",
     "output_type": "stream",
     "text": [
      "<class 'pandas.core.frame.DataFrame'>\n",
      "RangeIndex: 10000 entries, 0 to 9999\n",
      "Data columns (total 10 columns):\n",
      " #   Column           Non-Null Count  Dtype \n",
      "---  ------           --------------  ----- \n",
      " 0   sid              10000 non-null  int64 \n",
      " 1   sid_profile      10000 non-null  int64 \n",
      " 2   post_id          10000 non-null  object\n",
      " 3   profile_id       10000 non-null  int64 \n",
      " 4   location_id      10000 non-null  int64 \n",
      " 5   cts              10000 non-null  object\n",
      " 6   post_type        10000 non-null  int64 \n",
      " 7   description      9228 non-null   object\n",
      " 8   numbr_likes      10000 non-null  int64 \n",
      " 9   number_comments  10000 non-null  int64 \n",
      "dtypes: int64(7), object(3)\n",
      "memory usage: 781.4+ KB\n"
     ]
    }
   ],
   "source": [
    "posts.info()"
   ]
  },
  {
   "cell_type": "code",
   "execution_count": 9,
   "metadata": {},
   "outputs": [
    {
     "data": {
      "text/plain": [
       "Index(['sid', 'sid_profile', 'post_id', 'profile_id', 'location_id', 'cts',\n",
       "       'post_type', 'description', 'numbr_likes', 'number_comments'],\n",
       "      dtype='object')"
      ]
     },
     "execution_count": 9,
     "metadata": {},
     "output_type": "execute_result"
    }
   ],
   "source": [
    "posts.columns"
   ]
  },
  {
   "cell_type": "code",
   "execution_count": 5,
   "metadata": {},
   "outputs": [
    {
     "name": "stdout",
     "output_type": "stream",
     "text": [
      "<class 'pandas.core.frame.DataFrame'>\n",
      "RangeIndex: 4509586 entries, 0 to 4509585\n",
      "Data columns (total 11 columns):\n",
      " #   Column               Dtype  \n",
      "---  ------               -----  \n",
      " 0   sid                  int64  \n",
      " 1   profile_id           float64\n",
      " 2   profile_name         object \n",
      " 3   firstname_lastname   object \n",
      " 4   description          object \n",
      " 5   following            float64\n",
      " 6   followers            float64\n",
      " 7   n_posts              float64\n",
      " 8   url                  object \n",
      " 9   cts                  object \n",
      " 10  is_business_account  object \n",
      "dtypes: float64(4), int64(1), object(6)\n",
      "memory usage: 378.5+ MB\n"
     ]
    }
   ],
   "source": [
    "profiles.info()"
   ]
  },
  {
   "cell_type": "code",
   "execution_count": 11,
   "metadata": {},
   "outputs": [
    {
     "data": {
      "text/plain": [
       "Index(['sid', 'profile_id', 'profile_name', 'firstname_lastname',\n",
       "       'description', 'following', 'followers', 'n_posts', 'url', 'cts',\n",
       "       'is_business_account'],\n",
       "      dtype='object')"
      ]
     },
     "execution_count": 11,
     "metadata": {},
     "output_type": "execute_result"
    }
   ],
   "source": [
    "profiles.columns"
   ]
  },
  {
   "cell_type": "code",
   "execution_count": 12,
   "metadata": {},
   "outputs": [
    {
     "name": "stdout",
     "output_type": "stream",
     "text": [
      "<class 'pandas.core.frame.DataFrame'>\n",
      "RangeIndex: 1022658 entries, 0 to 1022657\n",
      "Data columns (total 23 columns):\n",
      " #   Column                  Non-Null Count    Dtype  \n",
      "---  ------                  --------------    -----  \n",
      " 0   sid                     1022658 non-null  int64  \n",
      " 1   id                      1022658 non-null  int64  \n",
      " 2   name                    1022658 non-null  object \n",
      " 3   street                  715704 non-null   object \n",
      " 4   zip                     715579 non-null   object \n",
      " 5   city                    937166 non-null   object \n",
      " 6   region                  1760 non-null     object \n",
      " 7   cd                      939010 non-null   object \n",
      " 8   phone                   601688 non-null   object \n",
      " 9   aj_exact_city_match     1000510 non-null  object \n",
      " 10  aj_exact_country_match  1000510 non-null  object \n",
      " 11  blurb                   406705 non-null   object \n",
      " 12  dir_city_id             495698 non-null   object \n",
      " 13  dir_city_name           495698 non-null   object \n",
      " 14  dir_city_slug           495221 non-null   object \n",
      " 15  dir_country_id          495628 non-null   object \n",
      " 16  dir_country_name        495698 non-null   object \n",
      " 17  lat                     1016495 non-null  float64\n",
      " 18  lng                     1016495 non-null  float64\n",
      " 19  primary_alias_on_fb     425531 non-null   object \n",
      " 20  slug                    941668 non-null   object \n",
      " 21  website                 623262 non-null   object \n",
      " 22  cts                     1022658 non-null  object \n",
      "dtypes: float64(2), int64(2), object(19)\n",
      "memory usage: 179.5+ MB\n"
     ]
    }
   ],
   "source": [
    "locations.info()"
   ]
  },
  {
   "cell_type": "code",
   "execution_count": 13,
   "metadata": {},
   "outputs": [
    {
     "data": {
      "text/plain": [
       "Index(['sid', 'id', 'name', 'street', 'zip', 'city', 'region', 'cd', 'phone',\n",
       "       'aj_exact_city_match', 'aj_exact_country_match', 'blurb', 'dir_city_id',\n",
       "       'dir_city_name', 'dir_city_slug', 'dir_country_id', 'dir_country_name',\n",
       "       'lat', 'lng', 'primary_alias_on_fb', 'slug', 'website', 'cts'],\n",
       "      dtype='object')"
      ]
     },
     "execution_count": 13,
     "metadata": {},
     "output_type": "execute_result"
    }
   ],
   "source": [
    "locations.columns"
   ]
  },
  {
   "cell_type": "code",
   "execution_count": 14,
   "metadata": {},
   "outputs": [
    {
     "data": {
      "text/plain": [
       "sid                          0\n",
       "profile_id               32447\n",
       "profile_name                 0\n",
       "firstname_lastname      288465\n",
       "description            2055996\n",
       "following              1056815\n",
       "followers              1056815\n",
       "n_posts                1056815\n",
       "url                    3639312\n",
       "cts                     438488\n",
       "is_business_account    1064263\n",
       "dtype: int64"
      ]
     },
     "execution_count": 14,
     "metadata": {},
     "output_type": "execute_result"
    }
   ],
   "source": [
    "profiles.isnull().sum()"
   ]
  },
  {
   "cell_type": "markdown",
   "metadata": {
    "tags": []
   },
   "source": [
    "There are many missing values in the data"
   ]
  },
  {
   "cell_type": "code",
   "execution_count": 15,
   "metadata": {},
   "outputs": [
    {
     "data": {
      "text/plain": [
       "0"
      ]
     },
     "execution_count": 15,
     "metadata": {},
     "output_type": "execute_result"
    }
   ],
   "source": [
    "profiles.duplicated().sum()"
   ]
  },
  {
   "cell_type": "markdown",
   "metadata": {
    "tags": []
   },
   "source": [
    "# RQ2"
   ]
  },
  {
   "cell_type": "markdown",
   "metadata": {},
   "source": [
    "1. Plot the number of posts for each profile in descending order."
   ]
  },
  {
   "cell_type": "code",
   "execution_count": 9,
   "metadata": {},
   "outputs": [
    {
     "data": {
      "text/html": [
       "<div>\n",
       "<style scoped>\n",
       "    .dataframe tbody tr th:only-of-type {\n",
       "        vertical-align: middle;\n",
       "    }\n",
       "\n",
       "    .dataframe tbody tr th {\n",
       "        vertical-align: top;\n",
       "    }\n",
       "\n",
       "    .dataframe thead th {\n",
       "        text-align: right;\n",
       "    }\n",
       "</style>\n",
       "<table border=\"1\" class=\"dataframe\">\n",
       "  <thead>\n",
       "    <tr style=\"text-align: right;\">\n",
       "      <th></th>\n",
       "      <th>profile_name</th>\n",
       "      <th>n_posts</th>\n",
       "    </tr>\n",
       "  </thead>\n",
       "  <tbody>\n",
       "    <tr>\n",
       "      <th>3990313</th>\n",
       "      <td>jasem33312</td>\n",
       "      <td>183730.0</td>\n",
       "    </tr>\n",
       "    <tr>\n",
       "      <th>2571453</th>\n",
       "      <td>koenigpic</td>\n",
       "      <td>142428.0</td>\n",
       "    </tr>\n",
       "    <tr>\n",
       "      <th>4338921</th>\n",
       "      <td>rudyanto62</td>\n",
       "      <td>126340.0</td>\n",
       "    </tr>\n",
       "    <tr>\n",
       "      <th>3942129</th>\n",
       "      <td>hometown_ni</td>\n",
       "      <td>125220.0</td>\n",
       "    </tr>\n",
       "    <tr>\n",
       "      <th>4219642</th>\n",
       "      <td>dwfitfiber_thailand</td>\n",
       "      <td>117262.0</td>\n",
       "    </tr>\n",
       "    <tr>\n",
       "      <th>...</th>\n",
       "      <td>...</td>\n",
       "      <td>...</td>\n",
       "    </tr>\n",
       "    <tr>\n",
       "      <th>2402230</th>\n",
       "      <td>faith.dever</td>\n",
       "      <td>0.0</td>\n",
       "    </tr>\n",
       "    <tr>\n",
       "      <th>2402229</th>\n",
       "      <td>sugarsprinkledglitter</td>\n",
       "      <td>0.0</td>\n",
       "    </tr>\n",
       "    <tr>\n",
       "      <th>377966</th>\n",
       "      <td>hannahkraft13</td>\n",
       "      <td>0.0</td>\n",
       "    </tr>\n",
       "    <tr>\n",
       "      <th>2402225</th>\n",
       "      <td>4pf_cj_</td>\n",
       "      <td>0.0</td>\n",
       "    </tr>\n",
       "    <tr>\n",
       "      <th>1243638</th>\n",
       "      <td>muricafer</td>\n",
       "      <td>0.0</td>\n",
       "    </tr>\n",
       "  </tbody>\n",
       "</table>\n",
       "<p>3452771 rows × 2 columns</p>\n",
       "</div>"
      ],
      "text/plain": [
       "                  profile_name   n_posts\n",
       "3990313             jasem33312  183730.0\n",
       "2571453              koenigpic  142428.0\n",
       "4338921             rudyanto62  126340.0\n",
       "3942129            hometown_ni  125220.0\n",
       "4219642    dwfitfiber_thailand  117262.0\n",
       "...                        ...       ...\n",
       "2402230            faith.dever       0.0\n",
       "2402229  sugarsprinkledglitter       0.0\n",
       "377966           hannahkraft13       0.0\n",
       "2402225                4pf_cj_       0.0\n",
       "1243638              muricafer       0.0\n",
       "\n",
       "[3452771 rows x 2 columns]"
      ]
     },
     "execution_count": 9,
     "metadata": {},
     "output_type": "execute_result"
    }
   ],
   "source": [
    "n_posts_ordered= profiles.sort_values(by=['n_posts'],ascending=False)[['profile_name','n_posts']]\n",
    "n_posts_ordered.dropna()"
   ]
  },
  {
   "cell_type": "code",
   "execution_count": 7,
   "metadata": {},
   "outputs": [
    {
     "data": {
      "text/plain": [
       "<AxesSubplot:>"
      ]
     },
     "execution_count": 7,
     "metadata": {},
     "output_type": "execute_result"
    },
    {
     "data": {
      "image/png": "[encoded data removed]",
      "text/plain": [
       "<Figure size 432x288 with 1 Axes>"
      ]
     },
     "metadata": {
      "needs_background": "light"
     },
     "output_type": "display_data"
    }
   ],
   "source": [
    "profiles.sort_values(by = 'n_posts', ascending = False, ignore_index=True).n_posts.plot()"
   ]
  },
  {
   "cell_type": "code",
   "execution_count": 10,
   "metadata": {},
   "outputs": [
    {
     "data": {
      "text/plain": [
       "<AxesSubplot:title={'center':'Boxplot for # of Posts per user without outliers'}>"
      ]
     },
     "execution_count": 10,
     "metadata": {},
     "output_type": "execute_result"
    },
    {
     "data": {
      "image/png": "[encoded data removed]",
      "text/plain": [
       "<Figure size 1440x576 with 2 Axes>"
      ]
     },
     "metadata": {
      "needs_background": "light"
     },
     "output_type": "display_data"
    }
   ],
   "source": [
    "plt.figure(figsize=(20, 8))\n",
    "\n",
    "one = plt.subplot(1, 2, 1)\n",
    "one.set_title(\"Boxplot for # of Posts per user with outliers\", \n",
    "             {\"fontsize\":18})\n",
    "profiles['n_posts'].plot(kind='box',vert=False)\n",
    "\n",
    "two = plt.subplot(1, 2, 2)\n",
    "two.set_title(\"Boxplot for # of Posts per user without outliers\", \n",
    "             {\"fontsize\":18})\n",
    "profiles['n_posts'].plot.box(showfliers=False,vert=False)"
   ]
  },
  {
   "cell_type": "code",
   "execution_count": 11,
   "metadata": {},
   "outputs": [
    {
     "data": {
      "text/html": [
       "<div>\n",
       "<style scoped>\n",
       "    .dataframe tbody tr th:only-of-type {\n",
       "        vertical-align: middle;\n",
       "    }\n",
       "\n",
       "    .dataframe tbody tr th {\n",
       "        vertical-align: top;\n",
       "    }\n",
       "\n",
       "    .dataframe thead th {\n",
       "        text-align: right;\n",
       "    }\n",
       "</style>\n",
       "<table border=\"1\" class=\"dataframe\">\n",
       "  <thead>\n",
       "    <tr style=\"text-align: right;\">\n",
       "      <th></th>\n",
       "      <th>n_posts</th>\n",
       "    </tr>\n",
       "  </thead>\n",
       "  <tbody>\n",
       "    <tr>\n",
       "      <th>count</th>\n",
       "      <td>3.452771e+06</td>\n",
       "    </tr>\n",
       "    <tr>\n",
       "      <th>mean</th>\n",
       "      <td>4.095414e+02</td>\n",
       "    </tr>\n",
       "    <tr>\n",
       "      <th>std</th>\n",
       "      <td>1.041940e+03</td>\n",
       "    </tr>\n",
       "    <tr>\n",
       "      <th>min</th>\n",
       "      <td>0.000000e+00</td>\n",
       "    </tr>\n",
       "    <tr>\n",
       "      <th>25%</th>\n",
       "      <td>2.200000e+01</td>\n",
       "    </tr>\n",
       "    <tr>\n",
       "      <th>50%</th>\n",
       "      <td>1.200000e+02</td>\n",
       "    </tr>\n",
       "    <tr>\n",
       "      <th>75%</th>\n",
       "      <td>4.200000e+02</td>\n",
       "    </tr>\n",
       "    <tr>\n",
       "      <th>max</th>\n",
       "      <td>1.837300e+05</td>\n",
       "    </tr>\n",
       "  </tbody>\n",
       "</table>\n",
       "</div>"
      ],
      "text/plain": [
       "            n_posts\n",
       "count  3.452771e+06\n",
       "mean   4.095414e+02\n",
       "std    1.041940e+03\n",
       "min    0.000000e+00\n",
       "25%    2.200000e+01\n",
       "50%    1.200000e+02\n",
       "75%    4.200000e+02\n",
       "max    1.837300e+05"
      ]
     },
     "execution_count": 11,
     "metadata": {},
     "output_type": "execute_result"
    }
   ],
   "source": [
    "n_posts_ordered.describe()"
   ]
  },
  {
   "cell_type": "markdown",
   "metadata": {},
   "source": [
    "In a first moment we ordered the profiles by number of posts in descending order. The user who published the most is \"jasem33312\" with 183730 posts. To analize the population we used two boxplots, a tool for a fast explorative analyses, and a summary to fix the info given by the plots. It's evident the presence of strong outliers. In the first image the five indicators of the box (lim inf, 1st quantile, median, 2nd quantile, lim sup) are all aligned, in fact 75% of the 4.509586e+06 users published not more than 287 posts. The variance is (9.280713e+02)^2, indicator of a highly volatile number of posts. 25% of the population is not active with 0 posts and a few are the viceversa."
   ]
  },
  {
   "cell_type": "markdown",
   "metadata": {},
   "source": [
    "2. What posts have the highest number of \"likes\"?"
   ]
  },
  {
   "cell_type": "code",
   "execution_count": 4,
   "metadata": {},
   "outputs": [
    {
     "name": "stdout",
     "output_type": "stream",
     "text": [
      "              post_id  numbr_likes\n",
      "19624085  Bt3yaXmAM0d    8822952.0\n",
      "19623988  BuwffB7g8cK    5447066.0\n",
      "19624082  Buc1gyZAaMQ    5116398.0\n",
      "19623986  BvcukE8AMuG    4271466.0\n",
      "39701024  BqSLFVBFLfq    4264745.0\n",
      "6293907   BwTSXBKg7gN    3586546.0\n",
      "19624086  Btw8pFXAvQm    3558599.0\n",
      "19802016  BvC3n6_gqin    3533326.0\n",
      "30850564  Bw7vqLrFkHi    3340297.0\n",
      "39812576  Bw2gTH1AiDA    3311246.0\n"
     ]
    }
   ],
   "source": [
    "posts_likes = pd.read_csv('~/instagram_posts.csv', delimiter='\\t', usecols= ['post_id','numbr_likes'])\n",
    "print(posts_likes.sort_values(by=['numbr_likes'],ascending=False).head(10))"
   ]
  },
  {
   "cell_type": "code",
   "execution_count": 5,
   "metadata": {},
   "outputs": [],
   "source": [
    "posts_comments = pd.read_csv('~/instagram_posts.csv', delimiter='\\t', usecols= ['post_id','number_comments'])"
   ]
  },
  {
   "cell_type": "markdown",
   "metadata": {},
   "source": [
    "3. What posts have the most and the least number of comments?"
   ]
  },
  {
   "cell_type": "code",
   "execution_count": 6,
   "metadata": {},
   "outputs": [
    {
     "name": "stdout",
     "output_type": "stream",
     "text": [
      "              post_id  number_comments\n",
      "41873060  Bx2sPAjHviO         488953.0\n",
      "12164781  BuGjhWAhAW5         313997.0\n",
      "33261751  BJ-rkpTgn1N         257488.0\n",
      "              post_id  number_comments\n",
      "0         BXdjjUlgcgq              0.0\n",
      "13108581  BzWK_KVgiXi              0.0\n",
      "13108584  By8bFqQgkT6              0.0\n"
     ]
    }
   ],
   "source": [
    "posts_most_comments=(posts_comments.sort_values(by=['number_comments'],ascending=False)).head(3)\n",
    "print(posts_most_comments)\n",
    "posts_least_comments=(posts_comments.sort_values(by=['number_comments'],ascending=True)).head(3)\n",
    "print(posts_least_comments)"
   ]
  },
  {
   "cell_type": "markdown",
   "metadata": {},
   "source": [
    "4. How many posts include tagged locations, and how many do not? Show it using an appropriate chart and comment your results."
   ]
  },
  {
   "cell_type": "code",
   "execution_count": 5,
   "metadata": {},
   "outputs": [
    {
     "data": {
      "image/png": "[encoded data removed]",
      "text/plain": [
       "<Figure size 432x288 with 1 Axes>"
      ]
     },
     "metadata": {},
     "output_type": "display_data"
    }
   ],
   "source": [
    "posts_locations = pd.read_csv('~/instagram_posts.csv', delimiter='\\t', usecols= ['location_id'])\n",
    "loc=posts_locations.notnull().value_counts()\n",
    "\n",
    "plt.pie(loc, labels=['With location','No location'], labeldistance=1.15,colors=['green', 'white'])\n",
    "\n",
    "plt.show()"
   ]
  },
  {
   "cell_type": "markdown",
   "metadata": {},
   "source": [
    "The majority of posts include tagged positions, an addictional detail to capture the attention of those who see it.\n",
    "\n"
   ]
  },
  {
   "cell_type": "markdown",
   "metadata": {},
   "source": [
    "5. How many posts include only photos? How many also have videos?"
   ]
  },
  {
   "cell_type": "code",
   "execution_count": 7,
   "metadata": {},
   "outputs": [
    {
     "data": {
      "text/plain": [
       "41534486"
      ]
     },
     "execution_count": 7,
     "metadata": {},
     "output_type": "execute_result"
    }
   ],
   "source": [
    "posts_type = pd.read_csv('~/instagram_posts.csv', delimiter='\\t', usecols= ['post_type'])\n",
    "only_photos=posts_type.loc[posts_type['post_type']==1]\n",
    "len(only_photos)"
   ]
  },
  {
   "cell_type": "code",
   "execution_count": 11,
   "metadata": {},
   "outputs": [
    {
     "data": {
      "text/plain": [
       "40943"
      ]
     },
     "execution_count": 11,
     "metadata": {},
     "output_type": "execute_result"
    }
   ],
   "source": [
    "also_videos =posts_type.loc[posts_type['post_type']==3]\n",
    "len(also_videos)"
   ]
  },
  {
   "cell_type": "markdown",
   "metadata": {},
   "source": [
    "6. What's the percentage of business accounts vs non-business? What can you interpret regarding that percentage?\n"
   ]
  },
  {
   "cell_type": "code",
   "execution_count": 19,
   "metadata": {},
   "outputs": [
    {
     "name": "stdout",
     "output_type": "stream",
     "text": [
      "0.18965244259672617 0.8103475574032738\n"
     ]
    },
    {
     "data": {
      "text/plain": [
       "4509586"
      ]
     },
     "execution_count": 19,
     "metadata": {},
     "output_type": "execute_result"
    }
   ],
   "source": [
    "is_business=len(profiles.loc[profiles['is_business_account']==True])/len(profiles)\n",
    "not_business=1-is_business\n",
    "print(is_business,not_business)\n",
    "len(profiles)"
   ]
  },
  {
   "cell_type": "markdown",
   "metadata": {},
   "source": [
    "~19% business account vs ~81% not business. Around 3652764 people are using the platform not for business reasons.\n",
    "\n"
   ]
  },
  {
   "cell_type": "markdown",
   "metadata": {
    "tags": []
   },
   "source": [
    "# RQ3"
   ]
  },
  {
   "cell_type": "markdown",
   "metadata": {},
   "source": [
    "1. What is the most common time in which users publish their posts?"
   ]
  },
  {
   "cell_type": "code",
   "execution_count": 19,
   "metadata": {},
   "outputs": [],
   "source": [
    "posts_cts = pd.read_csv('~/instagram_posts.csv', delimiter='\\t', usecols=['cts'])\n",
    "posts_cts = posts_cts.dropna() # remove missing values"
   ]
  },
  {
   "cell_type": "code",
   "execution_count": 20,
   "metadata": {},
   "outputs": [],
   "source": [
    "posts_cts.cts = pd.to_datetime(posts_cts.cts) # convert argument to datetime\n",
    "posts_cts['time'] = posts_cts.cts.dt.strftime('%H:%M:%S') # select only the time"
   ]
  },
  {
   "cell_type": "code",
   "execution_count": 21,
   "metadata": {},
   "outputs": [],
   "source": [
    "# Use a dictionary to count how many posts were published at each time\n",
    "count_posts = {}\n",
    "for time in posts_cts['time']:\n",
    "    if time in count_posts:\n",
    "        count_posts[time]+=1\n",
    "    else:\n",
    "        count_posts[time]=1"
   ]
  },
  {
   "cell_type": "code",
   "execution_count": 29,
   "metadata": {},
   "outputs": [
    {
     "name": "stdout",
     "output_type": "stream",
     "text": [
      "The most common time in which users publish their posts is 21:00:09, with 928 posts.\n"
     ]
    }
   ],
   "source": [
    "most_common_time = sorted(count_posts.items(), key=lambda item: item[1], reverse = True) # sort the dictionary \n",
    "print('The most common time in which users publish their posts is ' + str(most_common_time[0][0]) + ', with ' +\n",
    "      str(most_common_time[0][1]) + ' posts.')"
   ]
  },
  {
   "cell_type": "markdown",
   "metadata": {},
   "source": [
    "Create a function that receives a time intervals list as a parameter and returns a plot with the number of posts for each given interval."
   ]
  },
  {
   "cell_type": "code",
   "execution_count": 30,
   "metadata": {},
   "outputs": [],
   "source": [
    "def n_posts_for_interval(lis):\n",
    "    '''\n",
    "    This function counts how many posts have been published in each time interval and plots the result.\n",
    "    '''\n",
    "    n = len(lis)\n",
    "    labels = []\n",
    "    counts = np.zeros(n)\n",
    "    for i in range(n):\n",
    "        labels.append(lis[i][0]+'-'+ lis[i][1])\n",
    "        for t in posts_cts['time']:\n",
    "            start, end = lis[i]\n",
    "            if start <= t <= end:\n",
    "                counts[i] +=1               \n",
    "      \n",
    "    \n",
    "    plt.figure(figsize=(15,5))\n",
    "    x = range(n)\n",
    "    plt.xticks(x, labels, rotation=50)\n",
    "    plt.bar(x, counts, width = 0.4)\n",
    "    plt.xlabel('Time intervals')\n",
    "    plt.ylabel('Number of posts')\n",
    "    plt.title('Number of posts for each interval')\n",
    "    plt.show()\n",
    "    return "
   ]
  },
  {
   "cell_type": "markdown",
   "metadata": {},
   "source": [
    "3. Use the function that you created in the previous literal to plot the number of posts between the following time intervals:\n"
   ]
  },
  {
   "cell_type": "code",
   "execution_count": 31,
   "metadata": {},
   "outputs": [
    {
     "data": {
      "image/png": "[encoded data removed]",
      "text/plain": [
       "<Figure size 1080x360 with 1 Axes>"
      ]
     },
     "metadata": {
      "needs_background": "light"
     },
     "output_type": "display_data"
    }
   ],
   "source": [
    "time_intervals = [('06:00:00','10:59:59'),('11:00:00','13:59:59'), ('14:00:00','16:59:59'), ('17:00:00','19:59:59'),\n",
    "         ('20:00:00', '23:59:59'),('00:00:00', '02:59:59'), ('03:00:00','05:59:59')]\n",
    "n_posts_for_interval(time_intervals)"
   ]
  },
  {
   "cell_type": "markdown",
   "metadata": {},
   "source": [
    "# RQ4"
   ]
  },
  {
   "cell_type": "code",
   "execution_count": 10,
   "metadata": {},
   "outputs": [],
   "source": [
    "def name(id):\n",
    "    return data1.loc[data1['profile_id'] == id]\n",
    "def num(n):\n",
    "    data.sort_values(by='n_posts', inplace=True, ascending=False)\n",
    "    for i in range(n):\n",
    "        id=data['profile_id'][i]\n",
    "        print(name(id))\n"
   ]
  },
  {
   "cell_type": "code",
   "execution_count": 11,
   "metadata": {},
   "outputs": [
    {
     "name": "stdout",
     "output_type": "stream",
     "text": [
      "               sid  sid_profile      post_id    profile_id  location_id  \\\n",
      "13627713  40980438      4184446  B0nvWXnFBEx  4.721050e+09  272186955.0   \n",
      "13627714  40980439      4184446  B0lHr6HF_od  4.721050e+09  216160420.0   \n",
      "13627715  40980441      4184446  Bz5fUlwl6N1  4.721050e+09  240600923.0   \n",
      "13627716  40980444      4184446  Bzo0MlIFhA6  4.721050e+09  216733399.0   \n",
      "13627717  40980447      4184446  By5EP57lVmw  4.721050e+09  216160420.0   \n",
      "13627718  40980450      4184446  BywSyM8lvhd  4.721050e+09  215245199.0   \n",
      "13627719  40980453      4184446  ByuzQLWllNU  4.721050e+09          NaN   \n",
      "13627720  40980456      4184446  Byh2ZdZlMcl  4.721050e+09    2726513.0   \n",
      "13627721  40980459      4184446  ByWpTQ_FBtb  4.721050e+09  567389653.0   \n",
      "13627722  40980460      4184446  ByWeIyqlcbw  4.721050e+09  272186955.0   \n",
      "13627723  40980461      4184446  ByG4lJsFaX3  4.721050e+09  216119667.0   \n",
      "13627724  40980462      4184446  Bx8u8qJFuMq  4.721050e+09  389983831.0   \n",
      "28067214  12501312      4184446  BxQ0AJel41c  4.721050e+09  241092540.0   \n",
      "28067215  12501314      4184446  BxQze6lFHdG  4.721050e+09  241092540.0   \n",
      "28067216  12501316      4184446  BxQt4_7Fqeb  4.721050e+09  241092540.0   \n",
      "\n",
      "                              cts  post_type  \\\n",
      "13627713  2019-08-01 14:12:52.000          1   \n",
      "13627714  2019-07-31 13:47:48.000          1   \n",
      "13627715  2019-07-14 15:07:45.000          1   \n",
      "13627716  2019-07-08 03:43:04.000          1   \n",
      "13627717  2019-06-19 14:39:47.000          1   \n",
      "13627718  2019-06-16 04:53:38.000          1   \n",
      "13627719  2019-06-15 14:58:52.000          1   \n",
      "13627720  2019-06-10 14:16:13.000          1   \n",
      "13627721  2019-06-06 05:50:08.000          1   \n",
      "13627722  2019-06-06 04:12:35.000          1   \n",
      "13627723  2019-05-31 02:55:48.000          1   \n",
      "13627724  2019-05-27 04:19:14.000          1   \n",
      "28067214  2019-05-10 02:56:49.000          1   \n",
      "28067215  2019-05-10 02:52:16.000          1   \n",
      "28067216  2019-05-10 02:03:24.000          1   \n",
      "\n",
      "                                                description  numbr_likes  \\\n",
      "13627713                                      \"Bird Killer\"          5.0   \n",
      "13627714  Last day of my sublet.\\nWonderful blooms\\nWork...          9.0   \n",
      "13627715                                 The Original Irish         14.0   \n",
      "13627716                                  Bike Chain Vs Oak         14.0   \n",
      "13627717                                The Trees have Eyes         17.0   \n",
      "13627718                                  Pixelated Shadows          9.0   \n",
      "13627719                                                NaN          8.0   \n",
      "13627720                                     Beautiful Daze         11.0   \n",
      "13627721    Sometimes it comes together\\n(Work in progress)         19.0   \n",
      "13627722  Houswarming Cabinet almost done.\\nLooks a bit ...         15.0   \n",
      "13627723                                The flowers........         15.0   \n",
      "13627724  Your thin blue line is not an answer.\\nIt is a...         10.0   \n",
      "28067214                                            Fairies         18.0   \n",
      "28067215                                        All Natural         11.0   \n",
      "28067216                               Refractive Lightform         15.0   \n",
      "\n",
      "          number_comments  \n",
      "13627713              1.0  \n",
      "13627714              0.0  \n",
      "13627715              0.0  \n",
      "13627716              0.0  \n",
      "13627717              1.0  \n",
      "13627718              0.0  \n",
      "13627719              0.0  \n",
      "13627720              0.0  \n",
      "13627721              0.0  \n",
      "13627722              1.0  \n",
      "13627723              0.0  \n",
      "13627724              0.0  \n",
      "28067214              0.0  \n",
      "28067215              0.0  \n",
      "28067216              3.0  \n",
      "               sid  sid_profile      post_id   profile_id   location_id  \\\n",
      "13627752  40980492      4184457  B0mLU9hpCKc  590583002.0           NaN   \n",
      "13627753  40980495      4184457  B0jTj0TpgHy  590583002.0           NaN   \n",
      "13627754  40980498      4184457  B0ilj2oJ8q9  590583002.0           NaN   \n",
      "13627755  40980501      4184457  B0hCh0XpyWz  590583002.0           NaN   \n",
      "13627756  40980504      4184457  B0emMFYpbZ4  590583002.0  1.024265e+09   \n",
      "13627757  40980507      4184457  B0Zci-Upd-e  590583002.0           NaN   \n",
      "13627758  40980509      4184457  B0YK1g4pVzB  590583002.0           NaN   \n",
      "13627759  40980511      4184457  B0W4YDpJOuM  590583002.0           NaN   \n",
      "13627791  40980513      4184457  B0TKVFkpZyd  590583002.0           NaN   \n",
      "13627792  40980515      4184457  B0TBowRJ686  590583002.0           NaN   \n",
      "13627793  40980517      4184457  B0PGXkypDHh  590583002.0           NaN   \n",
      "13627794  40980519      4184457  B0OHJCQJ4Kk  590583002.0           NaN   \n",
      "28067225  12501326      4184457  BxNSGWipB2V  590583002.0  2.410925e+08   \n",
      "\n",
      "                              cts  post_type  \\\n",
      "13627752  2019-07-31 23:38:52.000          1   \n",
      "13627753  2019-07-30 20:53:04.000          1   \n",
      "13627754  2019-07-30 14:11:07.000          1   \n",
      "13627755  2019-07-29 23:45:46.000          1   \n",
      "13627756  2019-07-29 00:59:39.000          1   \n",
      "13627757  2019-07-27 00:59:12.000          1   \n",
      "13627758  2019-07-26 13:05:12.000          1   \n",
      "13627759  2019-07-26 01:04:39.000          1   \n",
      "13627791  2019-07-24 14:24:34.000          1   \n",
      "13627792  2019-07-24 13:08:37.000          1   \n",
      "13627793  2019-07-23 00:33:00.000          1   \n",
      "13627794  2019-07-22 15:20:30.000          1   \n",
      "28067225  2019-05-08 18:02:50.000          1   \n",
      "\n",
      "                                                description  numbr_likes  \\\n",
      "13627752  We left Quebec City this morning. Some pics fr...         27.0   \n",
      "13627753  Ah-mazeballs! This place is breathtaking & sli...         31.0   \n",
      "13627754  Quebec City baby! The old side. Breathtakingly...         40.0   \n",
      "13627755  #quebeccity here we come! #holiday #canada #kn...         27.0   \n",
      "13627756  My baby & me, exploring Old Montreal. Beautifu...         46.0   \n",
      "13627757  Hotel room view, Burlington VT, Lake Champlain...         28.0   \n",
      "13627758  This is MY ASMR therapy. It becomes mesmerizin...         20.0   \n",
      "13627759  Because they don't get much cuter!  My nephew,...         32.0   \n",
      "13627791  Carolina Wren nestings. 4 total.  In my hangin...         41.0   \n",
      "13627792  Meet Charlie, my newest nephew. He's handsome ...         77.0   \n",
      "13627793  So, went to take my hanging plant down to put ...         36.0   \n",
      "13627794  Lovin my local wildlife this morning \\n#knitti...         34.0   \n",
      "28067225  Met a little buddy on our morning walk. \\n#kni...         32.0   \n",
      "\n",
      "          number_comments  \n",
      "13627752              2.0  \n",
      "13627753              3.0  \n",
      "13627754              2.0  \n",
      "13627755              1.0  \n",
      "13627756              3.0  \n",
      "13627757              1.0  \n",
      "13627758              0.0  \n",
      "13627759              4.0  \n",
      "13627791              0.0  \n",
      "13627792              6.0  \n",
      "13627793              2.0  \n",
      "13627794              2.0  \n",
      "28067225              0.0  \n",
      "               sid  sid_profile      post_id    profile_id  location_id  \\\n",
      "13627630  40980553      4184460  BtgBr-hHXez  1.074147e+09          NaN   \n",
      "13627707  40980554      4184460  Bs04k58nGY6  1.074147e+09          NaN   \n",
      "13627795  40980530      4184460  BzBbR1YAU81  1.074147e+09  227913626.0   \n",
      "13627796  40980533      4184460  By_mhIkAyyY  1.074147e+09  228175970.0   \n",
      "13627797  40980536      4184460  Bx95gbegM7R  1.074147e+09  326670977.0   \n",
      "13627798  40980539      4184460  BxrrTRmhtlt  1.074147e+09  243433947.0   \n",
      "13627799  12501320      4184460  BxPfAzeHn7Q  1.074147e+09  241092540.0   \n",
      "13627800  40980543      4184460  BvoQOd7Hr5Q  1.074147e+09  243433947.0   \n",
      "13627801  40980545      4184460  BvU4ZuAnZdy  1.074147e+09  212947533.0   \n",
      "13627802  40980547      4184460  BvIFGeGnpTf  1.074147e+09  255532544.0   \n",
      "13627803  40980549      4184460  BuxD55_nB5A  1.074147e+09  243433947.0   \n",
      "13627804  40980551      4184460  Bt5rpNfnBkp  1.074147e+09  243433947.0   \n",
      "\n",
      "                              cts  post_type  \\\n",
      "13627630  2019-02-05 13:39:25.000          1   \n",
      "13627707  2019-01-19 19:32:28.000          1   \n",
      "13627795  2019-06-22 20:34:57.000          1   \n",
      "13627796  2019-06-22 03:34:41.000          1   \n",
      "13627797  2019-05-27 15:10:44.000          1   \n",
      "13627798  2019-05-20 13:20:16.000          1   \n",
      "13627799  2019-05-09 14:34:09.000          1   \n",
      "13627800  2019-03-30 11:23:11.000          1   \n",
      "13627801  2019-03-22 22:49:26.000          1   \n",
      "13627802  2019-03-17 23:30:16.000          1   \n",
      "13627803  2019-03-09 00:57:17.000          1   \n",
      "13627804  2019-02-15 12:47:03.000          1   \n",
      "\n",
      "                                                description  numbr_likes  \\\n",
      "13627630                                                  😍         54.0   \n",
      "13627707                                      The best dog.         70.0   \n",
      "13627795         A wedding bouquet with all the good stuff.         57.0   \n",
      "13627796        Golden hour on the longest day of the year.         54.0   \n",
      "13627797  My happy place.\\n.\\n.\\n.\\n.\\n.\\n.\\n#maine #lan...         93.0   \n",
      "13627798                                                NaN         59.0   \n",
      "13627799                        My friends’ magical garden.         53.0   \n",
      "13627800  The softest and gentlest dawn, with mist risin...         62.0   \n",
      "13627801                                                NaN         62.0   \n",
      "13627802                                                NaN         65.0   \n",
      "13627803                                     Fun with light         64.0   \n",
      "13627804                                    Valentine sky❤️         71.0   \n",
      "\n",
      "          number_comments  \n",
      "13627630              4.0  \n",
      "13627707              9.0  \n",
      "13627795              4.0  \n",
      "13627796              2.0  \n",
      "13627797              4.0  \n",
      "13627798              2.0  \n",
      "13627799              5.0  \n",
      "13627800              5.0  \n",
      "13627801              3.0  \n",
      "13627802              2.0  \n",
      "13627803             11.0  \n",
      "13627804              2.0  \n",
      "Empty DataFrame\n",
      "Columns: [sid, sid_profile, post_id, profile_id, location_id, cts, post_type, description, numbr_likes, number_comments]\n",
      "Index: []\n",
      "Empty DataFrame\n",
      "Columns: [sid, sid_profile, post_id, profile_id, location_id, cts, post_type, description, numbr_likes, number_comments]\n",
      "Index: []\n",
      "               sid  sid_profile      post_id   profile_id   location_id  \\\n",
      "13627855  12501325      4184465  BxNSg9nBcHe  145064167.0  2.410925e+08   \n",
      "13627856  40980578      4184465  B0jwOMPhJrN  145064167.0           NaN   \n",
      "13627857  40980579      4184465  B0cQ0Ffh9eK  145064167.0  1.043505e+15   \n",
      "13627858  40980580      4184465  B0azIkPh2G6  145064167.0  2.410925e+08   \n",
      "13627859  40980581      4184465  B0J2GVVBKBA  145064167.0           NaN   \n",
      "13627860  40980582      4184465  B0JLL5DhkM0  145064167.0  2.410925e+08   \n",
      "13627861  40980583      4184465  BzoEAcmhg6C  145064167.0  2.446373e+08   \n",
      "13627862  40980584      4184465  BzhAkHhBqmb  145064167.0  2.161197e+08   \n",
      "13627863  40980585      4184465  Byxkm_PhkOR  145064167.0  2.410925e+08   \n",
      "13627864  40980586      4184465  BywJKW5hapw  145064167.0  2.410925e+08   \n",
      "13627865  40980587      4184465  BywHjZ8BMKk  145064167.0           NaN   \n",
      "13627866  40980588      4184465  Byv4IDpB-em  145064167.0  2.274060e+08   \n",
      "13627867  40980589      4184465  ByglagAhe3g  145064167.0  2.410925e+08   \n",
      "\n",
      "                              cts  post_type  \\\n",
      "13627855  2019-05-08 18:06:28.000          1   \n",
      "13627856  2019-07-31 01:03:32.000          1   \n",
      "13627857  2019-07-28 03:14:24.000          1   \n",
      "13627858  2019-07-27 13:35:48.000          1   \n",
      "13627859  2019-07-20 23:34:38.000          1   \n",
      "13627860  2019-07-20 17:19:39.000          1   \n",
      "13627861  2019-07-07 20:41:59.000          1   \n",
      "13627862  2019-07-05 02:57:13.000          1   \n",
      "13627863  2019-06-16 16:48:38.000          1   \n",
      "13627864  2019-06-16 03:29:33.000          1   \n",
      "13627865  2019-06-16 03:15:30.000          1   \n",
      "13627866  2019-06-16 01:00:42.000          1   \n",
      "13627867  2019-06-10 02:28:35.000          1   \n",
      "\n",
      "                                                description  numbr_likes  \\\n",
      "13627855  Potted flowers around my front entrance.  Pans...         21.0   \n",
      "13627856                                           Madigan!         11.0   \n",
      "13627857  What a great way to celebrate my birthday toda...         21.0   \n",
      "13627858  #MoulinRougesunflower and #purpleprincezinna b...         13.0   \n",
      "13627859  I wish I can remember the name of this variety...         11.0   \n",
      "13627860                            Front door summer vibe.         15.0   \n",
      "13627861  Pepper is so photogenic on top of #baremountai...         15.0   \n",
      "13627862                   Boats, pups, cousins, and clams!         13.0   \n",
      "13627863  1st photo is my herb garden, most herbs are pe...         14.0   \n",
      "13627864  I'm loving the citron yellow plants in my gard...         11.0   \n",
      "13627865  Cora in her garden this morning! Beans and min...         20.0   \n",
      "13627866  Another beautiful day on the river! #ctriver #...         14.0   \n",
      "13627867  Had a quiet day at home working in my gardens ...         10.0   \n",
      "\n",
      "          number_comments  \n",
      "13627855              1.0  \n",
      "13627856              0.0  \n",
      "13627857              2.0  \n",
      "13627858              1.0  \n",
      "13627859              0.0  \n",
      "13627860              0.0  \n",
      "13627861              1.0  \n",
      "13627862              1.0  \n",
      "13627863              0.0  \n",
      "13627864              1.0  \n",
      "13627865              3.0  \n",
      "13627866              0.0  \n",
      "13627867              2.0  \n",
      "               sid  sid_profile      post_id    profile_id   location_id  \\\n",
      "13627762  12501323      4184471  BxOURyxgl-v  2.061868e+09  2.410925e+08   \n",
      "13627868  18860724      4184471  BebmwKuACYD  2.061868e+09  2.466438e+08   \n",
      "13627869  20171167      4184471  Bi7A3lMntQv  2.061868e+09  2.520098e+08   \n",
      "13627870  33214665      4184471  Bx6FDSGJ6W5  2.061868e+09  3.896543e+08   \n",
      "13627871  40980614      4184471  B0D89-epX5A  2.061868e+09           NaN   \n",
      "13627872  40980615      4184471  Bz6Wi_vn5p6  2.061868e+09  2.487422e+06   \n",
      "13627873  40980616      4184471  Bz560DMnmPi  2.061868e+09  2.487422e+06   \n",
      "13627874  40980617      4184471  BzzB4i6nidF  2.061868e+09           NaN   \n",
      "13627875  40980618      4184471  BzytjdEpYyE  2.061868e+09           NaN   \n",
      "13627876  40980619      4184471  BzxzN0An2Kv  2.061868e+09           NaN   \n",
      "13627877  40980620      4184471  Bzv0-j4nQ4c  2.061868e+09           NaN   \n",
      "13627878  40980621      4184471  BztXO6cpVUm  2.061868e+09  1.552828e+14   \n",
      "13627879  40980622      4184471  Bzqzo88nbjG  2.061868e+09           NaN   \n",
      "13627880  40980623      4184471  Bzi1P7wpPng  2.061868e+09           NaN   \n",
      "13627881  40980624      4184471  BzHU9zVJb2N  2.061868e+09           NaN   \n",
      "13627882  40980625      4184471  BzG7A5lpOPi  2.061868e+09           NaN   \n",
      "\n",
      "                              cts  post_type  \\\n",
      "13627762  2019-05-09 03:41:07.000          1   \n",
      "13627868  2018-01-26 18:36:11.000          1   \n",
      "13627869  2018-05-18 16:26:26.000          1   \n",
      "13627870  2019-05-26 03:34:39.000          1   \n",
      "13627871  2019-07-18 16:39:13.000          1   \n",
      "13627872  2019-07-14 23:10:19.000          1   \n",
      "13627873  2019-07-14 19:09:58.000          1   \n",
      "13627874  2019-07-12 02:55:04.000          1   \n",
      "13627875  2019-07-11 23:57:26.000          1   \n",
      "13627876  2019-07-11 15:27:40.000          1   \n",
      "13627877  2019-07-10 21:04:35.000          1   \n",
      "13627878  2019-07-09 22:06:11.000          1   \n",
      "13627879  2019-07-08 22:16:41.000          1   \n",
      "13627880  2019-07-05 19:56:49.000          1   \n",
      "13627881  2019-06-25 03:35:14.000          1   \n",
      "13627882  2019-06-24 23:48:28.000          1   \n",
      "\n",
      "                                                description  numbr_likes  \\\n",
      "13627762  That’s 12-straight wins for the undefeated Hoo...        256.0   \n",
      "13627868  Thank You masslive for letting me take over th...        210.0   \n",
      "13627869  Hey everyone! Andrew Kingston of East Longmead...        264.0   \n",
      "13627870  Thanks for letting me take over for the day fo...        318.0   \n",
      "13627871  MassLive Player of the Year selections for the...        260.0   \n",
      "13627872  West ends the tournament with the silver! That...        370.0   \n",
      "13627873       WEST IS GOING TO FINALS BABY💪 #westisthebest        290.0   \n",
      "13627874  Thank you for letting me take over, this is Co...        270.0   \n",
      "13627875  West Boys Lacrosse brings home the gold medal ...        465.0   \n",
      "13627876  Hey it's Cooper Joyal from Longmeadow High Sch...        534.0   \n",
      "13627877                            West wins the gold!!!!!        382.0   \n",
      "13627878  All-Western Mass. for track & field and boys v...        332.0   \n",
      "13627879  That’s a wrap from @tonymo2020 at day 1 of Bay...        166.0   \n",
      "13627880  Holyoke native Endy Morales will make his retu...        257.0   \n",
      "13627881  Congrats to all of our Athlete of the Week win...        387.0   \n",
      "13627882  We’re hanging out with @starfiresbb for tonigh...        166.0   \n",
      "\n",
      "          number_comments  \n",
      "13627762              2.0  \n",
      "13627868             15.0  \n",
      "13627869              3.0  \n",
      "13627870              0.0  \n",
      "13627871              0.0  \n",
      "13627872              2.0  \n",
      "13627873              1.0  \n",
      "13627874              0.0  \n",
      "13627875              2.0  \n",
      "13627876             27.0  \n",
      "13627877              2.0  \n",
      "13627878              4.0  \n",
      "13627879              0.0  \n",
      "13627880              1.0  \n",
      "13627881              3.0  \n",
      "13627882              0.0  \n",
      "Empty DataFrame\n",
      "Columns: [sid, sid_profile, post_id, profile_id, location_id, cts, post_type, description, numbr_likes, number_comments]\n",
      "Index: []\n",
      "               sid  sid_profile      post_id    profile_id   location_id  \\\n",
      "13627918  40980637      4184475  B0cR9PEg9rE  1.743726e+09  2.633446e+08   \n",
      "13627919  40980638      4184475  BzuRAQ0A7mA  1.743726e+09  5.122891e+10   \n",
      "13627920  40980639      4184475  By8F-gZA9V4  1.743726e+09  5.122891e+10   \n",
      "13627921  40980640      4184475  Bx-fNEPgVGe  1.743726e+09  2.409536e+08   \n",
      "13627922  40980641      4184475  BxgBJBwgHpV  1.743726e+09  4.490538e+06   \n",
      "13627923  40980642      4184475  BwwXFM3AXeu  1.743726e+09  9.439150e+14   \n",
      "13627924  40980643      4184475  BvUxwr8giHm  1.743726e+09           NaN   \n",
      "13627925  40980644      4184475  BqOr8qkAzq4  1.743726e+09  2.543012e+14   \n",
      "13627926  40980645      4184475  Bo5JO6sgRRE  1.743726e+09  1.492459e+06   \n",
      "13627927  40980646      4184475  BnjiTloA32n  1.743726e+09           NaN   \n",
      "13627928  40980647      4184475  BmoHHv3geOw  1.743726e+09  2.543012e+14   \n",
      "28067241  17459934      4184475  BwP5Z5Qg-ED  1.743726e+09           NaN   \n",
      "\n",
      "                              cts  post_type  \\\n",
      "13627918  2019-07-28 03:24:23.000          1   \n",
      "13627919  2019-07-10 06:31:00.000          1   \n",
      "13627920  2019-06-20 18:52:37.000          1   \n",
      "13627921  2019-05-27 20:40:08.000          1   \n",
      "13627922  2019-05-16 00:40:14.000          1   \n",
      "13627923  2019-04-27 12:28:24.000          1   \n",
      "13627924  2019-03-22 21:51:24.000          1   \n",
      "13627925  2018-11-16 06:28:11.000          1   \n",
      "13627926  2018-10-14 02:09:24.000          1   \n",
      "13627927  2018-09-10 20:13:48.000          1   \n",
      "13627928  2018-08-18 18:21:04.000          1   \n",
      "28067241  2019-04-14 21:53:23.000          1   \n",
      "\n",
      "                                                description  numbr_likes  \\\n",
      "13627918  Took a nice day trip to do the Stairway Portag...         38.0   \n",
      "13627919  My first solo BWCA trip is in the books, I pus...         72.0   \n",
      "13627920  Always chasing that sunset 🌅\\n.\\n#bwca #gunfli...         47.0   \n",
      "13627921  Our first BWCA trip together couldn’t have gon...         66.0   \n",
      "13627922  No one I’d rather fall 13,000 feet with! #adre...         55.0   \n",
      "13627923  Getting the season started! \\n#Willsshorelines...         58.0   \n",
      "13627924  I may be cool, but I’ll never be as cool as my...         29.0   \n",
      "13627925  Just wanna go back to when the biggest thing I...         41.0   \n",
      "13627926                     Yay for homecoming! #fifthyear         61.0   \n",
      "13627927                 Me and all my does🐐#doesbeforebros         46.0   \n",
      "13627928                                     Always smiling         47.0   \n",
      "28067241  Good food, awesome friends and a beautiful dat...         54.0   \n",
      "\n",
      "          number_comments  \n",
      "13627918              0.0  \n",
      "13627919              2.0  \n",
      "13627920              1.0  \n",
      "13627921              1.0  \n",
      "13627922              1.0  \n",
      "13627923              2.0  \n",
      "13627924              2.0  \n",
      "13627925              0.0  \n",
      "13627926              4.0  \n",
      "13627927              1.0  \n",
      "13627928              2.0  \n",
      "28067241              0.0  \n",
      "Empty DataFrame\n",
      "Columns: [sid, sid_profile, post_id, profile_id, location_id, cts, post_type, description, numbr_likes, number_comments]\n",
      "Index: []\n"
     ]
    }
   ],
   "source": [
    "num(10)"
   ]
  },
  {
   "cell_type": "markdown",
   "metadata": {},
   "source": [
    "The top 10 personal information with the most posts is:"
   ]
  },
  {
   "cell_type": "code",
   "execution_count": 92,
   "metadata": {},
   "outputs": [
    {
     "data": {
      "text/html": [
       "<div>\n",
       "<style scoped>\n",
       "    .dataframe tbody tr th:only-of-type {\n",
       "        vertical-align: middle;\n",
       "    }\n",
       "\n",
       "    .dataframe tbody tr th {\n",
       "        vertical-align: top;\n",
       "    }\n",
       "\n",
       "    .dataframe thead th {\n",
       "        text-align: right;\n",
       "    }\n",
       "</style>\n",
       "<table border=\"1\" class=\"dataframe\">\n",
       "  <thead>\n",
       "    <tr style=\"text-align: right;\">\n",
       "      <th></th>\n",
       "      <th>sid</th>\n",
       "      <th>profile_id</th>\n",
       "      <th>profile_name</th>\n",
       "      <th>firstname_lastname</th>\n",
       "      <th>description</th>\n",
       "      <th>following</th>\n",
       "      <th>followers</th>\n",
       "      <th>n_posts</th>\n",
       "      <th>url</th>\n",
       "      <th>cts</th>\n",
       "      <th>is_business_account</th>\n",
       "    </tr>\n",
       "  </thead>\n",
       "  <tbody>\n",
       "    <tr>\n",
       "      <th>3990313</th>\n",
       "      <td>3661552</td>\n",
       "      <td>1.996648e+08</td>\n",
       "      <td>jasem33312</td>\n",
       "      <td>jasem33312</td>\n",
       "      <td>NaN</td>\n",
       "      <td>2.0</td>\n",
       "      <td>82049.0</td>\n",
       "      <td>183730.0</td>\n",
       "      <td>NaN</td>\n",
       "      <td>2022-10-17 19:14:19</td>\n",
       "      <td>False</td>\n",
       "    </tr>\n",
       "    <tr>\n",
       "      <th>2571453</th>\n",
       "      <td>3288809</td>\n",
       "      <td>8.563367e+09</td>\n",
       "      <td>koenigpic</td>\n",
       "      <td>Helperwait Studio</td>\n",
       "      <td>Веб сайты от идеи до запуска</td>\n",
       "      <td>4538.0</td>\n",
       "      <td>675.0</td>\n",
       "      <td>142428.0</td>\n",
       "      <td>vk.com/ru.helperwait</td>\n",
       "      <td>2022-10-17 00:14:06</td>\n",
       "      <td>True</td>\n",
       "    </tr>\n",
       "    <tr>\n",
       "      <th>4338921</th>\n",
       "      <td>3970193</td>\n",
       "      <td>1.273455e+09</td>\n",
       "      <td>rudyanto62</td>\n",
       "      <td>Rudyanto 王耀祝</td>\n",
       "      <td>NaN</td>\n",
       "      <td>164.0</td>\n",
       "      <td>1693.0</td>\n",
       "      <td>126340.0</td>\n",
       "      <td>NaN</td>\n",
       "      <td>2022-10-17 10:00:51</td>\n",
       "      <td>False</td>\n",
       "    </tr>\n",
       "    <tr>\n",
       "      <th>3942129</th>\n",
       "      <td>3621669</td>\n",
       "      <td>9.813508e+06</td>\n",
       "      <td>hometown_ni</td>\n",
       "      <td>AngelsCowboysLakers</td>\n",
       "      <td>All about live &amp; let live. Peace &amp; Harmony. La...</td>\n",
       "      <td>7488.0</td>\n",
       "      <td>1755.0</td>\n",
       "      <td>125220.0</td>\n",
       "      <td>NaN</td>\n",
       "      <td>2022-10-17 02:49:38</td>\n",
       "      <td>False</td>\n",
       "    </tr>\n",
       "    <tr>\n",
       "      <th>4219642</th>\n",
       "      <td>3851869</td>\n",
       "      <td>1.607309e+09</td>\n",
       "      <td>dwfitfiber_thailand</td>\n",
       "      <td>เห็นผลตั้งแต่เซ็ตแรกท้าลอง</td>\n",
       "      <td>✿รับตัวแทนรายได้ดีมาก\\n🏧 KTB l SCB l KBANK | B...</td>\n",
       "      <td>7490.0</td>\n",
       "      <td>44951.0</td>\n",
       "      <td>117262.0</td>\n",
       "      <td>bit.ly/2GdIYJl</td>\n",
       "      <td>2022-10-17 02:10:07</td>\n",
       "      <td>True</td>\n",
       "    </tr>\n",
       "    <tr>\n",
       "      <th>...</th>\n",
       "      <td>...</td>\n",
       "      <td>...</td>\n",
       "      <td>...</td>\n",
       "      <td>...</td>\n",
       "      <td>...</td>\n",
       "      <td>...</td>\n",
       "      <td>...</td>\n",
       "      <td>...</td>\n",
       "      <td>...</td>\n",
       "      <td>...</td>\n",
       "      <td>...</td>\n",
       "    </tr>\n",
       "    <tr>\n",
       "      <th>4509575</th>\n",
       "      <td>4184448</td>\n",
       "      <td>2.438073e+08</td>\n",
       "      <td>not_omeed</td>\n",
       "      <td>أوميد</td>\n",
       "      <td>NaN</td>\n",
       "      <td>NaN</td>\n",
       "      <td>NaN</td>\n",
       "      <td>NaN</td>\n",
       "      <td>NaN</td>\n",
       "      <td>2022-10-17 14:39:06</td>\n",
       "      <td>NaN</td>\n",
       "    </tr>\n",
       "    <tr>\n",
       "      <th>4509577</th>\n",
       "      <td>4184452</td>\n",
       "      <td>6.567796e+08</td>\n",
       "      <td>shak._n5</td>\n",
       "      <td>Shakil Hussain</td>\n",
       "      <td>NaN</td>\n",
       "      <td>NaN</td>\n",
       "      <td>NaN</td>\n",
       "      <td>NaN</td>\n",
       "      <td>NaN</td>\n",
       "      <td>2022-10-17 14:39:23</td>\n",
       "      <td>NaN</td>\n",
       "    </tr>\n",
       "    <tr>\n",
       "      <th>4509582</th>\n",
       "      <td>4184469</td>\n",
       "      <td>1.340704e+07</td>\n",
       "      <td>jornvlaeminck</td>\n",
       "      <td>Jorn Vlaeminck</td>\n",
       "      <td>NaN</td>\n",
       "      <td>NaN</td>\n",
       "      <td>NaN</td>\n",
       "      <td>NaN</td>\n",
       "      <td>NaN</td>\n",
       "      <td>2022-10-17 14:40:41</td>\n",
       "      <td>NaN</td>\n",
       "    </tr>\n",
       "    <tr>\n",
       "      <th>4509583</th>\n",
       "      <td>4184470</td>\n",
       "      <td>6.007354e+09</td>\n",
       "      <td>s_degol</td>\n",
       "      <td>Sanne Degol</td>\n",
       "      <td>NaN</td>\n",
       "      <td>NaN</td>\n",
       "      <td>NaN</td>\n",
       "      <td>NaN</td>\n",
       "      <td>NaN</td>\n",
       "      <td>2022-10-17 14:40:42</td>\n",
       "      <td>NaN</td>\n",
       "    </tr>\n",
       "    <tr>\n",
       "      <th>4509585</th>\n",
       "      <td>4184511</td>\n",
       "      <td>2.088094e+09</td>\n",
       "      <td>arnaubassols_</td>\n",
       "      <td>Arnau Bassols Noguer</td>\n",
       "      <td>NaN</td>\n",
       "      <td>NaN</td>\n",
       "      <td>NaN</td>\n",
       "      <td>NaN</td>\n",
       "      <td>NaN</td>\n",
       "      <td>2022-10-17 14:42:30</td>\n",
       "      <td>NaN</td>\n",
       "    </tr>\n",
       "  </tbody>\n",
       "</table>\n",
       "<p>4509586 rows × 11 columns</p>\n",
       "</div>"
      ],
      "text/plain": [
       "             sid    profile_id         profile_name  \\\n",
       "3990313  3661552  1.996648e+08           jasem33312   \n",
       "2571453  3288809  8.563367e+09            koenigpic   \n",
       "4338921  3970193  1.273455e+09           rudyanto62   \n",
       "3942129  3621669  9.813508e+06          hometown_ni   \n",
       "4219642  3851869  1.607309e+09  dwfitfiber_thailand   \n",
       "...          ...           ...                  ...   \n",
       "4509575  4184448  2.438073e+08            not_omeed   \n",
       "4509577  4184452  6.567796e+08             shak._n5   \n",
       "4509582  4184469  1.340704e+07        jornvlaeminck   \n",
       "4509583  4184470  6.007354e+09              s_degol   \n",
       "4509585  4184511  2.088094e+09        arnaubassols_   \n",
       "\n",
       "                 firstname_lastname  \\\n",
       "3990313                  jasem33312   \n",
       "2571453           Helperwait Studio   \n",
       "4338921                Rudyanto 王耀祝   \n",
       "3942129         AngelsCowboysLakers   \n",
       "4219642  เห็นผลตั้งแต่เซ็ตแรกท้าลอง   \n",
       "...                             ...   \n",
       "4509575                       أوميد   \n",
       "4509577              Shakil Hussain   \n",
       "4509582              Jorn Vlaeminck   \n",
       "4509583                 Sanne Degol   \n",
       "4509585        Arnau Bassols Noguer   \n",
       "\n",
       "                                               description  following  \\\n",
       "3990313                                                NaN        2.0   \n",
       "2571453                       Веб сайты от идеи до запуска     4538.0   \n",
       "4338921                                                NaN      164.0   \n",
       "3942129  All about live & let live. Peace & Harmony. La...     7488.0   \n",
       "4219642  ✿รับตัวแทนรายได้ดีมาก\\n🏧 KTB l SCB l KBANK | B...     7490.0   \n",
       "...                                                    ...        ...   \n",
       "4509575                                                NaN        NaN   \n",
       "4509577                                                NaN        NaN   \n",
       "4509582                                                NaN        NaN   \n",
       "4509583                                                NaN        NaN   \n",
       "4509585                                                NaN        NaN   \n",
       "\n",
       "         followers   n_posts                   url                 cts  \\\n",
       "3990313    82049.0  183730.0                   NaN 2022-10-17 19:14:19   \n",
       "2571453      675.0  142428.0  vk.com/ru.helperwait 2022-10-17 00:14:06   \n",
       "4338921     1693.0  126340.0                   NaN 2022-10-17 10:00:51   \n",
       "3942129     1755.0  125220.0                   NaN 2022-10-17 02:49:38   \n",
       "4219642    44951.0  117262.0        bit.ly/2GdIYJl 2022-10-17 02:10:07   \n",
       "...            ...       ...                   ...                 ...   \n",
       "4509575        NaN       NaN                   NaN 2022-10-17 14:39:06   \n",
       "4509577        NaN       NaN                   NaN 2022-10-17 14:39:23   \n",
       "4509582        NaN       NaN                   NaN 2022-10-17 14:40:41   \n",
       "4509583        NaN       NaN                   NaN 2022-10-17 14:40:42   \n",
       "4509585        NaN       NaN                   NaN 2022-10-17 14:42:30   \n",
       "\n",
       "        is_business_account  \n",
       "3990313               False  \n",
       "2571453                True  \n",
       "4338921               False  \n",
       "3942129               False  \n",
       "4219642                True  \n",
       "...                     ...  \n",
       "4509575                 NaN  \n",
       "4509577                 NaN  \n",
       "4509582                 NaN  \n",
       "4509583                 NaN  \n",
       "4509585                 NaN  \n",
       "\n",
       "[4509586 rows x 11 columns]"
      ]
     },
     "execution_count": 92,
     "metadata": {},
     "output_type": "execute_result"
    }
   ],
   "source": [
    "data.sort_values(by='n_posts', inplace=True, ascending=False)\n",
    "data"
   ]
  },
  {
   "cell_type": "code",
   "execution_count": 149,
   "metadata": {},
   "outputs": [
    {
     "name": "stdout",
     "output_type": "stream",
     "text": [
      "338.6\n",
      "9.1\n"
     ]
    }
   ],
   "source": [
    "from numpy import *\n",
    "s=data['profile_id']\n",
    "lik=[]\n",
    "com=[]\n",
    "for i in range(10):\n",
    "    da=data1.loc[data1['profile_id'] == s[i]]\n",
    "    lik.append(sum(da['numbr_likes']))\n",
    "    com.append(sum(da['number_comments']))\n",
    "print(mean(lik))\n",
    "print(mean(com))\n"
   ]
  },
  {
   "cell_type": "markdown",
   "metadata": {},
   "source": [
    "The average number of likes is 715.5 and the average number of comments is 17.5"
   ]
  },
  {
   "cell_type": "code",
   "execution_count": 118,
   "metadata": {},
   "outputs": [],
   "source": [
    "z=data[0:10]\n",
    "def time_m(time):\n",
    "    y=[]\n",
    "    for i in range(len(time)):\n",
    "        y.append(sum(z.set_index(\"cts\").between_time(\"{}\".format(time[i][0]), \"{}\".format(time[i][1]))['n_posts']))\n",
    "    num_list = y\n",
    "    x= range(len(time))\n",
    "    plt.bar(x, num_list)\n",
    "    plt.show()"
   ]
  },
  {
   "cell_type": "code",
   "execution_count": 119,
   "metadata": {},
   "outputs": [
    {
     "data": {
      "image/png": "[encoded data removed]",
      "text/plain": [
       "<Figure size 432x288 with 1 Axes>"
      ]
     },
     "metadata": {
      "needs_background": "light"
     },
     "output_type": "display_data"
    }
   ],
   "source": [
    "time_m([['06:00:00','10:59:59'],['11:00:00','13:59:59'],['14:00:00','16:59:59'],\n",
    "['17:00:00','19:59:59'],['20:00:00','23:59:59'],['00:00:00','02:59:59'],['03:00:00','05:59:59']])"
   ]
  },
  {
   "cell_type": "markdown",
   "metadata": {},
   "source": [
    "The number of posts in the top ten during this time is:"
   ]
  },
  {
   "cell_type": "code",
   "execution_count": 147,
   "metadata": {},
   "outputs": [
    {
     "data": {
      "text/html": [
       "<div>\n",
       "<style scoped>\n",
       "    .dataframe tbody tr th:only-of-type {\n",
       "        vertical-align: middle;\n",
       "    }\n",
       "\n",
       "    .dataframe tbody tr th {\n",
       "        vertical-align: top;\n",
       "    }\n",
       "\n",
       "    .dataframe thead th {\n",
       "        text-align: right;\n",
       "    }\n",
       "</style>\n",
       "<table border=\"1\" class=\"dataframe\">\n",
       "  <thead>\n",
       "    <tr style=\"text-align: right;\">\n",
       "      <th></th>\n",
       "      <th>index</th>\n",
       "      <th>sid</th>\n",
       "      <th>profile_id</th>\n",
       "      <th>profile_name</th>\n",
       "      <th>firstname_lastname</th>\n",
       "      <th>description</th>\n",
       "      <th>following</th>\n",
       "      <th>followers</th>\n",
       "      <th>n_posts</th>\n",
       "      <th>url</th>\n",
       "      <th>cts</th>\n",
       "      <th>is_business_account</th>\n",
       "    </tr>\n",
       "  </thead>\n",
       "  <tbody>\n",
       "    <tr>\n",
       "      <th>0</th>\n",
       "      <td>3990313</td>\n",
       "      <td>3661552</td>\n",
       "      <td>1.996648e+08</td>\n",
       "      <td>jasem33312</td>\n",
       "      <td>jasem33312</td>\n",
       "      <td>NaN</td>\n",
       "      <td>2.0</td>\n",
       "      <td>82049.0</td>\n",
       "      <td>183730.0</td>\n",
       "      <td>NaN</td>\n",
       "      <td>2022-10-17 19:14:19</td>\n",
       "      <td>False</td>\n",
       "    </tr>\n",
       "    <tr>\n",
       "      <th>1</th>\n",
       "      <td>2571453</td>\n",
       "      <td>3288809</td>\n",
       "      <td>8.563367e+09</td>\n",
       "      <td>koenigpic</td>\n",
       "      <td>Helperwait Studio</td>\n",
       "      <td>Веб сайты от идеи до запуска</td>\n",
       "      <td>4538.0</td>\n",
       "      <td>675.0</td>\n",
       "      <td>142428.0</td>\n",
       "      <td>vk.com/ru.helperwait</td>\n",
       "      <td>2022-10-17 00:14:06</td>\n",
       "      <td>True</td>\n",
       "    </tr>\n",
       "    <tr>\n",
       "      <th>2</th>\n",
       "      <td>4338921</td>\n",
       "      <td>3970193</td>\n",
       "      <td>1.273455e+09</td>\n",
       "      <td>rudyanto62</td>\n",
       "      <td>Rudyanto 王耀祝</td>\n",
       "      <td>NaN</td>\n",
       "      <td>164.0</td>\n",
       "      <td>1693.0</td>\n",
       "      <td>126340.0</td>\n",
       "      <td>NaN</td>\n",
       "      <td>2022-10-17 10:00:51</td>\n",
       "      <td>False</td>\n",
       "    </tr>\n",
       "    <tr>\n",
       "      <th>3</th>\n",
       "      <td>3942129</td>\n",
       "      <td>3621669</td>\n",
       "      <td>9.813508e+06</td>\n",
       "      <td>hometown_ni</td>\n",
       "      <td>AngelsCowboysLakers</td>\n",
       "      <td>All about live &amp; let live. Peace &amp; Harmony. La...</td>\n",
       "      <td>7488.0</td>\n",
       "      <td>1755.0</td>\n",
       "      <td>125220.0</td>\n",
       "      <td>NaN</td>\n",
       "      <td>2022-10-17 02:49:38</td>\n",
       "      <td>False</td>\n",
       "    </tr>\n",
       "    <tr>\n",
       "      <th>4</th>\n",
       "      <td>4219642</td>\n",
       "      <td>3851869</td>\n",
       "      <td>1.607309e+09</td>\n",
       "      <td>dwfitfiber_thailand</td>\n",
       "      <td>เห็นผลตั้งแต่เซ็ตแรกท้าลอง</td>\n",
       "      <td>✿รับตัวแทนรายได้ดีมาก\\n🏧 KTB l SCB l KBANK | B...</td>\n",
       "      <td>7490.0</td>\n",
       "      <td>44951.0</td>\n",
       "      <td>117262.0</td>\n",
       "      <td>bit.ly/2GdIYJl</td>\n",
       "      <td>2022-10-17 02:10:07</td>\n",
       "      <td>True</td>\n",
       "    </tr>\n",
       "    <tr>\n",
       "      <th>5</th>\n",
       "      <td>2207897</td>\n",
       "      <td>345591</td>\n",
       "      <td>1.087614e+09</td>\n",
       "      <td>waxking911</td>\n",
       "      <td>Frank Hernandez</td>\n",
       "      <td>NaN</td>\n",
       "      <td>134.0</td>\n",
       "      <td>138.0</td>\n",
       "      <td>117099.0</td>\n",
       "      <td>NaN</td>\n",
       "      <td>NaT</td>\n",
       "      <td>False</td>\n",
       "    </tr>\n",
       "    <tr>\n",
       "      <th>6</th>\n",
       "      <td>4313908</td>\n",
       "      <td>3944512</td>\n",
       "      <td>1.603890e+09</td>\n",
       "      <td>gamt_official</td>\n",
       "      <td>Official IG Of GAMT Thailand</td>\n",
       "      <td>❥ แว่น gamt พร้อมส่งของแท้💯 มีโปร1290 พร้อมซอง...</td>\n",
       "      <td>7470.0</td>\n",
       "      <td>36001.0</td>\n",
       "      <td>113780.0</td>\n",
       "      <td>bit.ly/2GdIYJl</td>\n",
       "      <td>2022-10-17 21:10:30</td>\n",
       "      <td>True</td>\n",
       "    </tr>\n",
       "    <tr>\n",
       "      <th>7</th>\n",
       "      <td>4219476</td>\n",
       "      <td>3851808</td>\n",
       "      <td>2.181730e+08</td>\n",
       "      <td>collarosedw_official</td>\n",
       "      <td>grapeseed+collarose</td>\n",
       "      <td>🍇 สินค้าแบรนด์ dwplus\\n💓 collarose+grapeseed+f...</td>\n",
       "      <td>7496.0</td>\n",
       "      <td>18021.0</td>\n",
       "      <td>113182.0</td>\n",
       "      <td>bit.ly/2asesw7</td>\n",
       "      <td>2022-10-17 02:08:17</td>\n",
       "      <td>True</td>\n",
       "    </tr>\n",
       "    <tr>\n",
       "      <th>8</th>\n",
       "      <td>4236057</td>\n",
       "      <td>3868432</td>\n",
       "      <td>2.855497e+08</td>\n",
       "      <td>gamt_authentic</td>\n",
       "      <td>Official IG Of GAMT Thailand</td>\n",
       "      <td>❥ แว่น gamt พร้อมส่ง มีโปร1290 พร้อมซองแว่น+ผ้...</td>\n",
       "      <td>7480.0</td>\n",
       "      <td>27511.0</td>\n",
       "      <td>112777.0</td>\n",
       "      <td>bit.ly/2T2RIqG</td>\n",
       "      <td>2022-10-17 09:28:30</td>\n",
       "      <td>True</td>\n",
       "    </tr>\n",
       "    <tr>\n",
       "      <th>9</th>\n",
       "      <td>1631526</td>\n",
       "      <td>1312725</td>\n",
       "      <td>8.312603e+09</td>\n",
       "      <td>ivankkkka.trmp</td>\n",
       "      <td>IVANKA DARCEY K. TRUMP</td>\n",
       "      <td>DORA. 👄 #Mango</td>\n",
       "      <td>7497.0</td>\n",
       "      <td>2.0</td>\n",
       "      <td>112723.0</td>\n",
       "      <td>www.flightclub.com/yeezy</td>\n",
       "      <td>2022-10-17 02:41:26</td>\n",
       "      <td>False</td>\n",
       "    </tr>\n",
       "  </tbody>\n",
       "</table>\n",
       "</div>"
      ],
      "text/plain": [
       "     index      sid    profile_id          profile_name  \\\n",
       "0  3990313  3661552  1.996648e+08            jasem33312   \n",
       "1  2571453  3288809  8.563367e+09             koenigpic   \n",
       "2  4338921  3970193  1.273455e+09            rudyanto62   \n",
       "3  3942129  3621669  9.813508e+06           hometown_ni   \n",
       "4  4219642  3851869  1.607309e+09   dwfitfiber_thailand   \n",
       "5  2207897   345591  1.087614e+09            waxking911   \n",
       "6  4313908  3944512  1.603890e+09         gamt_official   \n",
       "7  4219476  3851808  2.181730e+08  collarosedw_official   \n",
       "8  4236057  3868432  2.855497e+08        gamt_authentic   \n",
       "9  1631526  1312725  8.312603e+09        ivankkkka.trmp   \n",
       "\n",
       "             firstname_lastname  \\\n",
       "0                    jasem33312   \n",
       "1             Helperwait Studio   \n",
       "2                  Rudyanto 王耀祝   \n",
       "3           AngelsCowboysLakers   \n",
       "4    เห็นผลตั้งแต่เซ็ตแรกท้าลอง   \n",
       "5               Frank Hernandez   \n",
       "6  Official IG Of GAMT Thailand   \n",
       "7           grapeseed+collarose   \n",
       "8  Official IG Of GAMT Thailand   \n",
       "9        IVANKA DARCEY K. TRUMP   \n",
       "\n",
       "                                         description  following  followers  \\\n",
       "0                                                NaN        2.0    82049.0   \n",
       "1                       Веб сайты от идеи до запуска     4538.0      675.0   \n",
       "2                                                NaN      164.0     1693.0   \n",
       "3  All about live & let live. Peace & Harmony. La...     7488.0     1755.0   \n",
       "4  ✿รับตัวแทนรายได้ดีมาก\\n🏧 KTB l SCB l KBANK | B...     7490.0    44951.0   \n",
       "5                                                NaN      134.0      138.0   \n",
       "6  ❥ แว่น gamt พร้อมส่งของแท้💯 มีโปร1290 พร้อมซอง...     7470.0    36001.0   \n",
       "7  🍇 สินค้าแบรนด์ dwplus\\n💓 collarose+grapeseed+f...     7496.0    18021.0   \n",
       "8  ❥ แว่น gamt พร้อมส่ง มีโปร1290 พร้อมซองแว่น+ผ้...     7480.0    27511.0   \n",
       "9                                     DORA. 👄 #Mango     7497.0        2.0   \n",
       "\n",
       "    n_posts                       url                 cts is_business_account  \n",
       "0  183730.0                       NaN 2022-10-17 19:14:19               False  \n",
       "1  142428.0      vk.com/ru.helperwait 2022-10-17 00:14:06                True  \n",
       "2  126340.0                       NaN 2022-10-17 10:00:51               False  \n",
       "3  125220.0                       NaN 2022-10-17 02:49:38               False  \n",
       "4  117262.0            bit.ly/2GdIYJl 2022-10-17 02:10:07                True  \n",
       "5  117099.0                       NaN                 NaT               False  \n",
       "6  113780.0            bit.ly/2GdIYJl 2022-10-17 21:10:30                True  \n",
       "7  113182.0            bit.ly/2asesw7 2022-10-17 02:08:17                True  \n",
       "8  112777.0            bit.ly/2T2RIqG 2022-10-17 09:28:30                True  \n",
       "9  112723.0  www.flightclub.com/yeezy 2022-10-17 02:41:26               False  "
      ]
     },
     "execution_count": 147,
     "metadata": {},
     "output_type": "execute_result"
    }
   ],
   "source": [
    "\n",
    "post=data[0:10]\n",
    "post=post.reset_index()\n",
    "post"
   ]
  },
  {
   "cell_type": "markdown",
   "metadata": {},
   "source": [
    "The main comment time is spread between twelve and three in the morning, and at night people may be more willing to like posts"
   ]
  },
  {
   "cell_type": "markdown",
   "metadata": {},
   "source": [
    "# RQ5"
   ]
  },
  {
   "cell_type": "code",
   "execution_count": 149,
   "metadata": {},
   "outputs": [
    {
     "name": "stdout",
     "output_type": "stream",
     "text": [
      "183730.0\n",
      "142428.0\n",
      "126340.0\n",
      "125220.0\n",
      "117262.0\n",
      "117099.0\n",
      "113780.0\n",
      "113182.0\n",
      "112777.0\n",
      "112723.0\n",
      "[183730.0, 142428.0, 126340.0, 125220.0, 117262.0, 117099.0, 113780.0, 113182.0, 112777.0, 112723.0]\n"
     ]
    },
    {
     "data": {
      "image/png": "[encoded data removed]",
      "text/plain": [
       "<Figure size 432x288 with 1 Axes>"
      ]
     },
     "metadata": {
      "needs_background": "light"
     },
     "output_type": "display_data"
    }
   ],
   "source": [
    "\n",
    "plt.rcParams['font.sans-serif']=['SimHei'] \n",
    "plt.rcParams['axes.unicode_minus']=False\n",
    "n=[]\n",
    "num=[]\n",
    "for i in range(10):\n",
    "       num_list = post['n_posts'][i]\n",
    "       num.append(num_list)\n",
    "       x= post['firstname_lastname'][i]\n",
    "       n.append(x)\n",
    "x=range(len(num))\n",
    "rects1 = plt.bar(x, height=num, width=0.4, alpha=0.8, color='red', label=\"posts\")\n",
    "plt.xticks([index + 0.2 for index in x], n)\n",
    "plt.xlabel(\"Month\")\n",
    "\n",
    "plt.title(\"\")\n",
    "plt.legend()  \n",
    "for rect in rects1:\n",
    "    height = rect.get_height()\n",
    "    plt.text(rect.get_x() + rect.get_width() / 2, height, str(height), ha=\"center\", va=\"bottom\")\n",
    "plt.show()"
   ]
  },
  {
   "cell_type": "markdown",
   "metadata": {},
   "source": [
    "Top 10 with the most posts"
   ]
  },
  {
   "cell_type": "code",
   "execution_count": 35,
   "metadata": {},
   "outputs": [
    {
     "data": {
      "text/html": [
       "<div>\n",
       "<style scoped>\n",
       "    .dataframe tbody tr th:only-of-type {\n",
       "        vertical-align: middle;\n",
       "    }\n",
       "\n",
       "    .dataframe tbody tr th {\n",
       "        vertical-align: top;\n",
       "    }\n",
       "\n",
       "    .dataframe thead th {\n",
       "        text-align: right;\n",
       "    }\n",
       "</style>\n",
       "<table border=\"1\" class=\"dataframe\">\n",
       "  <thead>\n",
       "    <tr style=\"text-align: right;\">\n",
       "      <th></th>\n",
       "      <th>index</th>\n",
       "      <th>sid</th>\n",
       "      <th>profile_id</th>\n",
       "      <th>profile_name</th>\n",
       "      <th>firstname_lastname</th>\n",
       "      <th>description</th>\n",
       "      <th>following</th>\n",
       "      <th>followers</th>\n",
       "      <th>n_posts</th>\n",
       "      <th>url</th>\n",
       "      <th>cts</th>\n",
       "      <th>is_business_account</th>\n",
       "    </tr>\n",
       "  </thead>\n",
       "  <tbody>\n",
       "    <tr>\n",
       "      <th>0</th>\n",
       "      <td>2880218</td>\n",
       "      <td>336492</td>\n",
       "      <td>2.502532e+07</td>\n",
       "      <td>instagram</td>\n",
       "      <td>Instagram</td>\n",
       "      <td>Bringing you closer to the people and things y...</td>\n",
       "      <td>226.0</td>\n",
       "      <td>285457645.0</td>\n",
       "      <td>5760.0</td>\n",
       "      <td>help.instagram.com</td>\n",
       "      <td>NaN</td>\n",
       "      <td>False</td>\n",
       "    </tr>\n",
       "    <tr>\n",
       "      <th>1</th>\n",
       "      <td>2582507</td>\n",
       "      <td>371414</td>\n",
       "      <td>3.416684e+06</td>\n",
       "      <td>victoriassecret</td>\n",
       "      <td>Victoria's Secret</td>\n",
       "      <td>Confidence is sexy. #wearitdaily</td>\n",
       "      <td>549.0</td>\n",
       "      <td>65269440.0</td>\n",
       "      <td>7355.0</td>\n",
       "      <td>like2b.uy/victoriassecret</td>\n",
       "      <td>NaN</td>\n",
       "      <td>True</td>\n",
       "    </tr>\n",
       "    <tr>\n",
       "      <th>2</th>\n",
       "      <td>3820939</td>\n",
       "      <td>337097</td>\n",
       "      <td>2.082449e+07</td>\n",
       "      <td>nba</td>\n",
       "      <td>NBA</td>\n",
       "      <td>30 teams, 1 🏆\\n👟: @nbakicks \\n📽: @nbahistory \\...</td>\n",
       "      <td>817.0</td>\n",
       "      <td>35339708.0</td>\n",
       "      <td>28816.0</td>\n",
       "      <td>nba.app.link/js6X7SVaxT</td>\n",
       "      <td>NaN</td>\n",
       "      <td>True</td>\n",
       "    </tr>\n",
       "    <tr>\n",
       "      <th>3</th>\n",
       "      <td>701965</td>\n",
       "      <td>330376</td>\n",
       "      <td>1.876191e+08</td>\n",
       "      <td>louisvuitton</td>\n",
       "      <td>Louis Vuitton Official</td>\n",
       "      <td>The official Instagram account of Louis Vuitton.</td>\n",
       "      <td>5.0</td>\n",
       "      <td>30689316.0</td>\n",
       "      <td>3352.0</td>\n",
       "      <td>on.louisvuitton.com/Like2Buy</td>\n",
       "      <td>NaN</td>\n",
       "      <td>True</td>\n",
       "    </tr>\n",
       "    <tr>\n",
       "      <th>4</th>\n",
       "      <td>2414951</td>\n",
       "      <td>292359</td>\n",
       "      <td>2.125507e+09</td>\n",
       "      <td>buzzfeedtasty</td>\n",
       "      <td>Tasty</td>\n",
       "      <td>Recipes that will make you say \"oh yes!\"\\n👇 Cl...</td>\n",
       "      <td>298.0</td>\n",
       "      <td>30246783.0</td>\n",
       "      <td>2791.0</td>\n",
       "      <td>tasty.co/linkinbio</td>\n",
       "      <td>NaN</td>\n",
       "      <td>True</td>\n",
       "    </tr>\n",
       "    <tr>\n",
       "      <th>5</th>\n",
       "      <td>2785241</td>\n",
       "      <td>3437294</td>\n",
       "      <td>4.968651e+08</td>\n",
       "      <td>andresiniesta8</td>\n",
       "      <td>Andres Iniesta</td>\n",
       "      <td>Andres Iniesta Official Instagram Account, \\nB...</td>\n",
       "      <td>151.0</td>\n",
       "      <td>29542143.0</td>\n",
       "      <td>990.0</td>\n",
       "      <td>mikakus.com</td>\n",
       "      <td>2019-05-08 23:54:35.377 -0400</td>\n",
       "      <td>False</td>\n",
       "    </tr>\n",
       "    <tr>\n",
       "      <th>6</th>\n",
       "      <td>333193</td>\n",
       "      <td>158690</td>\n",
       "      <td>2.341008e+07</td>\n",
       "      <td>hm</td>\n",
       "      <td>H&amp;M</td>\n",
       "      <td>Welcome to #HM! Follow us at @HM_Man @HM_Kids ...</td>\n",
       "      <td>403.0</td>\n",
       "      <td>29176804.0</td>\n",
       "      <td>4566.0</td>\n",
       "      <td>hm.info/1c9he</td>\n",
       "      <td>2018-05-31 19:33:46.022 -0400</td>\n",
       "      <td>True</td>\n",
       "    </tr>\n",
       "    <tr>\n",
       "      <th>7</th>\n",
       "      <td>3934581</td>\n",
       "      <td>3615154</td>\n",
       "      <td>2.423993e+07</td>\n",
       "      <td>princessyahrini</td>\n",
       "      <td>Syahrini</td>\n",
       "      <td>NaN</td>\n",
       "      <td>835.0</td>\n",
       "      <td>29042823.0</td>\n",
       "      <td>4719.0</td>\n",
       "      <td>www.youtube.com/c/ThePrincesSyahrini</td>\n",
       "      <td>2019-06-26 15:05:53.411 -0400</td>\n",
       "      <td>True</td>\n",
       "    </tr>\n",
       "    <tr>\n",
       "      <th>8</th>\n",
       "      <td>1311970</td>\n",
       "      <td>508140</td>\n",
       "      <td>5.041706e+07</td>\n",
       "      <td>danbilzerian</td>\n",
       "      <td>Dan Bilzerian</td>\n",
       "      <td>Snapchat: dbilzerian</td>\n",
       "      <td>252.0</td>\n",
       "      <td>26476004.0</td>\n",
       "      <td>1311.0</td>\n",
       "      <td>www.ignite.co</td>\n",
       "      <td>NaN</td>\n",
       "      <td>True</td>\n",
       "    </tr>\n",
       "    <tr>\n",
       "      <th>9</th>\n",
       "      <td>1703764</td>\n",
       "      <td>3513205</td>\n",
       "      <td>9.070254e+08</td>\n",
       "      <td>akshaykumar</td>\n",
       "      <td>Akshay Kumar</td>\n",
       "      <td>#AkshayKumar</td>\n",
       "      <td>5.0</td>\n",
       "      <td>26252169.0</td>\n",
       "      <td>1173.0</td>\n",
       "      <td>bit.ly/AliAliBlank</td>\n",
       "      <td>2019-05-14 08:29:29.754 -0400</td>\n",
       "      <td>False</td>\n",
       "    </tr>\n",
       "  </tbody>\n",
       "</table>\n",
       "</div>"
      ],
      "text/plain": [
       "     index      sid    profile_id     profile_name      firstname_lastname  \\\n",
       "0  2880218   336492  2.502532e+07        instagram               Instagram   \n",
       "1  2582507   371414  3.416684e+06  victoriassecret       Victoria's Secret   \n",
       "2  3820939   337097  2.082449e+07              nba                     NBA   \n",
       "3   701965   330376  1.876191e+08     louisvuitton  Louis Vuitton Official   \n",
       "4  2414951   292359  2.125507e+09    buzzfeedtasty                   Tasty   \n",
       "5  2785241  3437294  4.968651e+08   andresiniesta8          Andres Iniesta   \n",
       "6   333193   158690  2.341008e+07               hm                     H&M   \n",
       "7  3934581  3615154  2.423993e+07  princessyahrini                Syahrini   \n",
       "8  1311970   508140  5.041706e+07     danbilzerian           Dan Bilzerian   \n",
       "9  1703764  3513205  9.070254e+08      akshaykumar            Akshay Kumar   \n",
       "\n",
       "                                         description  following    followers  \\\n",
       "0  Bringing you closer to the people and things y...      226.0  285457645.0   \n",
       "1                   Confidence is sexy. #wearitdaily      549.0   65269440.0   \n",
       "2  30 teams, 1 🏆\\n👟: @nbakicks \\n📽: @nbahistory \\...      817.0   35339708.0   \n",
       "3   The official Instagram account of Louis Vuitton.        5.0   30689316.0   \n",
       "4  Recipes that will make you say \"oh yes!\"\\n👇 Cl...      298.0   30246783.0   \n",
       "5  Andres Iniesta Official Instagram Account, \\nB...      151.0   29542143.0   \n",
       "6  Welcome to #HM! Follow us at @HM_Man @HM_Kids ...      403.0   29176804.0   \n",
       "7                                                NaN      835.0   29042823.0   \n",
       "8                               Snapchat: dbilzerian      252.0   26476004.0   \n",
       "9                                       #AkshayKumar        5.0   26252169.0   \n",
       "\n",
       "   n_posts                                   url  \\\n",
       "0   5760.0                    help.instagram.com   \n",
       "1   7355.0             like2b.uy/victoriassecret   \n",
       "2  28816.0               nba.app.link/js6X7SVaxT   \n",
       "3   3352.0          on.louisvuitton.com/Like2Buy   \n",
       "4   2791.0                    tasty.co/linkinbio   \n",
       "5    990.0                           mikakus.com   \n",
       "6   4566.0                         hm.info/1c9he   \n",
       "7   4719.0  www.youtube.com/c/ThePrincesSyahrini   \n",
       "8   1311.0                         www.ignite.co   \n",
       "9   1173.0                    bit.ly/AliAliBlank   \n",
       "\n",
       "                             cts is_business_account  \n",
       "0                            NaN               False  \n",
       "1                            NaN                True  \n",
       "2                            NaN                True  \n",
       "3                            NaN                True  \n",
       "4                            NaN                True  \n",
       "5  2019-05-08 23:54:35.377 -0400               False  \n",
       "6  2018-05-31 19:33:46.022 -0400                True  \n",
       "7  2019-06-26 15:05:53.411 -0400                True  \n",
       "8                            NaN                True  \n",
       "9  2019-05-14 08:29:29.754 -0400               False  "
      ]
     },
     "execution_count": 35,
     "metadata": {},
     "output_type": "execute_result"
    }
   ],
   "source": [
    "data.sort_values(by='followers', inplace=True, ascending=False)\n",
    "flo=data[0:10]\n",
    "flo=flo.reset_index()\n",
    "flo"
   ]
  },
  {
   "cell_type": "code",
   "execution_count": 187,
   "metadata": {},
   "outputs": [
    {
     "data": {
      "image/png": "[encoded data removed]",
      "text/plain": [
       "<Figure size 432x288 with 1 Axes>"
      ]
     },
     "metadata": {
      "needs_background": "light"
     },
     "output_type": "display_data"
    }
   ],
   "source": [
    "\n",
    "n=[]\n",
    "num=[]\n",
    "for i in range(10):\n",
    "       num_list = flo['followers'][i]\n",
    "       num.append(num_list)\n",
    "       x= flo['profile_name'][i]\n",
    "       n.append(x)\n",
    "x=range(len(num))\n",
    "rects1 = plt.bar(x, height=num, width=0.4, alpha=0.8, color='red', label=\"posts\")\n",
    "plt.xticks([index + 0.2 for index in x], n)\n",
    "plt.xlabel(\"name\")\n",
    "\n",
    "plt.title(\"\")\n",
    "plt.legend()  \n",
    "for rect in rects1:\n",
    "    height = rect.get_height()\n",
    "    plt.text(rect.get_x() + rect.get_width() / 2, height, str(height), ha=\"center\", va=\"bottom\")\n",
    "plt.show()"
   ]
  },
  {
   "cell_type": "markdown",
   "metadata": {},
   "source": [
    "Top 10 with the most follwers"
   ]
  },
  {
   "cell_type": "markdown",
   "metadata": {},
   "source": [
    "So the most followed user is Instagram, which has 285457645.0 followers"
   ]
  },
  {
   "cell_type": "code",
   "execution_count": 56,
   "metadata": {},
   "outputs": [],
   "source": [
    "data2= pd.read_csv('instagram_locations.csv', sep='\\t')\n"
   ]
  },
  {
   "cell_type": "code",
   "execution_count": 125,
   "metadata": {},
   "outputs": [
    {
     "name": "stdout",
     "output_type": "stream",
     "text": [
      "[array(['United States'], dtype=object), array([nan], dtype=object), array(['Peru'], dtype=object), array([nan], dtype=object), array([nan], dtype=object), array(['United Kingdom'], dtype=object), array([nan], dtype=object), array(['Spain'], dtype=object), array([nan], dtype=object), array([nan], dtype=object), array([nan], dtype=object), array([nan], dtype=object), array([nan], dtype=object), array(['United Kingdom'], dtype=object), array(['China'], dtype=object), array([nan], dtype=object), array([nan], dtype=object), array([nan], dtype=object), array(['United Kingdom'], dtype=object), array(['Netherlands'], dtype=object), array([nan], dtype=object), array(['Thailand'], dtype=object), array([nan], dtype=object), array([nan], dtype=object), array(['United States'], dtype=object), array([nan], dtype=object), array(['Japan'], dtype=object), array([nan], dtype=object), array(['Australia'], dtype=object), array([nan], dtype=object), array([nan], dtype=object), array([nan], dtype=object), array([nan], dtype=object), array([nan], dtype=object)]\n",
      "[array(['Downtown Dallas'], dtype=object), array([nan], dtype=object), array(['Mondor Pampa Aserradero'], dtype=object), array([nan], dtype=object), array([nan], dtype=object), array(['St. James'], dtype=object), array([nan], dtype=object), array(['Valencia'], dtype=object), array([nan], dtype=object), array([nan], dtype=object), array([nan], dtype=object), array([nan], dtype=object), array([nan], dtype=object), array(['Chawton'], dtype=object), array(['Xiandu'], dtype=object), array([nan], dtype=object), array([nan], dtype=object), array([nan], dtype=object), array(['Upper Clapton'], dtype=object), array(['Nieuwe Meer'], dtype=object), array([nan], dtype=object), array(['Tha Chang'], dtype=object), array([nan], dtype=object), array([nan], dtype=object), array(['Crystal Falls'], dtype=object), array([nan], dtype=object), array(['Ota-shi'], dtype=object), array([nan], dtype=object), array(['Loftus'], dtype=object), array([nan], dtype=object), array([nan], dtype=object), array([nan], dtype=object), array([nan], dtype=object), array([nan], dtype=object)]\n"
     ]
    }
   ],
   "source": [
    "flo['profile_id'][0]\n",
    "area=[]\n",
    "loca=[]\n",
    "lo=data1[data1['profile_id']==flo['profile_id'][0]]\n",
    "for i in range(len(lo)):\n",
    "    location=data2[data2['id']==lo['location_id'][i]]\n",
    "    area.append(location[['dir_country_name']].values[0])  \n",
    "    loca.append(location[['dir_city_name']].values[0])\n",
    "\n",
    "print(area)\n",
    "print(loca)\n",
    "\n"
   ]
  },
  {
   "cell_type": "markdown",
   "metadata": {},
   "source": [
    "It can be seen that the most common region is the United Kingdom"
   ]
  },
  {
   "cell_type": "code",
   "execution_count": 133,
   "metadata": {},
   "outputs": [
    {
     "data": {
      "image/png": "[encoded data removed]",
      "text/plain": [
       "<Figure size 432x288 with 1 Axes>"
      ]
     },
     "metadata": {
      "needs_background": "light"
     },
     "output_type": "display_data"
    }
   ],
   "source": [
    "loc1=[]\n",
    "for i in range(len(loca)):\n",
    "    loc1.append(loca[i].astype(str).item())\n",
    "\n",
    "dict = {}\n",
    "for key in loc1:\n",
    "    dict[key] = dict.get(key, 0) + 1\n",
    "key1=[]\n",
    "value1=[]\n",
    "for key in dict.keys():\n",
    "    key1.append(key)\n",
    "    \n",
    "for value in dict.values():\n",
    "    value1.append(value)\n",
    "x=range(len(key1))\n",
    "rects1 = plt.bar(key1, height=value1, width=0.4, alpha=0.8, color='red', label=\"posts\")\n",
    "plt.xticks([index + 0.2 for index in x],key1)\n",
    "plt.xlabel(\"name\")\n",
    "plt.title(\"location\")\n",
    "plt.legend()  \n",
    "for rect in rects1:\n",
    "    height = rect.get_height()\n",
    "    plt.text(rect.get_x() + rect.get_width() / 2, height, str(height), ha=\"center\", va=\"bottom\")\n",
    "plt.show()\n"
   ]
  },
  {
   "cell_type": "markdown",
   "metadata": {},
   "source": [
    "It can be seen that there are 22 posts without cities, and the other cities appear once"
   ]
  },
  {
   "cell_type": "code",
   "execution_count": 110,
   "metadata": {},
   "outputs": [
    {
     "data": {
      "text/html": [
       "<div>\n",
       "<style scoped>\n",
       "    .dataframe tbody tr th:only-of-type {\n",
       "        vertical-align: middle;\n",
       "    }\n",
       "\n",
       "    .dataframe tbody tr th {\n",
       "        vertical-align: top;\n",
       "    }\n",
       "\n",
       "    .dataframe thead th {\n",
       "        text-align: right;\n",
       "    }\n",
       "</style>\n",
       "<table border=\"1\" class=\"dataframe\">\n",
       "  <thead>\n",
       "    <tr style=\"text-align: right;\">\n",
       "      <th></th>\n",
       "      <th>sid</th>\n",
       "      <th>id</th>\n",
       "      <th>name</th>\n",
       "      <th>street</th>\n",
       "      <th>zip</th>\n",
       "      <th>city</th>\n",
       "      <th>region</th>\n",
       "      <th>cd</th>\n",
       "      <th>phone</th>\n",
       "      <th>aj_exact_city_match</th>\n",
       "      <th>...</th>\n",
       "      <th>dir_city_name</th>\n",
       "      <th>dir_city_slug</th>\n",
       "      <th>dir_country_id</th>\n",
       "      <th>dir_country_name</th>\n",
       "      <th>lat</th>\n",
       "      <th>lng</th>\n",
       "      <th>primary_alias_on_fb</th>\n",
       "      <th>slug</th>\n",
       "      <th>website</th>\n",
       "      <th>cts</th>\n",
       "    </tr>\n",
       "  </thead>\n",
       "  <tbody>\n",
       "    <tr>\n",
       "      <th>0</th>\n",
       "      <td>719981</td>\n",
       "      <td>110296492939207</td>\n",
       "      <td>Playa de Daimuz - Valencia, España</td>\n",
       "      <td>NaN</td>\n",
       "      <td>NaN</td>\n",
       "      <td>NaN</td>\n",
       "      <td>NaN</td>\n",
       "      <td>NaN</td>\n",
       "      <td>NaN</td>\n",
       "      <td>False</td>\n",
       "      <td>...</td>\n",
       "      <td>NaN</td>\n",
       "      <td>NaN</td>\n",
       "      <td>NaN</td>\n",
       "      <td>NaN</td>\n",
       "      <td>-0.139475</td>\n",
       "      <td>38.974391</td>\n",
       "      <td>daimuzplaya</td>\n",
       "      <td>playa-de-daimuz-valencia-espana</td>\n",
       "      <td>https://es.wikipedia.org/wiki/Daimuz</td>\n",
       "      <td>2019-05-29 01:21:29.987</td>\n",
       "    </tr>\n",
       "    <tr>\n",
       "      <th>1</th>\n",
       "      <td>719983</td>\n",
       "      <td>274391278</td>\n",
       "      <td>Nová Vieska</td>\n",
       "      <td>NaN</td>\n",
       "      <td>NaN</td>\n",
       "      <td>Nová Vieska</td>\n",
       "      <td>NaN</td>\n",
       "      <td>SK</td>\n",
       "      <td>NaN</td>\n",
       "      <td>True</td>\n",
       "      <td>...</td>\n",
       "      <td>Kis-Újfalu</td>\n",
       "      <td>kis-ujfalu</td>\n",
       "      <td>SK</td>\n",
       "      <td>Slovakia</td>\n",
       "      <td>18.466667</td>\n",
       "      <td>47.866667</td>\n",
       "      <td>NaN</td>\n",
       "      <td>nova-vieska</td>\n",
       "      <td>NaN</td>\n",
       "      <td>2019-05-29 01:21:38.037</td>\n",
       "    </tr>\n",
       "    <tr>\n",
       "      <th>2</th>\n",
       "      <td>719985</td>\n",
       "      <td>148885595789195</td>\n",
       "      <td>Everest Today</td>\n",
       "      <td>Himalayas</td>\n",
       "      <td>+977</td>\n",
       "      <td>Kathmandu, Nepal</td>\n",
       "      <td>NaN</td>\n",
       "      <td>NP</td>\n",
       "      <td>NaN</td>\n",
       "      <td>False</td>\n",
       "      <td>...</td>\n",
       "      <td>Pasupati</td>\n",
       "      <td>pasupati</td>\n",
       "      <td>NP</td>\n",
       "      <td>Nepal</td>\n",
       "      <td>85.330150</td>\n",
       "      <td>27.701960</td>\n",
       "      <td>EverestToday</td>\n",
       "      <td>everest-today</td>\n",
       "      <td>NaN</td>\n",
       "      <td>2019-05-29 01:21:46.295</td>\n",
       "    </tr>\n",
       "    <tr>\n",
       "      <th>3</th>\n",
       "      <td>719987</td>\n",
       "      <td>263258277</td>\n",
       "      <td>BULAC - Bibliothèque universitaire des langues...</td>\n",
       "      <td>65, rue des Grands-Moulins</td>\n",
       "      <td>75013</td>\n",
       "      <td>Paris, France</td>\n",
       "      <td>NaN</td>\n",
       "      <td>FR</td>\n",
       "      <td>01 81 69 18 00</td>\n",
       "      <td>False</td>\n",
       "      <td>...</td>\n",
       "      <td>13ème Arrondissement Paris</td>\n",
       "      <td>13eme-arrondissement-paris</td>\n",
       "      <td>FR</td>\n",
       "      <td>France</td>\n",
       "      <td>2.375995</td>\n",
       "      <td>48.827240</td>\n",
       "      <td>BULAC.Paris</td>\n",
       "      <td>bulac-bibliotheque-universitaire-des-langues-e...</td>\n",
       "      <td>www.bulac.fr</td>\n",
       "      <td>2019-05-29 01:21:54.355</td>\n",
       "    </tr>\n",
       "    <tr>\n",
       "      <th>4</th>\n",
       "      <td>326443</td>\n",
       "      <td>406147529857708</td>\n",
       "      <td>ABC Cable Networks Group</td>\n",
       "      <td>3800 W Alameda Ave</td>\n",
       "      <td>91505</td>\n",
       "      <td>Burbank, California</td>\n",
       "      <td>NaN</td>\n",
       "      <td>US</td>\n",
       "      <td>(818) 569-7500</td>\n",
       "      <td>False</td>\n",
       "      <td>...</td>\n",
       "      <td>NaN</td>\n",
       "      <td>NaN</td>\n",
       "      <td>NaN</td>\n",
       "      <td>NaN</td>\n",
       "      <td>-118.341864</td>\n",
       "      <td>34.153265</td>\n",
       "      <td>NaN</td>\n",
       "      <td>abc-cable-networks-group</td>\n",
       "      <td>NaN</td>\n",
       "      <td>2019-04-02 15:22:55.703</td>\n",
       "    </tr>\n",
       "    <tr>\n",
       "      <th>...</th>\n",
       "      <td>...</td>\n",
       "      <td>...</td>\n",
       "      <td>...</td>\n",
       "      <td>...</td>\n",
       "      <td>...</td>\n",
       "      <td>...</td>\n",
       "      <td>...</td>\n",
       "      <td>...</td>\n",
       "      <td>...</td>\n",
       "      <td>...</td>\n",
       "      <td>...</td>\n",
       "      <td>...</td>\n",
       "      <td>...</td>\n",
       "      <td>...</td>\n",
       "      <td>...</td>\n",
       "      <td>...</td>\n",
       "      <td>...</td>\n",
       "      <td>...</td>\n",
       "      <td>...</td>\n",
       "      <td>...</td>\n",
       "      <td>...</td>\n",
       "    </tr>\n",
       "    <tr>\n",
       "      <th>1022653</th>\n",
       "      <td>719973</td>\n",
       "      <td>873926439475785</td>\n",
       "      <td>Baby Season</td>\n",
       "      <td>Suarez de Figueroa # 380</td>\n",
       "      <td>NaN</td>\n",
       "      <td>Santa Cruz de la Sierra, Bolivia</td>\n",
       "      <td>NaN</td>\n",
       "      <td>BO</td>\n",
       "      <td>69118383</td>\n",
       "      <td>False</td>\n",
       "      <td>...</td>\n",
       "      <td>Santa Cruz de la Sierra</td>\n",
       "      <td>santa-cruz-de-la-sierra</td>\n",
       "      <td>BO</td>\n",
       "      <td>Bolivia</td>\n",
       "      <td>-63.185307</td>\n",
       "      <td>-17.786130</td>\n",
       "      <td>babyseason.srl</td>\n",
       "      <td>baby-season</td>\n",
       "      <td>NaN</td>\n",
       "      <td>2019-05-29 01:20:57.078</td>\n",
       "    </tr>\n",
       "    <tr>\n",
       "      <th>1022654</th>\n",
       "      <td>719975</td>\n",
       "      <td>390707529</td>\n",
       "      <td>Cueva Carvajal</td>\n",
       "      <td>NaN</td>\n",
       "      <td>NaN</td>\n",
       "      <td>NaN</td>\n",
       "      <td>NaN</td>\n",
       "      <td>NaN</td>\n",
       "      <td>+52 81 2089 7776</td>\n",
       "      <td>NaN</td>\n",
       "      <td>...</td>\n",
       "      <td>NaN</td>\n",
       "      <td>NaN</td>\n",
       "      <td>NaN</td>\n",
       "      <td>NaN</td>\n",
       "      <td>-100.359619</td>\n",
       "      <td>25.653550</td>\n",
       "      <td>CuevaCarvajalBrewPub</td>\n",
       "      <td>cueva-carvajal</td>\n",
       "      <td>http://www.cuevacarvajal.mx</td>\n",
       "      <td>2019-05-29 01:21:04.434</td>\n",
       "    </tr>\n",
       "    <tr>\n",
       "      <th>1022655</th>\n",
       "      <td>719977</td>\n",
       "      <td>1205466612894741</td>\n",
       "      <td>The Cheesecake Factory</td>\n",
       "      <td>304 Orland Square Dr</td>\n",
       "      <td>60462</td>\n",
       "      <td>Orland Park, Illinois</td>\n",
       "      <td>NaN</td>\n",
       "      <td>US</td>\n",
       "      <td>(708) 873-3747</td>\n",
       "      <td>False</td>\n",
       "      <td>...</td>\n",
       "      <td>Manor Homes</td>\n",
       "      <td>manor-homes</td>\n",
       "      <td>US</td>\n",
       "      <td>United States</td>\n",
       "      <td>-87.843649</td>\n",
       "      <td>41.618551</td>\n",
       "      <td>NaN</td>\n",
       "      <td>the-cheesecake-factory</td>\n",
       "      <td>http://locations.thecheesecakefactory.com/il/o...</td>\n",
       "      <td>2019-05-29 01:21:13.404</td>\n",
       "    </tr>\n",
       "    <tr>\n",
       "      <th>1022656</th>\n",
       "      <td>719979</td>\n",
       "      <td>286794844</td>\n",
       "      <td>Plimmer Towers</td>\n",
       "      <td>2 Gilmer Terrace</td>\n",
       "      <td>NaN</td>\n",
       "      <td>Wellington, New Zealand</td>\n",
       "      <td>NaN</td>\n",
       "      <td>NZ</td>\n",
       "      <td>NaN</td>\n",
       "      <td>False</td>\n",
       "      <td>...</td>\n",
       "      <td>NaN</td>\n",
       "      <td>NaN</td>\n",
       "      <td>NaN</td>\n",
       "      <td>NaN</td>\n",
       "      <td>174.775000</td>\n",
       "      <td>-41.285800</td>\n",
       "      <td>NaN</td>\n",
       "      <td>plimmer-towers</td>\n",
       "      <td>NaN</td>\n",
       "      <td>2019-05-29 01:21:21.628</td>\n",
       "    </tr>\n",
       "    <tr>\n",
       "      <th>1022657</th>\n",
       "      <td>720678</td>\n",
       "      <td>554330673</td>\n",
       "      <td>Старые Бирюли</td>\n",
       "      <td>Северная улица</td>\n",
       "      <td>NaN</td>\n",
       "      <td>NaN</td>\n",
       "      <td>NaN</td>\n",
       "      <td>NaN</td>\n",
       "      <td>NaN</td>\n",
       "      <td>False</td>\n",
       "      <td>...</td>\n",
       "      <td>NaN</td>\n",
       "      <td>NaN</td>\n",
       "      <td>NaN</td>\n",
       "      <td>NaN</td>\n",
       "      <td>49.444430</td>\n",
       "      <td>55.979180</td>\n",
       "      <td>NaN</td>\n",
       "      <td>NaN</td>\n",
       "      <td>NaN</td>\n",
       "      <td>2019-05-29 02:07:00.772</td>\n",
       "    </tr>\n",
       "  </tbody>\n",
       "</table>\n",
       "<p>1022658 rows × 23 columns</p>\n",
       "</div>"
      ],
      "text/plain": [
       "            sid                id  \\\n",
       "0        719981   110296492939207   \n",
       "1        719983         274391278   \n",
       "2        719985   148885595789195   \n",
       "3        719987         263258277   \n",
       "4        326443   406147529857708   \n",
       "...         ...               ...   \n",
       "1022653  719973   873926439475785   \n",
       "1022654  719975         390707529   \n",
       "1022655  719977  1205466612894741   \n",
       "1022656  719979         286794844   \n",
       "1022657  720678         554330673   \n",
       "\n",
       "                                                      name  \\\n",
       "0                       Playa de Daimuz - Valencia, España   \n",
       "1                                              Nová Vieska   \n",
       "2                                            Everest Today   \n",
       "3        BULAC - Bibliothèque universitaire des langues...   \n",
       "4                                 ABC Cable Networks Group   \n",
       "...                                                    ...   \n",
       "1022653                                        Baby Season   \n",
       "1022654                                     Cueva Carvajal   \n",
       "1022655                             The Cheesecake Factory   \n",
       "1022656                                     Plimmer Towers   \n",
       "1022657                                      Старые Бирюли   \n",
       "\n",
       "                             street    zip                              city  \\\n",
       "0                               NaN    NaN                               NaN   \n",
       "1                               NaN    NaN                       Nová Vieska   \n",
       "2                         Himalayas   +977                  Kathmandu, Nepal   \n",
       "3        65, rue des Grands-Moulins  75013                     Paris, France   \n",
       "4                3800 W Alameda Ave  91505               Burbank, California   \n",
       "...                             ...    ...                               ...   \n",
       "1022653    Suarez de Figueroa # 380    NaN  Santa Cruz de la Sierra, Bolivia   \n",
       "1022654                         NaN    NaN                               NaN   \n",
       "1022655        304 Orland Square Dr  60462             Orland Park, Illinois   \n",
       "1022656            2 Gilmer Terrace    NaN           Wellington, New Zealand   \n",
       "1022657              Северная улица    NaN                               NaN   \n",
       "\n",
       "        region   cd             phone aj_exact_city_match  ...  \\\n",
       "0          NaN  NaN               NaN               False  ...   \n",
       "1          NaN   SK               NaN                True  ...   \n",
       "2          NaN   NP               NaN               False  ...   \n",
       "3          NaN   FR    01 81 69 18 00               False  ...   \n",
       "4          NaN   US    (818) 569-7500               False  ...   \n",
       "...        ...  ...               ...                 ...  ...   \n",
       "1022653    NaN   BO          69118383               False  ...   \n",
       "1022654    NaN  NaN  +52 81 2089 7776                 NaN  ...   \n",
       "1022655    NaN   US    (708) 873-3747               False  ...   \n",
       "1022656    NaN   NZ               NaN               False  ...   \n",
       "1022657    NaN  NaN               NaN               False  ...   \n",
       "\n",
       "                      dir_city_name               dir_city_slug  \\\n",
       "0                               NaN                         NaN   \n",
       "1                        Kis-Újfalu                  kis-ujfalu   \n",
       "2                          Pasupati                    pasupati   \n",
       "3        13ème Arrondissement Paris  13eme-arrondissement-paris   \n",
       "4                               NaN                         NaN   \n",
       "...                             ...                         ...   \n",
       "1022653     Santa Cruz de la Sierra     santa-cruz-de-la-sierra   \n",
       "1022654                         NaN                         NaN   \n",
       "1022655                 Manor Homes                 manor-homes   \n",
       "1022656                         NaN                         NaN   \n",
       "1022657                         NaN                         NaN   \n",
       "\n",
       "        dir_country_id dir_country_name         lat        lng  \\\n",
       "0                  NaN              NaN   -0.139475  38.974391   \n",
       "1                   SK         Slovakia   18.466667  47.866667   \n",
       "2                   NP            Nepal   85.330150  27.701960   \n",
       "3                   FR           France    2.375995  48.827240   \n",
       "4                  NaN              NaN -118.341864  34.153265   \n",
       "...                ...              ...         ...        ...   \n",
       "1022653             BO          Bolivia  -63.185307 -17.786130   \n",
       "1022654            NaN              NaN -100.359619  25.653550   \n",
       "1022655             US    United States  -87.843649  41.618551   \n",
       "1022656            NaN              NaN  174.775000 -41.285800   \n",
       "1022657            NaN              NaN   49.444430  55.979180   \n",
       "\n",
       "          primary_alias_on_fb  \\\n",
       "0                 daimuzplaya   \n",
       "1                         NaN   \n",
       "2                EverestToday   \n",
       "3                 BULAC.Paris   \n",
       "4                         NaN   \n",
       "...                       ...   \n",
       "1022653        babyseason.srl   \n",
       "1022654  CuevaCarvajalBrewPub   \n",
       "1022655                   NaN   \n",
       "1022656                   NaN   \n",
       "1022657                   NaN   \n",
       "\n",
       "                                                      slug  \\\n",
       "0                          playa-de-daimuz-valencia-espana   \n",
       "1                                              nova-vieska   \n",
       "2                                            everest-today   \n",
       "3        bulac-bibliotheque-universitaire-des-langues-e...   \n",
       "4                                 abc-cable-networks-group   \n",
       "...                                                    ...   \n",
       "1022653                                        baby-season   \n",
       "1022654                                     cueva-carvajal   \n",
       "1022655                             the-cheesecake-factory   \n",
       "1022656                                     plimmer-towers   \n",
       "1022657                                                NaN   \n",
       "\n",
       "                                                   website  \\\n",
       "0                     https://es.wikipedia.org/wiki/Daimuz   \n",
       "1                                                      NaN   \n",
       "2                                                      NaN   \n",
       "3                                             www.bulac.fr   \n",
       "4                                                      NaN   \n",
       "...                                                    ...   \n",
       "1022653                                                NaN   \n",
       "1022654                        http://www.cuevacarvajal.mx   \n",
       "1022655  http://locations.thecheesecakefactory.com/il/o...   \n",
       "1022656                                                NaN   \n",
       "1022657                                                NaN   \n",
       "\n",
       "                             cts  \n",
       "0        2019-05-29 01:21:29.987  \n",
       "1        2019-05-29 01:21:38.037  \n",
       "2        2019-05-29 01:21:46.295  \n",
       "3        2019-05-29 01:21:54.355  \n",
       "4        2019-04-02 15:22:55.703  \n",
       "...                          ...  \n",
       "1022653  2019-05-29 01:20:57.078  \n",
       "1022654  2019-05-29 01:21:04.434  \n",
       "1022655  2019-05-29 01:21:13.404  \n",
       "1022656  2019-05-29 01:21:21.628  \n",
       "1022657  2019-05-29 02:07:00.772  \n",
       "\n",
       "[1022658 rows x 23 columns]"
      ]
     },
     "execution_count": 110,
     "metadata": {},
     "output_type": "execute_result"
    }
   ],
   "source": [
    "data2"
   ]
  },
  {
   "cell_type": "code",
   "execution_count": 46,
   "metadata": {},
   "outputs": [],
   "source": [
    "\n",
    "flo['profile_id'][0]\n",
    "no=data1[data1['profile_id']==flo['profile_id'][0]]\n",
    "no=no.reset_index()\n",
    "a=0\n",
    "b=0\n",
    "c=0\n",
    "\n",
    "for i in range(len(no)):\n",
    "    if no['post_type'][i]==1:\n",
    "        a=a+1\n",
    "    if no['post_type'][i]==2:\n",
    "        b=b+1\n",
    "    if no['post_type'][i]==3:\n",
    "        c=c+1\n"
   ]
  },
  {
   "cell_type": "markdown",
   "metadata": {},
   "source": [
    "Image"
   ]
  },
  {
   "cell_type": "code",
   "execution_count": 47,
   "metadata": {},
   "outputs": [
    {
     "data": {
      "image/png": "[encoded data removed]",
      "text/plain": [
       "<Figure size 432x432 with 1 Axes>"
      ]
     },
     "metadata": {},
     "output_type": "display_data"
    }
   ],
   "source": [
    "plt.figure(figsize=(6,6))\n",
    "label=['PICTURE','VIDEO','MULTY']\n",
    "explode=[0.01,0.01,0.01]\n",
    "values=[a,b,c]\n",
    "plt.pie(values,explode=explode,labels=label,autopct='%1.1f%%')#绘制饼图\n",
    "plt.title('pie charts')\n",
    "plt.show()\n"
   ]
  },
  {
   "cell_type": "markdown",
   "metadata": {},
   "source": [
    "It can be seen that the proportion of pure pictures occupies 91.2%, indicating that  people like to post pictures, and there are neither of them"
   ]
  },
  {
   "cell_type": "code",
   "execution_count": 53,
   "metadata": {},
   "outputs": [
    {
     "name": "stdout",
     "output_type": "stream",
     "text": [
      "905933.4516129033 593409.6666666666 nan 6703.290322580645 5749.333333333333 nan\n",
      "285457645.0\n"
     ]
    },
    {
     "name": "stderr",
     "output_type": "stream",
     "text": [
      "D:\\anaconda\\lib\\site-packages\\numpy\\core\\fromnumeric.py:3440: RuntimeWarning: Mean of empty slice.\n",
      "  return _methods._mean(a, axis=axis, dtype=dtype,\n",
      "D:\\anaconda\\lib\\site-packages\\numpy\\core\\_methods.py:189: RuntimeWarning: invalid value encountered in double_scalars\n",
      "  ret = ret.dtype.type(ret / rcount)\n"
     ]
    }
   ],
   "source": [
    "from numpy import *\n",
    "like1=[]\n",
    "like2=[]\n",
    "like3=[]\n",
    "comment1=[]\n",
    "comment2=[]\n",
    "comment3=[]\n",
    "for i in range(len(no)):\n",
    "    if no['post_type'][i]==1:\n",
    "        like1.append(no['numbr_likes'][i])\n",
    "        comment1.append(no['number_comments'][i])\n",
    "    if no['post_type'][i]==2:\n",
    "        like2.append(no['numbr_likes'][i])\n",
    "        comment2.append(no['number_comments'][i])\n",
    "    if no['post_type'][i]==3:\n",
    "        ike3.append(no['numbr_likes'][i])\n",
    "        comment3.append(no['number_comments'][i])\n",
    "like1=mean(like1)\n",
    "like2=mean(like2)\n",
    "like3=mean(like3)\n",
    "comment1=mean(comment1)\n",
    "comment2=mean(comment2)\n",
    "comment3=mean(comment3)\n",
    "print(like1,like2,like3,comment1,comment2,comment3)\n",
    "print(flo['followers'][0])"
   ]
  },
  {
   "cell_type": "markdown",
   "metadata": {},
   "source": [
    "His 285457645 followers, with less than three-thousandths of the likes on each post, indicate that the fans may not be genuine"
   ]
  },
  {
   "cell_type": "markdown",
   "metadata": {},
   "source": [
    "Images with an average of 905933 likes and 6703 comments, while videos have an average of 593409 likes and 5749 comments, you can see that images are more clickable"
   ]
  },
  {
   "cell_type": "markdown",
   "metadata": {},
   "source": [
    "# RQ6"
   ]
  },
  {
   "cell_type": "markdown",
   "metadata": {},
   "source": [
    "1. What is the average time (days and minutes) a user lets pass before publishing another post? Plot the top 3 users that publish posts more frequently (calculate the average time that passes between posts), including their amount of followers and following. Provide insights from that chart."
   ]
  },
  {
   "cell_type": "code",
   "execution_count": 5,
   "metadata": {},
   "outputs": [],
   "source": [
    "profiles_info = profiles[['profile_id','profile_name','following','followers']]\n",
    "profiles_info = profiles_info.dropna() \n",
    "posts_info = pd.read_csv('~/instagram_posts.csv', delimiter='\\t', usecols=['profile_id','cts'])\n",
    "posts_info = posts_info.dropna()  \n",
    "joined_df = pd.merge(profiles_info,posts_info) # join dataframes of interest\n",
    "joined_df = joined_df.dropna() "
   ]
  },
  {
   "cell_type": "code",
   "execution_count": 6,
   "metadata": {},
   "outputs": [],
   "source": [
    "def average_time_between_posts(posts_time):\n",
    "    '''\n",
    "    This function computers the average time (in days and minutes) a user lets pass before publishing another post.\n",
    "    Through the use of a dictionary, it associates to each subject his post publication time.\n",
    "    At first, it determinate the average time a single lets pass before publishing another post (so the number of posts must be greater \n",
    "    than one) by calculating the difference between the dates. Then, it determinate the total average for all profiles.\n",
    "    It returns a dictionary which associates to each profile its average time and the total time average in seconds.\n",
    "    '''\n",
    "    dic_of_times = {} \n",
    "    for l in posts_time:\n",
    "        subj,time = l[0],l[1]\n",
    "        if subj in dic_of_times:\n",
    "            dic_of_times[subj].append(time)\n",
    "        else:\n",
    "            dic_of_times[subj] = [time]\n",
    "\n",
    "    dic_of_averages = {}\n",
    "    for subj,times in dic_of_times.items():\n",
    "        l= []\n",
    "        times = sorted(times,reverse=True)\n",
    "        if len(times) > 1:\n",
    "            for i in range(len(times)-1):\n",
    "                diff = times[i] - times[i+1]\n",
    "                duration_in_s = diff.total_seconds()\n",
    "                l.append(duration_in_s)\n",
    "            dic_of_averages[subj] = np.average(l)\n",
    "            \n",
    "    list_of_averages = list(map(int,dic_of_averages.values()))\n",
    "    total_average = np.average(list_of_averages)\n",
    "\n",
    "    return dic_of_averages,total_average"
   ]
  },
  {
   "cell_type": "code",
   "execution_count": 7,
   "metadata": {},
   "outputs": [
    {
     "name": "stdout",
     "output_type": "stream",
     "text": [
      "The average time (in days) a user lets pass before publishing another post is: 24\n",
      "The average time (in minutes) a user lets pass before publishing another post is: 624\n"
     ]
    }
   ],
   "source": [
    "joined_df.cts = pd.to_datetime(joined_df.cts) # convert argument to datetime in order to can calculate difference\n",
    "\n",
    "posts_time = joined_df[['profile_name','cts']].to_numpy() # convert the dataframe to a numpy array to facilitate access\n",
    "     \n",
    "dic_of_averages, total_average = average_time_between_posts(posts_time)\n",
    "days = int(total_average/86400) # total average in days\n",
    "minutes= int(((total_average/86400)%1)*1440) # total average in minutes\n",
    "\n",
    "print('The average time (in days) a user lets pass before publishing another post is: ' + str(days))\n",
    "print('The average time (in minutes) a user lets pass before publishing another post is: ' + str(minutes))"
   ]
  },
  {
   "cell_type": "code",
   "execution_count": 8,
   "metadata": {},
   "outputs": [
    {
     "name": "stdout",
     "output_type": "stream",
     "text": [
      "radilyubenmorris\n",
      "bodied_by_vinny\n",
      "whoareyou10111\n"
     ]
    }
   ],
   "source": [
    "sorted_averages = sorted(dic_of_averages.items(), key=lambda item: item[1]) # sort averages\n",
    "# top 3 users profile_name\n",
    "print(sorted_averages[0][0])\n",
    "print(sorted_averages[1][0])\n",
    "print(sorted_averages[2][0])"
   ]
  },
  {
   "cell_type": "code",
   "execution_count": 9,
   "metadata": {},
   "outputs": [
    {
     "data": {
      "text/plain": [
       "Text(0, 0.5, 'Number of followers')"
      ]
     },
     "execution_count": 9,
     "metadata": {},
     "output_type": "execute_result"
    },
    {
     "data": {
      "image/png": "[encoded data removed]",
      "text/plain": [
       "<Figure size 432x288 with 1 Axes>"
      ]
     },
     "metadata": {
      "needs_background": "light"
     },
     "output_type": "display_data"
    }
   ],
   "source": [
    "top1 = profiles_info[profiles_info['profile_name'] == sorted_averages[0][0]] \n",
    "top2 = profiles_info[profiles_info['profile_name'] == sorted_averages[1][0]]\n",
    "top3 = profiles_info[profiles_info['profile_name'] == sorted_averages[2][0]]\n",
    "\n",
    "plt.scatter(x = profiles['following'], y =profiles['followers'])\n",
    "plt.scatter(x = top1['following'], y = top1['followers'], c = 'green')\n",
    "plt.scatter(x = top2['following'], y = top2['followers'], c = 'yellow')\n",
    "plt.scatter(x = top3['following'], y = top3['followers'], c = 'red')\n",
    "\n",
    "plt.xlabel('Number of following')\n",
    "plt.ylabel('Number of followers')\n"
   ]
  },
  {
   "cell_type": "markdown",
   "metadata": {},
   "source": [
    "We can conclude that there is no correlation between average time between posts and number of following/followers of a profile. In fact, the 3 top profiles have very few followers and following even if they publish very often."
   ]
  },
  {
   "cell_type": "markdown",
   "metadata": {},
   "source": [
    "2. Using the function you previously coded, plot the time intervals with the highest average number of “likes” and the ones with the highest average number of comments on posts."
   ]
  },
  {
   "cell_type": "code",
   "execution_count": null,
   "metadata": {},
   "outputs": [],
   "source": [
    "posts_likes_comments = pd.read_csv('~/instagram_posts.csv', delimiter='\\t', usecols=['cts','numbr_likes','number_comments'])\n",
    "posts_likes_comments = posts_likes_comments.dropna() \n",
    "posts_likes_comments.cts = pd.to_datetime(posts_likes_comments.cts) # convert argument to datetime \n",
    "posts_likes_comments['time'] = posts_likes_comments.cts.dt.strftime('%H:%M:%S') # select the time"
   ]
  },
  {
   "cell_type": "code",
   "execution_count": 3,
   "metadata": {},
   "outputs": [],
   "source": [
    "# convert the dataframes to a numpy array to facilitate access\n",
    "posts_likes = posts_likes_comments[['time','numbr_likes']].to_numpy() \n",
    "posts_comments = posts_likes_comments[['time', 'number_comments']].to_numpy()"
   ]
  },
  {
   "cell_type": "code",
   "execution_count": 6,
   "metadata": {},
   "outputs": [],
   "source": [
    "def average_number_for_each_time_interval(lis, posts):\n",
    "    '''\n",
    "    This function computes the average number of the input values and associates it with the corresponding time interval.\n",
    "    It returns a dictionary of averages.\n",
    "    '''\n",
    "    n = len(lis)    \n",
    "    dic = {}\n",
    "    for i in range(n):\n",
    "        label = lis[i][0]+'-'+ lis[i][1]\n",
    "        for l in posts:\n",
    "            t,num = l[0],l[1]\n",
    "            start, end = lis[i]\n",
    "            if start <= t <= end:\n",
    "                if label in dic:\n",
    "                    dic[label].append(num) \n",
    "                else:\n",
    "                    dic[label] = [num]\n",
    "                    \n",
    "        \n",
    "    dic_of_averages = {}\n",
    "    for label,values in dic.items():\n",
    "        dic_of_averages[label] = np.average(values)\n",
    "      \n",
    "    return dic_of_averages"
   ]
  },
  {
   "cell_type": "code",
   "execution_count": 8,
   "metadata": {},
   "outputs": [
    {
     "data": {
      "image/png": "[encoded data removed]",
      "text/plain": [
       "<Figure size 1080x360 with 1 Axes>"
      ]
     },
     "metadata": {
      "needs_background": "light"
     },
     "output_type": "display_data"
    }
   ],
   "source": [
    "#Plot the time intervals with the highest average number of “likes” \n",
    "time_intervals = [('06:00:00','10:59:59'),('11:00:00','13:59:59'), ('14:00:00','16:59:59'), ('17:00:00','19:59:59'),\n",
    "         ('20:00:00', '23:59:59'),('00:00:00', '02:59:59'), ('03:00:00','05:59:59')]\n",
    "dic_of_averages = average_number_for_each_time_interval(time_intervals, posts_likes)\n",
    "\n",
    "plt.figure(figsize=(15,5))\n",
    "x = range(len(time_intervals))\n",
    "plt.xticks(x, dic_of_averages.keys(), rotation=50)\n",
    "plt.bar(x, dic_of_averages.values(), width = 0.4)\n",
    "plt.xlabel('Time intervals')\n",
    "plt.ylabel('Average number of likes')\n",
    "plt.title('Average number of likes for each time interval')\n",
    "plt.show()"
   ]
  },
  {
   "cell_type": "code",
   "execution_count": 9,
   "metadata": {},
   "outputs": [
    {
     "data": {
      "image/png": "[encoded data removed]",
      "text/plain": [
       "<Figure size 1080x360 with 1 Axes>"
      ]
     },
     "metadata": {
      "needs_background": "light"
     },
     "output_type": "display_data"
    }
   ],
   "source": [
    "#Plot the time intervals with the highest average number of comments on posts.\n",
    "dic_of_averages = average_number_for_each_time_interval(time_intervals, posts_comments)\n",
    "\n",
    "plt.figure(figsize=(15,5))\n",
    "x = range(len(time_intervals))\n",
    "plt.xticks(x, dic_of_averages.keys(), rotation=50)\n",
    "plt.bar(x, dic_of_averages.values(), width = 0.4)\n",
    "plt.xlabel('Time intervals')\n",
    "plt.ylabel('Average number of comments')\n",
    "plt.title('Average number of comments for each time interval')\n",
    "plt.show()"
   ]
  },
  {
   "cell_type": "markdown",
   "metadata": {},
   "source": [
    "# RQ7"
   ]
  },
  {
   "cell_type": "markdown",
   "metadata": {},
   "source": [
    "1. What's the probability that a post receives more than 20% \"likes\" of the number of followers a user has?"
   ]
  },
  {
   "cell_type": "code",
   "execution_count": 3,
   "metadata": {},
   "outputs": [],
   "source": [
    "profiles = pd.read_csv('instagram_profiles.csv', delimiter='\\t',usecols=['followers','profile_id'])\n",
    "profiles['profile_id'].dropna(inplace=True)"
   ]
  },
  {
   "cell_type": "code",
   "execution_count": 4,
   "metadata": {},
   "outputs": [],
   "source": [
    "posts=pd.read_csv('instagram_posts.csv',usecols=['numbr_likes','profile_id'], delimiter='\\t')\n",
    "posts.dropna(inplace=True)"
   ]
  },
  {
   "cell_type": "code",
   "execution_count": 5,
   "metadata": {},
   "outputs": [],
   "source": [
    "merged=pd.merge(posts,profiles, on='profile_id')"
   ]
  },
  {
   "cell_type": "code",
   "execution_count": 6,
   "metadata": {},
   "outputs": [
    {
     "data": {
      "text/plain": [
       "0.15443202404170936"
      ]
     },
     "execution_count": 6,
     "metadata": {},
     "output_type": "execute_result"
    }
   ],
   "source": [
    "p=merged[merged['numbr_likes']>0.2*merged['followers']].profile_id.count()/len(merged)\n",
    "p"
   ]
  },
  {
   "cell_type": "markdown",
   "metadata": {},
   "source": [
    "The probability that a post receives more than 20% \"likes\" of the number of followers a user has it's ~15.5%."
   ]
  },
  {
   "cell_type": "markdown",
   "metadata": {},
   "source": [
    "2. Do users usually return to locations? Extract the probability that a user returns to a site after having posted it in the past. Does that probability make sense to you? Explain why or why not."
   ]
  },
  {
   "cell_type": "code",
   "execution_count": 7,
   "metadata": {},
   "outputs": [],
   "source": [
    "posts=pd.read_csv('instagram_posts.csv',usecols=['location_id','profile_id','post_id'], delimiter='\\t')\n",
    "posts.dropna(inplace=True)"
   ]
  },
  {
   "cell_type": "code",
   "execution_count": 8,
   "metadata": {},
   "outputs": [],
   "source": [
    "loc=posts.groupby(['location_id','profile_id']).count()"
   ]
  },
  {
   "cell_type": "code",
   "execution_count": 9,
   "metadata": {},
   "outputs": [
    {
     "data": {
      "text/plain": [
       "post_id    0.261405\n",
       "dtype: float64"
      ]
     },
     "execution_count": 9,
     "metadata": {},
     "output_type": "execute_result"
    }
   ],
   "source": [
    "p=loc[loc['post_id']>1].count()/len(posts['profile_id'].unique())\n",
    "p"
   ]
  },
  {
   "cell_type": "markdown",
   "metadata": {},
   "source": [
    "Usually users doesn't return to locations, it happens with ~ 26% probability and doesn't really make sense. A user can get back to a place he/she visited and not necessarily post again the location."
   ]
  },
  {
   "cell_type": "markdown",
   "metadata": {},
   "source": [
    "# RQ8"
   ]
  },
  {
   "cell_type": "markdown",
   "metadata": {},
   "source": [
    "1. Does more “likes” also mean more comments? Plot a scatter plot of “likes” vs comments for posts.\n"
   ]
  },
  {
   "cell_type": "code",
   "execution_count": 10,
   "metadata": {},
   "outputs": [],
   "source": [
    "posts=pd.read_csv('instagram_posts.csv',usecols=['numbr_likes','number_comments'], delimiter='\\t')"
   ]
  },
  {
   "cell_type": "code",
   "execution_count": 12,
   "metadata": {},
   "outputs": [
    {
     "name": "stderr",
     "output_type": "stream",
     "text": [
      "\n",
      "KeyboardInterrupt\n",
      "\n"
     ]
    }
   ],
   "source": [
    "plt.scatter(posts['numbr_likes'],posts['number_comments'], c=np.random.rand(42710197), alpha=0.5)\n",
    "plt.show()"
   ]
  },
  {
   "cell_type": "code",
   "execution_count": null,
   "metadata": {},
   "outputs": [],
   "source": []
  },
  {
   "cell_type": "code",
   "execution_count": null,
   "metadata": {},
   "outputs": [],
   "source": []
  },
  {
   "cell_type": "code",
   "execution_count": null,
   "metadata": {},
   "outputs": [],
   "source": []
  },
  {
   "cell_type": "markdown",
   "metadata": {},
   "source": [
    "2. Can you find any significant relationship between the time a user publishes a post and the number of comments and “likes”? Use an appropriate statistical test or technique and support your choice.\n"
   ]
  },
  {
   "cell_type": "code",
   "execution_count": null,
   "metadata": {},
   "outputs": [],
   "source": []
  },
  {
   "cell_type": "markdown",
   "metadata": {},
   "source": [
    "3. What’s the distribution of followers? Plot the empirical distribution of followers amongst all users and extract the mean, mode, and quantiles. Interpret those figures.\n"
   ]
  },
  {
   "cell_type": "code",
   "execution_count": null,
   "metadata": {},
   "outputs": [],
   "source": []
  },
  {
   "cell_type": "markdown",
   "metadata": {},
   "source": [
    "4. What are histograms, bar plots, scatterplots and pie charts used for?\n",
    "\n"
   ]
  },
  {
   "cell_type": "code",
   "execution_count": null,
   "metadata": {},
   "outputs": [],
   "source": []
  },
  {
   "cell_type": "markdown",
   "metadata": {},
   "source": [
    "5. What insights can you extract from a Box Plot?"
   ]
  },
  {
   "cell_type": "code",
   "execution_count": null,
   "metadata": {},
   "outputs": [],
   "source": []
  },
  {
   "cell_type": "markdown",
   "metadata": {},
   "source": [
    "##### BONUS A"
   ]
  },
  {
   "cell_type": "code",
   "execution_count": 1,
   "metadata": {},
   "outputs": [],
   "source": [
    "import  pandas as pd\n",
    "import matplotlib.pyplot as plt\n",
    "import numpy as np "
   ]
  },
  {
   "cell_type": "code",
   "execution_count": 2,
   "metadata": {},
   "outputs": [],
   "source": [
    "data = pd.read_csv('/Users/emma/Desktop/Data/instagram_profiles.csv', sep='\\t',nrows=10000)"
   ]
  },
  {
   "cell_type": "code",
   "execution_count": 3,
   "metadata": {},
   "outputs": [
    {
     "name": "stdout",
     "output_type": "stream",
     "text": [
      "<class 'numpy.float64'>\n"
     ]
    },
    {
     "data": {
      "text/html": [
       "<div>\n",
       "<style scoped>\n",
       "    .dataframe tbody tr th:only-of-type {\n",
       "        vertical-align: middle;\n",
       "    }\n",
       "\n",
       "    .dataframe tbody tr th {\n",
       "        vertical-align: top;\n",
       "    }\n",
       "\n",
       "    .dataframe thead th {\n",
       "        text-align: right;\n",
       "    }\n",
       "</style>\n",
       "<table border=\"1\" class=\"dataframe\">\n",
       "  <thead>\n",
       "    <tr style=\"text-align: right;\">\n",
       "      <th></th>\n",
       "      <th>index</th>\n",
       "      <th>sid</th>\n",
       "      <th>profile_id</th>\n",
       "      <th>profile_name</th>\n",
       "      <th>firstname_lastname</th>\n",
       "      <th>description</th>\n",
       "      <th>following</th>\n",
       "      <th>followers</th>\n",
       "      <th>n_posts</th>\n",
       "      <th>url</th>\n",
       "      <th>cts</th>\n",
       "      <th>is_business_account</th>\n",
       "    </tr>\n",
       "  </thead>\n",
       "  <tbody>\n",
       "    <tr>\n",
       "      <th>0</th>\n",
       "      <td>5424</td>\n",
       "      <td>4190972</td>\n",
       "      <td>29875130</td>\n",
       "      <td>izzueislam</td>\n",
       "      <td>Izzue Islam</td>\n",
       "      <td>☎️: +60129111241 @awinnurin\\n📧: iianenterprise...</td>\n",
       "      <td>179.0</td>\n",
       "      <td>2793338.0</td>\n",
       "      <td>5289.0</td>\n",
       "      <td>youtube.com/izzueislamtv</td>\n",
       "      <td>2019-08-01 21:20:58.700 -0400</td>\n",
       "      <td>False</td>\n",
       "    </tr>\n",
       "    <tr>\n",
       "      <th>1</th>\n",
       "      <td>9553</td>\n",
       "      <td>4195046</td>\n",
       "      <td>1319369724</td>\n",
       "      <td>mrs.druzhinina</td>\n",
       "      <td>🏆САМАЯ ТОПОВАЯ ИНСТА-МАМА</td>\n",
       "      <td>Ирина Дружинина \\n🌿О МАТЕРИНСТВЕ и не только\\n...</td>\n",
       "      <td>135.0</td>\n",
       "      <td>1990775.0</td>\n",
       "      <td>1093.0</td>\n",
       "      <td>www.i-druzhinina.com</td>\n",
       "      <td>2019-08-02 02:33:33.239 -0400</td>\n",
       "      <td>True</td>\n",
       "    </tr>\n",
       "    <tr>\n",
       "      <th>2</th>\n",
       "      <td>9551</td>\n",
       "      <td>4195072</td>\n",
       "      <td>311156678</td>\n",
       "      <td>jadsejadson</td>\n",
       "      <td>Jads &amp; Jadson</td>\n",
       "      <td>A dupla mais SERTANEJA do País! \\nShows com @n...</td>\n",
       "      <td>447.0</td>\n",
       "      <td>1658275.0</td>\n",
       "      <td>2739.0</td>\n",
       "      <td>www.youtube.com/watch?v=trK0YxtC3c8&amp;feature=yo...</td>\n",
       "      <td>2019-08-02 02:35:47.050 -0400</td>\n",
       "      <td>True</td>\n",
       "    </tr>\n",
       "    <tr>\n",
       "      <th>3</th>\n",
       "      <td>9549</td>\n",
       "      <td>4195063</td>\n",
       "      <td>332701752</td>\n",
       "      <td>barbara.labres</td>\n",
       "      <td>Bárbara Labres</td>\n",
       "      <td>Dj 🎧🎙\\nContato: assessoria@barbaralabres.com.b...</td>\n",
       "      <td>315.0</td>\n",
       "      <td>1159690.0</td>\n",
       "      <td>630.0</td>\n",
       "      <td>www.youtube.com/channel/UC21hbQfYStwFPV30IX1AOZA</td>\n",
       "      <td>2019-08-02 02:35:11.517 -0400</td>\n",
       "      <td>False</td>\n",
       "    </tr>\n",
       "    <tr>\n",
       "      <th>4</th>\n",
       "      <td>896</td>\n",
       "      <td>4185356</td>\n",
       "      <td>790343516</td>\n",
       "      <td>kikkafede88</td>\n",
       "      <td>Federica Pellegrini</td>\n",
       "      <td>Olympic.World.European.Champion. WR 200free.🏊🏻...</td>\n",
       "      <td>590.0</td>\n",
       "      <td>1043584.0</td>\n",
       "      <td>2189.0</td>\n",
       "      <td>tv8.it/streaming.html</td>\n",
       "      <td>2019-08-01 15:44:46.301 -0400</td>\n",
       "      <td>False</td>\n",
       "    </tr>\n",
       "    <tr>\n",
       "      <th>...</th>\n",
       "      <td>...</td>\n",
       "      <td>...</td>\n",
       "      <td>...</td>\n",
       "      <td>...</td>\n",
       "      <td>...</td>\n",
       "      <td>...</td>\n",
       "      <td>...</td>\n",
       "      <td>...</td>\n",
       "      <td>...</td>\n",
       "      <td>...</td>\n",
       "      <td>...</td>\n",
       "      <td>...</td>\n",
       "    </tr>\n",
       "    <tr>\n",
       "      <th>2152</th>\n",
       "      <td>1195</td>\n",
       "      <td>4185643</td>\n",
       "      <td>10492989816</td>\n",
       "      <td>bandofrunnersuk</td>\n",
       "      <td>Martyn Glover</td>\n",
       "      <td>BSc Hons Sport and Exercise Science\\nUK Athlet...</td>\n",
       "      <td>19.0</td>\n",
       "      <td>27.0</td>\n",
       "      <td>13.0</td>\n",
       "      <td>www.bandofrunners.co.uk</td>\n",
       "      <td>2019-08-01 16:06:00.922 -0400</td>\n",
       "      <td>True</td>\n",
       "    </tr>\n",
       "    <tr>\n",
       "      <th>2153</th>\n",
       "      <td>5519</td>\n",
       "      <td>4191058</td>\n",
       "      <td>13060431175</td>\n",
       "      <td>ideacomunefumane</td>\n",
       "      <td>Idea Comune Fumane</td>\n",
       "      <td>Lista Civica per Fumane\\n“Un territorio amato ...</td>\n",
       "      <td>14.0</td>\n",
       "      <td>27.0</td>\n",
       "      <td>7.0</td>\n",
       "      <td>www.ideacomunefumane.it</td>\n",
       "      <td>2019-08-01 21:28:31.515 -0400</td>\n",
       "      <td>True</td>\n",
       "    </tr>\n",
       "    <tr>\n",
       "      <th>2154</th>\n",
       "      <td>7123</td>\n",
       "      <td>4192667</td>\n",
       "      <td>1208887142</td>\n",
       "      <td>bartezfs</td>\n",
       "      <td>Ilya  Bartez</td>\n",
       "      <td>Монтажоп\\nВсё остальное интересное по ссылке в...</td>\n",
       "      <td>16.0</td>\n",
       "      <td>25.0</td>\n",
       "      <td>38.0</td>\n",
       "      <td>linktr.ee/bartezfs</td>\n",
       "      <td>2019-08-01 23:26:32.546 -0400</td>\n",
       "      <td>False</td>\n",
       "    </tr>\n",
       "    <tr>\n",
       "      <th>2155</th>\n",
       "      <td>1495</td>\n",
       "      <td>4185941</td>\n",
       "      <td>5738244028</td>\n",
       "      <td>a_barutkin</td>\n",
       "      <td>ПРИРОДА🌲ПРОГУЛКИ🚶‍♂️ПИТЕР☔</td>\n",
       "      <td>Андрей\\nЯ из Санкт-Петербурга⚓🌦️\\nЛюблю живопи...</td>\n",
       "      <td>33.0</td>\n",
       "      <td>22.0</td>\n",
       "      <td>590.0</td>\n",
       "      <td>vk.com/madonnafan</td>\n",
       "      <td>2019-08-01 16:26:41.489 -0400</td>\n",
       "      <td>False</td>\n",
       "    </tr>\n",
       "    <tr>\n",
       "      <th>2156</th>\n",
       "      <td>5363</td>\n",
       "      <td>4190946</td>\n",
       "      <td>12794955593</td>\n",
       "      <td>pluviophile.isme</td>\n",
       "      <td>pluviophile</td>\n",
       "      <td>I know how depressed you are...\\nCome here and...</td>\n",
       "      <td>4.0</td>\n",
       "      <td>1.0</td>\n",
       "      <td>18.0</td>\n",
       "      <td>epluviophile.wordpress.com</td>\n",
       "      <td>2019-08-01 21:18:15.443 -0400</td>\n",
       "      <td>True</td>\n",
       "    </tr>\n",
       "  </tbody>\n",
       "</table>\n",
       "<p>2157 rows × 12 columns</p>\n",
       "</div>"
      ],
      "text/plain": [
       "      index      sid   profile_id      profile_name  \\\n",
       "0      5424  4190972     29875130        izzueislam   \n",
       "1      9553  4195046   1319369724    mrs.druzhinina   \n",
       "2      9551  4195072    311156678       jadsejadson   \n",
       "3      9549  4195063    332701752    barbara.labres   \n",
       "4       896  4185356    790343516       kikkafede88   \n",
       "...     ...      ...          ...               ...   \n",
       "2152   1195  4185643  10492989816   bandofrunnersuk   \n",
       "2153   5519  4191058  13060431175  ideacomunefumane   \n",
       "2154   7123  4192667   1208887142          bartezfs   \n",
       "2155   1495  4185941   5738244028        a_barutkin   \n",
       "2156   5363  4190946  12794955593  pluviophile.isme   \n",
       "\n",
       "              firstname_lastname  \\\n",
       "0                    Izzue Islam   \n",
       "1      🏆САМАЯ ТОПОВАЯ ИНСТА-МАМА   \n",
       "2                  Jads & Jadson   \n",
       "3                 Bárbara Labres   \n",
       "4            Federica Pellegrini   \n",
       "...                          ...   \n",
       "2152               Martyn Glover   \n",
       "2153          Idea Comune Fumane   \n",
       "2154                Ilya  Bartez   \n",
       "2155  ПРИРОДА🌲ПРОГУЛКИ🚶‍♂️ПИТЕР☔   \n",
       "2156                 pluviophile   \n",
       "\n",
       "                                            description  following  followers  \\\n",
       "0     ☎️: +60129111241 @awinnurin\\n📧: iianenterprise...      179.0  2793338.0   \n",
       "1     Ирина Дружинина \\n🌿О МАТЕРИНСТВЕ и не только\\n...      135.0  1990775.0   \n",
       "2     A dupla mais SERTANEJA do País! \\nShows com @n...      447.0  1658275.0   \n",
       "3     Dj 🎧🎙\\nContato: assessoria@barbaralabres.com.b...      315.0  1159690.0   \n",
       "4     Olympic.World.European.Champion. WR 200free.🏊🏻...      590.0  1043584.0   \n",
       "...                                                 ...        ...        ...   \n",
       "2152  BSc Hons Sport and Exercise Science\\nUK Athlet...       19.0       27.0   \n",
       "2153  Lista Civica per Fumane\\n“Un territorio amato ...       14.0       27.0   \n",
       "2154  Монтажоп\\nВсё остальное интересное по ссылке в...       16.0       25.0   \n",
       "2155  Андрей\\nЯ из Санкт-Петербурга⚓🌦️\\nЛюблю живопи...       33.0       22.0   \n",
       "2156  I know how depressed you are...\\nCome here and...        4.0        1.0   \n",
       "\n",
       "      n_posts                                                url  \\\n",
       "0      5289.0                           youtube.com/izzueislamtv   \n",
       "1      1093.0                               www.i-druzhinina.com   \n",
       "2      2739.0  www.youtube.com/watch?v=trK0YxtC3c8&feature=yo...   \n",
       "3       630.0   www.youtube.com/channel/UC21hbQfYStwFPV30IX1AOZA   \n",
       "4      2189.0                              tv8.it/streaming.html   \n",
       "...       ...                                                ...   \n",
       "2152     13.0                            www.bandofrunners.co.uk   \n",
       "2153      7.0                            www.ideacomunefumane.it   \n",
       "2154     38.0                                 linktr.ee/bartezfs   \n",
       "2155    590.0                                  vk.com/madonnafan   \n",
       "2156     18.0                         epluviophile.wordpress.com   \n",
       "\n",
       "                                cts is_business_account  \n",
       "0     2019-08-01 21:20:58.700 -0400               False  \n",
       "1     2019-08-02 02:33:33.239 -0400                True  \n",
       "2     2019-08-02 02:35:47.050 -0400                True  \n",
       "3     2019-08-02 02:35:11.517 -0400               False  \n",
       "4     2019-08-01 15:44:46.301 -0400               False  \n",
       "...                             ...                 ...  \n",
       "2152  2019-08-01 16:06:00.922 -0400                True  \n",
       "2153  2019-08-01 21:28:31.515 -0400                True  \n",
       "2154  2019-08-01 23:26:32.546 -0400               False  \n",
       "2155  2019-08-01 16:26:41.489 -0400               False  \n",
       "2156  2019-08-01 21:18:15.443 -0400                True  \n",
       "\n",
       "[2157 rows x 12 columns]"
      ]
     },
     "execution_count": 3,
     "metadata": {},
     "output_type": "execute_result"
    }
   ],
   "source": [
    "#Sorting users by number of followers\n",
    "data=data.dropna()\n",
    "data=data.sort_values(by = \"followers\", ascending = False)\n",
    "data=data.reset_index()\n",
    "print(type(data['followers'][1]))\n",
    "data"
   ]
  },
  {
   "cell_type": "code",
   "execution_count": 4,
   "metadata": {},
   "outputs": [
    {
     "data": {
      "text/html": [
       "<div>\n",
       "<style scoped>\n",
       "    .dataframe tbody tr th:only-of-type {\n",
       "        vertical-align: middle;\n",
       "    }\n",
       "\n",
       "    .dataframe tbody tr th {\n",
       "        vertical-align: top;\n",
       "    }\n",
       "\n",
       "    .dataframe thead th {\n",
       "        text-align: right;\n",
       "    }\n",
       "</style>\n",
       "<table border=\"1\" class=\"dataframe\">\n",
       "  <thead>\n",
       "    <tr style=\"text-align: right;\">\n",
       "      <th></th>\n",
       "      <th>index</th>\n",
       "      <th>sid</th>\n",
       "      <th>profile_id</th>\n",
       "      <th>profile_name</th>\n",
       "      <th>firstname_lastname</th>\n",
       "      <th>description</th>\n",
       "      <th>following</th>\n",
       "      <th>followers</th>\n",
       "      <th>n_posts</th>\n",
       "      <th>url</th>\n",
       "      <th>cts</th>\n",
       "      <th>is_business_account</th>\n",
       "    </tr>\n",
       "  </thead>\n",
       "  <tbody>\n",
       "    <tr>\n",
       "      <th>0</th>\n",
       "      <td>5424</td>\n",
       "      <td>4190972</td>\n",
       "      <td>29875130</td>\n",
       "      <td>izzueislam</td>\n",
       "      <td>Izzue Islam</td>\n",
       "      <td>☎️: +60129111241 @awinnurin\\n📧: iianenterprise...</td>\n",
       "      <td>179.0</td>\n",
       "      <td>2793338.0</td>\n",
       "      <td>5289.0</td>\n",
       "      <td>youtube.com/izzueislamtv</td>\n",
       "      <td>2019-08-01 21:20:58.700 -0400</td>\n",
       "      <td>False</td>\n",
       "    </tr>\n",
       "    <tr>\n",
       "      <th>1</th>\n",
       "      <td>9553</td>\n",
       "      <td>4195046</td>\n",
       "      <td>1319369724</td>\n",
       "      <td>mrs.druzhinina</td>\n",
       "      <td>🏆САМАЯ ТОПОВАЯ ИНСТА-МАМА</td>\n",
       "      <td>Ирина Дружинина \\n🌿О МАТЕРИНСТВЕ и не только\\n...</td>\n",
       "      <td>135.0</td>\n",
       "      <td>1990775.0</td>\n",
       "      <td>1093.0</td>\n",
       "      <td>www.i-druzhinina.com</td>\n",
       "      <td>2019-08-02 02:33:33.239 -0400</td>\n",
       "      <td>True</td>\n",
       "    </tr>\n",
       "    <tr>\n",
       "      <th>2</th>\n",
       "      <td>9551</td>\n",
       "      <td>4195072</td>\n",
       "      <td>311156678</td>\n",
       "      <td>jadsejadson</td>\n",
       "      <td>Jads &amp; Jadson</td>\n",
       "      <td>A dupla mais SERTANEJA do País! \\nShows com @n...</td>\n",
       "      <td>447.0</td>\n",
       "      <td>1658275.0</td>\n",
       "      <td>2739.0</td>\n",
       "      <td>www.youtube.com/watch?v=trK0YxtC3c8&amp;feature=yo...</td>\n",
       "      <td>2019-08-02 02:35:47.050 -0400</td>\n",
       "      <td>True</td>\n",
       "    </tr>\n",
       "    <tr>\n",
       "      <th>3</th>\n",
       "      <td>9549</td>\n",
       "      <td>4195063</td>\n",
       "      <td>332701752</td>\n",
       "      <td>barbara.labres</td>\n",
       "      <td>Bárbara Labres</td>\n",
       "      <td>Dj 🎧🎙\\nContato: assessoria@barbaralabres.com.b...</td>\n",
       "      <td>315.0</td>\n",
       "      <td>1159690.0</td>\n",
       "      <td>630.0</td>\n",
       "      <td>www.youtube.com/channel/UC21hbQfYStwFPV30IX1AOZA</td>\n",
       "      <td>2019-08-02 02:35:11.517 -0400</td>\n",
       "      <td>False</td>\n",
       "    </tr>\n",
       "    <tr>\n",
       "      <th>4</th>\n",
       "      <td>896</td>\n",
       "      <td>4185356</td>\n",
       "      <td>790343516</td>\n",
       "      <td>kikkafede88</td>\n",
       "      <td>Federica Pellegrini</td>\n",
       "      <td>Olympic.World.European.Champion. WR 200free.🏊🏻...</td>\n",
       "      <td>590.0</td>\n",
       "      <td>1043584.0</td>\n",
       "      <td>2189.0</td>\n",
       "      <td>tv8.it/streaming.html</td>\n",
       "      <td>2019-08-01 15:44:46.301 -0400</td>\n",
       "      <td>False</td>\n",
       "    </tr>\n",
       "    <tr>\n",
       "      <th>...</th>\n",
       "      <td>...</td>\n",
       "      <td>...</td>\n",
       "      <td>...</td>\n",
       "      <td>...</td>\n",
       "      <td>...</td>\n",
       "      <td>...</td>\n",
       "      <td>...</td>\n",
       "      <td>...</td>\n",
       "      <td>...</td>\n",
       "      <td>...</td>\n",
       "      <td>...</td>\n",
       "      <td>...</td>\n",
       "    </tr>\n",
       "    <tr>\n",
       "      <th>210</th>\n",
       "      <td>8267</td>\n",
       "      <td>4193813</td>\n",
       "      <td>18925969</td>\n",
       "      <td>louisaguirre</td>\n",
       "      <td>Louis Aguirre</td>\n",
       "      <td>It’s a game. Enjoy the ride. It’s ALL beautifu...</td>\n",
       "      <td>1420.0</td>\n",
       "      <td>14967.0</td>\n",
       "      <td>1908.0</td>\n",
       "      <td>www.HeartsAndStarsGala.com</td>\n",
       "      <td>2019-08-02 00:54:42.572 -0400</td>\n",
       "      <td>False</td>\n",
       "    </tr>\n",
       "    <tr>\n",
       "      <th>211</th>\n",
       "      <td>2712</td>\n",
       "      <td>4188300</td>\n",
       "      <td>5389527111</td>\n",
       "      <td>pervayaok</td>\n",
       "      <td>Первая отделочная компания</td>\n",
       "      <td>Ремонт🏙\\nОтделка🏘\\nДизайн-проект в подарок🎁\\n☎...</td>\n",
       "      <td>4148.0</td>\n",
       "      <td>14851.0</td>\n",
       "      <td>369.0</td>\n",
       "      <td>1-o-k.com</td>\n",
       "      <td>2019-08-01 18:01:29.324 -0400</td>\n",
       "      <td>True</td>\n",
       "    </tr>\n",
       "    <tr>\n",
       "      <th>212</th>\n",
       "      <td>9582</td>\n",
       "      <td>4195129</td>\n",
       "      <td>1294754075</td>\n",
       "      <td>pimentel_minas</td>\n",
       "      <td>Fernando Pimentel</td>\n",
       "      <td>Economista, Professor, foi Prefeito de Belo Ho...</td>\n",
       "      <td>215.0</td>\n",
       "      <td>14610.0</td>\n",
       "      <td>663.0</td>\n",
       "      <td>www.doepimentel.com.br</td>\n",
       "      <td>2019-08-02 02:39:14.897 -0400</td>\n",
       "      <td>True</td>\n",
       "    </tr>\n",
       "    <tr>\n",
       "      <th>213</th>\n",
       "      <td>9248</td>\n",
       "      <td>4194750</td>\n",
       "      <td>484872066</td>\n",
       "      <td>bombergcolombia</td>\n",
       "      <td>Bomberg Colombia</td>\n",
       "      <td>Bomberg Colombia</td>\n",
       "      <td>1652.0</td>\n",
       "      <td>14449.0</td>\n",
       "      <td>1642.0</td>\n",
       "      <td>www.bombergwatches.com</td>\n",
       "      <td>2019-08-02 02:09:45.384 -0400</td>\n",
       "      <td>True</td>\n",
       "    </tr>\n",
       "    <tr>\n",
       "      <th>214</th>\n",
       "      <td>6699</td>\n",
       "      <td>3491313</td>\n",
       "      <td>406480145</td>\n",
       "      <td>petitlapin_mtl</td>\n",
       "      <td>Pâtisserie Petit Lapin</td>\n",
       "      <td>The Original. Since 2014\\nTOP 10 ALLERGEN FREE...</td>\n",
       "      <td>788.0</td>\n",
       "      <td>14381.0</td>\n",
       "      <td>1753.0</td>\n",
       "      <td>www.patisseriepetitlapin.com</td>\n",
       "      <td>2019-05-11 07:05:45.663 -0400</td>\n",
       "      <td>True</td>\n",
       "    </tr>\n",
       "  </tbody>\n",
       "</table>\n",
       "<p>215 rows × 12 columns</p>\n",
       "</div>"
      ],
      "text/plain": [
       "     index      sid  profile_id     profile_name          firstname_lastname  \\\n",
       "0     5424  4190972    29875130       izzueislam                 Izzue Islam   \n",
       "1     9553  4195046  1319369724   mrs.druzhinina   🏆САМАЯ ТОПОВАЯ ИНСТА-МАМА   \n",
       "2     9551  4195072   311156678      jadsejadson               Jads & Jadson   \n",
       "3     9549  4195063   332701752   barbara.labres              Bárbara Labres   \n",
       "4      896  4185356   790343516      kikkafede88         Federica Pellegrini   \n",
       "..     ...      ...         ...              ...                         ...   \n",
       "210   8267  4193813    18925969     louisaguirre               Louis Aguirre   \n",
       "211   2712  4188300  5389527111        pervayaok  Первая отделочная компания   \n",
       "212   9582  4195129  1294754075   pimentel_minas           Fernando Pimentel   \n",
       "213   9248  4194750   484872066  bombergcolombia            Bomberg Colombia   \n",
       "214   6699  3491313   406480145   petitlapin_mtl      Pâtisserie Petit Lapin   \n",
       "\n",
       "                                           description  following  followers  \\\n",
       "0    ☎️: +60129111241 @awinnurin\\n📧: iianenterprise...      179.0  2793338.0   \n",
       "1    Ирина Дружинина \\n🌿О МАТЕРИНСТВЕ и не только\\n...      135.0  1990775.0   \n",
       "2    A dupla mais SERTANEJA do País! \\nShows com @n...      447.0  1658275.0   \n",
       "3    Dj 🎧🎙\\nContato: assessoria@barbaralabres.com.b...      315.0  1159690.0   \n",
       "4    Olympic.World.European.Champion. WR 200free.🏊🏻...      590.0  1043584.0   \n",
       "..                                                 ...        ...        ...   \n",
       "210  It’s a game. Enjoy the ride. It’s ALL beautifu...     1420.0    14967.0   \n",
       "211  Ремонт🏙\\nОтделка🏘\\nДизайн-проект в подарок🎁\\n☎...     4148.0    14851.0   \n",
       "212  Economista, Professor, foi Prefeito de Belo Ho...      215.0    14610.0   \n",
       "213                                   Bomberg Colombia     1652.0    14449.0   \n",
       "214  The Original. Since 2014\\nTOP 10 ALLERGEN FREE...      788.0    14381.0   \n",
       "\n",
       "     n_posts                                                url  \\\n",
       "0     5289.0                           youtube.com/izzueislamtv   \n",
       "1     1093.0                               www.i-druzhinina.com   \n",
       "2     2739.0  www.youtube.com/watch?v=trK0YxtC3c8&feature=yo...   \n",
       "3      630.0   www.youtube.com/channel/UC21hbQfYStwFPV30IX1AOZA   \n",
       "4     2189.0                              tv8.it/streaming.html   \n",
       "..       ...                                                ...   \n",
       "210   1908.0                         www.HeartsAndStarsGala.com   \n",
       "211    369.0                                          1-o-k.com   \n",
       "212    663.0                             www.doepimentel.com.br   \n",
       "213   1642.0                             www.bombergwatches.com   \n",
       "214   1753.0                       www.patisseriepetitlapin.com   \n",
       "\n",
       "                               cts is_business_account  \n",
       "0    2019-08-01 21:20:58.700 -0400               False  \n",
       "1    2019-08-02 02:33:33.239 -0400                True  \n",
       "2    2019-08-02 02:35:47.050 -0400                True  \n",
       "3    2019-08-02 02:35:11.517 -0400               False  \n",
       "4    2019-08-01 15:44:46.301 -0400               False  \n",
       "..                             ...                 ...  \n",
       "210  2019-08-02 00:54:42.572 -0400               False  \n",
       "211  2019-08-01 18:01:29.324 -0400                True  \n",
       "212  2019-08-02 02:39:14.897 -0400                True  \n",
       "213  2019-08-02 02:09:45.384 -0400                True  \n",
       "214  2019-05-11 07:05:45.663 -0400                True  \n",
       "\n",
       "[215 rows x 12 columns]"
      ]
     },
     "execution_count": 4,
     "metadata": {},
     "output_type": "execute_result"
    }
   ],
   "source": [
    "#The first group takes the top 10% of \"followers\"\n",
    "df1 =data[0:215]\n",
    "df1"
   ]
  },
  {
   "cell_type": "code",
   "execution_count": 5,
   "metadata": {},
   "outputs": [
    {
     "data": {
      "text/html": [
       "<div>\n",
       "<style scoped>\n",
       "    .dataframe tbody tr th:only-of-type {\n",
       "        vertical-align: middle;\n",
       "    }\n",
       "\n",
       "    .dataframe tbody tr th {\n",
       "        vertical-align: top;\n",
       "    }\n",
       "\n",
       "    .dataframe thead th {\n",
       "        text-align: right;\n",
       "    }\n",
       "</style>\n",
       "<table border=\"1\" class=\"dataframe\">\n",
       "  <thead>\n",
       "    <tr style=\"text-align: right;\">\n",
       "      <th></th>\n",
       "      <th>index</th>\n",
       "      <th>sid</th>\n",
       "      <th>profile_id</th>\n",
       "      <th>profile_name</th>\n",
       "      <th>firstname_lastname</th>\n",
       "      <th>description</th>\n",
       "      <th>following</th>\n",
       "      <th>followers</th>\n",
       "      <th>n_posts</th>\n",
       "      <th>url</th>\n",
       "      <th>cts</th>\n",
       "      <th>is_business_account</th>\n",
       "    </tr>\n",
       "  </thead>\n",
       "  <tbody>\n",
       "    <tr>\n",
       "      <th>215</th>\n",
       "      <td>9848</td>\n",
       "      <td>4195375</td>\n",
       "      <td>1295379</td>\n",
       "      <td>flipout</td>\n",
       "      <td>Flipout</td>\n",
       "      <td>Severe Record Nerd.\\n@flipvinyl\\n@slowjamsunda...</td>\n",
       "      <td>4148.0</td>\n",
       "      <td>14306.0</td>\n",
       "      <td>4080.0</td>\n",
       "      <td>www.mixcloud.com/Flipout/playlists/dancehall-d...</td>\n",
       "      <td>2019-08-02 02:59:10.764 -0400</td>\n",
       "      <td>True</td>\n",
       "    </tr>\n",
       "    <tr>\n",
       "      <th>216</th>\n",
       "      <td>4595</td>\n",
       "      <td>4190199</td>\n",
       "      <td>174133665</td>\n",
       "      <td>tarynleighh</td>\n",
       "      <td>Taryn Bond, Yoga Teacher</td>\n",
       "      <td>Hawai’i-based Yoga Teacher + Writer ॐ📝\\nI help...</td>\n",
       "      <td>989.0</td>\n",
       "      <td>14159.0</td>\n",
       "      <td>925.0</td>\n",
       "      <td>www.flowswitht.com</td>\n",
       "      <td>2019-08-01 20:20:56.660 -0400</td>\n",
       "      <td>True</td>\n",
       "    </tr>\n",
       "    <tr>\n",
       "      <th>217</th>\n",
       "      <td>7914</td>\n",
       "      <td>737439</td>\n",
       "      <td>52494968</td>\n",
       "      <td>wearemotto</td>\n",
       "      <td>Motto</td>\n",
       "      <td>⚡️We help brands stand out &amp; change the game\\n...</td>\n",
       "      <td>5703.0</td>\n",
       "      <td>13785.0</td>\n",
       "      <td>1291.0</td>\n",
       "      <td>bit.ly/2LDyE33</td>\n",
       "      <td>2019-03-26 00:35:47.980 -0400</td>\n",
       "      <td>True</td>\n",
       "    </tr>\n",
       "    <tr>\n",
       "      <th>218</th>\n",
       "      <td>626</td>\n",
       "      <td>4185096</td>\n",
       "      <td>7578372620</td>\n",
       "      <td>privetmos</td>\n",
       "      <td>Привет, Москва!</td>\n",
       "      <td>«Привет, Москва!» – это новый проект о любимом...</td>\n",
       "      <td>4.0</td>\n",
       "      <td>13705.0</td>\n",
       "      <td>167.0</td>\n",
       "      <td>privetmoscow.ru/stages</td>\n",
       "      <td>2019-08-01 15:26:04.461 -0400</td>\n",
       "      <td>True</td>\n",
       "    </tr>\n",
       "    <tr>\n",
       "      <th>219</th>\n",
       "      <td>147</td>\n",
       "      <td>4184620</td>\n",
       "      <td>1443725050</td>\n",
       "      <td>fedoseev_tattoo</td>\n",
       "      <td>ТАТУ В Москве</td>\n",
       "      <td>Tattoo Artist\\nKirill Fedoseev\\nMoscow|Barnaul...</td>\n",
       "      <td>784.0</td>\n",
       "      <td>13700.0</td>\n",
       "      <td>249.0</td>\n",
       "      <td>vk.com/id95712830</td>\n",
       "      <td>2019-08-01 14:48:52.540 -0400</td>\n",
       "      <td>True</td>\n",
       "    </tr>\n",
       "    <tr>\n",
       "      <th>...</th>\n",
       "      <td>...</td>\n",
       "      <td>...</td>\n",
       "      <td>...</td>\n",
       "      <td>...</td>\n",
       "      <td>...</td>\n",
       "      <td>...</td>\n",
       "      <td>...</td>\n",
       "      <td>...</td>\n",
       "      <td>...</td>\n",
       "      <td>...</td>\n",
       "      <td>...</td>\n",
       "      <td>...</td>\n",
       "    </tr>\n",
       "    <tr>\n",
       "      <th>2152</th>\n",
       "      <td>1195</td>\n",
       "      <td>4185643</td>\n",
       "      <td>10492989816</td>\n",
       "      <td>bandofrunnersuk</td>\n",
       "      <td>Martyn Glover</td>\n",
       "      <td>BSc Hons Sport and Exercise Science\\nUK Athlet...</td>\n",
       "      <td>19.0</td>\n",
       "      <td>27.0</td>\n",
       "      <td>13.0</td>\n",
       "      <td>www.bandofrunners.co.uk</td>\n",
       "      <td>2019-08-01 16:06:00.922 -0400</td>\n",
       "      <td>True</td>\n",
       "    </tr>\n",
       "    <tr>\n",
       "      <th>2153</th>\n",
       "      <td>5519</td>\n",
       "      <td>4191058</td>\n",
       "      <td>13060431175</td>\n",
       "      <td>ideacomunefumane</td>\n",
       "      <td>Idea Comune Fumane</td>\n",
       "      <td>Lista Civica per Fumane\\n“Un territorio amato ...</td>\n",
       "      <td>14.0</td>\n",
       "      <td>27.0</td>\n",
       "      <td>7.0</td>\n",
       "      <td>www.ideacomunefumane.it</td>\n",
       "      <td>2019-08-01 21:28:31.515 -0400</td>\n",
       "      <td>True</td>\n",
       "    </tr>\n",
       "    <tr>\n",
       "      <th>2154</th>\n",
       "      <td>7123</td>\n",
       "      <td>4192667</td>\n",
       "      <td>1208887142</td>\n",
       "      <td>bartezfs</td>\n",
       "      <td>Ilya  Bartez</td>\n",
       "      <td>Монтажоп\\nВсё остальное интересное по ссылке в...</td>\n",
       "      <td>16.0</td>\n",
       "      <td>25.0</td>\n",
       "      <td>38.0</td>\n",
       "      <td>linktr.ee/bartezfs</td>\n",
       "      <td>2019-08-01 23:26:32.546 -0400</td>\n",
       "      <td>False</td>\n",
       "    </tr>\n",
       "    <tr>\n",
       "      <th>2155</th>\n",
       "      <td>1495</td>\n",
       "      <td>4185941</td>\n",
       "      <td>5738244028</td>\n",
       "      <td>a_barutkin</td>\n",
       "      <td>ПРИРОДА🌲ПРОГУЛКИ🚶‍♂️ПИТЕР☔</td>\n",
       "      <td>Андрей\\nЯ из Санкт-Петербурга⚓🌦️\\nЛюблю живопи...</td>\n",
       "      <td>33.0</td>\n",
       "      <td>22.0</td>\n",
       "      <td>590.0</td>\n",
       "      <td>vk.com/madonnafan</td>\n",
       "      <td>2019-08-01 16:26:41.489 -0400</td>\n",
       "      <td>False</td>\n",
       "    </tr>\n",
       "    <tr>\n",
       "      <th>2156</th>\n",
       "      <td>5363</td>\n",
       "      <td>4190946</td>\n",
       "      <td>12794955593</td>\n",
       "      <td>pluviophile.isme</td>\n",
       "      <td>pluviophile</td>\n",
       "      <td>I know how depressed you are...\\nCome here and...</td>\n",
       "      <td>4.0</td>\n",
       "      <td>1.0</td>\n",
       "      <td>18.0</td>\n",
       "      <td>epluviophile.wordpress.com</td>\n",
       "      <td>2019-08-01 21:18:15.443 -0400</td>\n",
       "      <td>True</td>\n",
       "    </tr>\n",
       "  </tbody>\n",
       "</table>\n",
       "<p>1942 rows × 12 columns</p>\n",
       "</div>"
      ],
      "text/plain": [
       "      index      sid   profile_id      profile_name  \\\n",
       "215    9848  4195375      1295379           flipout   \n",
       "216    4595  4190199    174133665       tarynleighh   \n",
       "217    7914   737439     52494968        wearemotto   \n",
       "218     626  4185096   7578372620         privetmos   \n",
       "219     147  4184620   1443725050   fedoseev_tattoo   \n",
       "...     ...      ...          ...               ...   \n",
       "2152   1195  4185643  10492989816   bandofrunnersuk   \n",
       "2153   5519  4191058  13060431175  ideacomunefumane   \n",
       "2154   7123  4192667   1208887142          bartezfs   \n",
       "2155   1495  4185941   5738244028        a_barutkin   \n",
       "2156   5363  4190946  12794955593  pluviophile.isme   \n",
       "\n",
       "              firstname_lastname  \\\n",
       "215                      Flipout   \n",
       "216     Taryn Bond, Yoga Teacher   \n",
       "217                        Motto   \n",
       "218              Привет, Москва!   \n",
       "219                ТАТУ В Москве   \n",
       "...                          ...   \n",
       "2152               Martyn Glover   \n",
       "2153          Idea Comune Fumane   \n",
       "2154                Ilya  Bartez   \n",
       "2155  ПРИРОДА🌲ПРОГУЛКИ🚶‍♂️ПИТЕР☔   \n",
       "2156                 pluviophile   \n",
       "\n",
       "                                            description  following  followers  \\\n",
       "215   Severe Record Nerd.\\n@flipvinyl\\n@slowjamsunda...     4148.0    14306.0   \n",
       "216   Hawai’i-based Yoga Teacher + Writer ॐ📝\\nI help...      989.0    14159.0   \n",
       "217   ⚡️We help brands stand out & change the game\\n...     5703.0    13785.0   \n",
       "218   «Привет, Москва!» – это новый проект о любимом...        4.0    13705.0   \n",
       "219   Tattoo Artist\\nKirill Fedoseev\\nMoscow|Barnaul...      784.0    13700.0   \n",
       "...                                                 ...        ...        ...   \n",
       "2152  BSc Hons Sport and Exercise Science\\nUK Athlet...       19.0       27.0   \n",
       "2153  Lista Civica per Fumane\\n“Un territorio amato ...       14.0       27.0   \n",
       "2154  Монтажоп\\nВсё остальное интересное по ссылке в...       16.0       25.0   \n",
       "2155  Андрей\\nЯ из Санкт-Петербурга⚓🌦️\\nЛюблю живопи...       33.0       22.0   \n",
       "2156  I know how depressed you are...\\nCome here and...        4.0        1.0   \n",
       "\n",
       "      n_posts                                                url  \\\n",
       "215    4080.0  www.mixcloud.com/Flipout/playlists/dancehall-d...   \n",
       "216     925.0                                 www.flowswitht.com   \n",
       "217    1291.0                                     bit.ly/2LDyE33   \n",
       "218     167.0                             privetmoscow.ru/stages   \n",
       "219     249.0                                  vk.com/id95712830   \n",
       "...       ...                                                ...   \n",
       "2152     13.0                            www.bandofrunners.co.uk   \n",
       "2153      7.0                            www.ideacomunefumane.it   \n",
       "2154     38.0                                 linktr.ee/bartezfs   \n",
       "2155    590.0                                  vk.com/madonnafan   \n",
       "2156     18.0                         epluviophile.wordpress.com   \n",
       "\n",
       "                                cts is_business_account  \n",
       "215   2019-08-02 02:59:10.764 -0400                True  \n",
       "216   2019-08-01 20:20:56.660 -0400                True  \n",
       "217   2019-03-26 00:35:47.980 -0400                True  \n",
       "218   2019-08-01 15:26:04.461 -0400                True  \n",
       "219   2019-08-01 14:48:52.540 -0400                True  \n",
       "...                             ...                 ...  \n",
       "2152  2019-08-01 16:06:00.922 -0400                True  \n",
       "2153  2019-08-01 21:28:31.515 -0400                True  \n",
       "2154  2019-08-01 23:26:32.546 -0400               False  \n",
       "2155  2019-08-01 16:26:41.489 -0400               False  \n",
       "2156  2019-08-01 21:18:15.443 -0400                True  \n",
       "\n",
       "[1942 rows x 12 columns]"
      ]
     },
     "execution_count": 5,
     "metadata": {},
     "output_type": "execute_result"
    }
   ],
   "source": [
    "#The second group takes the rest of the followers\n",
    "df2 = data[215:]\n",
    "df2"
   ]
  },
  {
   "cell_type": "code",
   "execution_count": 6,
   "metadata": {},
   "outputs": [],
   "source": [
    "data1 = pd.read_csv('/Users/emma/Desktop/Data/instagram_posts.csv', sep='\\t',nrows=2000)"
   ]
  },
  {
   "cell_type": "code",
   "execution_count": 7,
   "metadata": {},
   "outputs": [
    {
     "data": {
      "text/plain": [
       "{136541: [526], 236296: [273], 326278: [626], 329994: [8], 459935: [1841], 550300: [75], 633232: [1083], 659419: [1458], 735442: [475], 798577: [267], 906219: [1673], 933930: [608], 948311: [1704], 1018878: [1536], 1028435: [389], 1302367: [264], 1550112: [534], 1674690: [1905], 2025538: [1115], 2362904: [298], 2394062: [1445], 2414626: [891], 2425272: [1694], 2442187: [322], 2894735: [191], 2959406: [1362], 3421314: [1308], 3505953: [1222], 3779437: [144], 3936107: [1482], 3952411: [1141], 4137913: [1096], 4159499: [1177], 4241460: [1236], 4285702: [663], 4408528: [411], 4479605: [1982], 4572086: [1402], 4645057: [572], 4803320: [1802], 4810447: [390], 5107724: [353], 5232540: [701], 5737877: [1806], 5838727: [1146], 5953245: [402], 6080035: [174, 183, 186], 6100581: [91], 6102916: [1436], 6220781: [1792], 6348167: [243], 6390746: [1963], 6482535: [1447], 6517756: [67], 6906865: [1363], 7061024: [1861], 7145644: [1784], 7166058: [306, 307], 7347783: [1799], 7701044: [1051], 7758544: [1408], 7925991: [212], 7985830: [284], 8084931: [316], 8551068: [777], 8876484: [1752], 8880431: [474], 9096481: [1029, 1068], 9208423: [314], 9232256: [1154], 9390037: [540, 541], 9687372: [496], 9713615: [311], 9732077: [289], 9745474: [1086], 9970101: [387], 10762303: [1742], 11014085: [54], 11045394: [1947], 11771599: [10], 12396179: [1605], 12533734: [1203], 12630936: [1966], 12716300: [1085], 12737394: [442], 12950083: [1812], 13159326: [1026], 13188612: [721], 13371688: [1753], 13480796: [590], 13593020: [839], 14090357: [842], 14108052: [1928], 14656552: [162], 14716634: [783], 14734886: [1413, 1415, 1416, 1418, 1419, 1420, 1421, 1422], 15306853: [1462], 15407742: [828], 15446058: [1824], 15583927: [372], ...}"
      ]
     },
     "execution_count": 7,
     "metadata": {},
     "output_type": "execute_result"
    }
   ],
   "source": [
    "data1.groupby(\"profile_id\").groups"
   ]
  },
  {
   "cell_type": "code",
   "execution_count": 8,
   "metadata": {},
   "outputs": [
    {
     "data": {
      "text/html": [
       "<div>\n",
       "<style scoped>\n",
       "    .dataframe tbody tr th:only-of-type {\n",
       "        vertical-align: middle;\n",
       "    }\n",
       "\n",
       "    .dataframe tbody tr th {\n",
       "        vertical-align: top;\n",
       "    }\n",
       "\n",
       "    .dataframe thead th {\n",
       "        text-align: right;\n",
       "    }\n",
       "</style>\n",
       "<table border=\"1\" class=\"dataframe\">\n",
       "  <thead>\n",
       "    <tr style=\"text-align: right;\">\n",
       "      <th></th>\n",
       "      <th>sid</th>\n",
       "      <th>sid_profile</th>\n",
       "      <th>post_id</th>\n",
       "      <th>profile_id</th>\n",
       "      <th>location_id</th>\n",
       "      <th>cts</th>\n",
       "      <th>post_type</th>\n",
       "      <th>description</th>\n",
       "      <th>numbr_likes</th>\n",
       "      <th>number_comments</th>\n",
       "    </tr>\n",
       "  </thead>\n",
       "  <tbody>\n",
       "    <tr>\n",
       "      <th>0</th>\n",
       "      <td>28370919</td>\n",
       "      <td>3496776</td>\n",
       "      <td>BXdjjUlgcgq</td>\n",
       "      <td>2237947779</td>\n",
       "      <td>1022366247837915</td>\n",
       "      <td>2017-08-06 20:06:57</td>\n",
       "      <td>2</td>\n",
       "      <td>Wreckloose! Deevalley bike park laps on the @i...</td>\n",
       "      <td>80</td>\n",
       "      <td>0</td>\n",
       "    </tr>\n",
       "    <tr>\n",
       "      <th>1</th>\n",
       "      <td>28370932</td>\n",
       "      <td>-1</td>\n",
       "      <td>BVg0pbolYBC</td>\n",
       "      <td>5579335020</td>\n",
       "      <td>457426771112991</td>\n",
       "      <td>2017-06-19 09:31:16</td>\n",
       "      <td>1</td>\n",
       "      <td>🙌🏼 believe in ya dreams 🙌🏼 just like I believe...</td>\n",
       "      <td>25</td>\n",
       "      <td>1</td>\n",
       "    </tr>\n",
       "    <tr>\n",
       "      <th>2</th>\n",
       "      <td>28370933</td>\n",
       "      <td>-1</td>\n",
       "      <td>BRgkjcXFp3Q</td>\n",
       "      <td>313429634</td>\n",
       "      <td>457426771112991</td>\n",
       "      <td>2017-03-11 20:05:03</td>\n",
       "      <td>1</td>\n",
       "      <td>#meraviglia #incensi #the #candele #profumo #a...</td>\n",
       "      <td>9</td>\n",
       "      <td>0</td>\n",
       "    </tr>\n",
       "    <tr>\n",
       "      <th>3</th>\n",
       "      <td>28370934</td>\n",
       "      <td>-1</td>\n",
       "      <td>BKTKeNhjEA7</td>\n",
       "      <td>1837592700</td>\n",
       "      <td>457426771112991</td>\n",
       "      <td>2016-09-13 16:27:16</td>\n",
       "      <td>1</td>\n",
       "      <td>#teatime #scorpion #friends #love #mountains #...</td>\n",
       "      <td>4</td>\n",
       "      <td>0</td>\n",
       "    </tr>\n",
       "    <tr>\n",
       "      <th>4</th>\n",
       "      <td>28370935</td>\n",
       "      <td>-1</td>\n",
       "      <td>8-NQrvoYLX</td>\n",
       "      <td>1131527143</td>\n",
       "      <td>457426771112991</td>\n",
       "      <td>2015-10-18 10:19:27</td>\n",
       "      <td>1</td>\n",
       "      <td>thE sky gavE mE a #constEllation</td>\n",
       "      <td>8</td>\n",
       "      <td>0</td>\n",
       "    </tr>\n",
       "    <tr>\n",
       "      <th>...</th>\n",
       "      <td>...</td>\n",
       "      <td>...</td>\n",
       "      <td>...</td>\n",
       "      <td>...</td>\n",
       "      <td>...</td>\n",
       "      <td>...</td>\n",
       "      <td>...</td>\n",
       "      <td>...</td>\n",
       "      <td>...</td>\n",
       "      <td>...</td>\n",
       "    </tr>\n",
       "    <tr>\n",
       "      <th>1995</th>\n",
       "      <td>28372964</td>\n",
       "      <td>-1</td>\n",
       "      <td>BughtFdHpVv</td>\n",
       "      <td>1533802441</td>\n",
       "      <td>244839594</td>\n",
       "      <td>2019-03-02 14:50:35</td>\n",
       "      <td>1</td>\n",
       "      <td>😍🐕🐕</td>\n",
       "      <td>32</td>\n",
       "      <td>2</td>\n",
       "    </tr>\n",
       "    <tr>\n",
       "      <th>1996</th>\n",
       "      <td>28372965</td>\n",
       "      <td>-1</td>\n",
       "      <td>BubE0fRAqVP</td>\n",
       "      <td>3596685861</td>\n",
       "      <td>244839594</td>\n",
       "      <td>2019-02-28 12:07:00</td>\n",
       "      <td>2</td>\n",
       "      <td>#igerstunisia 🇹🇳🇹🇳 #instadog #instahappy #gsd ...</td>\n",
       "      <td>36</td>\n",
       "      <td>2</td>\n",
       "    </tr>\n",
       "    <tr>\n",
       "      <th>1997</th>\n",
       "      <td>28372966</td>\n",
       "      <td>-1</td>\n",
       "      <td>BuJHVQlHzPA</td>\n",
       "      <td>339363062</td>\n",
       "      <td>244839594</td>\n",
       "      <td>2019-02-21 12:37:37</td>\n",
       "      <td>1</td>\n",
       "      <td>Les plus beaux moments dans la vie sont gratuits</td>\n",
       "      <td>9</td>\n",
       "      <td>0</td>\n",
       "    </tr>\n",
       "    <tr>\n",
       "      <th>1998</th>\n",
       "      <td>28372967</td>\n",
       "      <td>-1</td>\n",
       "      <td>BuEnLcJHMpG</td>\n",
       "      <td>1423519562</td>\n",
       "      <td>244839594</td>\n",
       "      <td>2019-02-19 18:39:41</td>\n",
       "      <td>1</td>\n",
       "      <td>#billard🎱 #poolgirl #winner #gamingtime</td>\n",
       "      <td>45</td>\n",
       "      <td>0</td>\n",
       "    </tr>\n",
       "    <tr>\n",
       "      <th>1999</th>\n",
       "      <td>28372968</td>\n",
       "      <td>-1</td>\n",
       "      <td>Btu8C-Zlp5u</td>\n",
       "      <td>1561561065</td>\n",
       "      <td>244839594</td>\n",
       "      <td>2019-02-11 08:38:44</td>\n",
       "      <td>1</td>\n",
       "      <td>🤗😍😗</td>\n",
       "      <td>32</td>\n",
       "      <td>0</td>\n",
       "    </tr>\n",
       "  </tbody>\n",
       "</table>\n",
       "<p>2000 rows × 10 columns</p>\n",
       "</div>"
      ],
      "text/plain": [
       "           sid  sid_profile      post_id  profile_id       location_id  \\\n",
       "0     28370919      3496776  BXdjjUlgcgq  2237947779  1022366247837915   \n",
       "1     28370932           -1  BVg0pbolYBC  5579335020   457426771112991   \n",
       "2     28370933           -1  BRgkjcXFp3Q   313429634   457426771112991   \n",
       "3     28370934           -1  BKTKeNhjEA7  1837592700   457426771112991   \n",
       "4     28370935           -1   8-NQrvoYLX  1131527143   457426771112991   \n",
       "...        ...          ...          ...         ...               ...   \n",
       "1995  28372964           -1  BughtFdHpVv  1533802441         244839594   \n",
       "1996  28372965           -1  BubE0fRAqVP  3596685861         244839594   \n",
       "1997  28372966           -1  BuJHVQlHzPA   339363062         244839594   \n",
       "1998  28372967           -1  BuEnLcJHMpG  1423519562         244839594   \n",
       "1999  28372968           -1  Btu8C-Zlp5u  1561561065         244839594   \n",
       "\n",
       "                     cts  post_type  \\\n",
       "0    2017-08-06 20:06:57          2   \n",
       "1    2017-06-19 09:31:16          1   \n",
       "2    2017-03-11 20:05:03          1   \n",
       "3    2016-09-13 16:27:16          1   \n",
       "4    2015-10-18 10:19:27          1   \n",
       "...                  ...        ...   \n",
       "1995 2019-03-02 14:50:35          1   \n",
       "1996 2019-02-28 12:07:00          2   \n",
       "1997 2019-02-21 12:37:37          1   \n",
       "1998 2019-02-19 18:39:41          1   \n",
       "1999 2019-02-11 08:38:44          1   \n",
       "\n",
       "                                            description  numbr_likes  \\\n",
       "0     Wreckloose! Deevalley bike park laps on the @i...           80   \n",
       "1     🙌🏼 believe in ya dreams 🙌🏼 just like I believe...           25   \n",
       "2     #meraviglia #incensi #the #candele #profumo #a...            9   \n",
       "3     #teatime #scorpion #friends #love #mountains #...            4   \n",
       "4                      thE sky gavE mE a #constEllation            8   \n",
       "...                                                 ...          ...   \n",
       "1995                                                😍🐕🐕           32   \n",
       "1996  #igerstunisia 🇹🇳🇹🇳 #instadog #instahappy #gsd ...           36   \n",
       "1997   Les plus beaux moments dans la vie sont gratuits            9   \n",
       "1998            #billard🎱 #poolgirl #winner #gamingtime           45   \n",
       "1999                                                🤗😍😗           32   \n",
       "\n",
       "      number_comments  \n",
       "0                   0  \n",
       "1                   1  \n",
       "2                   0  \n",
       "3                   0  \n",
       "4                   0  \n",
       "...               ...  \n",
       "1995                2  \n",
       "1996                2  \n",
       "1997                0  \n",
       "1998                0  \n",
       "1999                0  \n",
       "\n",
       "[2000 rows x 10 columns]"
      ]
     },
     "execution_count": 8,
     "metadata": {},
     "output_type": "execute_result"
    }
   ],
   "source": [
    "data1['cts']=pd.to_datetime(data1['cts'])\n",
    "data1"
   ]
  },
  {
   "cell_type": "code",
   "execution_count": 9,
   "metadata": {},
   "outputs": [
    {
     "data": {
      "text/plain": [
       "6.12"
      ]
     },
     "execution_count": 9,
     "metadata": {},
     "output_type": "execute_result"
    }
   ],
   "source": [
    "#Average posting interval of the first group\n",
    "x=0\n",
    "for i in  range(0,100):\n",
    "    y=data1['cts'][i+1]-data1['cts'][i]\n",
    "    x=x+y.days\n",
    "x/100"
   ]
  },
  {
   "cell_type": "code",
   "execution_count": 16,
   "metadata": {},
   "outputs": [
    {
     "data": {
      "text/plain": [
       "10.36"
      ]
     },
     "execution_count": 16,
     "metadata": {},
     "output_type": "execute_result"
    }
   ],
   "source": [
    "#Average posting interval of the second group\n",
    "x=0\n",
    "for i in  range(0,1900):\n",
    "    y=data1['cts'][i+1]-data1['cts'][i]\n",
    "    x=x+y.days\n",
    "-x/100"
   ]
  },
  {
   "cell_type": "code",
   "execution_count": null,
   "metadata": {},
   "outputs": [],
   "source": [
    "The more fans you have, the shorter the average time between posts"
   ]
  },
  {
   "cell_type": "markdown",
   "metadata": {},
   "source": [
    "**BONUS C**"
   ]
  },
  {
   "cell_type": "markdown",
   "metadata": {},
   "source": [
    "Implement a text data analysis (also known as text mining) of the field \"description\" from instagram_posts.csv for descriptions written in English. Use appropriate visualizations and statistics to highlight the words (and probably the topics) provided for the users in that field."
   ]
  },
  {
   "cell_type": "code",
   "execution_count": 85,
   "metadata": {},
   "outputs": [],
   "source": [
    "import nltk\n",
    "from nltk.tokenize import sent_tokenize\n",
    "from nltk.tokenize import word_tokenize\n",
    "import pandas as pd\n",
    "from nltk.probability import FreqDist\n",
    "import matplotlib.pyplot as plt\n",
    "from nltk.corpus import stopwords\n",
    "import re\n",
    "from nltk.stem import PorterStemmer\n",
    "from nltk.stem.wordnet import WordNetLemmatizer\n",
    "from enchant.checker import SpellChecker"
   ]
  },
  {
   "cell_type": "code",
   "execution_count": 86,
   "metadata": {},
   "outputs": [],
   "source": [
    "posts_descriptions = pd.read_csv('~/instagram_posts.csv', delimiter='\\t', usecols=['description'], nrows= 1000)\n",
    "posts_descriptions= posts_descriptions.dropna()\n",
    "posts_descriptions = posts_descriptions.to_numpy()"
   ]
  },
  {
   "cell_type": "markdown",
   "metadata": {},
   "source": [
    "1. **English sentences Selection**: this phase returns a list of all the alphabetical English sentences in the descriptions of the posts."
   ]
  },
  {
   "cell_type": "code",
   "execution_count": 88,
   "metadata": {},
   "outputs": [],
   "source": [
    "def written_in_english(sentence):\n",
    "    d = SpellChecker(\"en_US\")\n",
    "    d.set_text(sentence)\n",
    "    errors = [err for err in d]\n",
    "    if len(errors) > 4:\n",
    "        return False\n",
    "    return True"
   ]
  },
  {
   "cell_type": "code",
   "execution_count": 89,
   "metadata": {},
   "outputs": [
    {
     "name": "stdout",
     "output_type": "stream",
     "text": [
      "English Sentences: ['#teatime #scorpion #friends #love #mountains #september', 'thE sky gavE mE a #constEllation', '#beautiful #Christmas #lights', 'As per your suggestion. #themerrytriotakeslondon', '-Blue-💙', 'everything still feels so surreal ☁️', \"Guinness O'clock 🍺🍺 #london #pub #guinness #love\", 'Hip hip hip #TheCrown 👑 saison 2 c est pour le 8 décembre 🎉🎊😻', 'Cheers! Returning to this café after 5 years.\\\\n*\\\\n*\\\\n*\\\\n#bar #pub #london #thecrown #sevendials #return', 'Gineaus Guinness', 'Cheeky beer after the curry #londonlife', '👑 🇬🇧', 'While the baby sleeps we drink 🍻', 'геймеры😂', 'Детский праздник.!', 'A wild Pikachu appears!', \"Welcome humans to the Storm Force Accelatron. Due to the highly confidential nature of this mission please keep all cell phones, go pros, and other recording devices away. Spin the metal wheel in front of you to augment Storm's power. Good luck in defeating the terribly misunderstood Magneto. #uotmlife #storm #xmen #marvel #drip #mutant\", 'Inside the #infinityroom at #detectivepikachupooup #pikachudetective', 'Action shot #svensgiving2015', \"we're having fun and I 🍩 wanna leave okbai. 🍵💨 ✌\", 'Me and SPIDERMAN!!!! Woohoo!!! LOVE THIS PICTURE<333 #me #Spiderman #universal', '🍍💃🏼🍻💕', '#londonpilsner', 'Kokotxas de Bacalao 🐟', \"Hands up if you love #pikachu can't wait to see #detectivepikachu #pikachulover #pikachudetective\", 'Pre expo shenanigans with these cunts', 'Mega family vibes 🍻', 'Sexy sons of bitches!!!! #sevendials', 'When you don’t go on the spinning rides and you are tasked to “hold this”.', 'When you’re too short to ride Hulk. Still having a blast!', 'We got sooooo dizzy #spinnyspin #universalstudios', 'Txoooootx🍏', 'Round and round we go!! @islandsofadventure', 'This was the first time that no one called out of work to go to Universal', 'A beginning of a MARVELous day', 'anything for those smiles, even if it means riding the storm force acceltron & spinning until we’re all dizzy 🌀🤪 #tookonefortheteam #peytonsaysfaster #laugheduntilwecried', '四个人一个罐！#diplodizzy #islandsofadventure #universalstudios', 'Just went on Storm Force Accelatron 4 times #Universal Fieldtrip', 'Monday morning class in session. #monday #universalstudios #citykids #imwithher #love #storm #grateful', '❤️ #aupaotsaila', 'Eramos pocos y pario la abuela!😘😘😘', 'Sidrería 2018!! 🍏🍎', 'De sidrería 🍾🍾', 'De Sidrería!', 'Definitely Summer Team here🙋🏻\\u200d♂️🐠☀️🔥\\\\nAnother #Tb for another fucking cold day😏\\\\n.\\\\n.\\\\n.\\\\n#Summer\\\\n#ItalianDays\\\\n#Pgnperilsociale', 'Black Sicilian sand and tan bb. 🐠☀️', 'Da sempre🍻', 'Today we have arrived to our Nonna’s childhood home.. Happiness surrounded by cliffs, flowers and the sea 🇮🇹🌴 now we understand everything. #soulfood', '@gioliandassia #handpatSet #Diesislive', '#titou #ape #vulcano #familyholidays', '[🌕]', '[🌋]', '[✨]', '🌋 La magica vista del Cratere di Vulcano dal mare 🌊', '#sailingpleasure #skipper #catamaran #sicily #vulcano', '🌋 #purple #memories', '💜🌈 #miisla', '🤗 #monday #selfie #blonde #selfiemoment #slovakgirl 😊', 'Hviezdy 💪😁❤⚽', '✌️😂😎', '🤙🏻🤙🏻', '....prechádzka v daždi 💦', 'she is one of the best💕', '❤️ #wednesday #selfie #loveofmylife 🥰', '#Shanghai', '#velkanoc #velkypiatok #dibujotradicional', 'Komentuj', 'Pekné napíš do komentu', '#Bro', '#✌️ #💋 #instaphoto #instagram #kiss', '#BEAUTIFULGIPSY ❤️👑👑', 'Al #argentinisimo a comer milanga con puré 😋', '🍋 Lemon Pie 🥧¿Lo prefiere de postre o quizás para merendar?', '🍫🍫🍫', \"I'm getting confused here :/ #China #Shanghai #nonsense #traffic #trafficsigns #trafficlight\", 'Trchomola matsutake with spring chicken soap', '一個月的七仔保母🐶🐶 #驚恐七仔 #覺得夠了 #babysitting', 'Morning Shanghai', 'Still at it! Started my second year contract in Shanghai a couple of weeks ago. More updates are soon to come! 😊 Special thanks to Katrina for the picture.', 'This little guy was hanging out outside the TV studio. 😻', 'it looks pretty shitty but tastes pretty good🍰', '🇨🇳China 🇨🇳', '过好每一天', \"There is a singer on this concert who has the highest voice I've ever heard in real life. This is a B flat ABOVE high C, which she sings effortlessly every time. Captured during yesterday's sound check.\", '這裡什麼都很貴，就是大蒜不用錢☺️', 'So this is the stage we are recording on... #famousinchina #butonlyinchina', '妖怪。', 'I need cure', 'ma hood', 'Happy labor day Weekend!🇺🇸\\\\n.\\\\n.\\\\n#LaborDayWeekend2018 #LaborDay #DentalDesigns #Florida  #Dentist', 'Your dental health is such a vital part of your overall health, at Dental Designs we got you covered! 💪🏻\\\\n.\\\\n.\\\\n#DentalDesigns #WednesdayMotivation #dentist #naplesflorida #fortmyers', 'Y’all can’t call me brace face nor train track no more🤪', 'First real meal in a week with the boyos 🙏', '#barcelona', 'Carrilleras de cerdo 🐖', '¿Clásico o napolitano?', 'Classic Milanesa 🇦🇷 🥩 #milanesa #barcelona #food #lunch #fries #happy', 'Milanesa Argentinisimo!!!! OMG🤩🤩!!', '“First we eat, then we do everything else.” #Foodie #Barcelona #Milanesa #Traveler #MyLife #Happy', '#argentina #quilmes #meat #bcn']\n"
     ]
    }
   ],
   "source": [
    "english_sentences = []\n",
    "for description in posts_descriptions:\n",
    "    if len(description[0]) >2 and written_in_english(description[0]): \n",
    "        english_sentences.append(description[0])\n",
    "\n",
    "print('English Sentences:', english_sentences[:100]) # to get a better view of the output, I print only the first one hounder rows"
   ]
  },
  {
   "cell_type": "markdown",
   "metadata": {},
   "source": [
    "2. **Words Tokenization**: this phase returns a list of all the alphabetical English words in the descriptions of the posts, removing punctuations and emojis."
   ]
  },
  {
   "cell_type": "code",
   "execution_count": 90,
   "metadata": {},
   "outputs": [
    {
     "name": "stdout",
     "output_type": "stream",
     "text": [
      "Tokenized English Words: ['teatime', 'scorpion', 'friends', 'love', 'mountains', 'september', 'thE', 'sky', 'gavE', 'mE', 'a', 'constEllation', 'beautiful', 'Christmas', 'lights', 'As', 'per', 'your', 'suggestion', 'themerrytriotakeslondon', 'everything', 'still', 'feels', 'so', 'surreal', 'Guinness', 'london', 'pub', 'guinness', 'love', 'Hip', 'hip', 'hip', 'TheCrown', 'saison', 'c', 'est', 'pour', 'le', 'Cheers', 'Returning', 'to', 'this', 'after', 'bar', 'pub', 'london', 'thecrown', 'sevendials', 'return', 'Gineaus', 'Guinness', 'Cheeky', 'beer', 'after', 'the', 'curry', 'londonlife', 'While', 'the', 'baby', 'sleeps', 'we', 'drink', 'A', 'wild', 'Pikachu', 'appears', 'Welcome', 'humans', 'to', 'the', 'Storm', 'Force', 'Accelatron', 'Due', 'to', 'the', 'highly', 'confidential', 'nature', 'of', 'this', 'mission', 'please', 'keep', 'all', 'cell', 'phones', 'go', 'pros', 'and', 'other', 'recording', 'devices', 'away', 'Spin', 'the', 'metal', 'wheel']\n"
     ]
    }
   ],
   "source": [
    "tokenized_english_words = []\n",
    "for sentence in english_sentences:\n",
    "    tokenized_words= word_tokenize(sentence)\n",
    "    for word in tokenized_words:\n",
    "        if word.encode().isalpha(): # removes punctuations and emojis\n",
    "            tokenized_english_words.append(word)\n",
    "\n",
    "print('Tokenized English Words:', tokenized_english_words[:100]) # to get a better view of the output, I print only the first one hounder rows"
   ]
  },
  {
   "cell_type": "markdown",
   "metadata": {},
   "source": [
    "3. **Intial Frequency Distribution**: this phase records the number of times each words occurred in this initial phase, to then see the differences with the final phase of natural language data analysis."
   ]
  },
  {
   "cell_type": "code",
   "execution_count": 91,
   "metadata": {},
   "outputs": [
    {
     "data": {
      "image/png": "[encoded data removed]",
      "text/plain": [
       "<Figure size 432x288 with 1 Axes>"
      ]
     },
     "metadata": {
      "needs_background": "light"
     },
     "output_type": "display_data"
    }
   ],
   "source": [
    "freq_dist = FreqDist(tokenized_english_words)\n",
    "    \n",
    "freq_dist.plot(30,cumulative=False)\n",
    "plt.show()"
   ]
  },
  {
   "cell_type": "markdown",
   "metadata": {},
   "source": [
    "4. **Removing Stopwords**: in this phase the most common English words in data are removed."
   ]
  },
  {
   "cell_type": "code",
   "execution_count": 92,
   "metadata": {},
   "outputs": [
    {
     "name": "stdout",
     "output_type": "stream",
     "text": [
      "Strings without Stopwords: ['teatime', 'scorpion', 'friends', 'love', 'mountains', 'september', 'thE', 'sky', 'gavE', 'mE', 'constEllation', 'beautiful', 'Christmas', 'lights', 'As', 'per', 'suggestion', 'themerrytriotakeslondon', 'everything', 'still', 'feels', 'surreal', 'Guinness', 'london', 'pub', 'guinness', 'love', 'Hip', 'hip', 'hip', 'TheCrown', 'saison', 'c', 'est', 'pour', 'le', 'Cheers', 'Returning', 'bar', 'pub', 'london', 'thecrown', 'sevendials', 'return', 'Gineaus', 'Guinness', 'Cheeky', 'beer', 'curry', 'londonlife', 'While', 'baby', 'sleeps', 'drink', 'A', 'wild', 'Pikachu', 'appears', 'Welcome', 'humans', 'Storm', 'Force', 'Accelatron', 'Due', 'highly', 'confidential', 'nature', 'mission', 'please', 'keep', 'cell', 'phones', 'go', 'pros', 'recording', 'devices', 'away', 'Spin', 'metal', 'wheel', 'front', 'augment', 'Storm', 'power', 'Good', 'luck', 'defeating', 'terribly', 'misunderstood', 'Magneto', 'uotmlife', 'storm', 'xmen', 'marvel', 'drip', 'mutant', 'Inside', 'infinityroom', 'detectivepikachupooup', 'pikachudetective']\n"
     ]
    }
   ],
   "source": [
    "stop_words = set(stopwords.words(\"english\"))\n",
    "words_without_stopwords = []\n",
    "for word in tokenized_english_words: \n",
    "     if word not in stop_words:\n",
    "        words_without_stopwords.append(word)\n",
    "\n",
    "print(\"Strings without Stopwords:\", words_without_stopwords[:100]) # to get a better view of the output, I print only the first one hounder rows"
   ]
  },
  {
   "cell_type": "markdown",
   "metadata": {},
   "source": [
    "5. **Lexicon Normalization**\n",
    "\n",
    "- **Stemming**: can be descriped as the process of reducing a word to its stem or root format.\n",
    "\n",
    "- **Lemmatization**: can be described as the transformation that uses a dictionary to map a word's variant back to its root format."
   ]
  },
  {
   "cell_type": "code",
   "execution_count": 93,
   "metadata": {},
   "outputs": [
    {
     "name": "stdout",
     "output_type": "stream",
     "text": [
      "Stremmed strings: ['teatim', 'scorpion', 'friend', 'love', 'mountain', 'septemb', 'the', 'sky', 'gave', 'me', 'a', 'constel', 'beauti', 'christma', 'light', 'as', 'per', 'your', 'suggest', 'themerrytriotakeslondon', 'everyth', 'still', 'feel', 'so', 'surreal', 'guin', 'london', 'pub', 'guin', 'love', 'hip', 'hip', 'hip', 'thecrown', 'saison', 'c', 'est', 'pour', 'le', 'cheer', 'return', 'to', 'thi', 'after', 'bar', 'pub', 'london', 'thecrown', 'sevendi', 'return', 'gineau', 'guin', 'cheeki', 'beer', 'after', 'the', 'curri', 'londonlif', 'while', 'the', 'babi', 'sleep', 'we', 'drink', 'a', 'wild', 'pikachu', 'appear', 'welcom', 'human', 'to', 'the', 'storm', 'forc', 'accelatron', 'due', 'to', 'the', 'highli', 'confidenti', 'natur', 'of', 'thi', 'mission', 'pleas', 'keep', 'all', 'cell', 'phone', 'go', 'pro', 'and', 'other', 'record', 'devic', 'away', 'spin', 'the', 'metal', 'wheel']\n",
      "\n",
      "\n",
      "Lemmatized strings: ['teatime', 'scorpion', 'friend', 'love', 'mountain', 'september', 'thE', 'sky', 'gavE', 'mE', 'a', 'constEllation', 'beautiful', 'Christmas', 'light', 'As', 'per', 'your', 'suggestion', 'themerrytriotakeslondon', 'everything', 'still', 'feel', 'so', 'surreal', 'Guinness', 'london', 'pub', 'guinness', 'love', 'Hip', 'hip', 'hip', 'TheCrown', 'saison', 'c', 'est', 'pour', 'le', 'Cheers', 'Returning', 'to', 'this', 'after', 'bar', 'pub', 'london', 'thecrown', 'sevendials', 'return', 'Gineaus', 'Guinness', 'Cheeky', 'beer', 'after', 'the', 'curry', 'londonlife', 'While', 'the', 'baby', 'sleep', 'we', 'drink', 'A', 'wild', 'Pikachu', 'appears', 'Welcome', 'human', 'to', 'the', 'Storm', 'Force', 'Accelatron', 'Due', 'to', 'the', 'highly', 'confidential', 'nature', 'of', 'this', 'mission', 'please', 'keep', 'all', 'cell', 'phone', 'go', 'pro', 'and', 'other', 'recording', 'device', 'away', 'Spin', 'the', 'metal', 'wheel']\n"
     ]
    }
   ],
   "source": [
    "ps = PorterStemmer()\n",
    "stemmed_strings = []\n",
    "for word in tokenized_english_words:\n",
    "    stemmed_strings.append(ps.stem(word))\n",
    "\n",
    "lem = WordNetLemmatizer()\n",
    "lemmatized_strings = []\n",
    "for word in tokenized_english_words:\n",
    "    lemmatized_strings.append(lem.lemmatize(word))\n",
    "    \n",
    "print(\"Stremmed strings:\", stemmed_strings[:100]) #to get a better view of the output, I print only the first one hounder rows\n",
    "print('\\n')\n",
    "print(\"Lemmatized strings:\", lemmatized_strings[:100]) #to get a better view of the output, I print only the first one hounder rows"
   ]
  },
  {
   "cell_type": "markdown",
   "metadata": {},
   "source": [
    "6. **Final Frequency Distribution**: records the number of times each words occurred at the end of the natural language data analysis."
   ]
  },
  {
   "cell_type": "code",
   "execution_count": 95,
   "metadata": {},
   "outputs": [
    {
     "data": {
      "image/png": "[encoded data removed]",
      "text/plain": [
       "<Figure size 432x288 with 1 Axes>"
      ]
     },
     "metadata": {
      "needs_background": "light"
     },
     "output_type": "display_data"
    }
   ],
   "source": [
    "final_freq_dist = FreqDist(words_without_stopwords)\n",
    "    \n",
    "final_freq_dist.plot(30,cumulative=False)\n",
    "plt.show()"
   ]
  },
  {
   "cell_type": "markdown",
   "metadata": {},
   "source": [
    "After the NTL analysis, we can conclude that the **20 most common words** in the descriptions of the posts are:"
   ]
  },
  {
   "cell_type": "code",
   "execution_count": 96,
   "metadata": {},
   "outputs": [
    {
     "data": {
      "text/plain": [
       "[('I', 62),\n",
       " ('love', 19),\n",
       " ('day', 18),\n",
       " ('today', 13),\n",
       " ('The', 12),\n",
       " ('time', 11),\n",
       " ('morning', 11),\n",
       " ('little', 11),\n",
       " ('life', 11),\n",
       " ('DentalDesigns', 11),\n",
       " ('best', 11),\n",
       " ('My', 11),\n",
       " ('beautiful', 10),\n",
       " ('one', 10),\n",
       " ('It', 10),\n",
       " ('good', 10),\n",
       " ('We', 9),\n",
       " ('got', 9),\n",
       " ('birthday', 9),\n",
       " ('us', 9)]"
      ]
     },
     "execution_count": 96,
     "metadata": {},
     "output_type": "execute_result"
    }
   ],
   "source": [
    "most_common_words= FreqDist(words_without_stopwords).most_common(20)\n",
    "most_common_words"
   ]
  },
  {
   "cell_type": "markdown",
   "metadata": {},
   "source": [
    "The **20 most common topics** in the descriptions of the posts are:"
   ]
  },
  {
   "cell_type": "code",
   "execution_count": 97,
   "metadata": {},
   "outputs": [
    {
     "data": {
      "text/plain": [
       "[('love', 19),\n",
       " ('today', 13),\n",
       " ('time', 11),\n",
       " ('morning', 11),\n",
       " ('little', 11),\n",
       " ('life', 11),\n",
       " ('DentalDesigns', 11),\n",
       " ('best', 11),\n",
       " ('beautiful', 10),\n",
       " ('good', 10),\n",
       " ('birthday', 9),\n",
       " ('Round', 8),\n",
       " ('This', 8),\n",
       " ('great', 8),\n",
       " ('people', 8),\n",
       " ('Happy', 7),\n",
       " ('like', 7),\n",
       " ('made', 7),\n",
       " ('years', 7),\n",
       " ('look', 7)]"
      ]
     },
     "execution_count": 97,
     "metadata": {},
     "output_type": "execute_result"
    }
   ],
   "source": [
    "most_common_topics = FreqDist([x for x in words_without_stopwords if len(x)>3]).most_common(20)\n",
    "most_common_topics"
   ]
  },
  {
   "cell_type": "code",
   "execution_count": null,
   "metadata": {},
   "outputs": [],
   "source": []
  },
  {
   "cell_type": "code",
   "execution_count": null,
   "metadata": {},
   "outputs": [],
   "source": []
  }
 ],
 "metadata": {
  "kernelspec": {
   "display_name": "Python 3",
   "language": "python",
   "name": "python3"
  },
  "language_info": {
   "codemirror_mode": {
    "name": "ipython",
    "version": 3
   },
   "file_extension": ".py",
   "mimetype": "text/x-python",
   "name": "python",
   "nbconvert_exporter": "python",
   "pygments_lexer": "ipython3",
   "version": "3.7.3"
  }
 },
 "nbformat": 4,
 "nbformat_minor": 5
}
