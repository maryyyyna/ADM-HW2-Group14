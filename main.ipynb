{
 "cells": [
  {
   "cell_type": "markdown",
   "id": "bf237952",
   "metadata": {},
   "source": [
    "# RQ1"
   ]
  },
  {
   "cell_type": "code",
   "execution_count": 38,
   "id": "8b6bc346",
   "metadata": {},
   "outputs": [],
   "source": [
    "import  pandas as pd\n",
    "import matplotlib.pyplot as plt\n",
    "import numpy as np \n",
    "from datetime import datetime\n",
    "import seaborn as sn"
   ]
  },
  {
   "cell_type": "markdown",
   "id": "81bf0849",
   "metadata": {},
   "source": [
    "After collecting information, the Data Scientists have to know what dataset they are dealing with, so let's start with an **Exploratory Data Analysis (EDA)**. What can you say about our datasets? Please summarise its main characteristics with visual and tabular methods."
   ]
  },
  {
   "cell_type": "markdown",
   "id": "4067a65b",
   "metadata": {},
   "source": [
    "First Dataset: **PROFILES**"
   ]
  },
  {
   "cell_type": "code",
   "execution_count": 34,
   "id": "ac66c413",
   "metadata": {},
   "outputs": [
    {
     "data": {
      "text/html": [
       "<div>\n",
       "<style scoped>\n",
       "    .dataframe tbody tr th:only-of-type {\n",
       "        vertical-align: middle;\n",
       "    }\n",
       "\n",
       "    .dataframe tbody tr th {\n",
       "        vertical-align: top;\n",
       "    }\n",
       "\n",
       "    .dataframe thead th {\n",
       "        text-align: right;\n",
       "    }\n",
       "</style>\n",
       "<table border=\"1\" class=\"dataframe\">\n",
       "  <thead>\n",
       "    <tr style=\"text-align: right;\">\n",
       "      <th></th>\n",
       "      <th>sid</th>\n",
       "      <th>profile_id</th>\n",
       "      <th>profile_name</th>\n",
       "      <th>firstname_lastname</th>\n",
       "      <th>description</th>\n",
       "      <th>following</th>\n",
       "      <th>followers</th>\n",
       "      <th>n_posts</th>\n",
       "      <th>url</th>\n",
       "      <th>cts</th>\n",
       "      <th>is_business_account</th>\n",
       "    </tr>\n",
       "  </thead>\n",
       "  <tbody>\n",
       "    <tr>\n",
       "      <th>0</th>\n",
       "      <td>4184446</td>\n",
       "      <td>4.721050e+09</td>\n",
       "      <td>jphillip033</td>\n",
       "      <td>John Pierce</td>\n",
       "      <td>\"Document Everything Always\"</td>\n",
       "      <td>250.0</td>\n",
       "      <td>146.0</td>\n",
       "      <td>170.0</td>\n",
       "      <td>NaN</td>\n",
       "      <td>2019-08-01 14:38:55.394 -0400</td>\n",
       "      <td>False</td>\n",
       "    </tr>\n",
       "    <tr>\n",
       "      <th>1</th>\n",
       "      <td>4184457</td>\n",
       "      <td>5.905830e+08</td>\n",
       "      <td>mama_haas</td>\n",
       "      <td>Deanna</td>\n",
       "      <td>Trying to enjoy the simple things in life. Kni...</td>\n",
       "      <td>534.0</td>\n",
       "      <td>1145.0</td>\n",
       "      <td>2878.0</td>\n",
       "      <td>www.etsy.com/shop/MamaHaas69</td>\n",
       "      <td>2019-08-01 14:39:36.526 -0400</td>\n",
       "      <td>False</td>\n",
       "    </tr>\n",
       "    <tr>\n",
       "      <th>2</th>\n",
       "      <td>4184460</td>\n",
       "      <td>1.074147e+09</td>\n",
       "      <td>yellowlightbreen</td>\n",
       "      <td>Eliza Gray</td>\n",
       "      <td>Maine is for Lovers</td>\n",
       "      <td>469.0</td>\n",
       "      <td>324.0</td>\n",
       "      <td>431.0</td>\n",
       "      <td>elizajanegray.com</td>\n",
       "      <td>2019-08-01 14:39:54.407 -0400</td>\n",
       "      <td>False</td>\n",
       "    </tr>\n",
       "    <tr>\n",
       "      <th>3</th>\n",
       "      <td>4184461</td>\n",
       "      <td>1.472039e+09</td>\n",
       "      <td>tec1025</td>\n",
       "      <td>Thomas Clark</td>\n",
       "      <td>NaN</td>\n",
       "      <td>NaN</td>\n",
       "      <td>NaN</td>\n",
       "      <td>NaN</td>\n",
       "      <td>NaN</td>\n",
       "      <td>2019-08-01 14:40:06.472 -0400</td>\n",
       "      <td>NaN</td>\n",
       "    </tr>\n",
       "    <tr>\n",
       "      <th>4</th>\n",
       "      <td>4184462</td>\n",
       "      <td>3.531421e+09</td>\n",
       "      <td>luckyfluff</td>\n",
       "      <td>NaN</td>\n",
       "      <td>NaN</td>\n",
       "      <td>NaN</td>\n",
       "      <td>NaN</td>\n",
       "      <td>NaN</td>\n",
       "      <td>NaN</td>\n",
       "      <td>2019-08-01 14:40:07.806 -0400</td>\n",
       "      <td>NaN</td>\n",
       "    </tr>\n",
       "  </tbody>\n",
       "</table>\n",
       "</div>"
      ],
      "text/plain": [
       "       sid    profile_id      profile_name firstname_lastname  \\\n",
       "0  4184446  4.721050e+09       jphillip033        John Pierce   \n",
       "1  4184457  5.905830e+08         mama_haas             Deanna   \n",
       "2  4184460  1.074147e+09  yellowlightbreen         Eliza Gray   \n",
       "3  4184461  1.472039e+09           tec1025       Thomas Clark   \n",
       "4  4184462  3.531421e+09        luckyfluff                NaN   \n",
       "\n",
       "                                         description  following  followers  \\\n",
       "0                       \"Document Everything Always\"      250.0      146.0   \n",
       "1  Trying to enjoy the simple things in life. Kni...      534.0     1145.0   \n",
       "2                                Maine is for Lovers      469.0      324.0   \n",
       "3                                                NaN        NaN        NaN   \n",
       "4                                                NaN        NaN        NaN   \n",
       "\n",
       "   n_posts                           url                            cts  \\\n",
       "0    170.0                           NaN  2019-08-01 14:38:55.394 -0400   \n",
       "1   2878.0  www.etsy.com/shop/MamaHaas69  2019-08-01 14:39:36.526 -0400   \n",
       "2    431.0             elizajanegray.com  2019-08-01 14:39:54.407 -0400   \n",
       "3      NaN                           NaN  2019-08-01 14:40:06.472 -0400   \n",
       "4      NaN                           NaN  2019-08-01 14:40:07.806 -0400   \n",
       "\n",
       "  is_business_account  \n",
       "0               False  \n",
       "1               False  \n",
       "2               False  \n",
       "3                 NaN  \n",
       "4                 NaN  "
      ]
     },
     "execution_count": 34,
     "metadata": {},
     "output_type": "execute_result"
    }
   ],
   "source": [
    "profiles = pd.read_csv('~/instagram_profiles.csv', sep='\\t')\n",
    "profiles.head(5) #to get a better view of the output, we print only the first five rows"
   ]
  },
  {
   "cell_type": "code",
   "execution_count": 15,
   "id": "d1f21e37",
   "metadata": {},
   "outputs": [
    {
     "data": {
      "text/plain": [
       "sid                          0\n",
       "profile_id               32447\n",
       "profile_name                 0\n",
       "firstname_lastname      288465\n",
       "description            2055996\n",
       "following              1056815\n",
       "followers              1056815\n",
       "n_posts                1056815\n",
       "url                    3639312\n",
       "cts                     438488\n",
       "is_business_account    1064263\n",
       "dtype: int64"
      ]
     },
     "execution_count": 15,
     "metadata": {},
     "output_type": "execute_result"
    }
   ],
   "source": [
    "profiles.isna().sum() #count na for column"
   ]
  },
  {
   "cell_type": "code",
   "execution_count": 28,
   "id": "4650cef0",
   "metadata": {},
   "outputs": [
    {
     "name": "stdout",
     "output_type": "stream",
     "text": [
      "<class 'pandas.core.frame.DataFrame'>\n",
      "Int64Index: 746064 entries, 1 to 4509572\n",
      "Data columns (total 11 columns):\n",
      " #   Column               Non-Null Count   Dtype  \n",
      "---  ------               --------------   -----  \n",
      " 0   sid                  746064 non-null  int64  \n",
      " 1   profile_id           746064 non-null  float64\n",
      " 2   profile_name         746064 non-null  object \n",
      " 3   firstname_lastname   746064 non-null  object \n",
      " 4   description          746064 non-null  object \n",
      " 5   following            746064 non-null  float64\n",
      " 6   followers            746064 non-null  float64\n",
      " 7   n_posts              746064 non-null  float64\n",
      " 8   url                  746064 non-null  object \n",
      " 9   cts                  746064 non-null  object \n",
      " 10  is_business_account  746064 non-null  object \n",
      "dtypes: float64(4), int64(1), object(6)\n",
      "memory usage: 68.3+ MB\n"
     ]
    }
   ],
   "source": [
    "profiles.info()"
   ]
  },
  {
   "cell_type": "code",
   "execution_count": 30,
   "id": "a39dcf86",
   "metadata": {},
   "outputs": [
    {
     "data": {
      "text/html": [
       "<div>\n",
       "<style scoped>\n",
       "    .dataframe tbody tr th:only-of-type {\n",
       "        vertical-align: middle;\n",
       "    }\n",
       "\n",
       "    .dataframe tbody tr th {\n",
       "        vertical-align: top;\n",
       "    }\n",
       "\n",
       "    .dataframe thead th {\n",
       "        text-align: right;\n",
       "    }\n",
       "</style>\n",
       "<table border=\"1\" class=\"dataframe\">\n",
       "  <thead>\n",
       "    <tr style=\"text-align: right;\">\n",
       "      <th></th>\n",
       "      <th>sid</th>\n",
       "      <th>profile_id</th>\n",
       "      <th>following</th>\n",
       "      <th>followers</th>\n",
       "      <th>n_posts</th>\n",
       "    </tr>\n",
       "  </thead>\n",
       "  <tbody>\n",
       "    <tr>\n",
       "      <th>count</th>\n",
       "      <td>7.460640e+05</td>\n",
       "      <td>7.460640e+05</td>\n",
       "      <td>7.460640e+05</td>\n",
       "      <td>7.460640e+05</td>\n",
       "      <td>746064.000000</td>\n",
       "    </tr>\n",
       "    <tr>\n",
       "      <th>mean</th>\n",
       "      <td>2.305006e+06</td>\n",
       "      <td>2.860714e+09</td>\n",
       "      <td>1.734034e+03</td>\n",
       "      <td>1.126961e+04</td>\n",
       "      <td>670.256459</td>\n",
       "    </tr>\n",
       "    <tr>\n",
       "      <th>std</th>\n",
       "      <td>1.380376e+06</td>\n",
       "      <td>3.076604e+09</td>\n",
       "      <td>1.536903e+04</td>\n",
       "      <td>1.553586e+05</td>\n",
       "      <td>1417.273477</td>\n",
       "    </tr>\n",
       "    <tr>\n",
       "      <th>min</th>\n",
       "      <td>1.186000e+03</td>\n",
       "      <td>1.900000e+01</td>\n",
       "      <td>0.000000e+00</td>\n",
       "      <td>0.000000e+00</td>\n",
       "      <td>0.000000</td>\n",
       "    </tr>\n",
       "    <tr>\n",
       "      <th>25%</th>\n",
       "      <td>1.070186e+06</td>\n",
       "      <td>2.686020e+08</td>\n",
       "      <td>4.510000e+02</td>\n",
       "      <td>4.270000e+02</td>\n",
       "      <td>83.000000</td>\n",
       "    </tr>\n",
       "    <tr>\n",
       "      <th>50%</th>\n",
       "      <td>2.445360e+06</td>\n",
       "      <td>1.646998e+09</td>\n",
       "      <td>9.380000e+02</td>\n",
       "      <td>9.990000e+02</td>\n",
       "      <td>278.000000</td>\n",
       "    </tr>\n",
       "    <tr>\n",
       "      <th>75%</th>\n",
       "      <td>3.546743e+06</td>\n",
       "      <td>4.768759e+09</td>\n",
       "      <td>2.012000e+03</td>\n",
       "      <td>2.746000e+03</td>\n",
       "      <td>754.000000</td>\n",
       "    </tr>\n",
       "    <tr>\n",
       "      <th>max</th>\n",
       "      <td>4.510784e+06</td>\n",
       "      <td>1.588704e+10</td>\n",
       "      <td>4.191080e+06</td>\n",
       "      <td>2.954214e+07</td>\n",
       "      <td>142428.000000</td>\n",
       "    </tr>\n",
       "  </tbody>\n",
       "</table>\n",
       "</div>"
      ],
      "text/plain": [
       "                sid    profile_id     following     followers        n_posts\n",
       "count  7.460640e+05  7.460640e+05  7.460640e+05  7.460640e+05  746064.000000\n",
       "mean   2.305006e+06  2.860714e+09  1.734034e+03  1.126961e+04     670.256459\n",
       "std    1.380376e+06  3.076604e+09  1.536903e+04  1.553586e+05    1417.273477\n",
       "min    1.186000e+03  1.900000e+01  0.000000e+00  0.000000e+00       0.000000\n",
       "25%    1.070186e+06  2.686020e+08  4.510000e+02  4.270000e+02      83.000000\n",
       "50%    2.445360e+06  1.646998e+09  9.380000e+02  9.990000e+02     278.000000\n",
       "75%    3.546743e+06  4.768759e+09  2.012000e+03  2.746000e+03     754.000000\n",
       "max    4.510784e+06  1.588704e+10  4.191080e+06  2.954214e+07  142428.000000"
      ]
     },
     "execution_count": 30,
     "metadata": {},
     "output_type": "execute_result"
    }
   ],
   "source": [
    "profiles.describe() #principal indicators"
   ]
  },
  {
   "cell_type": "code",
   "execution_count": 35,
   "id": "33034a0b",
   "metadata": {},
   "outputs": [
    {
     "data": {
      "text/plain": [
       "[<matplotlib.lines.Line2D at 0x1369824b340>]"
      ]
     },
     "execution_count": 35,
     "metadata": {},
     "output_type": "execute_result"
    },
    {
     "data": {
      "image/png": "[encoded data removed]",
      "text/plain": [
       "<Figure size 432x288 with 1 Axes>"
      ]
     },
     "metadata": {
      "needs_background": "light"
     },
     "output_type": "display_data"
    }
   ],
   "source": [
    "plt.plot(profiles['following']) # to highlight the peaks"
   ]
  },
  {
   "cell_type": "code",
   "execution_count": 36,
   "id": "34c06fc5",
   "metadata": {},
   "outputs": [
    {
     "data": {
      "text/plain": [
       "[<matplotlib.lines.Line2D at 0x13606457070>]"
      ]
     },
     "execution_count": 36,
     "metadata": {},
     "output_type": "execute_result"
    },
    {
     "data": {
      "image/png": "[encoded data removed]",
      "text/plain": [
       "<Figure size 432x288 with 1 Axes>"
      ]
     },
     "metadata": {
      "needs_background": "light"
     },
     "output_type": "display_data"
    }
   ],
   "source": [
    "plt.plot(profiles['followers']) # to highlight the peaks"
   ]
  },
  {
   "cell_type": "code",
   "execution_count": 39,
   "id": "f146c3d9",
   "metadata": {},
   "outputs": [
    {
     "data": {
      "image/png": "[encoded data removed]",
      "text/plain": [
       "<Figure size 432x288 with 2 Axes>"
      ]
     },
     "metadata": {
      "needs_background": "light"
     },
     "output_type": "display_data"
    }
   ],
   "source": [
    "corrMatrix=profiles.corr()\n",
    "sn.heatmap(corrMatrix, annot=True)\n",
    "plt.show()"
   ]
  },
  {
   "cell_type": "markdown",
   "id": "98d722d5",
   "metadata": {},
   "source": [
    "Second Dataset: **LOCATIONS**"
   ]
  },
  {
   "cell_type": "code",
   "execution_count": 32,
   "id": "2ab01d93",
   "metadata": {},
   "outputs": [
    {
     "data": {
      "text/html": [
       "<div>\n",
       "<style scoped>\n",
       "    .dataframe tbody tr th:only-of-type {\n",
       "        vertical-align: middle;\n",
       "    }\n",
       "\n",
       "    .dataframe tbody tr th {\n",
       "        vertical-align: top;\n",
       "    }\n",
       "\n",
       "    .dataframe thead th {\n",
       "        text-align: right;\n",
       "    }\n",
       "</style>\n",
       "<table border=\"1\" class=\"dataframe\">\n",
       "  <thead>\n",
       "    <tr style=\"text-align: right;\">\n",
       "      <th></th>\n",
       "      <th>sid</th>\n",
       "      <th>id</th>\n",
       "      <th>name</th>\n",
       "      <th>street</th>\n",
       "      <th>zip</th>\n",
       "      <th>city</th>\n",
       "      <th>region</th>\n",
       "      <th>cd</th>\n",
       "      <th>phone</th>\n",
       "      <th>aj_exact_city_match</th>\n",
       "      <th>...</th>\n",
       "      <th>dir_city_name</th>\n",
       "      <th>dir_city_slug</th>\n",
       "      <th>dir_country_id</th>\n",
       "      <th>dir_country_name</th>\n",
       "      <th>lat</th>\n",
       "      <th>lng</th>\n",
       "      <th>primary_alias_on_fb</th>\n",
       "      <th>slug</th>\n",
       "      <th>website</th>\n",
       "      <th>cts</th>\n",
       "    </tr>\n",
       "  </thead>\n",
       "  <tbody>\n",
       "    <tr>\n",
       "      <th>0</th>\n",
       "      <td>719981</td>\n",
       "      <td>110296492939207</td>\n",
       "      <td>Playa de Daimuz - Valencia, España</td>\n",
       "      <td>NaN</td>\n",
       "      <td>NaN</td>\n",
       "      <td>NaN</td>\n",
       "      <td>NaN</td>\n",
       "      <td>NaN</td>\n",
       "      <td>NaN</td>\n",
       "      <td>False</td>\n",
       "      <td>...</td>\n",
       "      <td>NaN</td>\n",
       "      <td>NaN</td>\n",
       "      <td>NaN</td>\n",
       "      <td>NaN</td>\n",
       "      <td>-0.139475</td>\n",
       "      <td>38.974391</td>\n",
       "      <td>daimuzplaya</td>\n",
       "      <td>playa-de-daimuz-valencia-espana</td>\n",
       "      <td>https://es.wikipedia.org/wiki/Daimuz</td>\n",
       "      <td>2019-05-29 01:21:29.987</td>\n",
       "    </tr>\n",
       "    <tr>\n",
       "      <th>1</th>\n",
       "      <td>719983</td>\n",
       "      <td>274391278</td>\n",
       "      <td>Nová Vieska</td>\n",
       "      <td>NaN</td>\n",
       "      <td>NaN</td>\n",
       "      <td>Nová Vieska</td>\n",
       "      <td>NaN</td>\n",
       "      <td>SK</td>\n",
       "      <td>NaN</td>\n",
       "      <td>True</td>\n",
       "      <td>...</td>\n",
       "      <td>Kis-Újfalu</td>\n",
       "      <td>kis-ujfalu</td>\n",
       "      <td>SK</td>\n",
       "      <td>Slovakia</td>\n",
       "      <td>18.466667</td>\n",
       "      <td>47.866667</td>\n",
       "      <td>NaN</td>\n",
       "      <td>nova-vieska</td>\n",
       "      <td>NaN</td>\n",
       "      <td>2019-05-29 01:21:38.037</td>\n",
       "    </tr>\n",
       "    <tr>\n",
       "      <th>2</th>\n",
       "      <td>719985</td>\n",
       "      <td>148885595789195</td>\n",
       "      <td>Everest Today</td>\n",
       "      <td>Himalayas</td>\n",
       "      <td>+977</td>\n",
       "      <td>Kathmandu, Nepal</td>\n",
       "      <td>NaN</td>\n",
       "      <td>NP</td>\n",
       "      <td>NaN</td>\n",
       "      <td>False</td>\n",
       "      <td>...</td>\n",
       "      <td>Pasupati</td>\n",
       "      <td>pasupati</td>\n",
       "      <td>NP</td>\n",
       "      <td>Nepal</td>\n",
       "      <td>85.330150</td>\n",
       "      <td>27.701960</td>\n",
       "      <td>EverestToday</td>\n",
       "      <td>everest-today</td>\n",
       "      <td>NaN</td>\n",
       "      <td>2019-05-29 01:21:46.295</td>\n",
       "    </tr>\n",
       "    <tr>\n",
       "      <th>3</th>\n",
       "      <td>719987</td>\n",
       "      <td>263258277</td>\n",
       "      <td>BULAC - Bibliothèque universitaire des langues...</td>\n",
       "      <td>65, rue des Grands-Moulins</td>\n",
       "      <td>75013</td>\n",
       "      <td>Paris, France</td>\n",
       "      <td>NaN</td>\n",
       "      <td>FR</td>\n",
       "      <td>01 81 69 18 00</td>\n",
       "      <td>False</td>\n",
       "      <td>...</td>\n",
       "      <td>13ème Arrondissement Paris</td>\n",
       "      <td>13eme-arrondissement-paris</td>\n",
       "      <td>FR</td>\n",
       "      <td>France</td>\n",
       "      <td>2.375995</td>\n",
       "      <td>48.827240</td>\n",
       "      <td>BULAC.Paris</td>\n",
       "      <td>bulac-bibliotheque-universitaire-des-langues-e...</td>\n",
       "      <td>www.bulac.fr</td>\n",
       "      <td>2019-05-29 01:21:54.355</td>\n",
       "    </tr>\n",
       "    <tr>\n",
       "      <th>4</th>\n",
       "      <td>326443</td>\n",
       "      <td>406147529857708</td>\n",
       "      <td>ABC Cable Networks Group</td>\n",
       "      <td>3800 W Alameda Ave</td>\n",
       "      <td>91505</td>\n",
       "      <td>Burbank, California</td>\n",
       "      <td>NaN</td>\n",
       "      <td>US</td>\n",
       "      <td>(818) 569-7500</td>\n",
       "      <td>False</td>\n",
       "      <td>...</td>\n",
       "      <td>NaN</td>\n",
       "      <td>NaN</td>\n",
       "      <td>NaN</td>\n",
       "      <td>NaN</td>\n",
       "      <td>-118.341864</td>\n",
       "      <td>34.153265</td>\n",
       "      <td>NaN</td>\n",
       "      <td>abc-cable-networks-group</td>\n",
       "      <td>NaN</td>\n",
       "      <td>2019-04-02 15:22:55.703</td>\n",
       "    </tr>\n",
       "  </tbody>\n",
       "</table>\n",
       "<p>5 rows × 23 columns</p>\n",
       "</div>"
      ],
      "text/plain": [
       "      sid               id                                               name  \\\n",
       "0  719981  110296492939207                 Playa de Daimuz - Valencia, España   \n",
       "1  719983        274391278                                        Nová Vieska   \n",
       "2  719985  148885595789195                                      Everest Today   \n",
       "3  719987        263258277  BULAC - Bibliothèque universitaire des langues...   \n",
       "4  326443  406147529857708                           ABC Cable Networks Group   \n",
       "\n",
       "                       street    zip                 city region   cd  \\\n",
       "0                         NaN    NaN                  NaN    NaN  NaN   \n",
       "1                         NaN    NaN          Nová Vieska    NaN   SK   \n",
       "2                   Himalayas   +977     Kathmandu, Nepal    NaN   NP   \n",
       "3  65, rue des Grands-Moulins  75013        Paris, France    NaN   FR   \n",
       "4          3800 W Alameda Ave  91505  Burbank, California    NaN   US   \n",
       "\n",
       "            phone aj_exact_city_match  ...               dir_city_name  \\\n",
       "0             NaN               False  ...                         NaN   \n",
       "1             NaN                True  ...                  Kis-Újfalu   \n",
       "2             NaN               False  ...                    Pasupati   \n",
       "3  01 81 69 18 00               False  ...  13ème Arrondissement Paris   \n",
       "4  (818) 569-7500               False  ...                         NaN   \n",
       "\n",
       "                dir_city_slug dir_country_id dir_country_name         lat  \\\n",
       "0                         NaN            NaN              NaN   -0.139475   \n",
       "1                  kis-ujfalu             SK         Slovakia   18.466667   \n",
       "2                    pasupati             NP            Nepal   85.330150   \n",
       "3  13eme-arrondissement-paris             FR           France    2.375995   \n",
       "4                         NaN            NaN              NaN -118.341864   \n",
       "\n",
       "         lng primary_alias_on_fb  \\\n",
       "0  38.974391         daimuzplaya   \n",
       "1  47.866667                 NaN   \n",
       "2  27.701960        EverestToday   \n",
       "3  48.827240         BULAC.Paris   \n",
       "4  34.153265                 NaN   \n",
       "\n",
       "                                                slug  \\\n",
       "0                    playa-de-daimuz-valencia-espana   \n",
       "1                                        nova-vieska   \n",
       "2                                      everest-today   \n",
       "3  bulac-bibliotheque-universitaire-des-langues-e...   \n",
       "4                           abc-cable-networks-group   \n",
       "\n",
       "                                website                      cts  \n",
       "0  https://es.wikipedia.org/wiki/Daimuz  2019-05-29 01:21:29.987  \n",
       "1                                   NaN  2019-05-29 01:21:38.037  \n",
       "2                                   NaN  2019-05-29 01:21:46.295  \n",
       "3                          www.bulac.fr  2019-05-29 01:21:54.355  \n",
       "4                                   NaN  2019-04-02 15:22:55.703  \n",
       "\n",
       "[5 rows x 23 columns]"
      ]
     },
     "execution_count": 32,
     "metadata": {},
     "output_type": "execute_result"
    }
   ],
   "source": [
    "locations =  pd.read_csv('~/instagram_locations.csv', sep='\\t')\n",
    "locations.head(5) "
   ]
  },
  {
   "cell_type": "code",
   "execution_count": 39,
   "id": "48f8b67f",
   "metadata": {},
   "outputs": [
    {
     "data": {
      "text/plain": [
       "sid                             0\n",
       "id                              0\n",
       "name                            0\n",
       "street                     306954\n",
       "zip                        307079\n",
       "city                        85492\n",
       "region                    1020898\n",
       "cd                          83648\n",
       "phone                      420970\n",
       "aj_exact_city_match         22148\n",
       "aj_exact_country_match      22148\n",
       "blurb                      615953\n",
       "dir_city_id                526960\n",
       "dir_city_name              526960\n",
       "dir_city_slug              527437\n",
       "dir_country_id             527030\n",
       "dir_country_name           526960\n",
       "lat                          6163\n",
       "lng                          6163\n",
       "primary_alias_on_fb        597127\n",
       "slug                        80990\n",
       "website                    399396\n",
       "cts                             0\n",
       "dtype: int64"
      ]
     },
     "execution_count": 39,
     "metadata": {},
     "output_type": "execute_result"
    }
   ],
   "source": [
    "locations.isna().sum()"
   ]
  },
  {
   "cell_type": "code",
   "execution_count": 40,
   "id": "26625ee4",
   "metadata": {},
   "outputs": [
    {
     "name": "stdout",
     "output_type": "stream",
     "text": [
      "<class 'pandas.core.frame.DataFrame'>\n",
      "RangeIndex: 1022658 entries, 0 to 1022657\n",
      "Data columns (total 23 columns):\n",
      " #   Column                  Non-Null Count    Dtype  \n",
      "---  ------                  --------------    -----  \n",
      " 0   sid                     1022658 non-null  int64  \n",
      " 1   id                      1022658 non-null  int64  \n",
      " 2   name                    1022658 non-null  object \n",
      " 3   street                  715704 non-null   object \n",
      " 4   zip                     715579 non-null   object \n",
      " 5   city                    937166 non-null   object \n",
      " 6   region                  1760 non-null     object \n",
      " 7   cd                      939010 non-null   object \n",
      " 8   phone                   601688 non-null   object \n",
      " 9   aj_exact_city_match     1000510 non-null  object \n",
      " 10  aj_exact_country_match  1000510 non-null  object \n",
      " 11  blurb                   406705 non-null   object \n",
      " 12  dir_city_id             495698 non-null   object \n",
      " 13  dir_city_name           495698 non-null   object \n",
      " 14  dir_city_slug           495221 non-null   object \n",
      " 15  dir_country_id          495628 non-null   object \n",
      " 16  dir_country_name        495698 non-null   object \n",
      " 17  lat                     1016495 non-null  float64\n",
      " 18  lng                     1016495 non-null  float64\n",
      " 19  primary_alias_on_fb     425531 non-null   object \n",
      " 20  slug                    941668 non-null   object \n",
      " 21  website                 623262 non-null   object \n",
      " 22  cts                     1022658 non-null  object \n",
      "dtypes: float64(2), int64(2), object(19)\n",
      "memory usage: 179.5+ MB\n"
     ]
    }
   ],
   "source": [
    "locations.info()"
   ]
  },
  {
   "cell_type": "markdown",
   "id": "4baaf180",
   "metadata": {},
   "source": [
    "Third Dataset: **POSTS**"
   ]
  },
  {
   "cell_type": "markdown",
   "id": "84a63b78",
   "metadata": {},
   "source": [
    "Since the dataset is really heavy we'll have an EDA of the principal columns. "
   ]
  },
  {
   "cell_type": "code",
   "execution_count": 34,
   "id": "002627c7",
   "metadata": {},
   "outputs": [],
   "source": [
    "posts_id = pd.read_csv('~/instagram_posts.csv', sep='\\t', usecols = ['post_id'])"
   ]
  },
  {
   "cell_type": "code",
   "execution_count": 36,
   "id": "ea1da41d",
   "metadata": {},
   "outputs": [
    {
     "data": {
      "text/html": [
       "<div>\n",
       "<style scoped>\n",
       "    .dataframe tbody tr th:only-of-type {\n",
       "        vertical-align: middle;\n",
       "    }\n",
       "\n",
       "    .dataframe tbody tr th {\n",
       "        vertical-align: top;\n",
       "    }\n",
       "\n",
       "    .dataframe thead th {\n",
       "        text-align: right;\n",
       "    }\n",
       "</style>\n",
       "<table border=\"1\" class=\"dataframe\">\n",
       "  <thead>\n",
       "    <tr style=\"text-align: right;\">\n",
       "      <th></th>\n",
       "      <th>post_id</th>\n",
       "    </tr>\n",
       "  </thead>\n",
       "  <tbody>\n",
       "    <tr>\n",
       "      <th>0</th>\n",
       "      <td>BXdjjUlgcgq</td>\n",
       "    </tr>\n",
       "    <tr>\n",
       "      <th>1</th>\n",
       "      <td>BVg0pbolYBC</td>\n",
       "    </tr>\n",
       "    <tr>\n",
       "      <th>2</th>\n",
       "      <td>BRgkjcXFp3Q</td>\n",
       "    </tr>\n",
       "  </tbody>\n",
       "</table>\n",
       "</div>"
      ],
      "text/plain": [
       "       post_id\n",
       "0  BXdjjUlgcgq\n",
       "1  BVg0pbolYBC\n",
       "2  BRgkjcXFp3Q"
      ]
     },
     "execution_count": 36,
     "metadata": {},
     "output_type": "execute_result"
    }
   ],
   "source": [
    "posts_id.head(3)"
   ]
  },
  {
   "cell_type": "code",
   "execution_count": 37,
   "id": "01afa716",
   "metadata": {},
   "outputs": [
    {
     "data": {
      "text/plain": [
       "post_id    0\n",
       "dtype: int64"
      ]
     },
     "execution_count": 37,
     "metadata": {},
     "output_type": "execute_result"
    }
   ],
   "source": [
    "posts_id.isna().sum()"
   ]
  },
  {
   "cell_type": "code",
   "execution_count": 38,
   "id": "cde699a4",
   "metadata": {},
   "outputs": [
    {
     "name": "stdout",
     "output_type": "stream",
     "text": [
      "<class 'pandas.core.frame.DataFrame'>\n",
      "RangeIndex: 42710197 entries, 0 to 42710196\n",
      "Data columns (total 1 columns):\n",
      " #   Column   Dtype \n",
      "---  ------   ----- \n",
      " 0   post_id  object\n",
      "dtypes: object(1)\n",
      "memory usage: 325.9+ MB\n"
     ]
    }
   ],
   "source": [
    "posts_id.info()"
   ]
  },
  {
   "cell_type": "code",
   "execution_count": 41,
   "id": "f62cc5cb",
   "metadata": {},
   "outputs": [],
   "source": [
    "posts_profile_id = pd.read_csv('~/instagram_posts.csv', sep='\\t', usecols = ['profile_id'])"
   ]
  },
  {
   "cell_type": "code",
   "execution_count": 42,
   "id": "149d345e",
   "metadata": {},
   "outputs": [
    {
     "data": {
      "text/html": [
       "<div>\n",
       "<style scoped>\n",
       "    .dataframe tbody tr th:only-of-type {\n",
       "        vertical-align: middle;\n",
       "    }\n",
       "\n",
       "    .dataframe tbody tr th {\n",
       "        vertical-align: top;\n",
       "    }\n",
       "\n",
       "    .dataframe thead th {\n",
       "        text-align: right;\n",
       "    }\n",
       "</style>\n",
       "<table border=\"1\" class=\"dataframe\">\n",
       "  <thead>\n",
       "    <tr style=\"text-align: right;\">\n",
       "      <th></th>\n",
       "      <th>profile_id</th>\n",
       "    </tr>\n",
       "  </thead>\n",
       "  <tbody>\n",
       "    <tr>\n",
       "      <th>0</th>\n",
       "      <td>2.237948e+09</td>\n",
       "    </tr>\n",
       "    <tr>\n",
       "      <th>1</th>\n",
       "      <td>5.579335e+09</td>\n",
       "    </tr>\n",
       "    <tr>\n",
       "      <th>2</th>\n",
       "      <td>3.134296e+08</td>\n",
       "    </tr>\n",
       "  </tbody>\n",
       "</table>\n",
       "</div>"
      ],
      "text/plain": [
       "     profile_id\n",
       "0  2.237948e+09\n",
       "1  5.579335e+09\n",
       "2  3.134296e+08"
      ]
     },
     "execution_count": 42,
     "metadata": {},
     "output_type": "execute_result"
    }
   ],
   "source": [
    "posts_profile_id.head(3)"
   ]
  },
  {
   "cell_type": "code",
   "execution_count": 47,
   "id": "426e9399",
   "metadata": {},
   "outputs": [
    {
     "data": {
      "text/plain": [
       "profile_id    2583292\n",
       "dtype: int64"
      ]
     },
     "execution_count": 47,
     "metadata": {},
     "output_type": "execute_result"
    }
   ],
   "source": [
    "posts_profile_id.isna().sum() #probably deleted accounts "
   ]
  },
  {
   "cell_type": "code",
   "execution_count": 48,
   "id": "033cca21",
   "metadata": {},
   "outputs": [
    {
     "name": "stdout",
     "output_type": "stream",
     "text": [
      "<class 'pandas.core.frame.DataFrame'>\n",
      "RangeIndex: 42710197 entries, 0 to 42710196\n",
      "Data columns (total 1 columns):\n",
      " #   Column      Dtype  \n",
      "---  ------      -----  \n",
      " 0   profile_id  float64\n",
      "dtypes: float64(1)\n",
      "memory usage: 325.9 MB\n"
     ]
    }
   ],
   "source": [
    "posts_profile_id.info()\n"
   ]
  },
  {
   "cell_type": "code",
   "execution_count": 43,
   "id": "02498354",
   "metadata": {},
   "outputs": [],
   "source": [
    "posts_cts = pd.read_csv('~/instagram_posts.csv', sep='\\t', usecols = ['cts'])"
   ]
  },
  {
   "cell_type": "code",
   "execution_count": 44,
   "id": "fefdd95b",
   "metadata": {},
   "outputs": [
    {
     "data": {
      "text/html": [
       "<div>\n",
       "<style scoped>\n",
       "    .dataframe tbody tr th:only-of-type {\n",
       "        vertical-align: middle;\n",
       "    }\n",
       "\n",
       "    .dataframe tbody tr th {\n",
       "        vertical-align: top;\n",
       "    }\n",
       "\n",
       "    .dataframe thead th {\n",
       "        text-align: right;\n",
       "    }\n",
       "</style>\n",
       "<table border=\"1\" class=\"dataframe\">\n",
       "  <thead>\n",
       "    <tr style=\"text-align: right;\">\n",
       "      <th></th>\n",
       "      <th>cts</th>\n",
       "    </tr>\n",
       "  </thead>\n",
       "  <tbody>\n",
       "    <tr>\n",
       "      <th>0</th>\n",
       "      <td>2017-08-06 20:06:57.000</td>\n",
       "    </tr>\n",
       "    <tr>\n",
       "      <th>1</th>\n",
       "      <td>2017-06-19 09:31:16.000</td>\n",
       "    </tr>\n",
       "    <tr>\n",
       "      <th>2</th>\n",
       "      <td>2017-03-11 20:05:03.000</td>\n",
       "    </tr>\n",
       "  </tbody>\n",
       "</table>\n",
       "</div>"
      ],
      "text/plain": [
       "                       cts\n",
       "0  2017-08-06 20:06:57.000\n",
       "1  2017-06-19 09:31:16.000\n",
       "2  2017-03-11 20:05:03.000"
      ]
     },
     "execution_count": 44,
     "metadata": {},
     "output_type": "execute_result"
    }
   ],
   "source": [
    "posts_cts.head(3)"
   ]
  },
  {
   "cell_type": "code",
   "execution_count": 45,
   "id": "d4ad3a42",
   "metadata": {},
   "outputs": [
    {
     "data": {
      "text/plain": [
       "cts    3332\n",
       "dtype: int64"
      ]
     },
     "execution_count": 45,
     "metadata": {},
     "output_type": "execute_result"
    }
   ],
   "source": [
    "posts_cts.isna().sum()"
   ]
  },
  {
   "cell_type": "code",
   "execution_count": 46,
   "id": "873c519b",
   "metadata": {},
   "outputs": [
    {
     "name": "stdout",
     "output_type": "stream",
     "text": [
      "<class 'pandas.core.frame.DataFrame'>\n",
      "RangeIndex: 42710197 entries, 0 to 42710196\n",
      "Data columns (total 1 columns):\n",
      " #   Column  Dtype \n",
      "---  ------  ----- \n",
      " 0   cts     object\n",
      "dtypes: object(1)\n",
      "memory usage: 325.9+ MB\n"
     ]
    }
   ],
   "source": [
    "posts_cts.info()"
   ]
  },
  {
   "cell_type": "code",
   "execution_count": 49,
   "id": "74a06f36",
   "metadata": {},
   "outputs": [],
   "source": [
    "posts_numbr_likes = pd.read_csv('~/instagram_posts.csv', sep='\\t', usecols = ['numbr_likes'])"
   ]
  },
  {
   "cell_type": "code",
   "execution_count": 51,
   "id": "4753ffac",
   "metadata": {},
   "outputs": [
    {
     "data": {
      "text/html": [
       "<div>\n",
       "<style scoped>\n",
       "    .dataframe tbody tr th:only-of-type {\n",
       "        vertical-align: middle;\n",
       "    }\n",
       "\n",
       "    .dataframe tbody tr th {\n",
       "        vertical-align: top;\n",
       "    }\n",
       "\n",
       "    .dataframe thead th {\n",
       "        text-align: right;\n",
       "    }\n",
       "</style>\n",
       "<table border=\"1\" class=\"dataframe\">\n",
       "  <thead>\n",
       "    <tr style=\"text-align: right;\">\n",
       "      <th></th>\n",
       "      <th>numbr_likes</th>\n",
       "    </tr>\n",
       "  </thead>\n",
       "  <tbody>\n",
       "    <tr>\n",
       "      <th>0</th>\n",
       "      <td>80.0</td>\n",
       "    </tr>\n",
       "    <tr>\n",
       "      <th>1</th>\n",
       "      <td>25.0</td>\n",
       "    </tr>\n",
       "    <tr>\n",
       "      <th>2</th>\n",
       "      <td>9.0</td>\n",
       "    </tr>\n",
       "  </tbody>\n",
       "</table>\n",
       "</div>"
      ],
      "text/plain": [
       "   numbr_likes\n",
       "0         80.0\n",
       "1         25.0\n",
       "2          9.0"
      ]
     },
     "execution_count": 51,
     "metadata": {},
     "output_type": "execute_result"
    }
   ],
   "source": [
    "posts_numbr_likes.head(3)"
   ]
  },
  {
   "cell_type": "code",
   "execution_count": 52,
   "id": "9d94de78",
   "metadata": {},
   "outputs": [
    {
     "data": {
      "text/plain": [
       "numbr_likes    36\n",
       "dtype: int64"
      ]
     },
     "execution_count": 52,
     "metadata": {},
     "output_type": "execute_result"
    }
   ],
   "source": [
    "posts_numbr_likes.isna().sum()"
   ]
  },
  {
   "cell_type": "code",
   "execution_count": 53,
   "id": "92432520",
   "metadata": {},
   "outputs": [
    {
     "name": "stdout",
     "output_type": "stream",
     "text": [
      "<class 'pandas.core.frame.DataFrame'>\n",
      "RangeIndex: 42710197 entries, 0 to 42710196\n",
      "Data columns (total 1 columns):\n",
      " #   Column       Dtype  \n",
      "---  ------       -----  \n",
      " 0   numbr_likes  float64\n",
      "dtypes: float64(1)\n",
      "memory usage: 325.9 MB\n"
     ]
    }
   ],
   "source": [
    "posts_numbr_likes.info()"
   ]
  },
  {
   "cell_type": "code",
   "execution_count": 54,
   "id": "0450fb3a",
   "metadata": {},
   "outputs": [
    {
     "data": {
      "text/html": [
       "<div>\n",
       "<style scoped>\n",
       "    .dataframe tbody tr th:only-of-type {\n",
       "        vertical-align: middle;\n",
       "    }\n",
       "\n",
       "    .dataframe tbody tr th {\n",
       "        vertical-align: top;\n",
       "    }\n",
       "\n",
       "    .dataframe thead th {\n",
       "        text-align: right;\n",
       "    }\n",
       "</style>\n",
       "<table border=\"1\" class=\"dataframe\">\n",
       "  <thead>\n",
       "    <tr style=\"text-align: right;\">\n",
       "      <th></th>\n",
       "      <th>numbr_likes</th>\n",
       "    </tr>\n",
       "  </thead>\n",
       "  <tbody>\n",
       "    <tr>\n",
       "      <th>count</th>\n",
       "      <td>4.271016e+07</td>\n",
       "    </tr>\n",
       "    <tr>\n",
       "      <th>mean</th>\n",
       "      <td>2.835030e+02</td>\n",
       "    </tr>\n",
       "    <tr>\n",
       "      <th>std</th>\n",
       "      <td>6.124611e+03</td>\n",
       "    </tr>\n",
       "    <tr>\n",
       "      <th>min</th>\n",
       "      <td>0.000000e+00</td>\n",
       "    </tr>\n",
       "    <tr>\n",
       "      <th>25%</th>\n",
       "      <td>2.000000e+01</td>\n",
       "    </tr>\n",
       "    <tr>\n",
       "      <th>50%</th>\n",
       "      <td>4.600000e+01</td>\n",
       "    </tr>\n",
       "    <tr>\n",
       "      <th>75%</th>\n",
       "      <td>1.140000e+02</td>\n",
       "    </tr>\n",
       "    <tr>\n",
       "      <th>max</th>\n",
       "      <td>8.822952e+06</td>\n",
       "    </tr>\n",
       "  </tbody>\n",
       "</table>\n",
       "</div>"
      ],
      "text/plain": [
       "        numbr_likes\n",
       "count  4.271016e+07\n",
       "mean   2.835030e+02\n",
       "std    6.124611e+03\n",
       "min    0.000000e+00\n",
       "25%    2.000000e+01\n",
       "50%    4.600000e+01\n",
       "75%    1.140000e+02\n",
       "max    8.822952e+06"
      ]
     },
     "execution_count": 54,
     "metadata": {},
     "output_type": "execute_result"
    }
   ],
   "source": [
    "posts_numbr_likes.describe()"
   ]
  },
  {
   "cell_type": "code",
   "execution_count": 55,
   "id": "3e4572d5",
   "metadata": {},
   "outputs": [],
   "source": [
    "posts_number_comments = pd.read_csv('~/instagram_posts.csv', sep='\\t', usecols = ['number_comments'])"
   ]
  },
  {
   "cell_type": "code",
   "execution_count": 56,
   "id": "d948f74d",
   "metadata": {},
   "outputs": [
    {
     "data": {
      "text/html": [
       "<div>\n",
       "<style scoped>\n",
       "    .dataframe tbody tr th:only-of-type {\n",
       "        vertical-align: middle;\n",
       "    }\n",
       "\n",
       "    .dataframe tbody tr th {\n",
       "        vertical-align: top;\n",
       "    }\n",
       "\n",
       "    .dataframe thead th {\n",
       "        text-align: right;\n",
       "    }\n",
       "</style>\n",
       "<table border=\"1\" class=\"dataframe\">\n",
       "  <thead>\n",
       "    <tr style=\"text-align: right;\">\n",
       "      <th></th>\n",
       "      <th>number_comments</th>\n",
       "    </tr>\n",
       "  </thead>\n",
       "  <tbody>\n",
       "    <tr>\n",
       "      <th>0</th>\n",
       "      <td>0.0</td>\n",
       "    </tr>\n",
       "    <tr>\n",
       "      <th>1</th>\n",
       "      <td>1.0</td>\n",
       "    </tr>\n",
       "    <tr>\n",
       "      <th>2</th>\n",
       "      <td>0.0</td>\n",
       "    </tr>\n",
       "  </tbody>\n",
       "</table>\n",
       "</div>"
      ],
      "text/plain": [
       "   number_comments\n",
       "0              0.0\n",
       "1              1.0\n",
       "2              0.0"
      ]
     },
     "execution_count": 56,
     "metadata": {},
     "output_type": "execute_result"
    }
   ],
   "source": [
    "posts_number_comments.head(3)"
   ]
  },
  {
   "cell_type": "code",
   "execution_count": 57,
   "id": "5ca39ed0",
   "metadata": {},
   "outputs": [
    {
     "data": {
      "text/plain": [
       "number_comments    36\n",
       "dtype: int64"
      ]
     },
     "execution_count": 57,
     "metadata": {},
     "output_type": "execute_result"
    }
   ],
   "source": [
    "posts_number_comments.isna().sum()"
   ]
  },
  {
   "cell_type": "code",
   "execution_count": 58,
   "id": "e36e0e7b",
   "metadata": {},
   "outputs": [
    {
     "name": "stdout",
     "output_type": "stream",
     "text": [
      "<class 'pandas.core.frame.DataFrame'>\n",
      "RangeIndex: 42710197 entries, 0 to 42710196\n",
      "Data columns (total 1 columns):\n",
      " #   Column           Dtype  \n",
      "---  ------           -----  \n",
      " 0   number_comments  float64\n",
      "dtypes: float64(1)\n",
      "memory usage: 325.9 MB\n"
     ]
    }
   ],
   "source": [
    "posts_number_comments.info()"
   ]
  },
  {
   "cell_type": "markdown",
   "id": "2afde7fe",
   "metadata": {},
   "source": [
    "We notice for each dataset that there are null values. We decide to keep or drop them in relation to the question we have to answer to avoid loss of information."
   ]
  },
  {
   "cell_type": "markdown",
   "id": "c90b7694",
   "metadata": {
    "tags": []
   },
   "source": [
    "# RQ2"
   ]
  },
  {
   "cell_type": "markdown",
   "id": "8606121c",
   "metadata": {},
   "source": [
    "1. Plot the number of posts for each profile in descending order."
   ]
  },
  {
   "cell_type": "code",
   "execution_count": 65,
   "id": "2941af59",
   "metadata": {},
   "outputs": [
    {
     "data": {
      "text/html": [
       "<div>\n",
       "<style scoped>\n",
       "    .dataframe tbody tr th:only-of-type {\n",
       "        vertical-align: middle;\n",
       "    }\n",
       "\n",
       "    .dataframe tbody tr th {\n",
       "        vertical-align: top;\n",
       "    }\n",
       "\n",
       "    .dataframe thead th {\n",
       "        text-align: right;\n",
       "    }\n",
       "</style>\n",
       "<table border=\"1\" class=\"dataframe\">\n",
       "  <thead>\n",
       "    <tr style=\"text-align: right;\">\n",
       "      <th></th>\n",
       "      <th>profile_name</th>\n",
       "      <th>n_posts</th>\n",
       "    </tr>\n",
       "  </thead>\n",
       "  <tbody>\n",
       "    <tr>\n",
       "      <th>2571453</th>\n",
       "      <td>koenigpic</td>\n",
       "      <td>142428.0</td>\n",
       "    </tr>\n",
       "    <tr>\n",
       "      <th>4219642</th>\n",
       "      <td>dwfitfiber_thailand</td>\n",
       "      <td>117262.0</td>\n",
       "    </tr>\n",
       "    <tr>\n",
       "      <th>4313908</th>\n",
       "      <td>gamt_official</td>\n",
       "      <td>113780.0</td>\n",
       "    </tr>\n",
       "    <tr>\n",
       "      <th>4219476</th>\n",
       "      <td>collarosedw_official</td>\n",
       "      <td>113182.0</td>\n",
       "    </tr>\n",
       "    <tr>\n",
       "      <th>4236057</th>\n",
       "      <td>gamt_authentic</td>\n",
       "      <td>112777.0</td>\n",
       "    </tr>\n",
       "    <tr>\n",
       "      <th>...</th>\n",
       "      <td>...</td>\n",
       "      <td>...</td>\n",
       "    </tr>\n",
       "    <tr>\n",
       "      <th>3222573</th>\n",
       "      <td>keeran666</td>\n",
       "      <td>0.0</td>\n",
       "    </tr>\n",
       "    <tr>\n",
       "      <th>2054746</th>\n",
       "      <td>i_be_juice</td>\n",
       "      <td>0.0</td>\n",
       "    </tr>\n",
       "    <tr>\n",
       "      <th>3602091</th>\n",
       "      <td>sofiabrnossa</td>\n",
       "      <td>0.0</td>\n",
       "    </tr>\n",
       "    <tr>\n",
       "      <th>2874538</th>\n",
       "      <td>uniquebeauty_15</td>\n",
       "      <td>0.0</td>\n",
       "    </tr>\n",
       "    <tr>\n",
       "      <th>683441</th>\n",
       "      <td>sufia_beautyboss_int</td>\n",
       "      <td>0.0</td>\n",
       "    </tr>\n",
       "  </tbody>\n",
       "</table>\n",
       "<p>746064 rows × 2 columns</p>\n",
       "</div>"
      ],
      "text/plain": [
       "                 profile_name   n_posts\n",
       "2571453             koenigpic  142428.0\n",
       "4219642   dwfitfiber_thailand  117262.0\n",
       "4313908         gamt_official  113780.0\n",
       "4219476  collarosedw_official  113182.0\n",
       "4236057        gamt_authentic  112777.0\n",
       "...                       ...       ...\n",
       "3222573             keeran666       0.0\n",
       "2054746            i_be_juice       0.0\n",
       "3602091          sofiabrnossa       0.0\n",
       "2874538       uniquebeauty_15       0.0\n",
       "683441   sufia_beautyboss_int       0.0\n",
       "\n",
       "[746064 rows x 2 columns]"
      ]
     },
     "execution_count": 65,
     "metadata": {},
     "output_type": "execute_result"
    }
   ],
   "source": [
    "n_posts_ordered= profiles.sort_values(by=['n_posts'],ascending=False)[['profile_name','n_posts']]\n",
    "n_posts_ordered.dropna()"
   ]
  },
  {
   "cell_type": "code",
   "execution_count": 67,
   "id": "33ee5c66",
   "metadata": {},
   "outputs": [
    {
     "data": {
      "image/png": "[encoded data removed]",
      "text/plain": [
       "<Figure size 1440x576 with 2 Axes>"
      ]
     },
     "metadata": {
      "needs_background": "light"
     },
     "output_type": "display_data"
    }
   ],
   "source": [
    "plt.figure(figsize=(20, 8))\n",
    "\n",
    "one = plt.subplot(1, 2, 1)\n",
    "one.set_title(\"Boxplot for # of Posts per user with outliers\", \n",
    "             {\"fontsize\":18})\n",
    "profiles['n_posts'].plot(kind='box',vert=False)\n",
    "\n",
    "two = plt.subplot(1, 2, 2)\n",
    "two.set_title(\"Boxplot for # of Posts per user without outliers\", \n",
    "             {\"fontsize\":18})\n",
    "profiles['n_posts'].plot.box(showfliers=False,vert=False)\n",
    "plt.show()"
   ]
  },
  {
   "cell_type": "code",
   "execution_count": 86,
   "id": "e0b5ee1f",
   "metadata": {
    "scrolled": true
   },
   "outputs": [
    {
     "name": "stdout",
     "output_type": "stream",
     "text": [
      "|      |    n_posts |\n",
      "|:-----|-----------:|\n",
      "| mean |    409.541 |\n",
      "| std  |   1041.94  |\n",
      "| min  |      0     |\n",
      "| 25%  |     22     |\n",
      "| 50%  |    120     |\n",
      "| 75%  |    420     |\n",
      "| max  | 183730     |\n"
     ]
    }
   ],
   "source": [
    "print(n_posts_ordered.describe().iloc[1:].to_markdown())"
   ]
  },
  {
   "cell_type": "markdown",
   "id": "34a6e26e",
   "metadata": {},
   "source": [
    "In a first moment we ordered the profiles by number of posts in descending order. The user who published the most is \"jasem33312\" with 183730 posts. To analize the population we used two boxplots, a tool for a fast explorative analyses, and a summary to fix the info given by the plots. It's evident the presence of strong outliers. In the first image the five indicators of the box (lim inf, 1st quantile, median, 2nd quantile, lim sup) are all aligned, in fact 75% of the 4.509586e+06 users published not more than 287 posts. The variance is (9.280713e+02)^2, indicator of a highly volatile number of posts, due to the outliers. 25% of the population is not active with 0 posts and a few are the viceversa."
   ]
  },
  {
   "cell_type": "markdown",
   "id": "45da22fa",
   "metadata": {},
   "source": [
    "2. What posts have the highest number of \"likes\"?"
   ]
  },
  {
   "cell_type": "code",
   "execution_count": null,
   "id": "393c5ac6",
   "metadata": {},
   "outputs": [],
   "source": [
    "posts_likes = pd.read_csv('instagram_posts.csv', delimiter='\\t', usecols= ['post_id','numbr_likes'])\n",
    "print(posts_likes.sort_values(by=['numbr_likes'],ascending=False).head(10))"
   ]
  },
  {
   "cell_type": "markdown",
   "id": "288ccda5",
   "metadata": {},
   "source": [
    "3. What posts have the most and the least number of comments?"
   ]
  },
  {
   "cell_type": "code",
   "execution_count": null,
   "id": "8e9eba8a",
   "metadata": {},
   "outputs": [],
   "source": [
    "posts_comments = pd.read_csv('~/instagram_posts.csv', delimiter='\\t', usecols= ['post_id','number_comments'])"
   ]
  },
  {
   "cell_type": "code",
   "execution_count": 6,
   "id": "0e408d0f",
   "metadata": {},
   "outputs": [
    {
     "name": "stdout",
     "output_type": "stream",
     "text": [
      "              post_id  number_comments\n",
      "41873060  Bx2sPAjHviO         488953.0\n",
      "12164781  BuGjhWAhAW5         313997.0\n",
      "33261751  BJ-rkpTgn1N         257488.0\n",
      "              post_id  number_comments\n",
      "0         BXdjjUlgcgq              0.0\n",
      "13108581  BzWK_KVgiXi              0.0\n",
      "13108584  By8bFqQgkT6              0.0\n"
     ]
    }
   ],
   "source": [
    "posts_most_comments=(posts_comments.sort_values(by=['number_comments'],ascending=False)).head(3)\n",
    "print(posts_most_comments)\n",
    "posts_least_comments=(posts_comments.sort_values(by=['number_comments'],ascending=True)).head(3)\n",
    "print(posts_least_comments)"
   ]
  },
  {
   "cell_type": "markdown",
   "id": "315045cb",
   "metadata": {},
   "source": [
    "4. How many posts include tagged locations, and how many do not? Show it using an appropriate chart and comment your results."
   ]
  },
  {
   "cell_type": "code",
   "execution_count": 93,
   "id": "668bad5f",
   "metadata": {},
   "outputs": [
    {
     "data": {
      "image/png": "[encoded data removed]",
      "text/plain": [
       "<Figure size 720x504 with 1 Axes>"
      ]
     },
     "metadata": {},
     "output_type": "display_data"
    }
   ],
   "source": [
    "posts_locations = pd.read_csv('instagram_posts.csv', delimiter='\\t', usecols= ['location_id'])\n",
    "loc=posts_locations.notnull().value_counts()\n",
    "\n",
    "fig = plt.figure(figsize = (10, 7))\n",
    "plt.pie(loc, labels = [\"With location\",\"Without location\"], \n",
    "        colors = [\"red\", \"orange\"], \n",
    "        shadow = True, \n",
    "        explode = [0.1, 0])\n",
    " \n",
    "# Show plot\n",
    "plt.show()"
   ]
  },
  {
   "cell_type": "code",
   "execution_count": 17,
   "id": "5b3e4583",
   "metadata": {},
   "outputs": [
    {
     "name": "stdout",
     "output_type": "stream",
     "text": [
      "location_id\n",
      "True           29737425\n",
      "False          12972772\n",
      "dtype: int64\n"
     ]
    }
   ],
   "source": [
    "print(loc)"
   ]
  },
  {
   "cell_type": "markdown",
   "id": "2d695e5c",
   "metadata": {},
   "source": [
    "The majority of posts include tagged positions, an addictional detail to capture the attention of those who see it.\n",
    "\n"
   ]
  },
  {
   "cell_type": "markdown",
   "id": "1541944f",
   "metadata": {},
   "source": [
    "5. How many posts include only photos? How many also have videos?"
   ]
  },
  {
   "cell_type": "code",
   "execution_count": 7,
   "id": "16ff14ea",
   "metadata": {},
   "outputs": [
    {
     "data": {
      "text/plain": [
       "41534486"
      ]
     },
     "execution_count": 7,
     "metadata": {},
     "output_type": "execute_result"
    }
   ],
   "source": [
    "posts_type = pd.read_csv('~/instagram_posts.csv', delimiter='\\t', usecols= ['post_type'])\n",
    "only_photos=posts_type.loc[posts_type['post_type']==1]\n",
    "len(only_photos)"
   ]
  },
  {
   "cell_type": "code",
   "execution_count": 11,
   "id": "03d0ab08",
   "metadata": {},
   "outputs": [
    {
     "data": {
      "text/plain": [
       "40943"
      ]
     },
     "execution_count": 11,
     "metadata": {},
     "output_type": "execute_result"
    }
   ],
   "source": [
    "also_videos =posts_type.loc[posts_type['post_type']==3]\n",
    "len(also_videos)"
   ]
  },
  {
   "cell_type": "markdown",
   "id": "76484fdc",
   "metadata": {},
   "source": [
    "6. What's the percentage of business accounts vs non-business? What can you interpret regarding that percentage?\n"
   ]
  },
  {
   "cell_type": "code",
   "execution_count": 92,
   "id": "079252d7",
   "metadata": {},
   "outputs": [
    {
     "name": "stdout",
     "output_type": "stream",
     "text": [
      "0.18965244259672617 0.8103475574032738\n"
     ]
    },
    {
     "data": {
      "text/plain": [
       "4509586"
      ]
     },
     "execution_count": 92,
     "metadata": {},
     "output_type": "execute_result"
    }
   ],
   "source": [
    "is_business=len(profiles.loc[profiles['is_business_account']==True])/len(profiles)\n",
    "not_business=1-is_business\n",
    "print(is_business,not_business)\n",
    "len(profiles)"
   ]
  },
  {
   "cell_type": "markdown",
   "id": "89fe0584",
   "metadata": {},
   "source": [
    "~19% business account vs ~81% not business. Around 3652764 people are using the platform not for business reasons.\n",
    "\n"
   ]
  },
  {
   "cell_type": "markdown",
   "id": "219509a6",
   "metadata": {
    "tags": []
   },
   "source": [
    "# RQ3"
   ]
  },
  {
   "cell_type": "markdown",
   "id": "3268b3ac",
   "metadata": {},
   "source": [
    "1. What is the most common time in which users publish their posts?"
   ]
  },
  {
   "cell_type": "code",
   "execution_count": 19,
   "id": "f4117d4a",
   "metadata": {},
   "outputs": [],
   "source": [
    "posts_cts = pd.read_csv('~/instagram_posts.csv', delimiter='\\t', usecols=['cts'])\n",
    "posts_cts = posts_cts.dropna() # remove missing values"
   ]
  },
  {
   "cell_type": "code",
   "execution_count": 20,
   "id": "9997f51a",
   "metadata": {},
   "outputs": [],
   "source": [
    "posts_cts.cts = pd.to_datetime(posts_cts.cts) # convert argument to datetime\n",
    "posts_cts['time'] = posts_cts.cts.dt.strftime('%H:%M:%S') # select only the time"
   ]
  },
  {
   "cell_type": "code",
   "execution_count": 21,
   "id": "1f371bf4",
   "metadata": {},
   "outputs": [],
   "source": [
    "# Use a dictionary to count how many posts were published at each time\n",
    "count_posts = {}\n",
    "for time in posts_cts['time']:\n",
    "    if time in count_posts:\n",
    "        count_posts[time]+=1\n",
    "    else:\n",
    "        count_posts[time]=1"
   ]
  },
  {
   "cell_type": "code",
   "execution_count": 29,
   "id": "d65fd12a",
   "metadata": {},
   "outputs": [
    {
     "name": "stdout",
     "output_type": "stream",
     "text": [
      "The most common time in which users publish their posts is 21:00:09, with 928 posts.\n"
     ]
    }
   ],
   "source": [
    "most_common_time = sorted(count_posts.items(), key=lambda item: item[1], reverse = True) # sort the dictionary \n",
    "print('The most common time in which users publish their posts is ' + str(most_common_time[0][0]) + ', with ' +\n",
    "      str(most_common_time[0][1]) + ' posts.')"
   ]
  },
  {
   "cell_type": "markdown",
   "id": "77c24e74",
   "metadata": {},
   "source": [
    "Create a function that receives a time intervals list as a parameter and returns a plot with the number of posts for each given interval."
   ]
  },
  {
   "cell_type": "code",
   "execution_count": 30,
   "id": "9ecaaa00",
   "metadata": {},
   "outputs": [],
   "source": [
    "def n_posts_for_interval(lis):\n",
    "    '''\n",
    "    This function counts how many posts have been published in each time interval and plots the result.\n",
    "    '''\n",
    "    n = len(lis)\n",
    "    labels = []\n",
    "    counts = np.zeros(n)\n",
    "    for i in range(n):\n",
    "        labels.append(lis[i][0]+'-'+ lis[i][1])\n",
    "        for t in posts_cts['time']:\n",
    "            start, end = lis[i]\n",
    "            if start <= t <= end:\n",
    "                counts[i] +=1               \n",
    "      \n",
    "    \n",
    "    plt.figure(figsize=(15,5))\n",
    "    x = range(n)\n",
    "    plt.xticks(x, labels, rotation=50)\n",
    "    plt.bar(x, counts, width = 0.4)\n",
    "    plt.xlabel('Time intervals')\n",
    "    plt.ylabel('Number of posts')\n",
    "    plt.title('Number of posts for each interval')\n",
    "    plt.show()\n",
    "    return "
   ]
  },
  {
   "cell_type": "markdown",
   "id": "ab53a8bd",
   "metadata": {},
   "source": [
    "3. Use the function that you created in the previous literal to plot the number of posts between the following time intervals:\n"
   ]
  },
  {
   "cell_type": "code",
   "execution_count": 31,
   "id": "48afbbe0",
   "metadata": {},
   "outputs": [
    {
     "data": {
      "image/png": "[encoded data removed]",
      "text/plain": [
       "<Figure size 1080x360 with 1 Axes>"
      ]
     },
     "metadata": {
      "needs_background": "light"
     },
     "output_type": "display_data"
    }
   ],
   "source": [
    "time_intervals = [('06:00:00','10:59:59'),('11:00:00','13:59:59'), ('14:00:00','16:59:59'), ('17:00:00','19:59:59'),\n",
    "         ('20:00:00', '23:59:59'),('00:00:00', '02:59:59'), ('03:00:00','05:59:59')]\n",
    "n_posts_for_interval(time_intervals)"
   ]
  },
  {
   "cell_type": "markdown",
   "id": "6a7eeffa",
   "metadata": {},
   "source": [
    "# RQ4"
   ]
  },
  {
   "cell_type": "markdown",
   "id": "c2bed7ef",
   "metadata": {},
   "source": [
    "1 .Write a function that, given a profile_id, will be able to return the posts that belong to the given profile_id.\n",
    "\n",
    "\n",
    "2. Write another function that, given an input n (an integer), will return the posts that belong to the n top posted profiles (top n profiles that have posted the highest number of posts) that their data is available in the profile.csv using the previously written function."
   ]
  },
  {
   "cell_type": "code",
   "execution_count": null,
   "id": "a4e269f4",
   "metadata": {},
   "outputs": [],
   "source": [
    "data = pd.read_csv('instagram_profiles.csv', sep='\\t')\n",
    "data1 = pd.read_csv('instagram_posts.csv', sep='\\t')"
   ]
  },
  {
   "cell_type": "code",
   "execution_count": 6,
   "id": "ae952a09",
   "metadata": {},
   "outputs": [],
   "source": [
    "def name(id):\n",
    "    return data1.loc[data1['profile_id'] == id]\n",
    "def num(n):\n",
    "    data.sort_values(by='n_posts', inplace=True, ascending=False)\n",
    "    for i in range(n):\n",
    "        id=data['profile_id'][i]\n",
    "        print(name(id))"
   ]
  },
  {
   "cell_type": "markdown",
   "id": "8325608f",
   "metadata": {},
   "source": [
    "The top 10 personal information with the most posts is:"
   ]
  },
  {
   "cell_type": "code",
   "execution_count": 8,
   "id": "1336c70f",
   "metadata": {},
   "outputs": [
    {
     "data": {
      "text/html": [
       "<div>\n",
       "<style scoped>\n",
       "    .dataframe tbody tr th:only-of-type {\n",
       "        vertical-align: middle;\n",
       "    }\n",
       "\n",
       "    .dataframe tbody tr th {\n",
       "        vertical-align: top;\n",
       "    }\n",
       "\n",
       "    .dataframe thead th {\n",
       "        text-align: right;\n",
       "    }\n",
       "</style>\n",
       "<table border=\"1\" class=\"dataframe\">\n",
       "  <thead>\n",
       "    <tr style=\"text-align: right;\">\n",
       "      <th></th>\n",
       "      <th>sid</th>\n",
       "      <th>profile_id</th>\n",
       "      <th>profile_name</th>\n",
       "      <th>firstname_lastname</th>\n",
       "      <th>description</th>\n",
       "      <th>following</th>\n",
       "      <th>followers</th>\n",
       "      <th>n_posts</th>\n",
       "      <th>url</th>\n",
       "      <th>cts</th>\n",
       "      <th>is_business_account</th>\n",
       "    </tr>\n",
       "  </thead>\n",
       "  <tbody>\n",
       "    <tr>\n",
       "      <th>2571453</th>\n",
       "      <td>3288809</td>\n",
       "      <td>8.563367e+09</td>\n",
       "      <td>koenigpic</td>\n",
       "      <td>Helperwait Studio</td>\n",
       "      <td>Веб сайты от идеи до запуска</td>\n",
       "      <td>4538.0</td>\n",
       "      <td>675.0</td>\n",
       "      <td>142428.0</td>\n",
       "      <td>vk.com/ru.helperwait</td>\n",
       "      <td>2019-05-07 00:14:06.799 -0400</td>\n",
       "      <td>True</td>\n",
       "    </tr>\n",
       "    <tr>\n",
       "      <th>4219642</th>\n",
       "      <td>3851869</td>\n",
       "      <td>1.607309e+09</td>\n",
       "      <td>dwfitfiber_thailand</td>\n",
       "      <td>เห็นผลตั้งแต่เซ็ตแรกท้าลอง</td>\n",
       "      <td>✿รับตัวแทนรายได้ดีมาก\\n🏧 KTB l SCB l KBANK | B...</td>\n",
       "      <td>7490.0</td>\n",
       "      <td>44951.0</td>\n",
       "      <td>117262.0</td>\n",
       "      <td>bit.ly/2GdIYJl</td>\n",
       "      <td>2019-07-13 02:10:07.317 -0400</td>\n",
       "      <td>True</td>\n",
       "    </tr>\n",
       "    <tr>\n",
       "      <th>4313908</th>\n",
       "      <td>3944512</td>\n",
       "      <td>1.603890e+09</td>\n",
       "      <td>gamt_official</td>\n",
       "      <td>Official IG Of GAMT Thailand</td>\n",
       "      <td>❥ แว่น gamt พร้อมส่งของแท้💯 มีโปร1290 พร้อมซอง...</td>\n",
       "      <td>7470.0</td>\n",
       "      <td>36001.0</td>\n",
       "      <td>113780.0</td>\n",
       "      <td>bit.ly/2GdIYJl</td>\n",
       "      <td>2019-07-14 21:10:30.785 -0400</td>\n",
       "      <td>True</td>\n",
       "    </tr>\n",
       "    <tr>\n",
       "      <th>4219476</th>\n",
       "      <td>3851808</td>\n",
       "      <td>2.181730e+08</td>\n",
       "      <td>collarosedw_official</td>\n",
       "      <td>grapeseed+collarose</td>\n",
       "      <td>🍇 สินค้าแบรนด์ dwplus\\n💓 collarose+grapeseed+f...</td>\n",
       "      <td>7496.0</td>\n",
       "      <td>18021.0</td>\n",
       "      <td>113182.0</td>\n",
       "      <td>bit.ly/2asesw7</td>\n",
       "      <td>2019-07-13 02:08:17.407 -0400</td>\n",
       "      <td>True</td>\n",
       "    </tr>\n",
       "    <tr>\n",
       "      <th>4236057</th>\n",
       "      <td>3868432</td>\n",
       "      <td>2.855497e+08</td>\n",
       "      <td>gamt_authentic</td>\n",
       "      <td>Official IG Of GAMT Thailand</td>\n",
       "      <td>❥ แว่น gamt พร้อมส่ง มีโปร1290 พร้อมซองแว่น+ผ้...</td>\n",
       "      <td>7480.0</td>\n",
       "      <td>27511.0</td>\n",
       "      <td>112777.0</td>\n",
       "      <td>bit.ly/2T2RIqG</td>\n",
       "      <td>2019-07-13 09:28:30.025 -0400</td>\n",
       "      <td>True</td>\n",
       "    </tr>\n",
       "    <tr>\n",
       "      <th>...</th>\n",
       "      <td>...</td>\n",
       "      <td>...</td>\n",
       "      <td>...</td>\n",
       "      <td>...</td>\n",
       "      <td>...</td>\n",
       "      <td>...</td>\n",
       "      <td>...</td>\n",
       "      <td>...</td>\n",
       "      <td>...</td>\n",
       "      <td>...</td>\n",
       "      <td>...</td>\n",
       "    </tr>\n",
       "    <tr>\n",
       "      <th>1199001</th>\n",
       "      <td>702898</td>\n",
       "      <td>7.893748e+09</td>\n",
       "      <td>dawson.block</td>\n",
       "      <td>Dawson Block</td>\n",
       "      <td>SHHS #31\\nPhillip Lindsay is the best running ...</td>\n",
       "      <td>343.0</td>\n",
       "      <td>117.0</td>\n",
       "      <td>0.0</td>\n",
       "      <td>open.spotify.com/user/dawsonbawesome?si=yWwBS_...</td>\n",
       "      <td>2019-03-25 17:19:16.834 -0400</td>\n",
       "      <td>False</td>\n",
       "    </tr>\n",
       "    <tr>\n",
       "      <th>3435124</th>\n",
       "      <td>1819195</td>\n",
       "      <td>7.434367e+09</td>\n",
       "      <td>the.honest.blogger.x</td>\n",
       "      <td>The Honest Blogger</td>\n",
       "      <td>I swear to tell the truth, the whole truth and...</td>\n",
       "      <td>106.0</td>\n",
       "      <td>10.0</td>\n",
       "      <td>0.0</td>\n",
       "      <td>thehonestblogcouk.wordpress.com</td>\n",
       "      <td>2019-04-03 12:43:01.714 -0400</td>\n",
       "      <td>False</td>\n",
       "    </tr>\n",
       "    <tr>\n",
       "      <th>3287767</th>\n",
       "      <td>1705766</td>\n",
       "      <td>6.274238e+09</td>\n",
       "      <td>abbasronav</td>\n",
       "      <td>Ronav Abbas</td>\n",
       "      <td>From Syria\\nLive in Germany\\nRonisho &amp; Kurdish...</td>\n",
       "      <td>3794.0</td>\n",
       "      <td>152.0</td>\n",
       "      <td>0.0</td>\n",
       "      <td>RONIshOO.Sarahah.com</td>\n",
       "      <td>2019-04-02 23:24:53.593 -0400</td>\n",
       "      <td>False</td>\n",
       "    </tr>\n",
       "    <tr>\n",
       "      <th>1199261</th>\n",
       "      <td>703021</td>\n",
       "      <td>9.180736e+09</td>\n",
       "      <td>unreleasedhighlights</td>\n",
       "      <td>#1 HIP-HOP/RAP UPDATES</td>\n",
       "      <td>FOLLOW @snippethighlights &amp; @coreybamba ! 🦋</td>\n",
       "      <td>1563.0</td>\n",
       "      <td>307.0</td>\n",
       "      <td>0.0</td>\n",
       "      <td>youtu.be/Sm3Qv0JcwJg</td>\n",
       "      <td>2019-03-25 17:19:41.473 -0400</td>\n",
       "      <td>True</td>\n",
       "    </tr>\n",
       "    <tr>\n",
       "      <th>2009756</th>\n",
       "      <td>2777066</td>\n",
       "      <td>5.521656e+08</td>\n",
       "      <td>vida_rimmler_676</td>\n",
       "      <td>Vida Rimmler</td>\n",
       "      <td>Get unlimited Engaged &amp; Active Fans! 💵 Simply ...</td>\n",
       "      <td>1560.0</td>\n",
       "      <td>171.0</td>\n",
       "      <td>0.0</td>\n",
       "      <td>bit.ly/2A5BZme</td>\n",
       "      <td>2019-04-09 09:30:19.684 -0400</td>\n",
       "      <td>False</td>\n",
       "    </tr>\n",
       "  </tbody>\n",
       "</table>\n",
       "<p>746064 rows × 11 columns</p>\n",
       "</div>"
      ],
      "text/plain": [
       "             sid    profile_id          profile_name  \\\n",
       "2571453  3288809  8.563367e+09             koenigpic   \n",
       "4219642  3851869  1.607309e+09   dwfitfiber_thailand   \n",
       "4313908  3944512  1.603890e+09         gamt_official   \n",
       "4219476  3851808  2.181730e+08  collarosedw_official   \n",
       "4236057  3868432  2.855497e+08        gamt_authentic   \n",
       "...          ...           ...                   ...   \n",
       "1199001   702898  7.893748e+09          dawson.block   \n",
       "3435124  1819195  7.434367e+09  the.honest.blogger.x   \n",
       "3287767  1705766  6.274238e+09            abbasronav   \n",
       "1199261   703021  9.180736e+09  unreleasedhighlights   \n",
       "2009756  2777066  5.521656e+08      vida_rimmler_676   \n",
       "\n",
       "                   firstname_lastname  \\\n",
       "2571453             Helperwait Studio   \n",
       "4219642    เห็นผลตั้งแต่เซ็ตแรกท้าลอง   \n",
       "4313908  Official IG Of GAMT Thailand   \n",
       "4219476           grapeseed+collarose   \n",
       "4236057  Official IG Of GAMT Thailand   \n",
       "...                               ...   \n",
       "1199001                  Dawson Block   \n",
       "3435124            The Honest Blogger   \n",
       "3287767                   Ronav Abbas   \n",
       "1199261        #1 HIP-HOP/RAP UPDATES   \n",
       "2009756                  Vida Rimmler   \n",
       "\n",
       "                                               description  following  \\\n",
       "2571453                       Веб сайты от идеи до запуска     4538.0   \n",
       "4219642  ✿รับตัวแทนรายได้ดีมาก\\n🏧 KTB l SCB l KBANK | B...     7490.0   \n",
       "4313908  ❥ แว่น gamt พร้อมส่งของแท้💯 มีโปร1290 พร้อมซอง...     7470.0   \n",
       "4219476  🍇 สินค้าแบรนด์ dwplus\\n💓 collarose+grapeseed+f...     7496.0   \n",
       "4236057  ❥ แว่น gamt พร้อมส่ง มีโปร1290 พร้อมซองแว่น+ผ้...     7480.0   \n",
       "...                                                    ...        ...   \n",
       "1199001  SHHS #31\\nPhillip Lindsay is the best running ...      343.0   \n",
       "3435124  I swear to tell the truth, the whole truth and...      106.0   \n",
       "3287767  From Syria\\nLive in Germany\\nRonisho & Kurdish...     3794.0   \n",
       "1199261        FOLLOW @snippethighlights & @coreybamba ! 🦋     1563.0   \n",
       "2009756  Get unlimited Engaged & Active Fans! 💵 Simply ...     1560.0   \n",
       "\n",
       "         followers   n_posts  \\\n",
       "2571453      675.0  142428.0   \n",
       "4219642    44951.0  117262.0   \n",
       "4313908    36001.0  113780.0   \n",
       "4219476    18021.0  113182.0   \n",
       "4236057    27511.0  112777.0   \n",
       "...            ...       ...   \n",
       "1199001      117.0       0.0   \n",
       "3435124       10.0       0.0   \n",
       "3287767      152.0       0.0   \n",
       "1199261      307.0       0.0   \n",
       "2009756      171.0       0.0   \n",
       "\n",
       "                                                       url  \\\n",
       "2571453                               vk.com/ru.helperwait   \n",
       "4219642                                     bit.ly/2GdIYJl   \n",
       "4313908                                     bit.ly/2GdIYJl   \n",
       "4219476                                     bit.ly/2asesw7   \n",
       "4236057                                     bit.ly/2T2RIqG   \n",
       "...                                                    ...   \n",
       "1199001  open.spotify.com/user/dawsonbawesome?si=yWwBS_...   \n",
       "3435124                    thehonestblogcouk.wordpress.com   \n",
       "3287767                               RONIshOO.Sarahah.com   \n",
       "1199261                               youtu.be/Sm3Qv0JcwJg   \n",
       "2009756                                     bit.ly/2A5BZme   \n",
       "\n",
       "                                   cts is_business_account  \n",
       "2571453  2019-05-07 00:14:06.799 -0400                True  \n",
       "4219642  2019-07-13 02:10:07.317 -0400                True  \n",
       "4313908  2019-07-14 21:10:30.785 -0400                True  \n",
       "4219476  2019-07-13 02:08:17.407 -0400                True  \n",
       "4236057  2019-07-13 09:28:30.025 -0400                True  \n",
       "...                                ...                 ...  \n",
       "1199001  2019-03-25 17:19:16.834 -0400               False  \n",
       "3435124  2019-04-03 12:43:01.714 -0400               False  \n",
       "3287767  2019-04-02 23:24:53.593 -0400               False  \n",
       "1199261  2019-03-25 17:19:41.473 -0400                True  \n",
       "2009756  2019-04-09 09:30:19.684 -0400               False  \n",
       "\n",
       "[746064 rows x 11 columns]"
      ]
     },
     "execution_count": 8,
     "metadata": {},
     "output_type": "execute_result"
    }
   ],
   "source": [
    "data.sort_values(by='n_posts', inplace=True, ascending=False)\n",
    "data"
   ]
  },
  {
   "cell_type": "markdown",
   "id": "3dcd381e",
   "metadata": {},
   "source": [
    "3. What is the average number of \"likes\" and comments of the top 10 profiles with the highest number of posts which their information is available in profile.csv?"
   ]
  },
  {
   "cell_type": "code",
   "execution_count": 149,
   "id": "240b8a76",
   "metadata": {},
   "outputs": [
    {
     "name": "stdout",
     "output_type": "stream",
     "text": [
      "338.6\n",
      "9.1\n"
     ]
    }
   ],
   "source": [
    "s=profiles['profile_id']\n",
    "lik=[]\n",
    "com=[]\n",
    "for i in range(10):\n",
    "    da = posts_profile_id.loc[data1['profile_id'] == s[i]]\n",
    "    lik.append(sum(da['numbr_likes']))\n",
    "    com.append(sum(da['number_comments']))\n",
    "print(mean(lik))\n",
    "print(mean(com))"
   ]
  },
  {
   "cell_type": "markdown",
   "id": "9a9f2cc2",
   "metadata": {},
   "source": [
    "The average number of likes is 715.5 and the average number of comments is 17.5"
   ]
  },
  {
   "cell_type": "markdown",
   "id": "2a77f162",
   "metadata": {},
   "source": [
    "4. Plot the number of posts that these top 10 profiles have sent on Instagram in the given interval in question RQ3. Interpret the resulting chart."
   ]
  },
  {
   "cell_type": "code",
   "execution_count": 118,
   "id": "49799cbc",
   "metadata": {},
   "outputs": [],
   "source": [
    "z=data[0:10]\n",
    "def time_m(time):\n",
    "    y=[]\n",
    "    for i in range(len(time)):\n",
    "        y.append(sum(z.set_index(\"cts\").between_time(\"{}\".format(time[i][0]), \"{}\".format(time[i][1]))['n_posts']))\n",
    "    num_list = y\n",
    "    x= range(len(time))\n",
    "    plt.bar(x, num_list)\n",
    "    plt.show()"
   ]
  },
  {
   "cell_type": "code",
   "execution_count": 119,
   "id": "913c9629",
   "metadata": {},
   "outputs": [
    {
     "data": {
      "image/png": "[encoded data removed]",
      "text/plain": [
       "<Figure size 432x288 with 1 Axes>"
      ]
     },
     "metadata": {
      "needs_background": "light"
     },
     "output_type": "display_data"
    }
   ],
   "source": [
    "time_m([['06:00:00','10:59:59'],['11:00:00','13:59:59'],['14:00:00','16:59:59'],\n",
    "['17:00:00','19:59:59'],['20:00:00','23:59:59'],['00:00:00','02:59:59'],['03:00:00','05:59:59']])"
   ]
  },
  {
   "cell_type": "markdown",
   "id": "82d7b406",
   "metadata": {},
   "source": [
    "The number of posts in the top ten during this time is:"
   ]
  },
  {
   "cell_type": "code",
   "execution_count": 147,
   "id": "0e5ac983",
   "metadata": {},
   "outputs": [
    {
     "data": {
      "text/html": [
       "<div>\n",
       "<style scoped>\n",
       "    .dataframe tbody tr th:only-of-type {\n",
       "        vertical-align: middle;\n",
       "    }\n",
       "\n",
       "    .dataframe tbody tr th {\n",
       "        vertical-align: top;\n",
       "    }\n",
       "\n",
       "    .dataframe thead th {\n",
       "        text-align: right;\n",
       "    }\n",
       "</style>\n",
       "<table border=\"1\" class=\"dataframe\">\n",
       "  <thead>\n",
       "    <tr style=\"text-align: right;\">\n",
       "      <th></th>\n",
       "      <th>index</th>\n",
       "      <th>sid</th>\n",
       "      <th>profile_id</th>\n",
       "      <th>profile_name</th>\n",
       "      <th>firstname_lastname</th>\n",
       "      <th>description</th>\n",
       "      <th>following</th>\n",
       "      <th>followers</th>\n",
       "      <th>n_posts</th>\n",
       "      <th>url</th>\n",
       "      <th>cts</th>\n",
       "      <th>is_business_account</th>\n",
       "    </tr>\n",
       "  </thead>\n",
       "  <tbody>\n",
       "    <tr>\n",
       "      <th>0</th>\n",
       "      <td>3990313</td>\n",
       "      <td>3661552</td>\n",
       "      <td>1.996648e+08</td>\n",
       "      <td>jasem33312</td>\n",
       "      <td>jasem33312</td>\n",
       "      <td>NaN</td>\n",
       "      <td>2.0</td>\n",
       "      <td>82049.0</td>\n",
       "      <td>183730.0</td>\n",
       "      <td>NaN</td>\n",
       "      <td>2022-10-17 19:14:19</td>\n",
       "      <td>False</td>\n",
       "    </tr>\n",
       "    <tr>\n",
       "      <th>1</th>\n",
       "      <td>2571453</td>\n",
       "      <td>3288809</td>\n",
       "      <td>8.563367e+09</td>\n",
       "      <td>koenigpic</td>\n",
       "      <td>Helperwait Studio</td>\n",
       "      <td>Веб сайты от идеи до запуска</td>\n",
       "      <td>4538.0</td>\n",
       "      <td>675.0</td>\n",
       "      <td>142428.0</td>\n",
       "      <td>vk.com/ru.helperwait</td>\n",
       "      <td>2022-10-17 00:14:06</td>\n",
       "      <td>True</td>\n",
       "    </tr>\n",
       "    <tr>\n",
       "      <th>2</th>\n",
       "      <td>4338921</td>\n",
       "      <td>3970193</td>\n",
       "      <td>1.273455e+09</td>\n",
       "      <td>rudyanto62</td>\n",
       "      <td>Rudyanto 王耀祝</td>\n",
       "      <td>NaN</td>\n",
       "      <td>164.0</td>\n",
       "      <td>1693.0</td>\n",
       "      <td>126340.0</td>\n",
       "      <td>NaN</td>\n",
       "      <td>2022-10-17 10:00:51</td>\n",
       "      <td>False</td>\n",
       "    </tr>\n",
       "    <tr>\n",
       "      <th>3</th>\n",
       "      <td>3942129</td>\n",
       "      <td>3621669</td>\n",
       "      <td>9.813508e+06</td>\n",
       "      <td>hometown_ni</td>\n",
       "      <td>AngelsCowboysLakers</td>\n",
       "      <td>All about live &amp; let live. Peace &amp; Harmony. La...</td>\n",
       "      <td>7488.0</td>\n",
       "      <td>1755.0</td>\n",
       "      <td>125220.0</td>\n",
       "      <td>NaN</td>\n",
       "      <td>2022-10-17 02:49:38</td>\n",
       "      <td>False</td>\n",
       "    </tr>\n",
       "    <tr>\n",
       "      <th>4</th>\n",
       "      <td>4219642</td>\n",
       "      <td>3851869</td>\n",
       "      <td>1.607309e+09</td>\n",
       "      <td>dwfitfiber_thailand</td>\n",
       "      <td>เห็นผลตั้งแต่เซ็ตแรกท้าลอง</td>\n",
       "      <td>✿รับตัวแทนรายได้ดีมาก\\n🏧 KTB l SCB l KBANK | B...</td>\n",
       "      <td>7490.0</td>\n",
       "      <td>44951.0</td>\n",
       "      <td>117262.0</td>\n",
       "      <td>bit.ly/2GdIYJl</td>\n",
       "      <td>2022-10-17 02:10:07</td>\n",
       "      <td>True</td>\n",
       "    </tr>\n",
       "    <tr>\n",
       "      <th>5</th>\n",
       "      <td>2207897</td>\n",
       "      <td>345591</td>\n",
       "      <td>1.087614e+09</td>\n",
       "      <td>waxking911</td>\n",
       "      <td>Frank Hernandez</td>\n",
       "      <td>NaN</td>\n",
       "      <td>134.0</td>\n",
       "      <td>138.0</td>\n",
       "      <td>117099.0</td>\n",
       "      <td>NaN</td>\n",
       "      <td>NaT</td>\n",
       "      <td>False</td>\n",
       "    </tr>\n",
       "    <tr>\n",
       "      <th>6</th>\n",
       "      <td>4313908</td>\n",
       "      <td>3944512</td>\n",
       "      <td>1.603890e+09</td>\n",
       "      <td>gamt_official</td>\n",
       "      <td>Official IG Of GAMT Thailand</td>\n",
       "      <td>❥ แว่น gamt พร้อมส่งของแท้💯 มีโปร1290 พร้อมซอง...</td>\n",
       "      <td>7470.0</td>\n",
       "      <td>36001.0</td>\n",
       "      <td>113780.0</td>\n",
       "      <td>bit.ly/2GdIYJl</td>\n",
       "      <td>2022-10-17 21:10:30</td>\n",
       "      <td>True</td>\n",
       "    </tr>\n",
       "    <tr>\n",
       "      <th>7</th>\n",
       "      <td>4219476</td>\n",
       "      <td>3851808</td>\n",
       "      <td>2.181730e+08</td>\n",
       "      <td>collarosedw_official</td>\n",
       "      <td>grapeseed+collarose</td>\n",
       "      <td>🍇 สินค้าแบรนด์ dwplus\\n💓 collarose+grapeseed+f...</td>\n",
       "      <td>7496.0</td>\n",
       "      <td>18021.0</td>\n",
       "      <td>113182.0</td>\n",
       "      <td>bit.ly/2asesw7</td>\n",
       "      <td>2022-10-17 02:08:17</td>\n",
       "      <td>True</td>\n",
       "    </tr>\n",
       "    <tr>\n",
       "      <th>8</th>\n",
       "      <td>4236057</td>\n",
       "      <td>3868432</td>\n",
       "      <td>2.855497e+08</td>\n",
       "      <td>gamt_authentic</td>\n",
       "      <td>Official IG Of GAMT Thailand</td>\n",
       "      <td>❥ แว่น gamt พร้อมส่ง มีโปร1290 พร้อมซองแว่น+ผ้...</td>\n",
       "      <td>7480.0</td>\n",
       "      <td>27511.0</td>\n",
       "      <td>112777.0</td>\n",
       "      <td>bit.ly/2T2RIqG</td>\n",
       "      <td>2022-10-17 09:28:30</td>\n",
       "      <td>True</td>\n",
       "    </tr>\n",
       "    <tr>\n",
       "      <th>9</th>\n",
       "      <td>1631526</td>\n",
       "      <td>1312725</td>\n",
       "      <td>8.312603e+09</td>\n",
       "      <td>ivankkkka.trmp</td>\n",
       "      <td>IVANKA DARCEY K. TRUMP</td>\n",
       "      <td>DORA. 👄 #Mango</td>\n",
       "      <td>7497.0</td>\n",
       "      <td>2.0</td>\n",
       "      <td>112723.0</td>\n",
       "      <td>www.flightclub.com/yeezy</td>\n",
       "      <td>2022-10-17 02:41:26</td>\n",
       "      <td>False</td>\n",
       "    </tr>\n",
       "  </tbody>\n",
       "</table>\n",
       "</div>"
      ],
      "text/plain": [
       "     index      sid    profile_id          profile_name  \\\n",
       "0  3990313  3661552  1.996648e+08            jasem33312   \n",
       "1  2571453  3288809  8.563367e+09             koenigpic   \n",
       "2  4338921  3970193  1.273455e+09            rudyanto62   \n",
       "3  3942129  3621669  9.813508e+06           hometown_ni   \n",
       "4  4219642  3851869  1.607309e+09   dwfitfiber_thailand   \n",
       "5  2207897   345591  1.087614e+09            waxking911   \n",
       "6  4313908  3944512  1.603890e+09         gamt_official   \n",
       "7  4219476  3851808  2.181730e+08  collarosedw_official   \n",
       "8  4236057  3868432  2.855497e+08        gamt_authentic   \n",
       "9  1631526  1312725  8.312603e+09        ivankkkka.trmp   \n",
       "\n",
       "             firstname_lastname  \\\n",
       "0                    jasem33312   \n",
       "1             Helperwait Studio   \n",
       "2                  Rudyanto 王耀祝   \n",
       "3           AngelsCowboysLakers   \n",
       "4    เห็นผลตั้งแต่เซ็ตแรกท้าลอง   \n",
       "5               Frank Hernandez   \n",
       "6  Official IG Of GAMT Thailand   \n",
       "7           grapeseed+collarose   \n",
       "8  Official IG Of GAMT Thailand   \n",
       "9        IVANKA DARCEY K. TRUMP   \n",
       "\n",
       "                                         description  following  followers  \\\n",
       "0                                                NaN        2.0    82049.0   \n",
       "1                       Веб сайты от идеи до запуска     4538.0      675.0   \n",
       "2                                                NaN      164.0     1693.0   \n",
       "3  All about live & let live. Peace & Harmony. La...     7488.0     1755.0   \n",
       "4  ✿รับตัวแทนรายได้ดีมาก\\n🏧 KTB l SCB l KBANK | B...     7490.0    44951.0   \n",
       "5                                                NaN      134.0      138.0   \n",
       "6  ❥ แว่น gamt พร้อมส่งของแท้💯 มีโปร1290 พร้อมซอง...     7470.0    36001.0   \n",
       "7  🍇 สินค้าแบรนด์ dwplus\\n💓 collarose+grapeseed+f...     7496.0    18021.0   \n",
       "8  ❥ แว่น gamt พร้อมส่ง มีโปร1290 พร้อมซองแว่น+ผ้...     7480.0    27511.0   \n",
       "9                                     DORA. 👄 #Mango     7497.0        2.0   \n",
       "\n",
       "    n_posts                       url                 cts is_business_account  \n",
       "0  183730.0                       NaN 2022-10-17 19:14:19               False  \n",
       "1  142428.0      vk.com/ru.helperwait 2022-10-17 00:14:06                True  \n",
       "2  126340.0                       NaN 2022-10-17 10:00:51               False  \n",
       "3  125220.0                       NaN 2022-10-17 02:49:38               False  \n",
       "4  117262.0            bit.ly/2GdIYJl 2022-10-17 02:10:07                True  \n",
       "5  117099.0                       NaN                 NaT               False  \n",
       "6  113780.0            bit.ly/2GdIYJl 2022-10-17 21:10:30                True  \n",
       "7  113182.0            bit.ly/2asesw7 2022-10-17 02:08:17                True  \n",
       "8  112777.0            bit.ly/2T2RIqG 2022-10-17 09:28:30                True  \n",
       "9  112723.0  www.flightclub.com/yeezy 2022-10-17 02:41:26               False  "
      ]
     },
     "execution_count": 147,
     "metadata": {},
     "output_type": "execute_result"
    }
   ],
   "source": [
    "post=data[0:10]\n",
    "post=post.reset_index()\n",
    "post"
   ]
  },
  {
   "cell_type": "markdown",
   "id": "b349da3b",
   "metadata": {},
   "source": [
    "The main comment time is spread between twelve and three in the morning, and at night people may be more willing to like posts"
   ]
  },
  {
   "cell_type": "markdown",
   "id": "ff0eb4e0",
   "metadata": {},
   "source": [
    "# RQ5"
   ]
  },
  {
   "cell_type": "markdown",
   "id": "e554e70d",
   "metadata": {},
   "source": [
    "1. Plot the top 10 most popular users in terms of followers and their number of posts."
   ]
  },
  {
   "cell_type": "code",
   "execution_count": 149,
   "id": "97281725",
   "metadata": {},
   "outputs": [
    {
     "name": "stdout",
     "output_type": "stream",
     "text": [
      "183730.0\n",
      "142428.0\n",
      "126340.0\n",
      "125220.0\n",
      "117262.0\n",
      "117099.0\n",
      "113780.0\n",
      "113182.0\n",
      "112777.0\n",
      "112723.0\n",
      "[183730.0, 142428.0, 126340.0, 125220.0, 117262.0, 117099.0, 113780.0, 113182.0, 112777.0, 112723.0]\n"
     ]
    },
    {
     "data": {
      "image/png": "[encoded data removed]",
      "text/plain": [
       "<Figure size 432x288 with 1 Axes>"
      ]
     },
     "metadata": {
      "needs_background": "light"
     },
     "output_type": "display_data"
    }
   ],
   "source": [
    "\n",
    "plt.rcParams['font.sans-serif']=['SimHei'] \n",
    "plt.rcParams['axes.unicode_minus']=False\n",
    "n=[]\n",
    "num=[]\n",
    "for i in range(10):\n",
    "       num_list = post['n_posts'][i]\n",
    "       num.append(num_list)\n",
    "       x= post['firstname_lastname'][i]\n",
    "       n.append(x)\n",
    "x=range(len(num))\n",
    "rects1 = plt.bar(x, height=num, width=0.4, alpha=0.8, color='red', label=\"posts\")\n",
    "plt.xticks([index + 0.2 for index in x], n)\n",
    "plt.xlabel(\"Month\")\n",
    "\n",
    "plt.title(\"\")\n",
    "plt.legend()  \n",
    "for rect in rects1:\n",
    "    height = rect.get_height()\n",
    "    plt.text(rect.get_x() + rect.get_width() / 2, height, str(height), ha=\"center\", va=\"bottom\")\n",
    "plt.show()"
   ]
  },
  {
   "cell_type": "markdown",
   "id": "f7de400e",
   "metadata": {},
   "source": [
    "Top 10 with the most posts"
   ]
  },
  {
   "cell_type": "markdown",
   "id": "01c33f54",
   "metadata": {},
   "source": [
    "2. Who is the most influential user?"
   ]
  },
  {
   "cell_type": "code",
   "execution_count": 35,
   "id": "7d70ada7",
   "metadata": {},
   "outputs": [
    {
     "data": {
      "text/html": [
       "<div>\n",
       "<style scoped>\n",
       "    .dataframe tbody tr th:only-of-type {\n",
       "        vertical-align: middle;\n",
       "    }\n",
       "\n",
       "    .dataframe tbody tr th {\n",
       "        vertical-align: top;\n",
       "    }\n",
       "\n",
       "    .dataframe thead th {\n",
       "        text-align: right;\n",
       "    }\n",
       "</style>\n",
       "<table border=\"1\" class=\"dataframe\">\n",
       "  <thead>\n",
       "    <tr style=\"text-align: right;\">\n",
       "      <th></th>\n",
       "      <th>index</th>\n",
       "      <th>sid</th>\n",
       "      <th>profile_id</th>\n",
       "      <th>profile_name</th>\n",
       "      <th>firstname_lastname</th>\n",
       "      <th>description</th>\n",
       "      <th>following</th>\n",
       "      <th>followers</th>\n",
       "      <th>n_posts</th>\n",
       "      <th>url</th>\n",
       "      <th>cts</th>\n",
       "      <th>is_business_account</th>\n",
       "    </tr>\n",
       "  </thead>\n",
       "  <tbody>\n",
       "    <tr>\n",
       "      <th>0</th>\n",
       "      <td>2880218</td>\n",
       "      <td>336492</td>\n",
       "      <td>2.502532e+07</td>\n",
       "      <td>instagram</td>\n",
       "      <td>Instagram</td>\n",
       "      <td>Bringing you closer to the people and things y...</td>\n",
       "      <td>226.0</td>\n",
       "      <td>285457645.0</td>\n",
       "      <td>5760.0</td>\n",
       "      <td>help.instagram.com</td>\n",
       "      <td>NaN</td>\n",
       "      <td>False</td>\n",
       "    </tr>\n",
       "    <tr>\n",
       "      <th>1</th>\n",
       "      <td>2582507</td>\n",
       "      <td>371414</td>\n",
       "      <td>3.416684e+06</td>\n",
       "      <td>victoriassecret</td>\n",
       "      <td>Victoria's Secret</td>\n",
       "      <td>Confidence is sexy. #wearitdaily</td>\n",
       "      <td>549.0</td>\n",
       "      <td>65269440.0</td>\n",
       "      <td>7355.0</td>\n",
       "      <td>like2b.uy/victoriassecret</td>\n",
       "      <td>NaN</td>\n",
       "      <td>True</td>\n",
       "    </tr>\n",
       "    <tr>\n",
       "      <th>2</th>\n",
       "      <td>3820939</td>\n",
       "      <td>337097</td>\n",
       "      <td>2.082449e+07</td>\n",
       "      <td>nba</td>\n",
       "      <td>NBA</td>\n",
       "      <td>30 teams, 1 🏆\\n👟: @nbakicks \\n📽: @nbahistory \\...</td>\n",
       "      <td>817.0</td>\n",
       "      <td>35339708.0</td>\n",
       "      <td>28816.0</td>\n",
       "      <td>nba.app.link/js6X7SVaxT</td>\n",
       "      <td>NaN</td>\n",
       "      <td>True</td>\n",
       "    </tr>\n",
       "    <tr>\n",
       "      <th>3</th>\n",
       "      <td>701965</td>\n",
       "      <td>330376</td>\n",
       "      <td>1.876191e+08</td>\n",
       "      <td>louisvuitton</td>\n",
       "      <td>Louis Vuitton Official</td>\n",
       "      <td>The official Instagram account of Louis Vuitton.</td>\n",
       "      <td>5.0</td>\n",
       "      <td>30689316.0</td>\n",
       "      <td>3352.0</td>\n",
       "      <td>on.louisvuitton.com/Like2Buy</td>\n",
       "      <td>NaN</td>\n",
       "      <td>True</td>\n",
       "    </tr>\n",
       "    <tr>\n",
       "      <th>4</th>\n",
       "      <td>2414951</td>\n",
       "      <td>292359</td>\n",
       "      <td>2.125507e+09</td>\n",
       "      <td>buzzfeedtasty</td>\n",
       "      <td>Tasty</td>\n",
       "      <td>Recipes that will make you say \"oh yes!\"\\n👇 Cl...</td>\n",
       "      <td>298.0</td>\n",
       "      <td>30246783.0</td>\n",
       "      <td>2791.0</td>\n",
       "      <td>tasty.co/linkinbio</td>\n",
       "      <td>NaN</td>\n",
       "      <td>True</td>\n",
       "    </tr>\n",
       "    <tr>\n",
       "      <th>5</th>\n",
       "      <td>2785241</td>\n",
       "      <td>3437294</td>\n",
       "      <td>4.968651e+08</td>\n",
       "      <td>andresiniesta8</td>\n",
       "      <td>Andres Iniesta</td>\n",
       "      <td>Andres Iniesta Official Instagram Account, \\nB...</td>\n",
       "      <td>151.0</td>\n",
       "      <td>29542143.0</td>\n",
       "      <td>990.0</td>\n",
       "      <td>mikakus.com</td>\n",
       "      <td>2019-05-08 23:54:35.377 -0400</td>\n",
       "      <td>False</td>\n",
       "    </tr>\n",
       "    <tr>\n",
       "      <th>6</th>\n",
       "      <td>333193</td>\n",
       "      <td>158690</td>\n",
       "      <td>2.341008e+07</td>\n",
       "      <td>hm</td>\n",
       "      <td>H&amp;M</td>\n",
       "      <td>Welcome to #HM! Follow us at @HM_Man @HM_Kids ...</td>\n",
       "      <td>403.0</td>\n",
       "      <td>29176804.0</td>\n",
       "      <td>4566.0</td>\n",
       "      <td>hm.info/1c9he</td>\n",
       "      <td>2018-05-31 19:33:46.022 -0400</td>\n",
       "      <td>True</td>\n",
       "    </tr>\n",
       "    <tr>\n",
       "      <th>7</th>\n",
       "      <td>3934581</td>\n",
       "      <td>3615154</td>\n",
       "      <td>2.423993e+07</td>\n",
       "      <td>princessyahrini</td>\n",
       "      <td>Syahrini</td>\n",
       "      <td>NaN</td>\n",
       "      <td>835.0</td>\n",
       "      <td>29042823.0</td>\n",
       "      <td>4719.0</td>\n",
       "      <td>www.youtube.com/c/ThePrincesSyahrini</td>\n",
       "      <td>2019-06-26 15:05:53.411 -0400</td>\n",
       "      <td>True</td>\n",
       "    </tr>\n",
       "    <tr>\n",
       "      <th>8</th>\n",
       "      <td>1311970</td>\n",
       "      <td>508140</td>\n",
       "      <td>5.041706e+07</td>\n",
       "      <td>danbilzerian</td>\n",
       "      <td>Dan Bilzerian</td>\n",
       "      <td>Snapchat: dbilzerian</td>\n",
       "      <td>252.0</td>\n",
       "      <td>26476004.0</td>\n",
       "      <td>1311.0</td>\n",
       "      <td>www.ignite.co</td>\n",
       "      <td>NaN</td>\n",
       "      <td>True</td>\n",
       "    </tr>\n",
       "    <tr>\n",
       "      <th>9</th>\n",
       "      <td>1703764</td>\n",
       "      <td>3513205</td>\n",
       "      <td>9.070254e+08</td>\n",
       "      <td>akshaykumar</td>\n",
       "      <td>Akshay Kumar</td>\n",
       "      <td>#AkshayKumar</td>\n",
       "      <td>5.0</td>\n",
       "      <td>26252169.0</td>\n",
       "      <td>1173.0</td>\n",
       "      <td>bit.ly/AliAliBlank</td>\n",
       "      <td>2019-05-14 08:29:29.754 -0400</td>\n",
       "      <td>False</td>\n",
       "    </tr>\n",
       "  </tbody>\n",
       "</table>\n",
       "</div>"
      ],
      "text/plain": [
       "     index      sid    profile_id     profile_name      firstname_lastname  \\\n",
       "0  2880218   336492  2.502532e+07        instagram               Instagram   \n",
       "1  2582507   371414  3.416684e+06  victoriassecret       Victoria's Secret   \n",
       "2  3820939   337097  2.082449e+07              nba                     NBA   \n",
       "3   701965   330376  1.876191e+08     louisvuitton  Louis Vuitton Official   \n",
       "4  2414951   292359  2.125507e+09    buzzfeedtasty                   Tasty   \n",
       "5  2785241  3437294  4.968651e+08   andresiniesta8          Andres Iniesta   \n",
       "6   333193   158690  2.341008e+07               hm                     H&M   \n",
       "7  3934581  3615154  2.423993e+07  princessyahrini                Syahrini   \n",
       "8  1311970   508140  5.041706e+07     danbilzerian           Dan Bilzerian   \n",
       "9  1703764  3513205  9.070254e+08      akshaykumar            Akshay Kumar   \n",
       "\n",
       "                                         description  following    followers  \\\n",
       "0  Bringing you closer to the people and things y...      226.0  285457645.0   \n",
       "1                   Confidence is sexy. #wearitdaily      549.0   65269440.0   \n",
       "2  30 teams, 1 🏆\\n👟: @nbakicks \\n📽: @nbahistory \\...      817.0   35339708.0   \n",
       "3   The official Instagram account of Louis Vuitton.        5.0   30689316.0   \n",
       "4  Recipes that will make you say \"oh yes!\"\\n👇 Cl...      298.0   30246783.0   \n",
       "5  Andres Iniesta Official Instagram Account, \\nB...      151.0   29542143.0   \n",
       "6  Welcome to #HM! Follow us at @HM_Man @HM_Kids ...      403.0   29176804.0   \n",
       "7                                                NaN      835.0   29042823.0   \n",
       "8                               Snapchat: dbilzerian      252.0   26476004.0   \n",
       "9                                       #AkshayKumar        5.0   26252169.0   \n",
       "\n",
       "   n_posts                                   url  \\\n",
       "0   5760.0                    help.instagram.com   \n",
       "1   7355.0             like2b.uy/victoriassecret   \n",
       "2  28816.0               nba.app.link/js6X7SVaxT   \n",
       "3   3352.0          on.louisvuitton.com/Like2Buy   \n",
       "4   2791.0                    tasty.co/linkinbio   \n",
       "5    990.0                           mikakus.com   \n",
       "6   4566.0                         hm.info/1c9he   \n",
       "7   4719.0  www.youtube.com/c/ThePrincesSyahrini   \n",
       "8   1311.0                         www.ignite.co   \n",
       "9   1173.0                    bit.ly/AliAliBlank   \n",
       "\n",
       "                             cts is_business_account  \n",
       "0                            NaN               False  \n",
       "1                            NaN                True  \n",
       "2                            NaN                True  \n",
       "3                            NaN                True  \n",
       "4                            NaN                True  \n",
       "5  2019-05-08 23:54:35.377 -0400               False  \n",
       "6  2018-05-31 19:33:46.022 -0400                True  \n",
       "7  2019-06-26 15:05:53.411 -0400                True  \n",
       "8                            NaN                True  \n",
       "9  2019-05-14 08:29:29.754 -0400               False  "
      ]
     },
     "execution_count": 35,
     "metadata": {},
     "output_type": "execute_result"
    }
   ],
   "source": [
    "data.sort_values(by='followers', inplace=True, ascending=False)\n",
    "flo=data[0:10]\n",
    "flo=flo.reset_index()\n",
    "flo"
   ]
  },
  {
   "cell_type": "code",
   "execution_count": 187,
   "id": "69f4b260",
   "metadata": {},
   "outputs": [
    {
     "data": {
      "image/png": "[encoded data removed]",
      "text/plain": [
       "<Figure size 432x288 with 1 Axes>"
      ]
     },
     "metadata": {
      "needs_background": "light"
     },
     "output_type": "display_data"
    }
   ],
   "source": [
    "\n",
    "n=[]\n",
    "num=[]\n",
    "for i in range(10):\n",
    "       num_list = flo['followers'][i]\n",
    "       num.append(num_list)\n",
    "       x= flo['profile_name'][i]\n",
    "       n.append(x)\n",
    "x=range(len(num))\n",
    "rects1 = plt.bar(x, height=num, width=0.4, alpha=0.8, color='red', label=\"posts\")\n",
    "plt.xticks([index + 0.2 for index in x], n)\n",
    "plt.xlabel(\"name\")\n",
    "\n",
    "plt.title(\"\")\n",
    "plt.legend()  \n",
    "for rect in rects1:\n",
    "    height = rect.get_height()\n",
    "    plt.text(rect.get_x() + rect.get_width() / 2, height, str(height), ha=\"center\", va=\"bottom\")\n",
    "plt.show()"
   ]
  },
  {
   "cell_type": "markdown",
   "id": "0d7385a1",
   "metadata": {},
   "source": [
    "Top 10 with the most follwers"
   ]
  },
  {
   "cell_type": "markdown",
   "id": "b41c25a4",
   "metadata": {},
   "source": [
    "So the most followed user is Instagram, which has 285457645.0 followers"
   ]
  },
  {
   "cell_type": "markdown",
   "id": "a6eb3b0a",
   "metadata": {},
   "source": [
    "3. Have they posted anything with tagged locations? Extract the most frequent areas on their posts and plot the number of times each city has been visited."
   ]
  },
  {
   "cell_type": "code",
   "execution_count": 56,
   "id": "964e9553",
   "metadata": {},
   "outputs": [],
   "source": [
    "data2= pd.read_csv('instagram_locations.csv', sep='\\t')\n"
   ]
  },
  {
   "cell_type": "code",
   "execution_count": 125,
   "id": "82c5bcf3",
   "metadata": {},
   "outputs": [
    {
     "name": "stdout",
     "output_type": "stream",
     "text": [
      "[array(['United States'], dtype=object), array([nan], dtype=object), array(['Peru'], dtype=object), array([nan], dtype=object), array([nan], dtype=object), array(['United Kingdom'], dtype=object), array([nan], dtype=object), array(['Spain'], dtype=object), array([nan], dtype=object), array([nan], dtype=object), array([nan], dtype=object), array([nan], dtype=object), array([nan], dtype=object), array(['United Kingdom'], dtype=object), array(['China'], dtype=object), array([nan], dtype=object), array([nan], dtype=object), array([nan], dtype=object), array(['United Kingdom'], dtype=object), array(['Netherlands'], dtype=object), array([nan], dtype=object), array(['Thailand'], dtype=object), array([nan], dtype=object), array([nan], dtype=object), array(['United States'], dtype=object), array([nan], dtype=object), array(['Japan'], dtype=object), array([nan], dtype=object), array(['Australia'], dtype=object), array([nan], dtype=object), array([nan], dtype=object), array([nan], dtype=object), array([nan], dtype=object), array([nan], dtype=object)]\n",
      "[array(['Downtown Dallas'], dtype=object), array([nan], dtype=object), array(['Mondor Pampa Aserradero'], dtype=object), array([nan], dtype=object), array([nan], dtype=object), array(['St. James'], dtype=object), array([nan], dtype=object), array(['Valencia'], dtype=object), array([nan], dtype=object), array([nan], dtype=object), array([nan], dtype=object), array([nan], dtype=object), array([nan], dtype=object), array(['Chawton'], dtype=object), array(['Xiandu'], dtype=object), array([nan], dtype=object), array([nan], dtype=object), array([nan], dtype=object), array(['Upper Clapton'], dtype=object), array(['Nieuwe Meer'], dtype=object), array([nan], dtype=object), array(['Tha Chang'], dtype=object), array([nan], dtype=object), array([nan], dtype=object), array(['Crystal Falls'], dtype=object), array([nan], dtype=object), array(['Ota-shi'], dtype=object), array([nan], dtype=object), array(['Loftus'], dtype=object), array([nan], dtype=object), array([nan], dtype=object), array([nan], dtype=object), array([nan], dtype=object), array([nan], dtype=object)]\n"
     ]
    }
   ],
   "source": [
    "flo['profile_id'][0]\n",
    "area=[]\n",
    "loca=[]\n",
    "lo=data1[data1['profile_id']==flo['profile_id'][0]]\n",
    "for i in range(len(lo)):\n",
    "    location=data2[data2['id']==lo['location_id'][i]]\n",
    "    area.append(location[['dir_country_name']].values[0])  \n",
    "    loca.append(location[['dir_city_name']].values[0])\n",
    "\n",
    "print(area)\n",
    "print(loca)\n",
    "\n"
   ]
  },
  {
   "cell_type": "markdown",
   "id": "0cc97a6e",
   "metadata": {},
   "source": [
    "It can be seen that the most common region is the United Kingdom"
   ]
  },
  {
   "cell_type": "code",
   "execution_count": 133,
   "id": "7e78b85e",
   "metadata": {},
   "outputs": [
    {
     "data": {
      "image/png": "[encoded data removed]",
      "text/plain": [
       "<Figure size 432x288 with 1 Axes>"
      ]
     },
     "metadata": {
      "needs_background": "light"
     },
     "output_type": "display_data"
    }
   ],
   "source": [
    "loc1=[]\n",
    "for i in range(len(loca)):\n",
    "    loc1.append(loca[i].astype(str).item())\n",
    "\n",
    "dict = {}\n",
    "for key in loc1:\n",
    "    dict[key] = dict.get(key, 0) + 1\n",
    "key1=[]\n",
    "value1=[]\n",
    "for key in dict.keys():\n",
    "    key1.append(key)\n",
    "    \n",
    "for value in dict.values():\n",
    "    value1.append(value)\n",
    "x=range(len(key1))\n",
    "rects1 = plt.bar(key1, height=value1, width=0.4, alpha=0.8, color='red', label=\"posts\")\n",
    "plt.xticks([index + 0.2 for index in x],key1)\n",
    "plt.xlabel(\"name\")\n",
    "plt.title(\"location\")\n",
    "plt.legend()  \n",
    "for rect in rects1:\n",
    "    height = rect.get_height()\n",
    "    plt.text(rect.get_x() + rect.get_width() / 2, height, str(height), ha=\"center\", va=\"bottom\")\n",
    "plt.show()\n"
   ]
  },
  {
   "cell_type": "markdown",
   "id": "522cc4eb",
   "metadata": {},
   "source": [
    "It can be seen that there are 22 posts without cities, and the other cities appear once"
   ]
  },
  {
   "cell_type": "code",
   "execution_count": 110,
   "id": "ea761fc8",
   "metadata": {},
   "outputs": [
    {
     "data": {
      "text/html": [
       "<div>\n",
       "<style scoped>\n",
       "    .dataframe tbody tr th:only-of-type {\n",
       "        vertical-align: middle;\n",
       "    }\n",
       "\n",
       "    .dataframe tbody tr th {\n",
       "        vertical-align: top;\n",
       "    }\n",
       "\n",
       "    .dataframe thead th {\n",
       "        text-align: right;\n",
       "    }\n",
       "</style>\n",
       "<table border=\"1\" class=\"dataframe\">\n",
       "  <thead>\n",
       "    <tr style=\"text-align: right;\">\n",
       "      <th></th>\n",
       "      <th>sid</th>\n",
       "      <th>id</th>\n",
       "      <th>name</th>\n",
       "      <th>street</th>\n",
       "      <th>zip</th>\n",
       "      <th>city</th>\n",
       "      <th>region</th>\n",
       "      <th>cd</th>\n",
       "      <th>phone</th>\n",
       "      <th>aj_exact_city_match</th>\n",
       "      <th>...</th>\n",
       "      <th>dir_city_name</th>\n",
       "      <th>dir_city_slug</th>\n",
       "      <th>dir_country_id</th>\n",
       "      <th>dir_country_name</th>\n",
       "      <th>lat</th>\n",
       "      <th>lng</th>\n",
       "      <th>primary_alias_on_fb</th>\n",
       "      <th>slug</th>\n",
       "      <th>website</th>\n",
       "      <th>cts</th>\n",
       "    </tr>\n",
       "  </thead>\n",
       "  <tbody>\n",
       "    <tr>\n",
       "      <th>0</th>\n",
       "      <td>719981</td>\n",
       "      <td>110296492939207</td>\n",
       "      <td>Playa de Daimuz - Valencia, España</td>\n",
       "      <td>NaN</td>\n",
       "      <td>NaN</td>\n",
       "      <td>NaN</td>\n",
       "      <td>NaN</td>\n",
       "      <td>NaN</td>\n",
       "      <td>NaN</td>\n",
       "      <td>False</td>\n",
       "      <td>...</td>\n",
       "      <td>NaN</td>\n",
       "      <td>NaN</td>\n",
       "      <td>NaN</td>\n",
       "      <td>NaN</td>\n",
       "      <td>-0.139475</td>\n",
       "      <td>38.974391</td>\n",
       "      <td>daimuzplaya</td>\n",
       "      <td>playa-de-daimuz-valencia-espana</td>\n",
       "      <td>https://es.wikipedia.org/wiki/Daimuz</td>\n",
       "      <td>2019-05-29 01:21:29.987</td>\n",
       "    </tr>\n",
       "    <tr>\n",
       "      <th>1</th>\n",
       "      <td>719983</td>\n",
       "      <td>274391278</td>\n",
       "      <td>Nová Vieska</td>\n",
       "      <td>NaN</td>\n",
       "      <td>NaN</td>\n",
       "      <td>Nová Vieska</td>\n",
       "      <td>NaN</td>\n",
       "      <td>SK</td>\n",
       "      <td>NaN</td>\n",
       "      <td>True</td>\n",
       "      <td>...</td>\n",
       "      <td>Kis-Újfalu</td>\n",
       "      <td>kis-ujfalu</td>\n",
       "      <td>SK</td>\n",
       "      <td>Slovakia</td>\n",
       "      <td>18.466667</td>\n",
       "      <td>47.866667</td>\n",
       "      <td>NaN</td>\n",
       "      <td>nova-vieska</td>\n",
       "      <td>NaN</td>\n",
       "      <td>2019-05-29 01:21:38.037</td>\n",
       "    </tr>\n",
       "    <tr>\n",
       "      <th>2</th>\n",
       "      <td>719985</td>\n",
       "      <td>148885595789195</td>\n",
       "      <td>Everest Today</td>\n",
       "      <td>Himalayas</td>\n",
       "      <td>+977</td>\n",
       "      <td>Kathmandu, Nepal</td>\n",
       "      <td>NaN</td>\n",
       "      <td>NP</td>\n",
       "      <td>NaN</td>\n",
       "      <td>False</td>\n",
       "      <td>...</td>\n",
       "      <td>Pasupati</td>\n",
       "      <td>pasupati</td>\n",
       "      <td>NP</td>\n",
       "      <td>Nepal</td>\n",
       "      <td>85.330150</td>\n",
       "      <td>27.701960</td>\n",
       "      <td>EverestToday</td>\n",
       "      <td>everest-today</td>\n",
       "      <td>NaN</td>\n",
       "      <td>2019-05-29 01:21:46.295</td>\n",
       "    </tr>\n",
       "    <tr>\n",
       "      <th>3</th>\n",
       "      <td>719987</td>\n",
       "      <td>263258277</td>\n",
       "      <td>BULAC - Bibliothèque universitaire des langues...</td>\n",
       "      <td>65, rue des Grands-Moulins</td>\n",
       "      <td>75013</td>\n",
       "      <td>Paris, France</td>\n",
       "      <td>NaN</td>\n",
       "      <td>FR</td>\n",
       "      <td>01 81 69 18 00</td>\n",
       "      <td>False</td>\n",
       "      <td>...</td>\n",
       "      <td>13ème Arrondissement Paris</td>\n",
       "      <td>13eme-arrondissement-paris</td>\n",
       "      <td>FR</td>\n",
       "      <td>France</td>\n",
       "      <td>2.375995</td>\n",
       "      <td>48.827240</td>\n",
       "      <td>BULAC.Paris</td>\n",
       "      <td>bulac-bibliotheque-universitaire-des-langues-e...</td>\n",
       "      <td>www.bulac.fr</td>\n",
       "      <td>2019-05-29 01:21:54.355</td>\n",
       "    </tr>\n",
       "    <tr>\n",
       "      <th>4</th>\n",
       "      <td>326443</td>\n",
       "      <td>406147529857708</td>\n",
       "      <td>ABC Cable Networks Group</td>\n",
       "      <td>3800 W Alameda Ave</td>\n",
       "      <td>91505</td>\n",
       "      <td>Burbank, California</td>\n",
       "      <td>NaN</td>\n",
       "      <td>US</td>\n",
       "      <td>(818) 569-7500</td>\n",
       "      <td>False</td>\n",
       "      <td>...</td>\n",
       "      <td>NaN</td>\n",
       "      <td>NaN</td>\n",
       "      <td>NaN</td>\n",
       "      <td>NaN</td>\n",
       "      <td>-118.341864</td>\n",
       "      <td>34.153265</td>\n",
       "      <td>NaN</td>\n",
       "      <td>abc-cable-networks-group</td>\n",
       "      <td>NaN</td>\n",
       "      <td>2019-04-02 15:22:55.703</td>\n",
       "    </tr>\n",
       "    <tr>\n",
       "      <th>...</th>\n",
       "      <td>...</td>\n",
       "      <td>...</td>\n",
       "      <td>...</td>\n",
       "      <td>...</td>\n",
       "      <td>...</td>\n",
       "      <td>...</td>\n",
       "      <td>...</td>\n",
       "      <td>...</td>\n",
       "      <td>...</td>\n",
       "      <td>...</td>\n",
       "      <td>...</td>\n",
       "      <td>...</td>\n",
       "      <td>...</td>\n",
       "      <td>...</td>\n",
       "      <td>...</td>\n",
       "      <td>...</td>\n",
       "      <td>...</td>\n",
       "      <td>...</td>\n",
       "      <td>...</td>\n",
       "      <td>...</td>\n",
       "      <td>...</td>\n",
       "    </tr>\n",
       "    <tr>\n",
       "      <th>1022653</th>\n",
       "      <td>719973</td>\n",
       "      <td>873926439475785</td>\n",
       "      <td>Baby Season</td>\n",
       "      <td>Suarez de Figueroa # 380</td>\n",
       "      <td>NaN</td>\n",
       "      <td>Santa Cruz de la Sierra, Bolivia</td>\n",
       "      <td>NaN</td>\n",
       "      <td>BO</td>\n",
       "      <td>69118383</td>\n",
       "      <td>False</td>\n",
       "      <td>...</td>\n",
       "      <td>Santa Cruz de la Sierra</td>\n",
       "      <td>santa-cruz-de-la-sierra</td>\n",
       "      <td>BO</td>\n",
       "      <td>Bolivia</td>\n",
       "      <td>-63.185307</td>\n",
       "      <td>-17.786130</td>\n",
       "      <td>babyseason.srl</td>\n",
       "      <td>baby-season</td>\n",
       "      <td>NaN</td>\n",
       "      <td>2019-05-29 01:20:57.078</td>\n",
       "    </tr>\n",
       "    <tr>\n",
       "      <th>1022654</th>\n",
       "      <td>719975</td>\n",
       "      <td>390707529</td>\n",
       "      <td>Cueva Carvajal</td>\n",
       "      <td>NaN</td>\n",
       "      <td>NaN</td>\n",
       "      <td>NaN</td>\n",
       "      <td>NaN</td>\n",
       "      <td>NaN</td>\n",
       "      <td>+52 81 2089 7776</td>\n",
       "      <td>NaN</td>\n",
       "      <td>...</td>\n",
       "      <td>NaN</td>\n",
       "      <td>NaN</td>\n",
       "      <td>NaN</td>\n",
       "      <td>NaN</td>\n",
       "      <td>-100.359619</td>\n",
       "      <td>25.653550</td>\n",
       "      <td>CuevaCarvajalBrewPub</td>\n",
       "      <td>cueva-carvajal</td>\n",
       "      <td>http://www.cuevacarvajal.mx</td>\n",
       "      <td>2019-05-29 01:21:04.434</td>\n",
       "    </tr>\n",
       "    <tr>\n",
       "      <th>1022655</th>\n",
       "      <td>719977</td>\n",
       "      <td>1205466612894741</td>\n",
       "      <td>The Cheesecake Factory</td>\n",
       "      <td>304 Orland Square Dr</td>\n",
       "      <td>60462</td>\n",
       "      <td>Orland Park, Illinois</td>\n",
       "      <td>NaN</td>\n",
       "      <td>US</td>\n",
       "      <td>(708) 873-3747</td>\n",
       "      <td>False</td>\n",
       "      <td>...</td>\n",
       "      <td>Manor Homes</td>\n",
       "      <td>manor-homes</td>\n",
       "      <td>US</td>\n",
       "      <td>United States</td>\n",
       "      <td>-87.843649</td>\n",
       "      <td>41.618551</td>\n",
       "      <td>NaN</td>\n",
       "      <td>the-cheesecake-factory</td>\n",
       "      <td>http://locations.thecheesecakefactory.com/il/o...</td>\n",
       "      <td>2019-05-29 01:21:13.404</td>\n",
       "    </tr>\n",
       "    <tr>\n",
       "      <th>1022656</th>\n",
       "      <td>719979</td>\n",
       "      <td>286794844</td>\n",
       "      <td>Plimmer Towers</td>\n",
       "      <td>2 Gilmer Terrace</td>\n",
       "      <td>NaN</td>\n",
       "      <td>Wellington, New Zealand</td>\n",
       "      <td>NaN</td>\n",
       "      <td>NZ</td>\n",
       "      <td>NaN</td>\n",
       "      <td>False</td>\n",
       "      <td>...</td>\n",
       "      <td>NaN</td>\n",
       "      <td>NaN</td>\n",
       "      <td>NaN</td>\n",
       "      <td>NaN</td>\n",
       "      <td>174.775000</td>\n",
       "      <td>-41.285800</td>\n",
       "      <td>NaN</td>\n",
       "      <td>plimmer-towers</td>\n",
       "      <td>NaN</td>\n",
       "      <td>2019-05-29 01:21:21.628</td>\n",
       "    </tr>\n",
       "    <tr>\n",
       "      <th>1022657</th>\n",
       "      <td>720678</td>\n",
       "      <td>554330673</td>\n",
       "      <td>Старые Бирюли</td>\n",
       "      <td>Северная улица</td>\n",
       "      <td>NaN</td>\n",
       "      <td>NaN</td>\n",
       "      <td>NaN</td>\n",
       "      <td>NaN</td>\n",
       "      <td>NaN</td>\n",
       "      <td>False</td>\n",
       "      <td>...</td>\n",
       "      <td>NaN</td>\n",
       "      <td>NaN</td>\n",
       "      <td>NaN</td>\n",
       "      <td>NaN</td>\n",
       "      <td>49.444430</td>\n",
       "      <td>55.979180</td>\n",
       "      <td>NaN</td>\n",
       "      <td>NaN</td>\n",
       "      <td>NaN</td>\n",
       "      <td>2019-05-29 02:07:00.772</td>\n",
       "    </tr>\n",
       "  </tbody>\n",
       "</table>\n",
       "<p>1022658 rows × 23 columns</p>\n",
       "</div>"
      ],
      "text/plain": [
       "            sid                id  \\\n",
       "0        719981   110296492939207   \n",
       "1        719983         274391278   \n",
       "2        719985   148885595789195   \n",
       "3        719987         263258277   \n",
       "4        326443   406147529857708   \n",
       "...         ...               ...   \n",
       "1022653  719973   873926439475785   \n",
       "1022654  719975         390707529   \n",
       "1022655  719977  1205466612894741   \n",
       "1022656  719979         286794844   \n",
       "1022657  720678         554330673   \n",
       "\n",
       "                                                      name  \\\n",
       "0                       Playa de Daimuz - Valencia, España   \n",
       "1                                              Nová Vieska   \n",
       "2                                            Everest Today   \n",
       "3        BULAC - Bibliothèque universitaire des langues...   \n",
       "4                                 ABC Cable Networks Group   \n",
       "...                                                    ...   \n",
       "1022653                                        Baby Season   \n",
       "1022654                                     Cueva Carvajal   \n",
       "1022655                             The Cheesecake Factory   \n",
       "1022656                                     Plimmer Towers   \n",
       "1022657                                      Старые Бирюли   \n",
       "\n",
       "                             street    zip                              city  \\\n",
       "0                               NaN    NaN                               NaN   \n",
       "1                               NaN    NaN                       Nová Vieska   \n",
       "2                         Himalayas   +977                  Kathmandu, Nepal   \n",
       "3        65, rue des Grands-Moulins  75013                     Paris, France   \n",
       "4                3800 W Alameda Ave  91505               Burbank, California   \n",
       "...                             ...    ...                               ...   \n",
       "1022653    Suarez de Figueroa # 380    NaN  Santa Cruz de la Sierra, Bolivia   \n",
       "1022654                         NaN    NaN                               NaN   \n",
       "1022655        304 Orland Square Dr  60462             Orland Park, Illinois   \n",
       "1022656            2 Gilmer Terrace    NaN           Wellington, New Zealand   \n",
       "1022657              Северная улица    NaN                               NaN   \n",
       "\n",
       "        region   cd             phone aj_exact_city_match  ...  \\\n",
       "0          NaN  NaN               NaN               False  ...   \n",
       "1          NaN   SK               NaN                True  ...   \n",
       "2          NaN   NP               NaN               False  ...   \n",
       "3          NaN   FR    01 81 69 18 00               False  ...   \n",
       "4          NaN   US    (818) 569-7500               False  ...   \n",
       "...        ...  ...               ...                 ...  ...   \n",
       "1022653    NaN   BO          69118383               False  ...   \n",
       "1022654    NaN  NaN  +52 81 2089 7776                 NaN  ...   \n",
       "1022655    NaN   US    (708) 873-3747               False  ...   \n",
       "1022656    NaN   NZ               NaN               False  ...   \n",
       "1022657    NaN  NaN               NaN               False  ...   \n",
       "\n",
       "                      dir_city_name               dir_city_slug  \\\n",
       "0                               NaN                         NaN   \n",
       "1                        Kis-Újfalu                  kis-ujfalu   \n",
       "2                          Pasupati                    pasupati   \n",
       "3        13ème Arrondissement Paris  13eme-arrondissement-paris   \n",
       "4                               NaN                         NaN   \n",
       "...                             ...                         ...   \n",
       "1022653     Santa Cruz de la Sierra     santa-cruz-de-la-sierra   \n",
       "1022654                         NaN                         NaN   \n",
       "1022655                 Manor Homes                 manor-homes   \n",
       "1022656                         NaN                         NaN   \n",
       "1022657                         NaN                         NaN   \n",
       "\n",
       "        dir_country_id dir_country_name         lat        lng  \\\n",
       "0                  NaN              NaN   -0.139475  38.974391   \n",
       "1                   SK         Slovakia   18.466667  47.866667   \n",
       "2                   NP            Nepal   85.330150  27.701960   \n",
       "3                   FR           France    2.375995  48.827240   \n",
       "4                  NaN              NaN -118.341864  34.153265   \n",
       "...                ...              ...         ...        ...   \n",
       "1022653             BO          Bolivia  -63.185307 -17.786130   \n",
       "1022654            NaN              NaN -100.359619  25.653550   \n",
       "1022655             US    United States  -87.843649  41.618551   \n",
       "1022656            NaN              NaN  174.775000 -41.285800   \n",
       "1022657            NaN              NaN   49.444430  55.979180   \n",
       "\n",
       "          primary_alias_on_fb  \\\n",
       "0                 daimuzplaya   \n",
       "1                         NaN   \n",
       "2                EverestToday   \n",
       "3                 BULAC.Paris   \n",
       "4                         NaN   \n",
       "...                       ...   \n",
       "1022653        babyseason.srl   \n",
       "1022654  CuevaCarvajalBrewPub   \n",
       "1022655                   NaN   \n",
       "1022656                   NaN   \n",
       "1022657                   NaN   \n",
       "\n",
       "                                                      slug  \\\n",
       "0                          playa-de-daimuz-valencia-espana   \n",
       "1                                              nova-vieska   \n",
       "2                                            everest-today   \n",
       "3        bulac-bibliotheque-universitaire-des-langues-e...   \n",
       "4                                 abc-cable-networks-group   \n",
       "...                                                    ...   \n",
       "1022653                                        baby-season   \n",
       "1022654                                     cueva-carvajal   \n",
       "1022655                             the-cheesecake-factory   \n",
       "1022656                                     plimmer-towers   \n",
       "1022657                                                NaN   \n",
       "\n",
       "                                                   website  \\\n",
       "0                     https://es.wikipedia.org/wiki/Daimuz   \n",
       "1                                                      NaN   \n",
       "2                                                      NaN   \n",
       "3                                             www.bulac.fr   \n",
       "4                                                      NaN   \n",
       "...                                                    ...   \n",
       "1022653                                                NaN   \n",
       "1022654                        http://www.cuevacarvajal.mx   \n",
       "1022655  http://locations.thecheesecakefactory.com/il/o...   \n",
       "1022656                                                NaN   \n",
       "1022657                                                NaN   \n",
       "\n",
       "                             cts  \n",
       "0        2019-05-29 01:21:29.987  \n",
       "1        2019-05-29 01:21:38.037  \n",
       "2        2019-05-29 01:21:46.295  \n",
       "3        2019-05-29 01:21:54.355  \n",
       "4        2019-04-02 15:22:55.703  \n",
       "...                          ...  \n",
       "1022653  2019-05-29 01:20:57.078  \n",
       "1022654  2019-05-29 01:21:04.434  \n",
       "1022655  2019-05-29 01:21:13.404  \n",
       "1022656  2019-05-29 01:21:21.628  \n",
       "1022657  2019-05-29 02:07:00.772  \n",
       "\n",
       "[1022658 rows x 23 columns]"
      ]
     },
     "execution_count": 110,
     "metadata": {},
     "output_type": "execute_result"
    }
   ],
   "source": [
    "data2"
   ]
  },
  {
   "cell_type": "markdown",
   "id": "daeebbff",
   "metadata": {},
   "source": [
    "4. How many pictures-only posts have they published? How many reels? (only videos) and how many with both contents? Provide the number as percentages and interpret those figures"
   ]
  },
  {
   "cell_type": "code",
   "execution_count": 46,
   "id": "3b1fc232",
   "metadata": {},
   "outputs": [],
   "source": [
    "flo['profile_id'][0]\n",
    "no=data1[data1['profile_id']==flo['profile_id'][0]]\n",
    "no=no.reset_index()\n",
    "a=0\n",
    "b=0\n",
    "c=0\n",
    "\n",
    "for i in range(len(no)):\n",
    "    if no['post_type'][i]==1:\n",
    "        a=a+1\n",
    "    if no['post_type'][i]==2:\n",
    "        b=b+1\n",
    "    if no['post_type'][i]==3:\n",
    "        c=c+1"
   ]
  },
  {
   "cell_type": "markdown",
   "id": "57ebc072",
   "metadata": {},
   "source": [
    "Image"
   ]
  },
  {
   "cell_type": "code",
   "execution_count": 47,
   "id": "54ac397b",
   "metadata": {},
   "outputs": [
    {
     "data": {
      "image/png": "[encoded data removed]",
      "text/plain": [
       "<Figure size 432x432 with 1 Axes>"
      ]
     },
     "metadata": {},
     "output_type": "display_data"
    }
   ],
   "source": [
    "plt.figure(figsize=(6,6))\n",
    "label=['PICTURE','VIDEO','MULTY']\n",
    "explode=[0.01,0.01,0.01]\n",
    "values=[a,b,c]\n",
    "plt.pie(values,explode=explode,labels=label,autopct='%1.1f%%')\n",
    "plt.title('pie charts')\n",
    "plt.show()"
   ]
  },
  {
   "cell_type": "markdown",
   "id": "703875b2",
   "metadata": {},
   "source": [
    "It can be seen that the proportion of pure pictures occupies 91.2%, indicating that  people like to post pictures, and there are neither of them"
   ]
  },
  {
   "cell_type": "markdown",
   "id": "86f10d35",
   "metadata": {},
   "source": [
    "5. How many \"likes\" and comments did posts with only pictures receive? How about videos and mixed posts? Try to provide the average numbers and confront them with their followers amount, explaining what you can say from that comparison."
   ]
  },
  {
   "cell_type": "code",
   "execution_count": 53,
   "id": "fa6b8c6a",
   "metadata": {},
   "outputs": [
    {
     "name": "stdout",
     "output_type": "stream",
     "text": [
      "905933.4516129033 593409.6666666666 nan 6703.290322580645 5749.333333333333 nan\n",
      "285457645.0\n"
     ]
    },
    {
     "name": "stderr",
     "output_type": "stream",
     "text": [
      "D:\\anaconda\\lib\\site-packages\\numpy\\core\\fromnumeric.py:3440: RuntimeWarning: Mean of empty slice.\n",
      "  return _methods._mean(a, axis=axis, dtype=dtype,\n",
      "D:\\anaconda\\lib\\site-packages\\numpy\\core\\_methods.py:189: RuntimeWarning: invalid value encountered in double_scalars\n",
      "  ret = ret.dtype.type(ret / rcount)\n"
     ]
    }
   ],
   "source": [
    "like1=[]\n",
    "like2=[]\n",
    "like3=[]\n",
    "comment1=[]\n",
    "comment2=[]\n",
    "comment3=[]\n",
    "for i in range(len(no)):\n",
    "    if no['post_type'][i]==1:\n",
    "        like1.append(no['numbr_likes'][i])\n",
    "        comment1.append(no['number_comments'][i])\n",
    "    if no['post_type'][i]==2:\n",
    "        like2.append(no['numbr_likes'][i])\n",
    "        comment2.append(no['number_comments'][i])\n",
    "    if no['post_type'][i]==3:\n",
    "        ike3.append(no['numbr_likes'][i])\n",
    "        comment3.append(no['number_comments'][i])\n",
    "like1=mean(like1)\n",
    "like2=mean(like2)\n",
    "like3=mean(like3)\n",
    "comment1=mean(comment1)\n",
    "comment2=mean(comment2)\n",
    "comment3=mean(comment3)\n",
    "print(like1,like2,like3,comment1,comment2,comment3)\n",
    "print(flo['followers'][0])"
   ]
  },
  {
   "cell_type": "markdown",
   "id": "23b23d14",
   "metadata": {},
   "source": [
    "His 285457645 followers, with less than three-thousandths of the likes on each post, indicate that the fans may not be genuine"
   ]
  },
  {
   "cell_type": "markdown",
   "id": "dc122935",
   "metadata": {},
   "source": [
    "Images with an average of 905933 likes and 6703 comments, while videos have an average of 593409 likes and 5749 comments, you can see that images are more clickable"
   ]
  },
  {
   "cell_type": "markdown",
   "id": "d60065a9",
   "metadata": {},
   "source": [
    "# RQ6"
   ]
  },
  {
   "cell_type": "markdown",
   "id": "463b2079",
   "metadata": {},
   "source": [
    "1. What is the average time (days and minutes) a user lets pass before publishing another post? Plot the top 3 users that publish posts more frequently (calculate the average time that passes between posts), including their amount of followers and following. Provide insights from that chart."
   ]
  },
  {
   "cell_type": "code",
   "execution_count": 5,
   "id": "7515b964",
   "metadata": {},
   "outputs": [],
   "source": [
    "profiles_info = profiles[['profile_id','profile_name','following','followers']]\n",
    "profiles_info = profiles_info.dropna() \n",
    "posts_info = pd.read_csv('instagram_posts.csv', delimiter='\\t', usecols=['profile_id','cts'])\n",
    "posts_info = posts_info.dropna()  \n",
    "joined_df = pd.merge(profiles_info,posts_info) # join dataframes of interest\n",
    "joined_df = joined_df.dropna() "
   ]
  },
  {
   "cell_type": "code",
   "execution_count": 23,
   "id": "f1430b3f",
   "metadata": {},
   "outputs": [],
   "source": [
    "def average_time_between_posts(posts_time):\n",
    "    '''\n",
    "    This function computers the average time (in days and minutes) a user lets pass before publishing another post.\n",
    "    Through the use of a dictionary, it associates to each subject his post publication time.\n",
    "    At first, it determinate the average time a single lets pass before publishing another post (so the number of posts must be greater \n",
    "    than one) by calculating the difference between the dates. Then, it determinate the total average for all profiles.\n",
    "    It returns a dictionary which associates to each profile its average time and the total time average in seconds.\n",
    "    '''\n",
    "    dic_of_times = {} \n",
    "    for l in posts_time:\n",
    "        subj,time = l[0],l[1]\n",
    "        if subj in dic_of_times:\n",
    "            dic_of_times[subj].append(time)\n",
    "        else:\n",
    "            dic_of_times[subj] = [time]\n",
    "\n",
    "    dic_of_averages = {}\n",
    "    for subj,times in dic_of_times.items():\n",
    "        l= []\n",
    "        times = sorted(times,reverse=True)\n",
    "        if len(times) > 1:\n",
    "            for i in range(len(times)-1):\n",
    "                diff = times[i] - times[i+1]\n",
    "                duration_in_s = diff.total_seconds()\n",
    "                l.append(duration_in_s)\n",
    "            dic_of_averages[subj] = np.average(l)\n",
    "            \n",
    "    list_of_averages = list(map(int,dic_of_averages.values()))\n",
    "    total_average = np.average(list_of_averages)\n",
    "\n",
    "    return dic_of_averages,total_average"
   ]
  },
  {
   "cell_type": "code",
   "execution_count": 7,
   "id": "0a8c81a2",
   "metadata": {},
   "outputs": [
    {
     "name": "stdout",
     "output_type": "stream",
     "text": [
      "The average time (in days) a user lets pass before publishing another post is: 24\n",
      "The average time (in minutes) a user lets pass before publishing another post is: 624\n"
     ]
    }
   ],
   "source": [
    "joined_df.cts = pd.to_datetime(joined_df.cts) # convert argument to datetime in order to can calculate difference\n",
    "\n",
    "posts_time = joined_df[['profile_name','cts']].to_numpy() # convert the dataframe to a numpy array to facilitate access\n",
    "     \n",
    "dic_of_averages, total_average = average_time_between_posts(posts_time)\n",
    "days = int(total_average/86400) # total average in days\n",
    "minutes= int(((total_average/86400)%1)*1440) # total average in minutes\n",
    "\n",
    "print('The average time (in days) a user lets pass before publishing another post is: ' + str(days))\n",
    "print('The average time (in minutes) a user lets pass before publishing another post is: ' + str(minutes))"
   ]
  },
  {
   "cell_type": "code",
   "execution_count": 8,
   "id": "afd7f8a4",
   "metadata": {},
   "outputs": [
    {
     "name": "stdout",
     "output_type": "stream",
     "text": [
      "radilyubenmorris\n",
      "bodied_by_vinny\n",
      "whoareyou10111\n"
     ]
    }
   ],
   "source": [
    "sorted_averages = sorted(dic_of_averages.items(), key=lambda item: item[1]) # sort averages\n",
    "# top 3 users profile_name\n",
    "print(sorted_averages[0][0])\n",
    "print(sorted_averages[1][0])\n",
    "print(sorted_averages[2][0])"
   ]
  },
  {
   "cell_type": "code",
   "execution_count": 9,
   "id": "508b8d7d",
   "metadata": {},
   "outputs": [
    {
     "data": {
      "text/plain": [
       "Text(0, 0.5, 'Number of followers')"
      ]
     },
     "execution_count": 9,
     "metadata": {},
     "output_type": "execute_result"
    },
    {
     "data": {
      "image/png": "[encoded data removed]",
      "text/plain": [
       "<Figure size 432x288 with 1 Axes>"
      ]
     },
     "metadata": {
      "needs_background": "light"
     },
     "output_type": "display_data"
    }
   ],
   "source": [
    "top1 = profiles_info[profiles_info['profile_name'] == sorted_averages[0][0]] \n",
    "top2 = profiles_info[profiles_info['profile_name'] == sorted_averages[1][0]]\n",
    "top3 = profiles_info[profiles_info['profile_name'] == sorted_averages[2][0]]\n",
    "\n",
    "plt.scatter(x = profiles['following'], y =profiles['followers'])\n",
    "plt.scatter(x = top1['following'], y = top1['followers'], c = 'green')\n",
    "plt.scatter(x = top2['following'], y = top2['followers'], c = 'yellow')\n",
    "plt.scatter(x = top3['following'], y = top3['followers'], c = 'red')\n",
    "\n",
    "plt.xlabel('Number of following')\n",
    "plt.ylabel('Number of followers')\n"
   ]
  },
  {
   "cell_type": "markdown",
   "id": "28bb860b",
   "metadata": {},
   "source": [
    "We can conclude that there is no correlation between average time between posts and number of following/followers of a profile. In fact, the 3 top profiles have very few followers and following even if they publish very often."
   ]
  },
  {
   "cell_type": "markdown",
   "id": "d9084c08",
   "metadata": {},
   "source": [
    "2. Using the function you previously coded, plot the time intervals with the highest average number of “likes” and the ones with the highest average number of comments on posts."
   ]
  },
  {
   "cell_type": "code",
   "execution_count": null,
   "id": "fe7b9cf8",
   "metadata": {},
   "outputs": [],
   "source": [
    "posts_likes_comments = pd.read_csv('~/instagram_posts.csv', delimiter='\\t', usecols=['cts','numbr_likes','number_comments'])\n",
    "posts_likes_comments = posts_likes_comments.dropna() \n",
    "posts_likes_comments.cts = pd.to_datetime(posts_likes_comments.cts) # convert argument to datetime \n",
    "posts_likes_comments['time'] = posts_likes_comments.cts.dt.strftime('%H:%M:%S') # select the time"
   ]
  },
  {
   "cell_type": "code",
   "execution_count": 3,
   "id": "aa8ae1d7",
   "metadata": {},
   "outputs": [],
   "source": [
    "# convert the dataframes to a numpy array to facilitate access\n",
    "posts_likes = posts_likes_comments[['time','numbr_likes']].to_numpy() \n",
    "posts_comments = posts_likes_comments[['time', 'number_comments']].to_numpy()"
   ]
  },
  {
   "cell_type": "code",
   "execution_count": 21,
   "id": "7b8e7344",
   "metadata": {},
   "outputs": [],
   "source": [
    "def average_number_for_each_time_interval(lis, posts):\n",
    "    '''\n",
    "    This function computes the average number of the input values and associates it with the corresponding time interval.\n",
    "    It returns a dictionary of averages.\n",
    "    '''\n",
    "    n = len(lis)    \n",
    "    dic = {}\n",
    "    for i in range(n):\n",
    "        label = lis[i][0]+'-'+ lis[i][1]\n",
    "        for l in posts:\n",
    "            t,num = l[0],l[1]\n",
    "            start, end = lis[i]\n",
    "            if start <= t <= end:\n",
    "                if label in dic:\n",
    "                    dic[label].append(num) \n",
    "                else:\n",
    "                    dic[label] = [num]\n",
    "                    \n",
    "        \n",
    "    dic_of_averages = {}\n",
    "    for label,values in dic.items():\n",
    "        dic_of_averages[label] = np.average(values)\n",
    "      \n",
    "    return dic_of_averages"
   ]
  },
  {
   "cell_type": "code",
   "execution_count": 8,
   "id": "5cf4eaa9",
   "metadata": {},
   "outputs": [
    {
     "data": {
      "image/png": "[encoded data removed]",
      "text/plain": [
       "<Figure size 1080x360 with 1 Axes>"
      ]
     },
     "metadata": {
      "needs_background": "light"
     },
     "output_type": "display_data"
    }
   ],
   "source": [
    "#Plot the time intervals with the highest average number of “likes” \n",
    "time_intervals = [('06:00:00','10:59:59'),('11:00:00','13:59:59'), ('14:00:00','16:59:59'), ('17:00:00','19:59:59'),\n",
    "         ('20:00:00', '23:59:59'),('00:00:00', '02:59:59'), ('03:00:00','05:59:59')]\n",
    "dic_of_averages = average_number_for_each_time_interval(time_intervals, posts_likes)\n",
    "\n",
    "plt.figure(figsize=(15,5))\n",
    "x = range(len(time_intervals))\n",
    "plt.xticks(x, dic_of_averages.keys(), rotation=50)\n",
    "plt.bar(x, dic_of_averages.values(), width = 0.4)\n",
    "plt.xlabel('Time intervals')\n",
    "plt.ylabel('Average number of likes')\n",
    "plt.title('Average number of likes for each time interval')\n",
    "plt.show()"
   ]
  },
  {
   "cell_type": "code",
   "execution_count": 9,
   "id": "5cf32714",
   "metadata": {},
   "outputs": [
    {
     "data": {
      "image/png": "[encoded data removed]",
      "text/plain": [
       "<Figure size 1080x360 with 1 Axes>"
      ]
     },
     "metadata": {
      "needs_background": "light"
     },
     "output_type": "display_data"
    }
   ],
   "source": [
    "#Plot the time intervals with the highest average number of comments on posts.\n",
    "dic_of_averages = average_number_for_each_time_interval(time_intervals, posts_comments)\n",
    "\n",
    "plt.figure(figsize=(15,5))\n",
    "x = range(len(time_intervals))\n",
    "plt.xticks(x, dic_of_averages.keys(), rotation=50)\n",
    "plt.bar(x, dic_of_averages.values(), width = 0.4)\n",
    "plt.xlabel('Time intervals')\n",
    "plt.ylabel('Average number of comments')\n",
    "plt.title('Average number of comments for each time interval')\n",
    "plt.show()"
   ]
  },
  {
   "cell_type": "markdown",
   "id": "c17429e7",
   "metadata": {},
   "source": [
    "# RQ7"
   ]
  },
  {
   "cell_type": "markdown",
   "id": "f92db76f",
   "metadata": {},
   "source": [
    "1. What's the probability that a post receives more than 20% \"likes\" of the number of followers a user has?"
   ]
  },
  {
   "cell_type": "code",
   "execution_count": 3,
   "id": "93d65894",
   "metadata": {},
   "outputs": [],
   "source": [
    "profiles = pd.read_csv('instagram_profiles.csv', delimiter='\\t',usecols=['followers','profile_id'])\n",
    "profiles['profile_id'].dropna(inplace=True)"
   ]
  },
  {
   "cell_type": "code",
   "execution_count": 4,
   "id": "d2ecf670",
   "metadata": {},
   "outputs": [],
   "source": [
    "posts=pd.read_csv('instagram_posts.csv',usecols=['numbr_likes','profile_id'], delimiter='\\t')\n",
    "posts.dropna(inplace=True)"
   ]
  },
  {
   "cell_type": "code",
   "execution_count": 5,
   "id": "00da9633",
   "metadata": {},
   "outputs": [],
   "source": [
    "merged=pd.merge(posts,profiles, on='profile_id')"
   ]
  },
  {
   "cell_type": "code",
   "execution_count": 6,
   "id": "b0109f4f",
   "metadata": {},
   "outputs": [
    {
     "data": {
      "text/plain": [
       "0.15443202404170936"
      ]
     },
     "execution_count": 6,
     "metadata": {},
     "output_type": "execute_result"
    }
   ],
   "source": [
    "p=merged[merged['numbr_likes']>0.2*merged['followers']].profile_id.count()/len(merged)\n",
    "p"
   ]
  },
  {
   "cell_type": "markdown",
   "id": "d0074602",
   "metadata": {},
   "source": [
    "The probability that a post receives more than 20% \"likes\" of the number of followers a user has it's ~15.5%."
   ]
  },
  {
   "cell_type": "markdown",
   "id": "a9e2579a",
   "metadata": {},
   "source": [
    "2. Do users usually return to locations? Extract the probability that a user returns to a site after having posted it in the past. Does that probability make sense to you? Explain why or why not."
   ]
  },
  {
   "cell_type": "code",
   "execution_count": 7,
   "id": "90c677c3",
   "metadata": {},
   "outputs": [],
   "source": [
    "posts=pd.read_csv('instagram_posts.csv',usecols=['location_id','profile_id','post_id'], delimiter='\\t')\n",
    "posts.dropna(inplace=True)"
   ]
  },
  {
   "cell_type": "code",
   "execution_count": 8,
   "id": "1ec6d8aa",
   "metadata": {},
   "outputs": [],
   "source": [
    "loc=posts.groupby(['location_id','profile_id']).count()"
   ]
  },
  {
   "cell_type": "code",
   "execution_count": 9,
   "id": "d38aba87",
   "metadata": {},
   "outputs": [
    {
     "data": {
      "text/plain": [
       "post_id    0.261405\n",
       "dtype: float64"
      ]
     },
     "execution_count": 9,
     "metadata": {},
     "output_type": "execute_result"
    }
   ],
   "source": [
    "p=loc[loc['post_id']>1].count()/len(posts['profile_id'].unique())\n",
    "p"
   ]
  },
  {
   "cell_type": "markdown",
   "id": "e3c170a6",
   "metadata": {},
   "source": [
    "Usually users doesn't return to locations, it happens with ~ 26% probability and doesn't really make sense. A user can get back to a place he/she visited and not necessarily post again the location."
   ]
  },
  {
   "cell_type": "markdown",
   "id": "ef06c3e0",
   "metadata": {},
   "source": [
    "# RQ8"
   ]
  },
  {
   "cell_type": "markdown",
   "id": "400b0182",
   "metadata": {},
   "source": [
    "1. Does more “likes” also mean more comments? Plot a scatter plot of “likes” vs comments for posts.\n"
   ]
  },
  {
   "cell_type": "code",
   "execution_count": 3,
   "id": "e528493b",
   "metadata": {},
   "outputs": [],
   "source": [
    "posts=pd.read_csv('instagram_posts.csv',usecols=['numbr_likes','number_comments'], delimiter='\\t')"
   ]
  },
  {
   "cell_type": "code",
   "execution_count": 19,
   "id": "bc91ada3",
   "metadata": {},
   "outputs": [],
   "source": [
    "x=np.array(posts['numbr_likes'])\n",
    "y=np.array(posts['number_comments'])"
   ]
  },
  {
   "cell_type": "code",
   "execution_count": 32,
   "id": "4fa621bb",
   "metadata": {},
   "outputs": [
    {
     "data": {
      "image/png": "[encoded data removed]",
      "text/plain": [
       "<Figure size 432x288 with 1 Axes>"
      ]
     },
     "metadata": {
      "needs_background": "light"
     },
     "output_type": "display_data"
    }
   ],
   "source": [
    "dataset = posts.plot.scatter(x= 'numbr_likes', y= 'number_comments', color= 'green' )\n",
    "dataset.set(xscale=\"log\", yscale=\"log\")\n",
    "plt.xlabel('Number of likes')\n",
    "plt.ylabel('Number of comments')\n",
    "plt.show()"
   ]
  },
  {
   "cell_type": "markdown",
   "id": "ab4e9d49",
   "metadata": {},
   "source": [
    "A scatterplot displays a relationship between two sets of data. Depending on how tightly the points cluster together, we may be able to discern a trend in the data.\n",
    "The closer the data points come to forming a straight line when plotted, the stronger the relationship.\n",
    "If the data points make a straight line going from near the origin out to high y-values, the variables are said to have a positive correlation and it's our case, even if as we can see in the command that lies beneath it's massive the presence of 0 likes and 0 comments.\n",
    "We scaled to a logarithmic scale because the values in the chart cover a very large range."
   ]
  },
  {
   "cell_type": "code",
   "execution_count": 10,
   "id": "bdc2aee4",
   "metadata": {},
   "outputs": [
    {
     "data": {
      "text/plain": [
       "numbr_likes          206734\n",
       "number_comments    14133169\n",
       "dtype: int64"
      ]
     },
     "execution_count": 10,
     "metadata": {},
     "output_type": "execute_result"
    }
   ],
   "source": [
    "posts[posts==0].count()"
   ]
  },
  {
   "cell_type": "markdown",
   "id": "f767cc8b",
   "metadata": {},
   "source": [
    "2. Can you find any significant relationship between the time a user publishes a post and the number of comments and “likes”? Use an appropriate statistical test or technique and support your choice."
   ]
  },
  {
   "cell_type": "code",
   "execution_count": 2,
   "id": "01f6a428",
   "metadata": {},
   "outputs": [
    {
     "data": {
      "text/html": [
       "<div>\n",
       "<style scoped>\n",
       "    .dataframe tbody tr th:only-of-type {\n",
       "        vertical-align: middle;\n",
       "    }\n",
       "\n",
       "    .dataframe tbody tr th {\n",
       "        vertical-align: top;\n",
       "    }\n",
       "\n",
       "    .dataframe thead th {\n",
       "        text-align: right;\n",
       "    }\n",
       "</style>\n",
       "<table border=\"1\" class=\"dataframe\">\n",
       "  <thead>\n",
       "    <tr style=\"text-align: right;\">\n",
       "      <th></th>\n",
       "      <th>cts</th>\n",
       "      <th>numbr_likes</th>\n",
       "      <th>number_comments</th>\n",
       "    </tr>\n",
       "  </thead>\n",
       "  <tbody>\n",
       "    <tr>\n",
       "      <th>0</th>\n",
       "      <td>2017-08-06 20:06:57.000</td>\n",
       "      <td>80.0</td>\n",
       "      <td>0.0</td>\n",
       "    </tr>\n",
       "    <tr>\n",
       "      <th>1</th>\n",
       "      <td>2017-06-19 09:31:16.000</td>\n",
       "      <td>25.0</td>\n",
       "      <td>1.0</td>\n",
       "    </tr>\n",
       "    <tr>\n",
       "      <th>2</th>\n",
       "      <td>2017-03-11 20:05:03.000</td>\n",
       "      <td>9.0</td>\n",
       "      <td>0.0</td>\n",
       "    </tr>\n",
       "    <tr>\n",
       "      <th>3</th>\n",
       "      <td>2016-09-13 16:27:16.000</td>\n",
       "      <td>4.0</td>\n",
       "      <td>0.0</td>\n",
       "    </tr>\n",
       "    <tr>\n",
       "      <th>4</th>\n",
       "      <td>2015-10-18 10:19:27.000</td>\n",
       "      <td>8.0</td>\n",
       "      <td>0.0</td>\n",
       "    </tr>\n",
       "    <tr>\n",
       "      <th>...</th>\n",
       "      <td>...</td>\n",
       "      <td>...</td>\n",
       "      <td>...</td>\n",
       "    </tr>\n",
       "    <tr>\n",
       "      <th>42710192</th>\n",
       "      <td>2017-12-13 15:38:04.000</td>\n",
       "      <td>74.0</td>\n",
       "      <td>0.0</td>\n",
       "    </tr>\n",
       "    <tr>\n",
       "      <th>42710193</th>\n",
       "      <td>2017-10-31 11:28:01.000</td>\n",
       "      <td>49.0</td>\n",
       "      <td>0.0</td>\n",
       "    </tr>\n",
       "    <tr>\n",
       "      <th>42710194</th>\n",
       "      <td>2017-01-13 20:16:37.000</td>\n",
       "      <td>18.0</td>\n",
       "      <td>0.0</td>\n",
       "    </tr>\n",
       "    <tr>\n",
       "      <th>42710195</th>\n",
       "      <td>2019-05-20 20:07:52.000</td>\n",
       "      <td>27.0</td>\n",
       "      <td>1.0</td>\n",
       "    </tr>\n",
       "    <tr>\n",
       "      <th>42710196</th>\n",
       "      <td>2018-03-12 02:57:17.000</td>\n",
       "      <td>1824.0</td>\n",
       "      <td>49.0</td>\n",
       "    </tr>\n",
       "  </tbody>\n",
       "</table>\n",
       "<p>42706865 rows × 3 columns</p>\n",
       "</div>"
      ],
      "text/plain": [
       "                              cts  numbr_likes  number_comments\n",
       "0         2017-08-06 20:06:57.000         80.0              0.0\n",
       "1         2017-06-19 09:31:16.000         25.0              1.0\n",
       "2         2017-03-11 20:05:03.000          9.0              0.0\n",
       "3         2016-09-13 16:27:16.000          4.0              0.0\n",
       "4         2015-10-18 10:19:27.000          8.0              0.0\n",
       "...                           ...          ...              ...\n",
       "42710192  2017-12-13 15:38:04.000         74.0              0.0\n",
       "42710193  2017-10-31 11:28:01.000         49.0              0.0\n",
       "42710194  2017-01-13 20:16:37.000         18.0              0.0\n",
       "42710195  2019-05-20 20:07:52.000         27.0              1.0\n",
       "42710196  2018-03-12 02:57:17.000       1824.0             49.0\n",
       "\n",
       "[42706865 rows x 3 columns]"
      ]
     },
     "execution_count": 2,
     "metadata": {},
     "output_type": "execute_result"
    }
   ],
   "source": [
    "posts = pd.read_csv('instagram_posts.csv', delimiter=\"\\t\", usecols = ['numbr_likes', 'number_comments', 'cts'])\n",
    "posts.dropna()"
   ]
  },
  {
   "cell_type": "code",
   "execution_count": 4,
   "id": "101e9ac5",
   "metadata": {},
   "outputs": [],
   "source": [
    "posts.cts = pd.to_datetime(posts.cts) # convert argument to datetime"
   ]
  },
  {
   "cell_type": "code",
   "execution_count": 6,
   "id": "bf3fe64b",
   "metadata": {},
   "outputs": [],
   "source": [
    "posts['time'] = posts.cts.dt.strftime('%H:%M:%S') # select only the time"
   ]
  },
  {
   "cell_type": "code",
   "execution_count": 7,
   "id": "a8e52722",
   "metadata": {},
   "outputs": [],
   "source": [
    "posts_likes = posts[['time','numbr_likes']].to_numpy()"
   ]
  },
  {
   "cell_type": "code",
   "execution_count": 8,
   "id": "4c7862f5",
   "metadata": {},
   "outputs": [],
   "source": [
    "posts_comments = posts[['time', 'number_comments']].to_numpy()"
   ]
  },
  {
   "cell_type": "code",
   "execution_count": 75,
   "id": "f6bed057",
   "metadata": {},
   "outputs": [],
   "source": [
    "def number_for_each_time_interval(lis, posts):\n",
    "    n = len(lis)\n",
    "    dic = {}\n",
    "    for i in range(n):\n",
    "        label = lis[i][0]+'-'+ lis[i][1]\n",
    "        for l in posts:\n",
    "            t,num = l[0],l[1]\n",
    "            start, end = lis[i]\n",
    "            if start <= str(t) <= end:\n",
    "                if label in dic:\n",
    "                    dic[label] += num\n",
    "                else:\n",
    "                    dic[label] = num\n",
    "    return dic "
   ]
  },
  {
   "cell_type": "code",
   "execution_count": 76,
   "id": "62bd257a",
   "metadata": {},
   "outputs": [],
   "source": [
    "time_intervals = [('06:00:00','10:59:59'),('11:00:00','13:59:59'), ('14:00:00','16:59:59'), ('17:00:00','19:59:59'),\n",
    "         ('20:00:00', '23:59:59'),('00:00:00', '02:59:59'), ('03:00:00','05:59:59')]"
   ]
  },
  {
   "cell_type": "code",
   "execution_count": 77,
   "id": "8877e1ed",
   "metadata": {},
   "outputs": [
    {
     "data": {
      "text/plain": [
       "{'06:00:00-10:59:59': 1714755026.0,\n",
       " '11:00:00-13:59:59': 1655934971.0,\n",
       " '14:00:00-16:59:59': 2008428995.0,\n",
       " '17:00:00-19:59:59': 2228425199.0,\n",
       " '20:00:00-23:59:59': 2461097190.0,\n",
       " '00:00:00-02:59:59': 1132228305.0,\n",
       " '03:00:00-05:59:59': 906307766.0}"
      ]
     },
     "execution_count": 77,
     "metadata": {},
     "output_type": "execute_result"
    }
   ],
   "source": [
    "dic_of_likes = number_for_each_time_interval(time_intervals, posts_likes)\n",
    "dic_of_likes"
   ]
  },
  {
   "cell_type": "code",
   "execution_count": 78,
   "id": "1840cae8",
   "metadata": {},
   "outputs": [
    {
     "data": {
      "image/png": "[encoded data removed]",
      "text/plain": [
       "<Figure size 1080x360 with 1 Axes>"
      ]
     },
     "metadata": {
      "needs_background": "light"
     },
     "output_type": "display_data"
    }
   ],
   "source": [
    "#Plot the time intervals with the number of “likes” \n",
    "\n",
    "plt.figure(figsize=(15,5))\n",
    "x = range(len(time_intervals))\n",
    "plt.xticks(x, dic_of_likes.keys(), rotation=50)\n",
    "plt.bar(x, dic_of_likes.values(), width = 0.4)\n",
    "plt.xlabel('Time intervals')\n",
    "plt.ylabel('Number of likes')\n",
    "plt.title('Number of likes for each time interval')\n",
    "plt.show()"
   ]
  },
  {
   "cell_type": "code",
   "execution_count": 63,
   "id": "444ed911",
   "metadata": {},
   "outputs": [
    {
     "data": {
      "text/plain": [
       "{'06:00:00-10:59:59': 46784338.0,\n",
       " '11:00:00-13:59:59': 43755376.0,\n",
       " '14:00:00-16:59:59': 52081094.0,\n",
       " '17:00:00-19:59:59': 59538096.0,\n",
       " '20:00:00-23:59:59': 66302700.0,\n",
       " '00:00:00-02:59:59': 32027925.0,\n",
       " '03:00:00-05:59:59': 23870239.0}"
      ]
     },
     "execution_count": 63,
     "metadata": {},
     "output_type": "execute_result"
    }
   ],
   "source": [
    "dic_of_comments= number_for_each_time_interval(time_intervals, posts_comments) \n",
    "dic_of_comments"
   ]
  },
  {
   "cell_type": "code",
   "execution_count": 79,
   "id": "add99500",
   "metadata": {},
   "outputs": [
    {
     "data": {
      "image/png": "[encoded data removed]",
      "text/plain": [
       "<Figure size 1080x360 with 1 Axes>"
      ]
     },
     "metadata": {
      "needs_background": "light"
     },
     "output_type": "display_data"
    }
   ],
   "source": [
    "#Plot the time intervals with the number of “likes” \n",
    "\n",
    "plt.figure(figsize=(15,5))\n",
    "x = range(len(time_intervals))\n",
    "plt.xticks(x, dic_of_comments.keys(), rotation=50)\n",
    "plt.bar(x, dic_of_comments.values(), width = 0.4)\n",
    "plt.xlabel('Time intervals')\n",
    "plt.ylabel('Number of comments')\n",
    "plt.title('Number of comments for each time interval')\n",
    "plt.show()"
   ]
  },
  {
   "cell_type": "markdown",
   "id": "5ce75c38",
   "metadata": {},
   "source": [
    "In the two histograms upside we can see the similar behavior between # of likes and # of comments depending on the time interval a post is published. "
   ]
  },
  {
   "cell_type": "code",
   "execution_count": 154,
   "id": "153755d2",
   "metadata": {},
   "outputs": [],
   "source": [
    "posts = pd.read_csv('instagram_posts.csv', delimiter=\"\\t\", usecols = ['numbr_likes', 'number_comments', 'cts'])\n",
    "posts.dropna()"
   ]
  },
  {
   "cell_type": "code",
   "execution_count": 3,
   "id": "3158428e",
   "metadata": {},
   "outputs": [],
   "source": [
    "posts.cts = pd.to_datetime(posts.cts) # convert argument to datetime"
   ]
  },
  {
   "cell_type": "code",
   "execution_count": 4,
   "id": "268c64cc",
   "metadata": {},
   "outputs": [],
   "source": [
    "posts['hour']=posts['cts'].dt.hour"
   ]
  },
  {
   "cell_type": "code",
   "execution_count": 6,
   "id": "d1d2cb1c",
   "metadata": {},
   "outputs": [],
   "source": [
    "posts=posts.drop(columns=['cts'])"
   ]
  },
  {
   "cell_type": "code",
   "execution_count": 10,
   "id": "ab127a5c",
   "metadata": {},
   "outputs": [
    {
     "data": {
      "image/png": "[encoded data removed]",
      "text/plain": [
       "<Figure size 432x288 with 2 Axes>"
      ]
     },
     "metadata": {
      "needs_background": "light"
     },
     "output_type": "display_data"
    }
   ],
   "source": [
    "corrMatrix=posts.corr()\n",
    "sn.heatmap(corrMatrix, annot=True)\n",
    "plt.show()"
   ]
  },
  {
   "cell_type": "markdown",
   "id": "213a45d7",
   "metadata": {},
   "source": [
    "N likes and n comments are slightly positively correlated with a Pearson coeff of 0.37. Pearson has it's range between -1 (max negative correlation) and +1 (max positive correlation). Studying the correlation between likes and hour (0.0012) and comments and hour (0.00051) they seem incorrelated. But looking to the previous histogram where we saw the behavior of the two in interval of times and not just the hour, it's evident that in some intervals of the day users tend to be way more active increasing the # of likes and comments. It happens in particular between 20:00 and 00:00 where a user is supposed to relax after a day of activity. \n"
   ]
  },
  {
   "cell_type": "markdown",
   "id": "dd50c76c",
   "metadata": {},
   "source": [
    "3. What’s the distribution of followers? Plot the empirical distribution of followers amongst all users and extract the mean, mode, and quantiles. Interpret those figures.\n"
   ]
  },
  {
   "cell_type": "code",
   "execution_count": 42,
   "id": "622c8e49",
   "metadata": {},
   "outputs": [],
   "source": [
    "profiles = (pd.read_csv('instagram_profiles.csv', delimiter='\\t',usecols=['followers','profile_id'])).dropna()"
   ]
  },
  {
   "cell_type": "code",
   "execution_count": 73,
   "id": "caa3c865",
   "metadata": {},
   "outputs": [
    {
     "data": {
      "text/html": [
       "<div>\n",
       "<style scoped>\n",
       "    .dataframe tbody tr th:only-of-type {\n",
       "        vertical-align: middle;\n",
       "    }\n",
       "\n",
       "    .dataframe tbody tr th {\n",
       "        vertical-align: top;\n",
       "    }\n",
       "\n",
       "    .dataframe thead th {\n",
       "        text-align: right;\n",
       "    }\n",
       "</style>\n",
       "<table border=\"1\" class=\"dataframe\">\n",
       "  <thead>\n",
       "    <tr style=\"text-align: right;\">\n",
       "      <th></th>\n",
       "      <th>Absolute frequency</th>\n",
       "      <th>Relative frequency</th>\n",
       "      <th>Cumulative frequency</th>\n",
       "    </tr>\n",
       "  </thead>\n",
       "  <tbody>\n",
       "    <tr>\n",
       "      <th>0.0</th>\n",
       "      <td>22016</td>\n",
       "      <td>0.006386</td>\n",
       "      <td>0.006386</td>\n",
       "    </tr>\n",
       "    <tr>\n",
       "      <th>1.0</th>\n",
       "      <td>9039</td>\n",
       "      <td>0.002622</td>\n",
       "      <td>0.009007</td>\n",
       "    </tr>\n",
       "    <tr>\n",
       "      <th>50.0</th>\n",
       "      <td>6547</td>\n",
       "      <td>0.001899</td>\n",
       "      <td>0.010906</td>\n",
       "    </tr>\n",
       "    <tr>\n",
       "      <th>49.0</th>\n",
       "      <td>6455</td>\n",
       "      <td>0.001872</td>\n",
       "      <td>0.012779</td>\n",
       "    </tr>\n",
       "    <tr>\n",
       "      <th>51.0</th>\n",
       "      <td>6369</td>\n",
       "      <td>0.001847</td>\n",
       "      <td>0.014626</td>\n",
       "    </tr>\n",
       "  </tbody>\n",
       "</table>\n",
       "</div>"
      ],
      "text/plain": [
       "      Absolute frequency  Relative frequency  Cumulative frequency\n",
       "0.0                22016            0.006386              0.006386\n",
       "1.0                 9039            0.002622              0.009007\n",
       "50.0                6547            0.001899              0.010906\n",
       "49.0                6455            0.001872              0.012779\n",
       "51.0                6369            0.001847              0.014626"
      ]
     },
     "execution_count": 73,
     "metadata": {},
     "output_type": "execute_result"
    }
   ],
   "source": [
    "tab= pd.DataFrame(profiles.followers.value_counts())\n",
    "tab.columns=['Absolute frequency']\n",
    "tab[\"Relative frequency\"]= profiles.followers.value_counts(normalize = True)\n",
    "tab[\"Cumulative frequency\"]= tab[\"Relative frequency\"].cumsum()\n",
    "tab.head()"
   ]
  },
  {
   "cell_type": "code",
   "execution_count": 117,
   "id": "c0c30a51",
   "metadata": {},
   "outputs": [
    {
     "data": {
      "text/plain": [
       "285457645.0"
      ]
     },
     "execution_count": 117,
     "metadata": {},
     "output_type": "execute_result"
    }
   ],
   "source": [
    "profile.followers.max()"
   ]
  },
  {
   "cell_type": "code",
   "execution_count": 114,
   "id": "5b943f9f",
   "metadata": {},
   "outputs": [
    {
     "name": "stdout",
     "output_type": "stream",
     "text": [
      "|      |        followers |\n",
      "|:-----|-----------------:|\n",
      "| mean |   4745.39        |\n",
      "| std  | 194051           |\n",
      "| min  |      0           |\n",
      "| 25%  |    159           |\n",
      "| 50%  |    406           |\n",
      "| 75%  |    974           |\n",
      "| max  |      2.85458e+08 | The mode is:  0    0.0\n",
      "Name: followers, dtype: float64\n"
     ]
    }
   ],
   "source": [
    "print(profiles.followers.describe().iloc[1:].to_markdown(), 'The mode is: ',profiles.followers.mode() )"
   ]
  },
  {
   "cell_type": "code",
   "execution_count": 106,
   "id": "67a50175",
   "metadata": {},
   "outputs": [
    {
     "data": {
      "image/png": "[encoded data removed]",
      "text/plain": [
       "<Figure size 1440x720 with 1 Axes>"
      ]
     },
     "metadata": {
      "needs_background": "light"
     },
     "output_type": "display_data"
    }
   ],
   "source": [
    "plt.figure(figsize=(20, 10))\n",
    "plt.title(\"Histogram of the log number of followers\")\n",
    "plt.hist((profiles.followers+1).apply(np.log), bins=30)\n",
    "plt.xlim(0, 20)\n",
    "plt.show()"
   ]
  },
  {
   "cell_type": "markdown",
   "id": "bd96d39a",
   "metadata": {},
   "source": [
    "As we can see in the plot and in the principal summaries it's a distorted distribution and it has a positive asymmetry. Most of the data is clustered on the left, it means that the biggest part of the population has a small amount of followers. A few profiles instead has the most of the followers, the \"influencers\".\n",
    "Mean > median for the \"weight\" the outliers have. In fact median is a more robust indicator than the mean and it's not affected by extreme values. Also looking the third quartiles, the third covers a small range of the distribution, 974 followers versus the right extreme of 285457645. "
   ]
  },
  {
   "cell_type": "markdown",
   "id": "412e35d6",
   "metadata": {},
   "source": [
    "4. What are histograms, bar plots, scatterplots and pie charts used for?\n",
    "\n"
   ]
  },
  {
   "cell_type": "markdown",
   "id": "9643742f",
   "metadata": {},
   "source": [
    "All these tools are used to learn more about data, its spread and distribution. Using it we can explore data and find more appropriate statistical test for a task.\n",
    "\n",
    "**Histograms**  are used to summarize discrete or continuous data that are measured on an interval scale. It is often used to illustrate the major features of the distribution of the data in a convenient form. A histogram divides up the range of possible values in a data set into classes or groups. For each group, a rectangle is constructed with a base length equal to the range of values in that specific group and a length equal to the number of observations falling into that group. A histogram has an appearance similar to a vertical bar chart, but there are no gaps between the bars. Generally, a histogram will have bars of equal width\n",
    "\n",
    "**Bar plots** are used when you want to show a distribution of data points or perform a comparison of metric values across different subgroups of your data. From a bar chart, we can see which groups are highest or most common, and how other groups compare against the others. The primary variable of a bar chart is its categorical variable. A categorical variable takes discrete values, which can be thought of as labels. In contrast, the secondary variable will be numeric in nature. The secondary variable’s values determine the length of each bar. These values can come from a great variety of sources. In its simplest form, the values may be a simple frequency count or proportion for how much of the data is divided into each category\n",
    "\n",
    "**Scatterplots** use dots to represent values for two different numeric variables. The position of each dot on the horizontal and vertical axis indicates values for an individual data point. Scatter plots’ primary uses are to observe and show relationships between two numeric variables. The dots in a scatter plot not only report the values of individual data points, but also patterns when the data are taken as a whole. Identification of correlational relationships are common with scatter plots. In these cases, we want to know, if we were given a particular horizontal value, what a good prediction would be for the vertical value. You will often see the variable on the horizontal axis denoted an independent variable, and the variable on the vertical axis the dependent variable. Relationships between variables can be described in many ways: positive or negative, strong or weak, linear or nonlinear\n",
    "\n",
    "**Pie charts** can be used instead of bar plot if observed categories are subparts of the whole (all data divides into these categories(subgroups)). It's make it's more visible to understand what part of the whole data each subgroup contains. Pie charts can be used to show percentages of a whole, and represents percentages at a set point in time. Unlike bar graphs and line graphs, pie charts do not show changes over time."
   ]
  },
  {
   "cell_type": "markdown",
   "id": "b57893de",
   "metadata": {},
   "source": [
    "5. What insights can you extract from a Box Plot?"
   ]
  },
  {
   "attachments": {
    "image.png": {
     "image/png": "[encoded data removed]"
    }
   },
   "cell_type": "markdown",
   "id": "be29c452",
   "metadata": {},
   "source": [
    "**Box plots** are used to show distributions of numeric data values, especially when you want to compare them between multiple groups. They are built to provide high-level information at a glance, offering general information about a group of data’s symmetry, skew, variance, and outliers. It is easy to see where the main bulk of the data is, and make that comparison between different groups. From a Box plot in particular we can extract:\n",
    "![image.png](attachment:image.png)"
   ]
  },
  {
   "cell_type": "markdown",
   "id": "bc71e0aa",
   "metadata": {},
   "source": [
    "##### BONUS A"
   ]
  },
  {
   "cell_type": "markdown",
   "id": "2b7e267c",
   "metadata": {},
   "source": [
    "Sort the users in terms of number of followers and divide them into two groups: for the first group, take only the top 10% regarding \"followers\", and for the second one, take the rest. Now compare the mean of time intervals between posts for the two categories. Do you notice something relevant?"
   ]
  },
  {
   "cell_type": "code",
   "execution_count": 16,
   "id": "6b8537d1",
   "metadata": {},
   "outputs": [
    {
     "data": {
      "text/html": [
       "<div>\n",
       "<style scoped>\n",
       "    .dataframe tbody tr th:only-of-type {\n",
       "        vertical-align: middle;\n",
       "    }\n",
       "\n",
       "    .dataframe tbody tr th {\n",
       "        vertical-align: top;\n",
       "    }\n",
       "\n",
       "    .dataframe thead th {\n",
       "        text-align: right;\n",
       "    }\n",
       "</style>\n",
       "<table border=\"1\" class=\"dataframe\">\n",
       "  <thead>\n",
       "    <tr style=\"text-align: right;\">\n",
       "      <th></th>\n",
       "      <th>profile_id</th>\n",
       "      <th>profile_name</th>\n",
       "      <th>following</th>\n",
       "      <th>followers</th>\n",
       "      <th>cts</th>\n",
       "    </tr>\n",
       "  </thead>\n",
       "  <tbody>\n",
       "    <tr>\n",
       "      <th>260856</th>\n",
       "      <td>2.502532e+07</td>\n",
       "      <td>instagram</td>\n",
       "      <td>226.0</td>\n",
       "      <td>285457645.0</td>\n",
       "      <td>2019-02-21 00:57:19</td>\n",
       "    </tr>\n",
       "    <tr>\n",
       "      <th>260872</th>\n",
       "      <td>2.502532e+07</td>\n",
       "      <td>instagram</td>\n",
       "      <td>226.0</td>\n",
       "      <td>285457645.0</td>\n",
       "      <td>2018-02-21 02:43:15</td>\n",
       "    </tr>\n",
       "    <tr>\n",
       "      <th>260865</th>\n",
       "      <td>2.502532e+07</td>\n",
       "      <td>instagram</td>\n",
       "      <td>226.0</td>\n",
       "      <td>285457645.0</td>\n",
       "      <td>2018-07-02 20:17:56</td>\n",
       "    </tr>\n",
       "    <tr>\n",
       "      <th>260866</th>\n",
       "      <td>2.502532e+07</td>\n",
       "      <td>instagram</td>\n",
       "      <td>226.0</td>\n",
       "      <td>285457645.0</td>\n",
       "      <td>2018-12-20 01:57:40</td>\n",
       "    </tr>\n",
       "    <tr>\n",
       "      <th>260867</th>\n",
       "      <td>2.502532e+07</td>\n",
       "      <td>instagram</td>\n",
       "      <td>226.0</td>\n",
       "      <td>285457645.0</td>\n",
       "      <td>2019-04-02 01:06:59</td>\n",
       "    </tr>\n",
       "    <tr>\n",
       "      <th>...</th>\n",
       "      <td>...</td>\n",
       "      <td>...</td>\n",
       "      <td>...</td>\n",
       "      <td>...</td>\n",
       "      <td>...</td>\n",
       "    </tr>\n",
       "    <tr>\n",
       "      <th>20775742</th>\n",
       "      <td>1.280944e+10</td>\n",
       "      <td>psmfood</td>\n",
       "      <td>2.0</td>\n",
       "      <td>0.0</td>\n",
       "      <td>2019-04-29 18:27:14</td>\n",
       "    </tr>\n",
       "    <tr>\n",
       "      <th>20775741</th>\n",
       "      <td>1.280944e+10</td>\n",
       "      <td>psmfood</td>\n",
       "      <td>2.0</td>\n",
       "      <td>0.0</td>\n",
       "      <td>2019-04-29 18:28:20</td>\n",
       "    </tr>\n",
       "    <tr>\n",
       "      <th>20775740</th>\n",
       "      <td>1.280944e+10</td>\n",
       "      <td>psmfood</td>\n",
       "      <td>2.0</td>\n",
       "      <td>0.0</td>\n",
       "      <td>2019-05-01 16:21:14</td>\n",
       "    </tr>\n",
       "    <tr>\n",
       "      <th>20775739</th>\n",
       "      <td>1.280944e+10</td>\n",
       "      <td>psmfood</td>\n",
       "      <td>2.0</td>\n",
       "      <td>0.0</td>\n",
       "      <td>2019-05-01 16:22:04</td>\n",
       "    </tr>\n",
       "    <tr>\n",
       "      <th>23114955</th>\n",
       "      <td>1.305717e+10</td>\n",
       "      <td>allaboutthegardens</td>\n",
       "      <td>12.0</td>\n",
       "      <td>0.0</td>\n",
       "      <td>2019-05-04 21:06:17</td>\n",
       "    </tr>\n",
       "  </tbody>\n",
       "</table>\n",
       "<p>24708644 rows × 5 columns</p>\n",
       "</div>"
      ],
      "text/plain": [
       "            profile_id        profile_name  following    followers  \\\n",
       "260856    2.502532e+07           instagram      226.0  285457645.0   \n",
       "260872    2.502532e+07           instagram      226.0  285457645.0   \n",
       "260865    2.502532e+07           instagram      226.0  285457645.0   \n",
       "260866    2.502532e+07           instagram      226.0  285457645.0   \n",
       "260867    2.502532e+07           instagram      226.0  285457645.0   \n",
       "...                ...                 ...        ...          ...   \n",
       "20775742  1.280944e+10             psmfood        2.0          0.0   \n",
       "20775741  1.280944e+10             psmfood        2.0          0.0   \n",
       "20775740  1.280944e+10             psmfood        2.0          0.0   \n",
       "20775739  1.280944e+10             psmfood        2.0          0.0   \n",
       "23114955  1.305717e+10  allaboutthegardens       12.0          0.0   \n",
       "\n",
       "                         cts  \n",
       "260856   2019-02-21 00:57:19  \n",
       "260872   2018-02-21 02:43:15  \n",
       "260865   2018-07-02 20:17:56  \n",
       "260866   2018-12-20 01:57:40  \n",
       "260867   2019-04-02 01:06:59  \n",
       "...                      ...  \n",
       "20775742 2019-04-29 18:27:14  \n",
       "20775741 2019-04-29 18:28:20  \n",
       "20775740 2019-05-01 16:21:14  \n",
       "20775739 2019-05-01 16:22:04  \n",
       "23114955 2019-05-04 21:06:17  \n",
       "\n",
       "[24708644 rows x 5 columns]"
      ]
     },
     "execution_count": 16,
     "metadata": {},
     "output_type": "execute_result"
    }
   ],
   "source": [
    "#Sorting users by number of followers\n",
    "joined_df = joined_df.sort_values(by = \"followers\", ascending = False)\n",
    "joined_df.cts = pd.to_datetime(joined_df.cts)\n",
    "joined_df"
   ]
  },
  {
   "cell_type": "code",
   "execution_count": 17,
   "id": "464f37cc",
   "metadata": {},
   "outputs": [
    {
     "data": {
      "text/html": [
       "<div>\n",
       "<style scoped>\n",
       "    .dataframe tbody tr th:only-of-type {\n",
       "        vertical-align: middle;\n",
       "    }\n",
       "\n",
       "    .dataframe tbody tr th {\n",
       "        vertical-align: top;\n",
       "    }\n",
       "\n",
       "    .dataframe thead th {\n",
       "        text-align: right;\n",
       "    }\n",
       "</style>\n",
       "<table border=\"1\" class=\"dataframe\">\n",
       "  <thead>\n",
       "    <tr style=\"text-align: right;\">\n",
       "      <th></th>\n",
       "      <th>profile_id</th>\n",
       "      <th>profile_name</th>\n",
       "      <th>following</th>\n",
       "      <th>followers</th>\n",
       "      <th>cts</th>\n",
       "    </tr>\n",
       "  </thead>\n",
       "  <tbody>\n",
       "    <tr>\n",
       "      <th>260856</th>\n",
       "      <td>25025320.0</td>\n",
       "      <td>instagram</td>\n",
       "      <td>226.0</td>\n",
       "      <td>285457645.0</td>\n",
       "      <td>2019-02-21 00:57:19</td>\n",
       "    </tr>\n",
       "    <tr>\n",
       "      <th>260872</th>\n",
       "      <td>25025320.0</td>\n",
       "      <td>instagram</td>\n",
       "      <td>226.0</td>\n",
       "      <td>285457645.0</td>\n",
       "      <td>2018-02-21 02:43:15</td>\n",
       "    </tr>\n",
       "    <tr>\n",
       "      <th>260865</th>\n",
       "      <td>25025320.0</td>\n",
       "      <td>instagram</td>\n",
       "      <td>226.0</td>\n",
       "      <td>285457645.0</td>\n",
       "      <td>2018-07-02 20:17:56</td>\n",
       "    </tr>\n",
       "    <tr>\n",
       "      <th>260866</th>\n",
       "      <td>25025320.0</td>\n",
       "      <td>instagram</td>\n",
       "      <td>226.0</td>\n",
       "      <td>285457645.0</td>\n",
       "      <td>2018-12-20 01:57:40</td>\n",
       "    </tr>\n",
       "    <tr>\n",
       "      <th>260867</th>\n",
       "      <td>25025320.0</td>\n",
       "      <td>instagram</td>\n",
       "      <td>226.0</td>\n",
       "      <td>285457645.0</td>\n",
       "      <td>2019-04-02 01:06:59</td>\n",
       "    </tr>\n",
       "    <tr>\n",
       "      <th>...</th>\n",
       "      <td>...</td>\n",
       "      <td>...</td>\n",
       "      <td>...</td>\n",
       "      <td>...</td>\n",
       "      <td>...</td>\n",
       "    </tr>\n",
       "    <tr>\n",
       "      <th>5383739</th>\n",
       "      <td>16549975.0</td>\n",
       "      <td>ashley_morganic</td>\n",
       "      <td>2256.0</td>\n",
       "      <td>5093.0</td>\n",
       "      <td>2019-02-20 04:17:05</td>\n",
       "    </tr>\n",
       "    <tr>\n",
       "      <th>18451199</th>\n",
       "      <td>16255528.0</td>\n",
       "      <td>chubb</td>\n",
       "      <td>319.0</td>\n",
       "      <td>5093.0</td>\n",
       "      <td>2019-01-21 16:46:08</td>\n",
       "    </tr>\n",
       "    <tr>\n",
       "      <th>5383738</th>\n",
       "      <td>16549975.0</td>\n",
       "      <td>ashley_morganic</td>\n",
       "      <td>2256.0</td>\n",
       "      <td>5093.0</td>\n",
       "      <td>2019-02-21 13:22:36</td>\n",
       "    </tr>\n",
       "    <tr>\n",
       "      <th>5383737</th>\n",
       "      <td>16549975.0</td>\n",
       "      <td>ashley_morganic</td>\n",
       "      <td>2256.0</td>\n",
       "      <td>5093.0</td>\n",
       "      <td>2019-02-28 03:49:34</td>\n",
       "    </tr>\n",
       "    <tr>\n",
       "      <th>5383736</th>\n",
       "      <td>16549975.0</td>\n",
       "      <td>ashley_morganic</td>\n",
       "      <td>2256.0</td>\n",
       "      <td>5093.0</td>\n",
       "      <td>2019-03-19 12:31:22</td>\n",
       "    </tr>\n",
       "  </tbody>\n",
       "</table>\n",
       "<p>2470865 rows × 5 columns</p>\n",
       "</div>"
      ],
      "text/plain": [
       "          profile_id     profile_name  following    followers  \\\n",
       "260856    25025320.0        instagram      226.0  285457645.0   \n",
       "260872    25025320.0        instagram      226.0  285457645.0   \n",
       "260865    25025320.0        instagram      226.0  285457645.0   \n",
       "260866    25025320.0        instagram      226.0  285457645.0   \n",
       "260867    25025320.0        instagram      226.0  285457645.0   \n",
       "...              ...              ...        ...          ...   \n",
       "5383739   16549975.0  ashley_morganic     2256.0       5093.0   \n",
       "18451199  16255528.0            chubb      319.0       5093.0   \n",
       "5383738   16549975.0  ashley_morganic     2256.0       5093.0   \n",
       "5383737   16549975.0  ashley_morganic     2256.0       5093.0   \n",
       "5383736   16549975.0  ashley_morganic     2256.0       5093.0   \n",
       "\n",
       "                         cts  \n",
       "260856   2019-02-21 00:57:19  \n",
       "260872   2018-02-21 02:43:15  \n",
       "260865   2018-07-02 20:17:56  \n",
       "260866   2018-12-20 01:57:40  \n",
       "260867   2019-04-02 01:06:59  \n",
       "...                      ...  \n",
       "5383739  2019-02-20 04:17:05  \n",
       "18451199 2019-01-21 16:46:08  \n",
       "5383738  2019-02-21 13:22:36  \n",
       "5383737  2019-02-28 03:49:34  \n",
       "5383736  2019-03-19 12:31:22  \n",
       "\n",
       "[2470865 rows x 5 columns]"
      ]
     },
     "execution_count": 17,
     "metadata": {},
     "output_type": "execute_result"
    }
   ],
   "source": [
    "#The first group takes the top 10% of \"followers\"\n",
    "r = int(joined_df.shape[0]*0.1)\n",
    "df1 =joined_df[0:r+1]\n",
    "df1"
   ]
  },
  {
   "cell_type": "code",
   "execution_count": 18,
   "id": "fc01496a",
   "metadata": {},
   "outputs": [
    {
     "data": {
      "text/html": [
       "<div>\n",
       "<style scoped>\n",
       "    .dataframe tbody tr th:only-of-type {\n",
       "        vertical-align: middle;\n",
       "    }\n",
       "\n",
       "    .dataframe tbody tr th {\n",
       "        vertical-align: top;\n",
       "    }\n",
       "\n",
       "    .dataframe thead th {\n",
       "        text-align: right;\n",
       "    }\n",
       "</style>\n",
       "<table border=\"1\" class=\"dataframe\">\n",
       "  <thead>\n",
       "    <tr style=\"text-align: right;\">\n",
       "      <th></th>\n",
       "      <th>profile_id</th>\n",
       "      <th>profile_name</th>\n",
       "      <th>following</th>\n",
       "      <th>followers</th>\n",
       "      <th>cts</th>\n",
       "    </tr>\n",
       "  </thead>\n",
       "  <tbody>\n",
       "    <tr>\n",
       "      <th>5383736</th>\n",
       "      <td>1.654998e+07</td>\n",
       "      <td>ashley_morganic</td>\n",
       "      <td>2256.0</td>\n",
       "      <td>5093.0</td>\n",
       "      <td>2019-03-19 12:31:22</td>\n",
       "    </tr>\n",
       "    <tr>\n",
       "      <th>5383735</th>\n",
       "      <td>1.654998e+07</td>\n",
       "      <td>ashley_morganic</td>\n",
       "      <td>2256.0</td>\n",
       "      <td>5093.0</td>\n",
       "      <td>2019-03-22 21:37:01</td>\n",
       "    </tr>\n",
       "    <tr>\n",
       "      <th>751368</th>\n",
       "      <td>1.883539e+08</td>\n",
       "      <td>lakeythepoet</td>\n",
       "      <td>1668.0</td>\n",
       "      <td>5093.0</td>\n",
       "      <td>2019-07-09 00:39:56</td>\n",
       "    </tr>\n",
       "    <tr>\n",
       "      <th>447674</th>\n",
       "      <td>4.949636e+07</td>\n",
       "      <td>mvstudios_</td>\n",
       "      <td>7341.0</td>\n",
       "      <td>5093.0</td>\n",
       "      <td>2018-12-21 07:49:16</td>\n",
       "    </tr>\n",
       "    <tr>\n",
       "      <th>447675</th>\n",
       "      <td>4.949636e+07</td>\n",
       "      <td>mvstudios_</td>\n",
       "      <td>7341.0</td>\n",
       "      <td>5093.0</td>\n",
       "      <td>2019-08-16 07:34:48</td>\n",
       "    </tr>\n",
       "    <tr>\n",
       "      <th>...</th>\n",
       "      <td>...</td>\n",
       "      <td>...</td>\n",
       "      <td>...</td>\n",
       "      <td>...</td>\n",
       "      <td>...</td>\n",
       "    </tr>\n",
       "    <tr>\n",
       "      <th>20775742</th>\n",
       "      <td>1.280944e+10</td>\n",
       "      <td>psmfood</td>\n",
       "      <td>2.0</td>\n",
       "      <td>0.0</td>\n",
       "      <td>2019-04-29 18:27:14</td>\n",
       "    </tr>\n",
       "    <tr>\n",
       "      <th>20775741</th>\n",
       "      <td>1.280944e+10</td>\n",
       "      <td>psmfood</td>\n",
       "      <td>2.0</td>\n",
       "      <td>0.0</td>\n",
       "      <td>2019-04-29 18:28:20</td>\n",
       "    </tr>\n",
       "    <tr>\n",
       "      <th>20775740</th>\n",
       "      <td>1.280944e+10</td>\n",
       "      <td>psmfood</td>\n",
       "      <td>2.0</td>\n",
       "      <td>0.0</td>\n",
       "      <td>2019-05-01 16:21:14</td>\n",
       "    </tr>\n",
       "    <tr>\n",
       "      <th>20775739</th>\n",
       "      <td>1.280944e+10</td>\n",
       "      <td>psmfood</td>\n",
       "      <td>2.0</td>\n",
       "      <td>0.0</td>\n",
       "      <td>2019-05-01 16:22:04</td>\n",
       "    </tr>\n",
       "    <tr>\n",
       "      <th>23114955</th>\n",
       "      <td>1.305717e+10</td>\n",
       "      <td>allaboutthegardens</td>\n",
       "      <td>12.0</td>\n",
       "      <td>0.0</td>\n",
       "      <td>2019-05-04 21:06:17</td>\n",
       "    </tr>\n",
       "  </tbody>\n",
       "</table>\n",
       "<p>22237780 rows × 5 columns</p>\n",
       "</div>"
      ],
      "text/plain": [
       "            profile_id        profile_name  following  followers  \\\n",
       "5383736   1.654998e+07     ashley_morganic     2256.0     5093.0   \n",
       "5383735   1.654998e+07     ashley_morganic     2256.0     5093.0   \n",
       "751368    1.883539e+08        lakeythepoet     1668.0     5093.0   \n",
       "447674    4.949636e+07          mvstudios_     7341.0     5093.0   \n",
       "447675    4.949636e+07          mvstudios_     7341.0     5093.0   \n",
       "...                ...                 ...        ...        ...   \n",
       "20775742  1.280944e+10             psmfood        2.0        0.0   \n",
       "20775741  1.280944e+10             psmfood        2.0        0.0   \n",
       "20775740  1.280944e+10             psmfood        2.0        0.0   \n",
       "20775739  1.280944e+10             psmfood        2.0        0.0   \n",
       "23114955  1.305717e+10  allaboutthegardens       12.0        0.0   \n",
       "\n",
       "                         cts  \n",
       "5383736  2019-03-19 12:31:22  \n",
       "5383735  2019-03-22 21:37:01  \n",
       "751368   2019-07-09 00:39:56  \n",
       "447674   2018-12-21 07:49:16  \n",
       "447675   2019-08-16 07:34:48  \n",
       "...                      ...  \n",
       "20775742 2019-04-29 18:27:14  \n",
       "20775741 2019-04-29 18:28:20  \n",
       "20775740 2019-05-01 16:21:14  \n",
       "20775739 2019-05-01 16:22:04  \n",
       "23114955 2019-05-04 21:06:17  \n",
       "\n",
       "[22237780 rows x 5 columns]"
      ]
     },
     "execution_count": 18,
     "metadata": {},
     "output_type": "execute_result"
    }
   ],
   "source": [
    "#The second group takes the rest of the followers\n",
    "df2 = joined_df[r:]\n",
    "df2"
   ]
  },
  {
   "cell_type": "code",
   "execution_count": 25,
   "id": "188bb364",
   "metadata": {},
   "outputs": [
    {
     "data": {
      "text/plain": [
       "31"
      ]
     },
     "execution_count": 25,
     "metadata": {},
     "output_type": "execute_result"
    }
   ],
   "source": [
    "#Average posting interval of the first group in days\n",
    "df1_array = df1[['profile_name','cts']].to_numpy() \n",
    "dic_of_averages, total_average = average_time_between_posts(df1_array)\n",
    "days = int(total_average/86400) \n",
    "days"
   ]
  },
  {
   "cell_type": "code",
   "execution_count": 27,
   "id": "30171b4c",
   "metadata": {},
   "outputs": [
    {
     "data": {
      "text/plain": [
       "23"
      ]
     },
     "execution_count": 27,
     "metadata": {},
     "output_type": "execute_result"
    }
   ],
   "source": [
    "#Average posting interval of the second group in days\n",
    "df2_array = df2[['profile_name','cts']].to_numpy() \n",
    "dic_of_averages, total_average = average_time_between_posts(df2_array)\n",
    "days = int(total_average/86400) \n",
    "days"
   ]
  },
  {
   "cell_type": "markdown",
   "id": "920d43ce",
   "metadata": {},
   "source": [
    "Comparing the mean of time intervals between posts for the two categories, we don't have relevant differences. Having more followers doesn't necessarily mean a user is more active. As we already saw in RQ6 the top 3 profiles in terms of activity belong to the second group.  "
   ]
  },
  {
   "cell_type": "markdown",
   "id": "9618b900",
   "metadata": {},
   "source": [
    "#### BONUS B"
   ]
  },
  {
   "cell_type": "markdown",
   "id": "5e1fa2d1",
   "metadata": {},
   "source": [
    "Assume users publish their posts the same day pictures or videos are taken: Are there users that have visited the same location on the same day? How about the same week? Extract the results and explain them."
   ]
  },
  {
   "cell_type": "code",
   "execution_count": 30,
   "id": "c021d4d2",
   "metadata": {},
   "outputs": [
    {
     "ename": "ParserError",
     "evalue": "Error tokenizing data. C error: EOF inside string starting at row 27235880",
     "output_type": "error",
     "traceback": [
      "\u001b[1;31m---------------------------------------------------------------------------\u001b[0m",
      "\u001b[1;31mParserError\u001b[0m                               Traceback (most recent call last)",
      "Input \u001b[1;32mIn [30]\u001b[0m, in \u001b[0;36m<cell line: 1>\u001b[1;34m()\u001b[0m\n\u001b[1;32m----> 1\u001b[0m posts \u001b[38;5;241m=\u001b[39m \u001b[43mpd\u001b[49m\u001b[38;5;241;43m.\u001b[39;49m\u001b[43mread_csv\u001b[49m\u001b[43m(\u001b[49m\u001b[38;5;124;43m'\u001b[39;49m\u001b[38;5;124;43m~/instagram_posts.csv\u001b[39;49m\u001b[38;5;124;43m'\u001b[39;49m\u001b[43m,\u001b[49m\u001b[43m \u001b[49m\u001b[43mdelimiter\u001b[49m\u001b[38;5;241;43m=\u001b[39;49m\u001b[38;5;124;43m\"\u001b[39;49m\u001b[38;5;130;43;01m\\t\u001b[39;49;00m\u001b[38;5;124;43m\"\u001b[39;49m\u001b[43m,\u001b[49m\u001b[43m \u001b[49m\u001b[43musecols\u001b[49m\u001b[43m \u001b[49m\u001b[38;5;241;43m=\u001b[39;49m\u001b[43m \u001b[49m\u001b[43m[\u001b[49m\u001b[38;5;124;43m'\u001b[39;49m\u001b[38;5;124;43mprofile_id\u001b[39;49m\u001b[38;5;124;43m'\u001b[39;49m\u001b[43m,\u001b[49m\u001b[43m \u001b[49m\u001b[38;5;124;43m'\u001b[39;49m\u001b[38;5;124;43mlocation_id\u001b[39;49m\u001b[38;5;124;43m'\u001b[39;49m\u001b[43m,\u001b[49m\u001b[43m \u001b[49m\u001b[38;5;124;43m'\u001b[39;49m\u001b[38;5;124;43mcts\u001b[39;49m\u001b[38;5;124;43m'\u001b[39;49m\u001b[43m]\u001b[49m\u001b[43m)\u001b[49m\n",
      "File \u001b[1;32m~\\anaconda3\\lib\\site-packages\\pandas\\util\\_decorators.py:311\u001b[0m, in \u001b[0;36mdeprecate_nonkeyword_arguments.<locals>.decorate.<locals>.wrapper\u001b[1;34m(*args, **kwargs)\u001b[0m\n\u001b[0;32m    305\u001b[0m \u001b[38;5;28;01mif\u001b[39;00m \u001b[38;5;28mlen\u001b[39m(args) \u001b[38;5;241m>\u001b[39m num_allow_args:\n\u001b[0;32m    306\u001b[0m     warnings\u001b[38;5;241m.\u001b[39mwarn(\n\u001b[0;32m    307\u001b[0m         msg\u001b[38;5;241m.\u001b[39mformat(arguments\u001b[38;5;241m=\u001b[39marguments),\n\u001b[0;32m    308\u001b[0m         \u001b[38;5;167;01mFutureWarning\u001b[39;00m,\n\u001b[0;32m    309\u001b[0m         stacklevel\u001b[38;5;241m=\u001b[39mstacklevel,\n\u001b[0;32m    310\u001b[0m     )\n\u001b[1;32m--> 311\u001b[0m \u001b[38;5;28;01mreturn\u001b[39;00m func(\u001b[38;5;241m*\u001b[39margs, \u001b[38;5;241m*\u001b[39m\u001b[38;5;241m*\u001b[39mkwargs)\n",
      "File \u001b[1;32m~\\anaconda3\\lib\\site-packages\\pandas\\io\\parsers\\readers.py:680\u001b[0m, in \u001b[0;36mread_csv\u001b[1;34m(filepath_or_buffer, sep, delimiter, header, names, index_col, usecols, squeeze, prefix, mangle_dupe_cols, dtype, engine, converters, true_values, false_values, skipinitialspace, skiprows, skipfooter, nrows, na_values, keep_default_na, na_filter, verbose, skip_blank_lines, parse_dates, infer_datetime_format, keep_date_col, date_parser, dayfirst, cache_dates, iterator, chunksize, compression, thousands, decimal, lineterminator, quotechar, quoting, doublequote, escapechar, comment, encoding, encoding_errors, dialect, error_bad_lines, warn_bad_lines, on_bad_lines, delim_whitespace, low_memory, memory_map, float_precision, storage_options)\u001b[0m\n\u001b[0;32m    665\u001b[0m kwds_defaults \u001b[38;5;241m=\u001b[39m _refine_defaults_read(\n\u001b[0;32m    666\u001b[0m     dialect,\n\u001b[0;32m    667\u001b[0m     delimiter,\n\u001b[1;32m   (...)\u001b[0m\n\u001b[0;32m    676\u001b[0m     defaults\u001b[38;5;241m=\u001b[39m{\u001b[38;5;124m\"\u001b[39m\u001b[38;5;124mdelimiter\u001b[39m\u001b[38;5;124m\"\u001b[39m: \u001b[38;5;124m\"\u001b[39m\u001b[38;5;124m,\u001b[39m\u001b[38;5;124m\"\u001b[39m},\n\u001b[0;32m    677\u001b[0m )\n\u001b[0;32m    678\u001b[0m kwds\u001b[38;5;241m.\u001b[39mupdate(kwds_defaults)\n\u001b[1;32m--> 680\u001b[0m \u001b[38;5;28;01mreturn\u001b[39;00m \u001b[43m_read\u001b[49m\u001b[43m(\u001b[49m\u001b[43mfilepath_or_buffer\u001b[49m\u001b[43m,\u001b[49m\u001b[43m \u001b[49m\u001b[43mkwds\u001b[49m\u001b[43m)\u001b[49m\n",
      "File \u001b[1;32m~\\anaconda3\\lib\\site-packages\\pandas\\io\\parsers\\readers.py:581\u001b[0m, in \u001b[0;36m_read\u001b[1;34m(filepath_or_buffer, kwds)\u001b[0m\n\u001b[0;32m    578\u001b[0m     \u001b[38;5;28;01mreturn\u001b[39;00m parser\n\u001b[0;32m    580\u001b[0m \u001b[38;5;28;01mwith\u001b[39;00m parser:\n\u001b[1;32m--> 581\u001b[0m     \u001b[38;5;28;01mreturn\u001b[39;00m \u001b[43mparser\u001b[49m\u001b[38;5;241;43m.\u001b[39;49m\u001b[43mread\u001b[49m\u001b[43m(\u001b[49m\u001b[43mnrows\u001b[49m\u001b[43m)\u001b[49m\n",
      "File \u001b[1;32m~\\anaconda3\\lib\\site-packages\\pandas\\io\\parsers\\readers.py:1254\u001b[0m, in \u001b[0;36mTextFileReader.read\u001b[1;34m(self, nrows)\u001b[0m\n\u001b[0;32m   1252\u001b[0m nrows \u001b[38;5;241m=\u001b[39m validate_integer(\u001b[38;5;124m\"\u001b[39m\u001b[38;5;124mnrows\u001b[39m\u001b[38;5;124m\"\u001b[39m, nrows)\n\u001b[0;32m   1253\u001b[0m \u001b[38;5;28;01mtry\u001b[39;00m:\n\u001b[1;32m-> 1254\u001b[0m     index, columns, col_dict \u001b[38;5;241m=\u001b[39m \u001b[38;5;28;43mself\u001b[39;49m\u001b[38;5;241;43m.\u001b[39;49m\u001b[43m_engine\u001b[49m\u001b[38;5;241;43m.\u001b[39;49m\u001b[43mread\u001b[49m\u001b[43m(\u001b[49m\u001b[43mnrows\u001b[49m\u001b[43m)\u001b[49m\n\u001b[0;32m   1255\u001b[0m \u001b[38;5;28;01mexcept\u001b[39;00m \u001b[38;5;167;01mException\u001b[39;00m:\n\u001b[0;32m   1256\u001b[0m     \u001b[38;5;28mself\u001b[39m\u001b[38;5;241m.\u001b[39mclose()\n",
      "File \u001b[1;32m~\\anaconda3\\lib\\site-packages\\pandas\\io\\parsers\\c_parser_wrapper.py:225\u001b[0m, in \u001b[0;36mCParserWrapper.read\u001b[1;34m(self, nrows)\u001b[0m\n\u001b[0;32m    223\u001b[0m \u001b[38;5;28;01mtry\u001b[39;00m:\n\u001b[0;32m    224\u001b[0m     \u001b[38;5;28;01mif\u001b[39;00m \u001b[38;5;28mself\u001b[39m\u001b[38;5;241m.\u001b[39mlow_memory:\n\u001b[1;32m--> 225\u001b[0m         chunks \u001b[38;5;241m=\u001b[39m \u001b[38;5;28;43mself\u001b[39;49m\u001b[38;5;241;43m.\u001b[39;49m\u001b[43m_reader\u001b[49m\u001b[38;5;241;43m.\u001b[39;49m\u001b[43mread_low_memory\u001b[49m\u001b[43m(\u001b[49m\u001b[43mnrows\u001b[49m\u001b[43m)\u001b[49m\n\u001b[0;32m    226\u001b[0m         \u001b[38;5;66;03m# destructive to chunks\u001b[39;00m\n\u001b[0;32m    227\u001b[0m         data \u001b[38;5;241m=\u001b[39m _concatenate_chunks(chunks)\n",
      "File \u001b[1;32m~\\anaconda3\\lib\\site-packages\\pandas\\_libs\\parsers.pyx:805\u001b[0m, in \u001b[0;36mpandas._libs.parsers.TextReader.read_low_memory\u001b[1;34m()\u001b[0m\n",
      "File \u001b[1;32m~\\anaconda3\\lib\\site-packages\\pandas\\_libs\\parsers.pyx:861\u001b[0m, in \u001b[0;36mpandas._libs.parsers.TextReader._read_rows\u001b[1;34m()\u001b[0m\n",
      "File \u001b[1;32m~\\anaconda3\\lib\\site-packages\\pandas\\_libs\\parsers.pyx:847\u001b[0m, in \u001b[0;36mpandas._libs.parsers.TextReader._tokenize_rows\u001b[1;34m()\u001b[0m\n",
      "File \u001b[1;32m~\\anaconda3\\lib\\site-packages\\pandas\\_libs\\parsers.pyx:1960\u001b[0m, in \u001b[0;36mpandas._libs.parsers.raise_parser_error\u001b[1;34m()\u001b[0m\n",
      "\u001b[1;31mParserError\u001b[0m: Error tokenizing data. C error: EOF inside string starting at row 27235880"
     ]
    }
   ],
   "source": [
    "posts = pd.read_csv('~/instagram_posts.csv', delimiter=\"\\t\", usecols = ['profile_id', 'location_id', 'cts'])"
   ]
  },
  {
   "cell_type": "code",
   "execution_count": null,
   "id": "623dfc8d-20d8-4601-be81-3aa7c6561093",
   "metadata": {},
   "outputs": [],
   "source": [
    "posts = posts.dropna()"
   ]
  },
  {
   "cell_type": "code",
   "execution_count": 36,
   "id": "385cbb3b",
   "metadata": {},
   "outputs": [],
   "source": [
    "profiles = profiles[['profile_id']]"
   ]
  },
  {
   "cell_type": "code",
   "execution_count": 37,
   "id": "02b65cac",
   "metadata": {},
   "outputs": [
    {
     "ename": "MemoryError",
     "evalue": "Unable to allocate 625. GiB for an array with shape (83845221157,) and data type int64",
     "output_type": "error",
     "traceback": [
      "\u001b[1;31m---------------------------------------------------------------------------\u001b[0m",
      "\u001b[1;31mMemoryError\u001b[0m                               Traceback (most recent call last)",
      "Input \u001b[1;32mIn [37]\u001b[0m, in \u001b[0;36m<cell line: 1>\u001b[1;34m()\u001b[0m\n\u001b[1;32m----> 1\u001b[0m joined_df \u001b[38;5;241m=\u001b[39m \u001b[43mpd\u001b[49m\u001b[38;5;241;43m.\u001b[39;49m\u001b[43mmerge\u001b[49m\u001b[43m(\u001b[49m\u001b[43mprofiles\u001b[49m\u001b[43m,\u001b[49m\u001b[43mposts\u001b[49m\u001b[43m)\u001b[49m\n\u001b[0;32m      2\u001b[0m joined_df \u001b[38;5;241m=\u001b[39m joined_df\u001b[38;5;241m.\u001b[39mdropna()\n",
      "File \u001b[1;32m~\\Anaconda3\\lib\\site-packages\\pandas\\core\\reshape\\merge.py:122\u001b[0m, in \u001b[0;36mmerge\u001b[1;34m(left, right, how, on, left_on, right_on, left_index, right_index, sort, suffixes, copy, indicator, validate)\u001b[0m\n\u001b[0;32m     90\u001b[0m \u001b[38;5;129m@Substitution\u001b[39m(\u001b[38;5;124m\"\u001b[39m\u001b[38;5;130;01m\\n\u001b[39;00m\u001b[38;5;124mleft : DataFrame or named Series\u001b[39m\u001b[38;5;124m\"\u001b[39m)\n\u001b[0;32m     91\u001b[0m \u001b[38;5;129m@Appender\u001b[39m(_merge_doc, indents\u001b[38;5;241m=\u001b[39m\u001b[38;5;241m0\u001b[39m)\n\u001b[0;32m     92\u001b[0m \u001b[38;5;28;01mdef\u001b[39;00m \u001b[38;5;21mmerge\u001b[39m(\n\u001b[1;32m   (...)\u001b[0m\n\u001b[0;32m    105\u001b[0m     validate: \u001b[38;5;28mstr\u001b[39m \u001b[38;5;241m|\u001b[39m \u001b[38;5;28;01mNone\u001b[39;00m \u001b[38;5;241m=\u001b[39m \u001b[38;5;28;01mNone\u001b[39;00m,\n\u001b[0;32m    106\u001b[0m ) \u001b[38;5;241m-\u001b[39m\u001b[38;5;241m>\u001b[39m DataFrame:\n\u001b[0;32m    107\u001b[0m     op \u001b[38;5;241m=\u001b[39m _MergeOperation(\n\u001b[0;32m    108\u001b[0m         left,\n\u001b[0;32m    109\u001b[0m         right,\n\u001b[1;32m   (...)\u001b[0m\n\u001b[0;32m    120\u001b[0m         validate\u001b[38;5;241m=\u001b[39mvalidate,\n\u001b[0;32m    121\u001b[0m     )\n\u001b[1;32m--> 122\u001b[0m     \u001b[38;5;28;01mreturn\u001b[39;00m \u001b[43mop\u001b[49m\u001b[38;5;241;43m.\u001b[39;49m\u001b[43mget_result\u001b[49m\u001b[43m(\u001b[49m\u001b[43m)\u001b[49m\n",
      "File \u001b[1;32m~\\Anaconda3\\lib\\site-packages\\pandas\\core\\reshape\\merge.py:716\u001b[0m, in \u001b[0;36m_MergeOperation.get_result\u001b[1;34m(self)\u001b[0m\n\u001b[0;32m    713\u001b[0m \u001b[38;5;28;01mif\u001b[39;00m \u001b[38;5;28mself\u001b[39m\u001b[38;5;241m.\u001b[39mindicator:\n\u001b[0;32m    714\u001b[0m     \u001b[38;5;28mself\u001b[39m\u001b[38;5;241m.\u001b[39mleft, \u001b[38;5;28mself\u001b[39m\u001b[38;5;241m.\u001b[39mright \u001b[38;5;241m=\u001b[39m \u001b[38;5;28mself\u001b[39m\u001b[38;5;241m.\u001b[39m_indicator_pre_merge(\u001b[38;5;28mself\u001b[39m\u001b[38;5;241m.\u001b[39mleft, \u001b[38;5;28mself\u001b[39m\u001b[38;5;241m.\u001b[39mright)\n\u001b[1;32m--> 716\u001b[0m join_index, left_indexer, right_indexer \u001b[38;5;241m=\u001b[39m \u001b[38;5;28;43mself\u001b[39;49m\u001b[38;5;241;43m.\u001b[39;49m\u001b[43m_get_join_info\u001b[49m\u001b[43m(\u001b[49m\u001b[43m)\u001b[49m\n\u001b[0;32m    718\u001b[0m llabels, rlabels \u001b[38;5;241m=\u001b[39m _items_overlap_with_suffix(\n\u001b[0;32m    719\u001b[0m     \u001b[38;5;28mself\u001b[39m\u001b[38;5;241m.\u001b[39mleft\u001b[38;5;241m.\u001b[39m_info_axis, \u001b[38;5;28mself\u001b[39m\u001b[38;5;241m.\u001b[39mright\u001b[38;5;241m.\u001b[39m_info_axis, \u001b[38;5;28mself\u001b[39m\u001b[38;5;241m.\u001b[39msuffixes\n\u001b[0;32m    720\u001b[0m )\n\u001b[0;32m    722\u001b[0m lindexers \u001b[38;5;241m=\u001b[39m {\u001b[38;5;241m1\u001b[39m: left_indexer} \u001b[38;5;28;01mif\u001b[39;00m left_indexer \u001b[38;5;129;01mis\u001b[39;00m \u001b[38;5;129;01mnot\u001b[39;00m \u001b[38;5;28;01mNone\u001b[39;00m \u001b[38;5;28;01melse\u001b[39;00m {}\n",
      "File \u001b[1;32m~\\Anaconda3\\lib\\site-packages\\pandas\\core\\reshape\\merge.py:967\u001b[0m, in \u001b[0;36m_MergeOperation._get_join_info\u001b[1;34m(self)\u001b[0m\n\u001b[0;32m    963\u001b[0m     join_index, right_indexer, left_indexer \u001b[38;5;241m=\u001b[39m _left_join_on_index(\n\u001b[0;32m    964\u001b[0m         right_ax, left_ax, \u001b[38;5;28mself\u001b[39m\u001b[38;5;241m.\u001b[39mright_join_keys, sort\u001b[38;5;241m=\u001b[39m\u001b[38;5;28mself\u001b[39m\u001b[38;5;241m.\u001b[39msort\n\u001b[0;32m    965\u001b[0m     )\n\u001b[0;32m    966\u001b[0m \u001b[38;5;28;01melse\u001b[39;00m:\n\u001b[1;32m--> 967\u001b[0m     (left_indexer, right_indexer) \u001b[38;5;241m=\u001b[39m \u001b[38;5;28;43mself\u001b[39;49m\u001b[38;5;241;43m.\u001b[39;49m\u001b[43m_get_join_indexers\u001b[49m\u001b[43m(\u001b[49m\u001b[43m)\u001b[49m\n\u001b[0;32m    969\u001b[0m     \u001b[38;5;28;01mif\u001b[39;00m \u001b[38;5;28mself\u001b[39m\u001b[38;5;241m.\u001b[39mright_index:\n\u001b[0;32m    970\u001b[0m         \u001b[38;5;28;01mif\u001b[39;00m \u001b[38;5;28mlen\u001b[39m(\u001b[38;5;28mself\u001b[39m\u001b[38;5;241m.\u001b[39mleft) \u001b[38;5;241m>\u001b[39m \u001b[38;5;241m0\u001b[39m:\n",
      "File \u001b[1;32m~\\Anaconda3\\lib\\site-packages\\pandas\\core\\reshape\\merge.py:941\u001b[0m, in \u001b[0;36m_MergeOperation._get_join_indexers\u001b[1;34m(self)\u001b[0m\n\u001b[0;32m    939\u001b[0m \u001b[38;5;28;01mdef\u001b[39;00m \u001b[38;5;21m_get_join_indexers\u001b[39m(\u001b[38;5;28mself\u001b[39m) \u001b[38;5;241m-\u001b[39m\u001b[38;5;241m>\u001b[39m \u001b[38;5;28mtuple\u001b[39m[npt\u001b[38;5;241m.\u001b[39mNDArray[np\u001b[38;5;241m.\u001b[39mintp], npt\u001b[38;5;241m.\u001b[39mNDArray[np\u001b[38;5;241m.\u001b[39mintp]]:\n\u001b[0;32m    940\u001b[0m     \u001b[38;5;124;03m\"\"\"return the join indexers\"\"\"\u001b[39;00m\n\u001b[1;32m--> 941\u001b[0m     \u001b[38;5;28;01mreturn\u001b[39;00m \u001b[43mget_join_indexers\u001b[49m\u001b[43m(\u001b[49m\n\u001b[0;32m    942\u001b[0m \u001b[43m        \u001b[49m\u001b[38;5;28;43mself\u001b[39;49m\u001b[38;5;241;43m.\u001b[39;49m\u001b[43mleft_join_keys\u001b[49m\u001b[43m,\u001b[49m\u001b[43m \u001b[49m\u001b[38;5;28;43mself\u001b[39;49m\u001b[38;5;241;43m.\u001b[39;49m\u001b[43mright_join_keys\u001b[49m\u001b[43m,\u001b[49m\u001b[43m \u001b[49m\u001b[43msort\u001b[49m\u001b[38;5;241;43m=\u001b[39;49m\u001b[38;5;28;43mself\u001b[39;49m\u001b[38;5;241;43m.\u001b[39;49m\u001b[43msort\u001b[49m\u001b[43m,\u001b[49m\u001b[43m \u001b[49m\u001b[43mhow\u001b[49m\u001b[38;5;241;43m=\u001b[39;49m\u001b[38;5;28;43mself\u001b[39;49m\u001b[38;5;241;43m.\u001b[39;49m\u001b[43mhow\u001b[49m\n\u001b[0;32m    943\u001b[0m \u001b[43m    \u001b[49m\u001b[43m)\u001b[49m\n",
      "File \u001b[1;32m~\\Anaconda3\\lib\\site-packages\\pandas\\core\\reshape\\merge.py:1509\u001b[0m, in \u001b[0;36mget_join_indexers\u001b[1;34m(left_keys, right_keys, sort, how, **kwargs)\u001b[0m\n\u001b[0;32m   1499\u001b[0m join_func \u001b[38;5;241m=\u001b[39m {\n\u001b[0;32m   1500\u001b[0m     \u001b[38;5;124m\"\u001b[39m\u001b[38;5;124minner\u001b[39m\u001b[38;5;124m\"\u001b[39m: libjoin\u001b[38;5;241m.\u001b[39minner_join,\n\u001b[0;32m   1501\u001b[0m     \u001b[38;5;124m\"\u001b[39m\u001b[38;5;124mleft\u001b[39m\u001b[38;5;124m\"\u001b[39m: libjoin\u001b[38;5;241m.\u001b[39mleft_outer_join,\n\u001b[1;32m   (...)\u001b[0m\n\u001b[0;32m   1505\u001b[0m     \u001b[38;5;124m\"\u001b[39m\u001b[38;5;124mouter\u001b[39m\u001b[38;5;124m\"\u001b[39m: libjoin\u001b[38;5;241m.\u001b[39mfull_outer_join,\n\u001b[0;32m   1506\u001b[0m }[how]\n\u001b[0;32m   1508\u001b[0m \u001b[38;5;66;03m# error: Cannot call function of unknown type\u001b[39;00m\n\u001b[1;32m-> 1509\u001b[0m \u001b[38;5;28;01mreturn\u001b[39;00m join_func(lkey, rkey, count, \u001b[38;5;241m*\u001b[39m\u001b[38;5;241m*\u001b[39mkwargs)\n",
      "File \u001b[1;32m~\\Anaconda3\\lib\\site-packages\\pandas\\_libs\\join.pyx:48\u001b[0m, in \u001b[0;36mpandas._libs.join.inner_join\u001b[1;34m()\u001b[0m\n",
      "\u001b[1;31mMemoryError\u001b[0m: Unable to allocate 625. GiB for an array with shape (83845221157,) and data type int64"
     ]
    }
   ],
   "source": [
    "joined_profiles_posts = pd.merge(profiles,posts)"
   ]
  },
  {
   "cell_type": "code",
   "execution_count": null,
   "id": "e6747772-fff3-4fd5-9133-169a3065e41c",
   "metadata": {},
   "outputs": [],
   "source": [
    "joined_profiles_posts = joined_profiles_posts.dropna()"
   ]
  },
  {
   "cell_type": "code",
   "execution_count": 30,
   "id": "2bc6e233",
   "metadata": {},
   "outputs": [
    {
     "data": {
      "text/html": [
       "<div>\n",
       "<style scoped>\n",
       "    .dataframe tbody tr th:only-of-type {\n",
       "        vertical-align: middle;\n",
       "    }\n",
       "\n",
       "    .dataframe tbody tr th {\n",
       "        vertical-align: top;\n",
       "    }\n",
       "\n",
       "    .dataframe thead th {\n",
       "        text-align: right;\n",
       "    }\n",
       "</style>\n",
       "<table border=\"1\" class=\"dataframe\">\n",
       "  <thead>\n",
       "    <tr style=\"text-align: right;\">\n",
       "      <th></th>\n",
       "      <th>sid</th>\n",
       "      <th>profile_id</th>\n",
       "      <th>profile_name</th>\n",
       "      <th>firstname_lastname</th>\n",
       "      <th>description</th>\n",
       "      <th>following</th>\n",
       "      <th>followers</th>\n",
       "      <th>n_posts</th>\n",
       "      <th>url</th>\n",
       "      <th>cts</th>\n",
       "      <th>is_business_account</th>\n",
       "      <th>location_id</th>\n",
       "    </tr>\n",
       "  </thead>\n",
       "  <tbody>\n",
       "  </tbody>\n",
       "</table>\n",
       "</div>"
      ],
      "text/plain": [
       "Empty DataFrame\n",
       "Columns: [sid, profile_id, profile_name, firstname_lastname, description, following, followers, n_posts, url, cts, is_business_account, location_id]\n",
       "Index: []"
      ]
     },
     "execution_count": 30,
     "metadata": {},
     "output_type": "execute_result"
    }
   ],
   "source": [
    "joined_df.drop_duplicates(['location_id', 'profile_id', 'cts']) # to avoid having a double count\n",
    "joined_df"
   ]
  },
  {
   "cell_type": "code",
   "execution_count": 31,
   "id": "7efd6741",
   "metadata": {},
   "outputs": [],
   "source": [
    "joined_df.cts = pd.to_datetime(joined_df.cts) \n",
    "joined_df['cts'] = joined_df.cts.dt.strftime('%Y-%m-%d')"
   ]
  },
  {
   "cell_type": "code",
   "execution_count": 32,
   "id": "2c689931",
   "metadata": {},
   "outputs": [
    {
     "data": {
      "text/plain": [
       "Series([], dtype: int64)"
      ]
     },
     "execution_count": 32,
     "metadata": {},
     "output_type": "execute_result"
    }
   ],
   "source": [
    "result_days = joined_df.groupby(by=['location_id', 'cts']).size()\n",
    "result_days.sort_values(ascending = False).head(5)"
   ]
  },
  {
   "cell_type": "code",
   "execution_count": 33,
   "id": "5532a745",
   "metadata": {},
   "outputs": [
    {
     "data": {
      "text/html": [
       "<div>\n",
       "<style scoped>\n",
       "    .dataframe tbody tr th:only-of-type {\n",
       "        vertical-align: middle;\n",
       "    }\n",
       "\n",
       "    .dataframe tbody tr th {\n",
       "        vertical-align: top;\n",
       "    }\n",
       "\n",
       "    .dataframe thead th {\n",
       "        text-align: right;\n",
       "    }\n",
       "</style>\n",
       "<table border=\"1\" class=\"dataframe\">\n",
       "  <thead>\n",
       "    <tr style=\"text-align: right;\">\n",
       "      <th></th>\n",
       "      <th>sid</th>\n",
       "      <th>profile_id</th>\n",
       "      <th>profile_name</th>\n",
       "      <th>firstname_lastname</th>\n",
       "      <th>description</th>\n",
       "      <th>following</th>\n",
       "      <th>followers</th>\n",
       "      <th>n_posts</th>\n",
       "      <th>url</th>\n",
       "      <th>cts</th>\n",
       "      <th>is_business_account</th>\n",
       "      <th>location_id</th>\n",
       "      <th>week_number</th>\n",
       "      <th>year</th>\n",
       "    </tr>\n",
       "  </thead>\n",
       "  <tbody>\n",
       "  </tbody>\n",
       "</table>\n",
       "</div>"
      ],
      "text/plain": [
       "Empty DataFrame\n",
       "Columns: [sid, profile_id, profile_name, firstname_lastname, description, following, followers, n_posts, url, cts, is_business_account, location_id, week_number, year]\n",
       "Index: []"
      ]
     },
     "execution_count": 33,
     "metadata": {},
     "output_type": "execute_result"
    }
   ],
   "source": [
    "joined_df.cts = pd.to_datetime(joined_df.cts) \n",
    "joined_df['week_number'] = joined_df['cts'].dt.isocalendar().week\n",
    "joined_df['year'] = joined_df.cts.dt.strftime('%Y')\n",
    "joined_df\n"
   ]
  },
  {
   "cell_type": "code",
   "execution_count": 34,
   "id": "10e5de9d",
   "metadata": {},
   "outputs": [
    {
     "data": {
      "text/plain": [
       "Series([], dtype: int64)"
      ]
     },
     "execution_count": 34,
     "metadata": {},
     "output_type": "execute_result"
    }
   ],
   "source": [
    "result_weeks = joined_df.groupby(by=['location_id', 'week_number', 'year']).size()\n",
    "result_weeks.sort_values(ascending = False).head(5)\n",
    "result_weeks"
   ]
  },
  {
   "cell_type": "markdown",
   "id": "1200d975",
   "metadata": {},
   "source": [
    "**BONUS C**"
   ]
  },
  {
   "cell_type": "markdown",
   "id": "ad2bd769",
   "metadata": {},
   "source": [
    "Implement a **text data analysis** (also known as text mining) of the field \"description\" from instagram_posts.csv for descriptions written in English. Use appropriate visualizations and statistics to highlight the words (and probably the topics) provided for the users in that field."
   ]
  },
  {
   "cell_type": "markdown",
   "id": "f54f52a6",
   "metadata": {},
   "source": [
    "The text data analysis of the field ''description'' from instagram_posts.csv is carried out on the first 50000 rows of the dataset through a wide use of the NLTK package (Natural Language Toolkit)."
   ]
  },
  {
   "cell_type": "code",
   "execution_count": 1,
   "id": "0c1eaadb",
   "metadata": {},
   "outputs": [],
   "source": [
    "import nltk\n",
    "from nltk.tokenize import sent_tokenize\n",
    "from nltk.tokenize import word_tokenize\n",
    "import pandas as pd\n",
    "from nltk.probability import FreqDist\n",
    "import matplotlib.pyplot as plt\n",
    "from nltk.corpus import stopwords\n",
    "import re\n",
    "from nltk.stem import PorterStemmer\n",
    "from nltk.stem.wordnet import WordNetLemmatizer\n",
    "from enchant.checker import SpellChecker"
   ]
  },
  {
   "cell_type": "code",
   "execution_count": 9,
   "id": "fe9c4479",
   "metadata": {},
   "outputs": [],
   "source": [
    "posts_descriptions = pd.read_csv('~/instagram_posts.csv', delimiter='\\t', usecols=['description'], nrows= 50000)"
   ]
  },
  {
   "cell_type": "code",
   "execution_count": 10,
   "id": "86e902db",
   "metadata": {},
   "outputs": [
    {
     "data": {
      "text/html": [
       "<div>\n",
       "<style scoped>\n",
       "    .dataframe tbody tr th:only-of-type {\n",
       "        vertical-align: middle;\n",
       "    }\n",
       "\n",
       "    .dataframe tbody tr th {\n",
       "        vertical-align: top;\n",
       "    }\n",
       "\n",
       "    .dataframe thead th {\n",
       "        text-align: right;\n",
       "    }\n",
       "</style>\n",
       "<table border=\"1\" class=\"dataframe\">\n",
       "  <thead>\n",
       "    <tr style=\"text-align: right;\">\n",
       "      <th></th>\n",
       "      <th>description</th>\n",
       "    </tr>\n",
       "  </thead>\n",
       "  <tbody>\n",
       "    <tr>\n",
       "      <th>0</th>\n",
       "      <td>Wreckloose! Deevalley bike park laps on the @i...</td>\n",
       "    </tr>\n",
       "    <tr>\n",
       "      <th>1</th>\n",
       "      <td>🙌🏼 believe in ya dreams 🙌🏼 just like I believe...</td>\n",
       "    </tr>\n",
       "    <tr>\n",
       "      <th>2</th>\n",
       "      <td>#meraviglia #incensi #the #candele #profumo #a...</td>\n",
       "    </tr>\n",
       "    <tr>\n",
       "      <th>3</th>\n",
       "      <td>#teatime #scorpion #friends #love #mountains #...</td>\n",
       "    </tr>\n",
       "    <tr>\n",
       "      <th>4</th>\n",
       "      <td>thE sky gavE mE a #constEllation</td>\n",
       "    </tr>\n",
       "    <tr>\n",
       "      <th>...</th>\n",
       "      <td>...</td>\n",
       "    </tr>\n",
       "    <tr>\n",
       "      <th>49995</th>\n",
       "      <td>Waiting at the drive thru</td>\n",
       "    </tr>\n",
       "    <tr>\n",
       "      <th>49996</th>\n",
       "      <td>CRYING. THIS IS THE BEST DAY OF MY LIFE. #taco...</td>\n",
       "    </tr>\n",
       "    <tr>\n",
       "      <th>49997</th>\n",
       "      <td>#Out with the #CoolKids at #TacoBell  After 24...</td>\n",
       "    </tr>\n",
       "    <tr>\n",
       "      <th>49998</th>\n",
       "      <td>Does he or does he not look like a young @cham...</td>\n",
       "    </tr>\n",
       "    <tr>\n",
       "      <th>49999</th>\n",
       "      <td>🥰🧸</td>\n",
       "    </tr>\n",
       "  </tbody>\n",
       "</table>\n",
       "<p>50000 rows × 1 columns</p>\n",
       "</div>"
      ],
      "text/plain": [
       "                                             description\n",
       "0      Wreckloose! Deevalley bike park laps on the @i...\n",
       "1      🙌🏼 believe in ya dreams 🙌🏼 just like I believe...\n",
       "2      #meraviglia #incensi #the #candele #profumo #a...\n",
       "3      #teatime #scorpion #friends #love #mountains #...\n",
       "4                       thE sky gavE mE a #constEllation\n",
       "...                                                  ...\n",
       "49995                          Waiting at the drive thru\n",
       "49996  CRYING. THIS IS THE BEST DAY OF MY LIFE. #taco...\n",
       "49997  #Out with the #CoolKids at #TacoBell  After 24...\n",
       "49998  Does he or does he not look like a young @cham...\n",
       "49999                                                 🥰🧸\n",
       "\n",
       "[50000 rows x 1 columns]"
      ]
     },
     "execution_count": 10,
     "metadata": {},
     "output_type": "execute_result"
    }
   ],
   "source": [
    "posts_descriptions "
   ]
  },
  {
   "cell_type": "code",
   "execution_count": 11,
   "id": "f0a0ac52",
   "metadata": {},
   "outputs": [],
   "source": [
    "posts_descriptions= posts_descriptions.dropna()\n",
    "posts_descriptions = posts_descriptions.to_numpy()"
   ]
  },
  {
   "cell_type": "markdown",
   "id": "a591677b",
   "metadata": {},
   "source": [
    "1. **English sentences Selection**: this phase returns a list of all the alphabetical English sentences in the descriptions of the posts."
   ]
  },
  {
   "cell_type": "code",
   "execution_count": 14,
   "id": "c5470c7a",
   "metadata": {},
   "outputs": [],
   "source": [
    "def written_in_english(sentence):\n",
    "    d = SpellChecker(\"en_US\")\n",
    "    d.set_text(sentence)\n",
    "    errors = [err for err in d]\n",
    "    if len(errors) > 4 or len(sentence.split()) < 3:\n",
    "        return False\n",
    "    return True"
   ]
  },
  {
   "cell_type": "code",
   "execution_count": 15,
   "id": "64c537c2",
   "metadata": {},
   "outputs": [
    {
     "name": "stdout",
     "output_type": "stream",
     "text": [
      "English Sentences: ['#teatime #scorpion #friends #love #mountains #september', 'thE sky gavE mE a #constEllation', '#beautiful #Christmas #lights', 'As per your suggestion. #themerrytriotakeslondon', 'everything still feels so surreal ☁️', \"Guinness O'clock 🍺🍺 #london #pub #guinness #love\", 'Hip hip hip #TheCrown 👑 saison 2 c est pour le 8 décembre 🎉🎊😻', 'Cheers! Returning to this café after 5 years.\\\\n*\\\\n*\\\\n*\\\\n#bar #pub #london #thecrown #sevendials #return', 'Cheeky beer after the curry #londonlife', 'While the baby sleeps we drink 🍻', 'A wild Pikachu appears!', \"Welcome humans to the Storm Force Accelatron. Due to the highly confidential nature of this mission please keep all cell phones, go pros, and other recording devices away. Spin the metal wheel in front of you to augment Storm's power. Good luck in defeating the terribly misunderstood Magneto. #uotmlife #storm #xmen #marvel #drip #mutant\", 'Inside the #infinityroom at #detectivepikachupooup #pikachudetective', 'Action shot #svensgiving2015', \"we're having fun and I 🍩 wanna leave okbai. 🍵💨 ✌\", 'Me and SPIDERMAN!!!! Woohoo!!! LOVE THIS PICTURE<333 #me #Spiderman #universal', 'Kokotxas de Bacalao 🐟', \"Hands up if you love #pikachu can't wait to see #detectivepikachu #pikachulover #pikachudetective\", 'Pre expo shenanigans with these cunts', 'Mega family vibes 🍻', 'Sexy sons of bitches!!!! #sevendials', 'When you don’t go on the spinning rides and you are tasked to “hold this”.', 'When you’re too short to ride Hulk. Still having a blast!', 'We got sooooo dizzy #spinnyspin #universalstudios', 'Round and round we go!! @islandsofadventure', 'This was the first time that no one called out of work to go to Universal', 'A beginning of a MARVELous day', 'anything for those smiles, even if it means riding the storm force acceltron & spinning until we’re all dizzy 🌀🤪 #tookonefortheteam #peytonsaysfaster #laugheduntilwecried', '四个人一个罐！#diplodizzy #islandsofadventure #universalstudios', 'Just went on Storm Force Accelatron 4 times #Universal Fieldtrip', 'Monday morning class in session. #monday #universalstudios #citykids #imwithher #love #storm #grateful', 'Eramos pocos y pario la abuela!😘😘😘', 'Sidrería 2018!! 🍏🍎', 'De sidrería 🍾🍾', 'Definitely Summer Team here🙋🏻\\u200d♂️🐠☀️🔥\\\\nAnother #Tb for another fucking cold day😏\\\\n.\\\\n.\\\\n.\\\\n#Summer\\\\n#ItalianDays\\\\n#Pgnperilsociale', 'Black Sicilian sand and tan bb. 🐠☀️', 'Today we have arrived to our Nonna’s childhood home.. Happiness surrounded by cliffs, flowers and the sea 🇮🇹🌴 now we understand everything. #soulfood', '@gioliandassia #handpatSet #Diesislive', '#titou #ape #vulcano #familyholidays', '🌋 La magica vista del Cratere di Vulcano dal mare 🌊', '#sailingpleasure #skipper #catamaran #sicily #vulcano', '🌋 #purple #memories', '🤗 #monday #selfie #blonde #selfiemoment #slovakgirl 😊', '....prechádzka v daždi 💦', 'she is one of the best💕', '❤️ #wednesday #selfie #loveofmylife 🥰', '#velkanoc #velkypiatok #dibujotradicional', 'Pekné napíš do komentu', '#✌️ #💋 #instaphoto #instagram #kiss', 'Al #argentinisimo a comer milanga con puré 😋', '🍋 Lemon Pie 🥧¿Lo prefiere de postre o quizás para merendar?', \"I'm getting confused here :/ #China #Shanghai #nonsense #traffic #trafficsigns #trafficlight\", 'Trchomola matsutake with spring chicken soap', '一個月的七仔保母🐶🐶 #驚恐七仔 #覺得夠了 #babysitting', 'Still at it! Started my second year contract in Shanghai a couple of weeks ago. More updates are soon to come! 😊 Special thanks to Katrina for the picture.', 'This little guy was hanging out outside the TV studio. 😻', 'it looks pretty shitty but tastes pretty good🍰', \"There is a singer on this concert who has the highest voice I've ever heard in real life. This is a B flat ABOVE high C, which she sings effortlessly every time. Captured during yesterday's sound check.\", 'So this is the stage we are recording on... #famousinchina #butonlyinchina', 'I need cure', 'Happy labor day Weekend!🇺🇸\\\\n.\\\\n.\\\\n#LaborDayWeekend2018 #LaborDay #DentalDesigns #Florida  #Dentist', 'Your dental health is such a vital part of your overall health, at Dental Designs we got you covered! 💪🏻\\\\n.\\\\n.\\\\n#DentalDesigns #WednesdayMotivation #dentist #naplesflorida #fortmyers', 'Y’all can’t call me brace face nor train track no more🤪', 'First real meal in a week with the boyos 🙏', 'Carrilleras de cerdo 🐖', '¿Clásico o napolitano?', 'Classic Milanesa 🇦🇷 🥩 #milanesa #barcelona #food #lunch #fries #happy', 'Milanesa Argentinisimo!!!! OMG🤩🤩!!', '“First we eat, then we do everything else.” #Foodie #Barcelona #Milanesa #Traveler #MyLife #Happy', '#argentina #quilmes #meat #bcn', 'Wishing you a day filled with happiness and a year filled with joy. Happy birthday! 🎉🎂\\\\n.\\\\nWith love Dental Designs Team🧡💙\\\\n——\\\\n#birthdaygirl #Dentist #birthday #DentalDesigns', 'We are forever grateful for the ultimate sacrifice of our fallen heroes.💙❤️\\\\n- Remember and Honor -\\\\n—\\\\n#memorialdayweekend #mondayquotes #DentalDesigns #swfl', 'Family is important because it provides love, support and a framework of values to each of its members, we encourage you to visit us and become a member of Dental Designs family!💙🧡\\\\nBook your appointment at 239.628.1300\\\\n—\\\\n#DentalDesigns #familygoals #dentistry #familydentistry', 'Ms. Guillen came with a present for Dr Padilla as a thank-you gift 🤗🧡💙\\\\n—\\\\n#patientcare #loveourpatients #DentalDesigns #flashback', 'We deliver the best orthodontic care in Southwest Florida in a warm, friendly environment! 🔝\\\\nBook Your Appointment At 239.628.1300\\\\n—\\\\n#orthodontics #braces #familydentist #DentalDesigns', 'Good morning  Bay Area! Highs in the 70’s again today! Here’s the view from #pillarpoint yesterday afternoon. ☀️🌊😍', 'Nothing #gold can stay. #🌄 #GoldenHour #GoPro #🌾', 'apes is 100% the best class ive ever taken', 'eternal sunshine, jim carey feel', 'Babygirl if ur dealing w/ some shit rn just brush if off and continuing slaying like u always do', 'The peak was being pressed pretty hard this morning. It was nice to see those who made the trek rewarded with some springtime Mavericks. it looks like we may get a couple more days out of this swell #maverickssurf #jeffclarksurfboards #insearchofwaves', 'Living our best lives • • • (mine is with her and hers is with this view 🙄)', 'connecticut has my love but california will always have my heart', 'Dr. Padilla and our staff strive to provide each patient with the best possible care with great results!💪🏻\\\\n—\\\\n#MoreThanASmile #DentalDesigns #reviews #patientcare', 'At Dental Designs our team work hard to make sure you have a comfortable experience, and that’s why we offer IV sedation dentistry for those patients who need a little extra comfort before receiving treatment. 🔝\\\\n👉🏻More Than a Smile!💙🧡\\\\n—\\\\n#DentalDesigns #ivsedation #dentistry #floridadentist', 'Up on the bluffs', 'Beauty and Commitment:These two words enhance the sacrifice of any Mother that has delivered the best performance of any maternal stage on Earth. Let’s welcome kindness and recognition to these warriors that fight every day of their lives to make yours a better one!💙🧡\\\\n—\\\\n#happymothersday2019 #DentalDesigns #mothersday #truelove', 'Happy families at Dental Designs! #teethinaday 😁\\\\n—\\\\n#newsmile #dentalimplants #dentist #familyfirst', 'At Dental Designs we can provide any dental treatment you may need, we have the best technology and great professionals to provide the best service! 🧡💙\\\\nOur job is to see you SMILE!😁 Please contact us at 239-628-1300 📍Naples - Fort Myers\\\\n—\\\\n#DentalDesigns #Dentistry #smiles #tuesdaymotivation', 'Raya outings 💯🎉\\\\n📷: @priyakaurkesh', 'Can i quit work & uni and be a tai tai now 🙊', '-\\\\nBelated birthday celebration for @aaaaaudrey10 💗\\\\nHappy 21st birthday and may your path be wonderful and smooth.', 'A little Sammy date out to Pillar Point to check out the tidepools at low tide. One of our favorite  spots. And we saw a cute little seal! 💙🐚🐳🦀🌊', 'This place. #HMB #norcal #mavericks #sacred', 'We saw 3 wild bunnies on our hike today. My nose got a good workout trying to sniff out more, Mom’s arm got a good workout trying to keep me on the trail! #kelpie #rabbitseason #halfmoonbay #pillarpointbluff', '“It is only in adventure that some people succeed in knowing themselves – in finding themselves.”\\\\n–Andre Gide', 'Springtime feels 🌻', 'Catching The Big Wave  #surf #HalfMoonBay #California #wonderlustcalifornia #waves #nature #ocean #surfing #sports #Nikon #photography #latergram', 'The happy couple', 'An evening with blossom punch 🥂🌸 #hightea']\n"
     ]
    }
   ],
   "source": [
    "english_sentences = []\n",
    "for description in posts_descriptions:\n",
    "    if written_in_english(description[0]): \n",
    "        english_sentences.append(description[0])\n",
    "\n",
    "print('English Sentences:', english_sentences[:100]) # to get a better view of the output, \n",
    "                                                    #we print only the first one hounder rows"
   ]
  },
  {
   "cell_type": "markdown",
   "id": "c6a2d587",
   "metadata": {},
   "source": [
    "2. **Words Tokenization**: this phase returns a list of all the alphabetical English words in the descriptions of the posts, removing punctuations and emojis."
   ]
  },
  {
   "cell_type": "code",
   "execution_count": 17,
   "id": "72316d22",
   "metadata": {},
   "outputs": [
    {
     "name": "stdout",
     "output_type": "stream",
     "text": [
      "Tokenized English Words: ['teatime', 'scorpion', 'friends', 'love', 'mountains', 'september', 'thE', 'sky', 'gavE', 'mE', 'a', 'constEllation', 'beautiful', 'Christmas', 'lights', 'As', 'per', 'your', 'suggestion', 'themerrytriotakeslondon', 'everything', 'still', 'feels', 'so', 'surreal', 'Guinness', 'london', 'pub', 'guinness', 'love', 'Hip', 'hip', 'hip', 'TheCrown', 'saison', 'c', 'est', 'pour', 'le', 'Cheers', 'Returning', 'to', 'this', 'after', 'bar', 'pub', 'london', 'thecrown', 'sevendials', 'return', 'Cheeky', 'beer', 'after', 'the', 'curry', 'londonlife', 'While', 'the', 'baby', 'sleeps', 'we', 'drink', 'A', 'wild', 'Pikachu', 'appears', 'Welcome', 'humans', 'to', 'the', 'Storm', 'Force', 'Accelatron', 'Due', 'to', 'the', 'highly', 'confidential', 'nature', 'of', 'this', 'mission', 'please', 'keep', 'all', 'cell', 'phones', 'go', 'pros', 'and', 'other', 'recording', 'devices', 'away', 'Spin', 'the', 'metal', 'wheel', 'in', 'front']\n"
     ]
    }
   ],
   "source": [
    "tokenized_english_words = []\n",
    "for sentence in english_sentences:\n",
    "    tokenized_words= word_tokenize(sentence)\n",
    "    for word in tokenized_words:\n",
    "        if word.encode().isalpha(): # removes punctuations and emojis\n",
    "            tokenized_english_words.append(word)\n",
    "\n",
    "print('Tokenized English Words:', tokenized_english_words[:100]) "
   ]
  },
  {
   "cell_type": "markdown",
   "id": "02c52940",
   "metadata": {},
   "source": [
    "3. **Intial Frequency Distribution**: this phase records the number of times each words occurred in this initial phase, to then see the differences with the final phase of the text data analysis."
   ]
  },
  {
   "cell_type": "code",
   "execution_count": 18,
   "id": "6928de1e",
   "metadata": {},
   "outputs": [
    {
     "data": {
      "image/png": "[encoded data removed]",
      "text/plain": [
       "<Figure size 432x288 with 1 Axes>"
      ]
     },
     "metadata": {
      "needs_background": "light"
     },
     "output_type": "display_data"
    }
   ],
   "source": [
    "freq_dist = FreqDist(tokenized_english_words)\n",
    "    \n",
    "freq_dist.plot(30,cumulative=False)\n",
    "plt.show()"
   ]
  },
  {
   "cell_type": "markdown",
   "id": "5b517d46",
   "metadata": {},
   "source": [
    "4. **Removing Stopwords**: in this phase the most common English words in data are removed."
   ]
  },
  {
   "cell_type": "code",
   "execution_count": 19,
   "id": "bcec148b",
   "metadata": {},
   "outputs": [
    {
     "name": "stdout",
     "output_type": "stream",
     "text": [
      "Strings without Stopwords: ['teatime', 'scorpion', 'friends', 'love', 'mountains', 'september', 'thE', 'sky', 'gavE', 'mE', 'constEllation', 'beautiful', 'Christmas', 'lights', 'As', 'per', 'suggestion', 'themerrytriotakeslondon', 'everything', 'still', 'feels', 'surreal', 'Guinness', 'london', 'pub', 'guinness', 'love', 'Hip', 'hip', 'hip', 'TheCrown', 'saison', 'c', 'est', 'pour', 'le', 'Cheers', 'Returning', 'bar', 'pub', 'london', 'thecrown', 'sevendials', 'return', 'Cheeky', 'beer', 'curry', 'londonlife', 'While', 'baby', 'sleeps', 'drink', 'A', 'wild', 'Pikachu', 'appears', 'Welcome', 'humans', 'Storm', 'Force', 'Accelatron', 'Due', 'highly', 'confidential', 'nature', 'mission', 'please', 'keep', 'cell', 'phones', 'go', 'pros', 'recording', 'devices', 'away', 'Spin', 'metal', 'wheel', 'front', 'augment', 'Storm', 'power', 'Good', 'luck', 'defeating', 'terribly', 'misunderstood', 'Magneto', 'uotmlife', 'storm', 'xmen', 'marvel', 'drip', 'mutant', 'Inside', 'infinityroom', 'detectivepikachupooup', 'pikachudetective', 'Action', 'shot']\n"
     ]
    }
   ],
   "source": [
    "stop_words = set(stopwords.words(\"english\"))\n",
    "words_without_stopwords = []\n",
    "for word in tokenized_english_words: \n",
    "     if word not in stop_words:\n",
    "        words_without_stopwords.append(word)\n",
    "\n",
    "print(\"Strings without Stopwords:\", words_without_stopwords[:100]) "
   ]
  },
  {
   "cell_type": "markdown",
   "id": "5d7aebb5",
   "metadata": {},
   "source": [
    "5. **Lexicon Normalization**\n",
    "\n",
    "- **Stemming**: can be descriped as the process of reducing a word to its stem or root format.\n",
    "\n",
    "- **Lemmatization**: can be described as the transformation that uses a dictionary to map a word's variant back to its root format."
   ]
  },
  {
   "cell_type": "code",
   "execution_count": 20,
   "id": "e1b9f3bc",
   "metadata": {},
   "outputs": [
    {
     "name": "stdout",
     "output_type": "stream",
     "text": [
      "Stremmed strings: ['teatim', 'scorpion', 'friend', 'love', 'mountain', 'septemb', 'the', 'sky', 'gave', 'me', 'a', 'constel', 'beauti', 'christma', 'light', 'as', 'per', 'your', 'suggest', 'themerrytriotakeslondon', 'everyth', 'still', 'feel', 'so', 'surreal', 'guin', 'london', 'pub', 'guin', 'love', 'hip', 'hip', 'hip', 'thecrown', 'saison', 'c', 'est', 'pour', 'le', 'cheer', 'return', 'to', 'thi', 'after', 'bar', 'pub', 'london', 'thecrown', 'sevendi', 'return', 'cheeki', 'beer', 'after', 'the', 'curri', 'londonlif', 'while', 'the', 'babi', 'sleep', 'we', 'drink', 'a', 'wild', 'pikachu', 'appear', 'welcom', 'human', 'to', 'the', 'storm', 'forc', 'accelatron', 'due', 'to', 'the', 'highli', 'confidenti', 'natur', 'of', 'thi', 'mission', 'pleas', 'keep', 'all', 'cell', 'phone', 'go', 'pro', 'and', 'other', 'record', 'devic', 'away', 'spin', 'the', 'metal', 'wheel', 'in', 'front']\n",
      "\n",
      "\n",
      "Lemmatized strings: ['teatime', 'scorpion', 'friend', 'love', 'mountain', 'september', 'thE', 'sky', 'gavE', 'mE', 'a', 'constEllation', 'beautiful', 'Christmas', 'light', 'As', 'per', 'your', 'suggestion', 'themerrytriotakeslondon', 'everything', 'still', 'feel', 'so', 'surreal', 'Guinness', 'london', 'pub', 'guinness', 'love', 'Hip', 'hip', 'hip', 'TheCrown', 'saison', 'c', 'est', 'pour', 'le', 'Cheers', 'Returning', 'to', 'this', 'after', 'bar', 'pub', 'london', 'thecrown', 'sevendials', 'return', 'Cheeky', 'beer', 'after', 'the', 'curry', 'londonlife', 'While', 'the', 'baby', 'sleep', 'we', 'drink', 'A', 'wild', 'Pikachu', 'appears', 'Welcome', 'human', 'to', 'the', 'Storm', 'Force', 'Accelatron', 'Due', 'to', 'the', 'highly', 'confidential', 'nature', 'of', 'this', 'mission', 'please', 'keep', 'all', 'cell', 'phone', 'go', 'pro', 'and', 'other', 'recording', 'device', 'away', 'Spin', 'the', 'metal', 'wheel', 'in', 'front']\n"
     ]
    }
   ],
   "source": [
    "ps = PorterStemmer()\n",
    "stemmed_strings = []\n",
    "for word in tokenized_english_words:\n",
    "    stemmed_strings.append(ps.stem(word))\n",
    "\n",
    "lem = WordNetLemmatizer()\n",
    "lemmatized_strings = []\n",
    "for word in tokenized_english_words:\n",
    "    lemmatized_strings.append(lem.lemmatize(word))\n",
    "    \n",
    "print(\"Stremmed strings:\", stemmed_strings[:100]) \n",
    "print('\\n')\n",
    "print(\"Lemmatized strings:\", lemmatized_strings[:100]) "
   ]
  },
  {
   "cell_type": "markdown",
   "id": "f063a7f1",
   "metadata": {},
   "source": [
    "6. **Final Frequency Distribution**: records the number of times each words occurred at the end of the natural language data analysis."
   ]
  },
  {
   "cell_type": "code",
   "execution_count": 28,
   "id": "d1cddc50",
   "metadata": {},
   "outputs": [
    {
     "data": {
      "image/png": "[encoded data removed]",
      "text/plain": [
       "<Figure size 432x288 with 1 Axes>"
      ]
     },
     "metadata": {
      "needs_background": "light"
     },
     "output_type": "display_data"
    }
   ],
   "source": [
    "final_freq_dist = FreqDist(words_without_stopwords)\n",
    "    \n",
    "final_freq_dist.plot(30,cumulative=False)\n",
    "plt.show()"
   ]
  },
  {
   "cell_type": "markdown",
   "id": "29a366bb",
   "metadata": {},
   "source": [
    "After the text data analysis, we can conclude that the **20 most common words** in the descriptions of the posts are:"
   ]
  },
  {
   "cell_type": "code",
   "execution_count": 22,
   "id": "53adf4c2",
   "metadata": {},
   "outputs": [
    {
     "data": {
      "text/plain": [
       "[('I', 3577),\n",
       " ('day', 836),\n",
       " ('love', 826),\n",
       " ('The', 727),\n",
       " ('time', 630),\n",
       " ('today', 590),\n",
       " ('We', 579),\n",
       " ('one', 525),\n",
       " ('like', 523),\n",
       " ('get', 459),\n",
       " ('new', 453),\n",
       " ('It', 443),\n",
       " ('us', 425),\n",
       " ('best', 423),\n",
       " ('Happy', 418),\n",
       " ('night', 414),\n",
       " ('A', 413),\n",
       " ('good', 412),\n",
       " ('life', 409),\n",
       " ('see', 392)]"
      ]
     },
     "execution_count": 22,
     "metadata": {},
     "output_type": "execute_result"
    }
   ],
   "source": [
    "most_common_words= FreqDist(words_without_stopwords).most_common(20)\n",
    "most_common_words"
   ]
  },
  {
   "cell_type": "markdown",
   "id": "824aa117",
   "metadata": {},
   "source": [
    "The **20 most common topics** in the descriptions of the posts are:"
   ]
  },
  {
   "cell_type": "code",
   "execution_count": 23,
   "id": "6c76e05c",
   "metadata": {},
   "outputs": [
    {
     "data": {
      "text/plain": [
       "[('love', 826),\n",
       " ('time', 630),\n",
       " ('today', 590),\n",
       " ('like', 523),\n",
       " ('best', 423),\n",
       " ('Happy', 418),\n",
       " ('night', 414),\n",
       " ('good', 412),\n",
       " ('life', 409),\n",
       " ('back', 347),\n",
       " ('This', 346),\n",
       " ('beautiful', 331),\n",
       " ('great', 330),\n",
       " ('little', 327),\n",
       " ('last', 325),\n",
       " ('much', 323),\n",
       " ('first', 321),\n",
       " ('friends', 304),\n",
       " ('know', 291),\n",
       " ('birthday', 286)]"
      ]
     },
     "execution_count": 23,
     "metadata": {},
     "output_type": "execute_result"
    }
   ],
   "source": [
    "most_common_topics = FreqDist([x for x in words_without_stopwords if len(x)>3]).most_common(20)\n",
    "most_common_topics"
   ]
  },
  {
   "cell_type": "markdown",
   "id": "fbdeb290",
   "metadata": {},
   "source": [
    "# AQ1"
   ]
  },
  {
   "cell_type": "code",
   "execution_count": 24,
   "id": "8acba967",
   "metadata": {},
   "outputs": [],
   "source": [
    "def f1(sequence, end):\n",
    "    for i in range(0,end):\n",
    "        print(sequence[i])\n",
    "    print(\"\\n\")\n",
    "\n",
    "\n",
    "def f2(sequence,start,end):\n",
    "    if start == end:\n",
    "        f1(sequence, end)\n",
    "\n",
    "    else:\n",
    "        for i in range(start,end):\n",
    "            temp=sequence[start]\n",
    "            sequence[start]=sequence[i]\n",
    "            sequence[i] = temp\n",
    "            f2(sequence, start+1,end)\n",
    "            temp = sequence[start]\n",
    "            sequence[start]=sequence[i]\n",
    "            sequence[i]=temp"
   ]
  },
  {
   "cell_type": "markdown",
   "id": "d35b7079",
   "metadata": {},
   "source": [
    "- What is the **output** of this algorithm? Describe the mechanism of the algorithm in detail."
   ]
  },
  {
   "cell_type": "markdown",
   "id": "dca6f4ec",
   "metadata": {},
   "source": [
    "The output of this algorithm consists in all possible permutations of the characters of the vector in input. If there are repeting character in the vector, the algorithm prints duplicate permutations.  \n",
    "\n",
    "The algorithm produces all permutations reversing continuously the values between the starting index and the actual index, printing each permutation starting from the single inversion up to the completely exchanged vector.\n",
    "\n",
    "Permutions are generated through recursion: for each recursive call, a character from the sequence is chosen, added to the final permutation and the starting index is incremented.\n",
    "\n",
    "The base case is reached when the starting index of the sequence is equal to the ending one, so when the size of final permutation equals the size of the vector or the vector is finished. Every time the base case is reached, function f1 is called and the permutation is printed."
   ]
  },
  {
   "cell_type": "code",
   "execution_count": 25,
   "id": "6013c3b1",
   "metadata": {},
   "outputs": [
    {
     "name": "stdout",
     "output_type": "stream",
     "text": [
      "a\n",
      "e\n",
      "f\n",
      "\n",
      "\n",
      "a\n",
      "f\n",
      "e\n",
      "\n",
      "\n",
      "e\n",
      "a\n",
      "f\n",
      "\n",
      "\n",
      "e\n",
      "f\n",
      "a\n",
      "\n",
      "\n",
      "f\n",
      "e\n",
      "a\n",
      "\n",
      "\n",
      "f\n",
      "a\n",
      "e\n",
      "\n",
      "\n"
     ]
    }
   ],
   "source": [
    "# example\n",
    "f2(['a','e','f'], 0, 3)"
   ]
  },
  {
   "cell_type": "markdown",
   "id": "20aecb37",
   "metadata": {},
   "source": [
    " - What is **asymptotically** (i.e., we are asking for big-O complexity) the algorithm's **running time** as a function of N?"
   ]
  },
  {
   "cell_type": "markdown",
   "id": "3db9cfd1",
   "metadata": {},
   "source": [
    "The *base case* is reached when the input is an empty vector and the starting index and ending one coincide. In this case, the asymptotically algothim's running time is costant because only the if condition is performed.\n",
    "\n",
    "In the *general case*, so when the size of the vector is greater than 0, the asymptotically algorithm's running time is equal the running time of finding all possible permutations (f2 function) added to the running time of printing them (f1 function).\n",
    "\n",
    "Asympotically f1's running time is ${Θ(n)}$, because it consists of printing each element of the final permutation from the starting index to the ending one.\n",
    "\n",
    "For each character of the vector the f2 function is called and the starting index is incremented (the size of the input is decreased by 1).\n",
    "\n",
    "For the algorithm we have the following recurrence relation:\n",
    "\n",
    "- *Base Case*: ${n = 0, T(n) = Θ(1)}$;\n",
    "\n",
    "- *General Case*: ${n > 0, T(n) = n * T(n-1) + Θ(n)}$.\n",
    "\n",
    "It can be solved using *Iteration Method*, in which for each iteration the recurrence relation is replaced with its value as established by the original recurrence relation. \n",
    "\n",
    "${T(n) = n * T(n-1) + Θ(n)}$\n",
    "\n",
    "We can say that:\n",
    "\n",
    "${T(n-1) = (n-1) * T(n-2) + Θ(n-1)}$\n",
    "\n",
    "Then:\n",
    "\n",
    "${T(n) = n * [(n-1) * T(n-2) + Θ(n-1)] + Θ(n) = n * (n-1) T(n-2) + n * Θ (n-1) + Θ (n)}$\n",
    "\n",
    "We also can say that:\n",
    "\n",
    "${T(n-2) = (n-2) * T(n-3) + Θ(n-2)}$\n",
    "\n",
    "Then:\n",
    "\n",
    "${T(n) = n * (n-1) * [(n-2) * T(n-3) + Θ(n-2)] + n * Θ(n-1) + Θ(n) = n * (n-1) * (n-2) * T(n-3) + n * (n-1) * Θ(n-2) + n * Θ(n-1) + Θ(n)}$\n",
    "\n",
    "We can notiche that there is a recognizable pattern and we can write our reccurance relation in terms of k:\n",
    "\n",
    "${T_k(n) = n! [ (T(n-k) + \\sum_{k=0}^n \\frac{Θ(k)}{k!} ] }$\n",
    "\n",
    "We can stop when n-k = 0, so when n = k:\n",
    "\n",
    "${T(n) = n! [ T(0) + Θ(n) ] = n! [ Θ(1) + Θ(n) ]  = Θ(n!) + Θ(n! * n) = max( Θ(n!) + Θ(n! * n) )= Θ(n! * n)}$\n",
    "\n",
    "In conclusion, the asympotically algorithm's running time is ${Θ(n! * n)}$.\n"
   ]
  },
  {
   "cell_type": "markdown",
   "id": "18e1088a",
   "metadata": {},
   "source": [
    "- Is this algorithm the **optimal** one to produce this output? If not, can you suggest a better algorithm to perform the same task?"
   ]
  },
  {
   "cell_type": "markdown",
   "id": "e526b32a",
   "metadata": {},
   "source": [
    "Yes, it is. In order to find all the possible permutations and print it, the running time of the algorithm is necessarily ${Θ(n! * n)}$. In fact, the running time of the algorithm is proportional to the number of possible prefixes (n! prefixes) added to the running time of the printing function."
   ]
  }
 ],
 "metadata": {
  "kernelspec": {
   "display_name": "Python 3 (ipykernel)",
   "language": "python",
   "name": "python3"
  },
  "language_info": {
   "codemirror_mode": {
    "name": "ipython",
    "version": 3
   },
   "file_extension": ".py",
   "mimetype": "text/x-python",
   "name": "python",
   "nbconvert_exporter": "python",
   "pygments_lexer": "ipython3",
   "version": "3.9.12"
  }
 },
 "nbformat": 4,
 "nbformat_minor": 5
}
